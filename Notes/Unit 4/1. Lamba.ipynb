{
 "cells": [
  {
   "cell_type": "markdown",
   "metadata": {},
   "source": [
    "1. Lambda functions are known as anonymous functions as they are functions without any name.\n",
    "2. lambda is not a statement, its an single line expression\n",
    "3. Lambda functions are very useful when defining the in-line functions\n",
    "4. lambda has implict return statement - need not write returns statement explicitly\n",
    "5. Since function doesnt have any name, the function cannot be called again"
   ]
  },
  {
   "cell_type": "markdown",
   "metadata": {},
   "source": [
    "Lambda Syntax:  \n",
    "\n",
    "lambda argument(s) : expression\n",
    "\n",
    "lambda: keyword   \n",
    "argument(s): comma as a seperator(if many arguments)  \n",
    "expresion: gets evaluated and the results are returned(no return stmt)"
   ]
  },
  {
   "cell_type": "code",
   "execution_count": null,
   "metadata": {},
   "outputs": [
    {
     "name": "stdout",
     "output_type": "stream",
     "text": [
      "True\n",
      "False\n"
     ]
    }
   ],
   "source": [
    "check = lambda x: x>=50 and x<= 100\n",
    "print(check(56))\n",
    "print(check(31))"
   ]
  },
  {
   "cell_type": "markdown",
   "metadata": {},
   "source": [
    "### Lambda cannot return multiple values, parentheses must be added to return as tuples"
   ]
  },
  {
   "cell_type": "code",
   "execution_count": 4,
   "metadata": {},
   "outputs": [
    {
     "name": "stderr",
     "output_type": "stream",
     "text": [
      "<>:1: SyntaxWarning: 'tuple' object is not callable; perhaps you missed a comma?\n",
      "<>:1: SyntaxWarning: 'tuple' object is not callable; perhaps you missed a comma?\n",
      "/var/folders/_b/7k_xhq8s36qdft_gbspxy7mm0000gp/T/ipykernel_52600/1490098421.py:1: SyntaxWarning: 'tuple' object is not callable; perhaps you missed a comma?\n",
      "  (lambda x:x,x*2)(2)\n"
     ]
    },
    {
     "ename": "NameError",
     "evalue": "name 'x' is not defined",
     "output_type": "error",
     "traceback": [
      "\u001b[0;31m---------------------------------------------------------------------------\u001b[0m",
      "\u001b[0;31mNameError\u001b[0m                                 Traceback (most recent call last)",
      "Cell \u001b[0;32mIn[4], line 1\u001b[0m\n\u001b[0;32m----> 1\u001b[0m (\u001b[38;5;28;01mlambda\u001b[39;00m x:x,\u001b[43mx\u001b[49m\u001b[38;5;241m*\u001b[39m\u001b[38;5;241m2\u001b[39m)(\u001b[38;5;241m2\u001b[39m)\n",
      "\u001b[0;31mNameError\u001b[0m: name 'x' is not defined"
     ]
    }
   ],
   "source": [
    "(lambda x:x,x*2)(2)"
   ]
  },
  {
   "cell_type": "code",
   "execution_count": null,
   "metadata": {},
   "outputs": [
    {
     "data": {
      "text/plain": [
       "(2, 4)"
      ]
     },
     "metadata": {},
     "output_type": "display_data"
    }
   ],
   "source": [
    "(lambda x:(x,x*2))(2)"
   ]
  },
  {
   "cell_type": "markdown",
   "metadata": {},
   "source": [
    "### Assignment is not possible in lambda functions"
   ]
  },
  {
   "cell_type": "code",
   "execution_count": 5,
   "metadata": {},
   "outputs": [
    {
     "ename": "SyntaxError",
     "evalue": "cannot assign to lambda (3620470281.py, line 2)",
     "output_type": "error",
     "traceback": [
      "\u001b[0;36m  Cell \u001b[0;32mIn[5], line 2\u001b[0;36m\u001b[0m\n\u001b[0;31m    lambda x: a = x\u001b[0m\n\u001b[0m    ^\u001b[0m\n\u001b[0;31mSyntaxError\u001b[0m\u001b[0;31m:\u001b[0m cannot assign to lambda\n"
     ]
    }
   ],
   "source": [
    "a = 5\n",
    "lambda x: a = x"
   ]
  },
  {
   "cell_type": "markdown",
   "metadata": {},
   "source": [
    "\n",
    "### Lambdas do not permit loops"
   ]
  },
  {
   "cell_type": "code",
   "execution_count": 6,
   "metadata": {},
   "outputs": [
    {
     "ename": "SyntaxError",
     "evalue": "invalid syntax (1594673175.py, line 1)",
     "output_type": "error",
     "traceback": [
      "\u001b[0;36m  Cell \u001b[0;32mIn[6], line 1\u001b[0;36m\u001b[0m\n\u001b[0;31m    lambda x:x for x in range(10)\u001b[0m\n\u001b[0m               ^\u001b[0m\n\u001b[0;31mSyntaxError\u001b[0m\u001b[0;31m:\u001b[0m invalid syntax\n"
     ]
    }
   ],
   "source": [
    "lambda x:x for x in range(10)"
   ]
  },
  {
   "cell_type": "markdown",
   "metadata": {},
   "source": [
    "### Lambdas need to enclosed in parentheses in f-strings"
   ]
  },
  {
   "cell_type": "code",
   "execution_count": 29,
   "metadata": {},
   "outputs": [
    {
     "ename": "SyntaxError",
     "evalue": "f-string: lambda expressions are not allowed without parentheses (944717210.py, line 1)",
     "output_type": "error",
     "traceback": [
      "\u001b[0;36m  Cell \u001b[0;32mIn[29], line 1\u001b[0;36m\u001b[0m\n\u001b[0;31m    print(f\"Hello, {lambda: 'World!'()}\")\u001b[0m\n\u001b[0m                    ^\u001b[0m\n\u001b[0;31mSyntaxError\u001b[0m\u001b[0;31m:\u001b[0m f-string: lambda expressions are not allowed without parentheses\n"
     ]
    }
   ],
   "source": [
    "print(f\"Hello, {lambda: 'World!'()}\")"
   ]
  },
  {
   "cell_type": "code",
   "execution_count": 30,
   "metadata": {},
   "outputs": [
    {
     "name": "stdout",
     "output_type": "stream",
     "text": [
      "Hello, <function <lambda> at 0x105e3a200>\n"
     ]
    }
   ],
   "source": [
    "print(f\"Hello, {(lambda: 'World!')}\")"
   ]
  },
  {
   "cell_type": "code",
   "execution_count": null,
   "metadata": {},
   "outputs": [
    {
     "name": "stdout",
     "output_type": "stream",
     "text": [
      "Hello, World!\n"
     ]
    }
   ],
   "source": [
    "print(f\"Hello, {(lambda: 'World!')()}\")"
   ]
  },
  {
   "cell_type": "markdown",
   "metadata": {},
   "source": [
    "### How to invoke lambdas"
   ]
  },
  {
   "cell_type": "code",
   "execution_count": 16,
   "metadata": {},
   "outputs": [
    {
     "name": "stdout",
     "output_type": "stream",
     "text": [
      "5\n"
     ]
    }
   ],
   "source": [
    "x = lambda a,b:a+b\n",
    "print(x(2,3))"
   ]
  },
  {
   "cell_type": "code",
   "execution_count": 17,
   "metadata": {},
   "outputs": [
    {
     "name": "stdout",
     "output_type": "stream",
     "text": [
      "230\n",
      "5\n",
      "18\n",
      "15\n",
      "60\n"
     ]
    }
   ],
   "source": [
    "print((lambda x,y,z : x * y + z)(10,20,30))\n",
    "print((lambda x,y,z=3 : x * y + z)(1,2))\n",
    "print((lambda x,y,z=15 : x + y + z)(1,y = 2))\n",
    "print((lambda *args : sum(args))(1,2,3,4,5)) #tuple\n",
    "print((lambda **a : sum(a.values()))(one=10,two=20,three=30)) #dict"
   ]
  },
  {
   "cell_type": "markdown",
   "metadata": {},
   "source": [
    "### Lambda if-format\n",
    "\n",
    "lambda x: expression if condition else expression"
   ]
  },
  {
   "cell_type": "markdown",
   "metadata": {},
   "source": [
    "### if should always be accompanied by else"
   ]
  },
  {
   "cell_type": "code",
   "execution_count": null,
   "metadata": {},
   "outputs": [
    {
     "ename": "SyntaxError",
     "evalue": "expected 'else' after 'if' expression (1242576288.py, line 1)",
     "output_type": "error",
     "traceback": [
      "\u001b[0;36m  Cell \u001b[0;32mIn[19], line 1\u001b[0;36m\u001b[0m\n",
      "\u001b[0;31m    lambda x:6 if x > 5\u001b[0m\n",
      "\u001b[0m             ^\u001b[0m\n",
      "\u001b[0;31mSyntaxError\u001b[0m\u001b[0;31m:\u001b[0m expected 'else' after 'if' expression\n"
     ]
    }
   ],
   "source": [
    "lambda x:6 if x > 5"
   ]
  },
  {
   "cell_type": "code",
   "execution_count": 22,
   "metadata": {},
   "outputs": [
    {
     "data": {
      "text/plain": [
       "12"
      ]
     },
     "execution_count": 22,
     "metadata": {},
     "output_type": "execute_result"
    }
   ],
   "source": [
    "#lambda with if else if\n",
    "converter = lambda x : x*2 if x < 10 else (x*3 if x < 20 else x)\n",
    "converter(6)"
   ]
  },
  {
   "cell_type": "code",
   "execution_count": 31,
   "metadata": {},
   "outputs": [
    {
     "data": {
      "text/plain": [
       "120"
      ]
     },
     "execution_count": 31,
     "metadata": {},
     "output_type": "execute_result"
    }
   ],
   "source": [
    "# Write a lambda function to find factorial of a num using recursion\n",
    "fac = lambda x: 1 if x == 1 else x*fac(x-1)\n",
    "fac(5)"
   ]
  },
  {
   "cell_type": "code",
   "execution_count": null,
   "metadata": {},
   "outputs": [
    {
     "data": {
      "text/plain": [
       "24"
      ]
     },
     "metadata": {},
     "output_type": "display_data"
    }
   ],
   "source": [
    "gcd = lambda x,y: x if y==0 else gcd(y,x%y)\n",
    "gcd(24,48)"
   ]
  },
  {
   "cell_type": "code",
   "execution_count": 34,
   "metadata": {},
   "outputs": [
    {
     "data": {
      "text/plain": [
       "4"
      ]
     },
     "execution_count": 34,
     "metadata": {},
     "output_type": "execute_result"
    }
   ],
   "source": [
    "gcd_sub = lambda a,b: gcd_sub(a-b, b) if a>b else gcd_sub(a,b-a) if (a<b) else a\n",
    "gcd_sub(20,12)"
   ]
  }
 ],
 "metadata": {
  "kernelspec": {
   "display_name": "venv",
   "language": "python",
   "name": "python3"
  },
  "language_info": {
   "codemirror_mode": {
    "name": "ipython",
    "version": 3
   },
   "file_extension": ".py",
   "mimetype": "text/x-python",
   "name": "python",
   "nbconvert_exporter": "python",
   "pygments_lexer": "ipython3",
   "version": "3.12.0"
  }
 },
 "nbformat": 4,
 "nbformat_minor": 2
}
