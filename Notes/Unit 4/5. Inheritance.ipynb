{
 "cells": [
  {
   "cell_type": "markdown",
   "metadata": {},
   "source": [
    "Inheritance indicates that one class gets most or all of its features from a\n",
    "parent class. When this kind of specialization occurs,\n",
    "there are three ways that parent and child can interact.\n",
    "1. Action on child imply an action on the parent\n",
    "2. Action on the child override the action on the parent\n",
    "3. Action on the child alter the action on the parent"
   ]
  },
  {
   "cell_type": "code",
   "execution_count": 1,
   "metadata": {},
   "outputs": [
    {
     "name": "stdout",
     "output_type": "stream",
     "text": [
      "in disp A\n",
      "in disp A\n"
     ]
    }
   ],
   "source": [
    "#1. Action on child imply an action on the parent\n",
    "class A:\n",
    "    def disp(self):\n",
    "        print(\"in disp A\")\n",
    "class B(A):\n",
    "    pass\n",
    "a1 = A()\n",
    "a1.disp()\n",
    "b1 = B()\n",
    "b1.disp()"
   ]
  },
  {
   "cell_type": "code",
   "execution_count": 2,
   "metadata": {},
   "outputs": [
    {
     "name": "stdout",
     "output_type": "stream",
     "text": [
      "in disp A\n",
      "in disp A\n"
     ]
    }
   ],
   "source": [
    "#2. Action on the child override the action on the parent\n",
    "class A:\n",
    "    def disp(self):\n",
    "        print(\"in disp A\")\n",
    "    class B(A):\n",
    "        def disp(self):\n",
    "            print(\"in disp B\")\n",
    "a1=A()\n",
    "a1.disp()\n",
    "b1=B()\n",
    "b1.disp()"
   ]
  },
  {
   "cell_type": "code",
   "execution_count": 3,
   "metadata": {},
   "outputs": [
    {
     "name": "stdout",
     "output_type": "stream",
     "text": [
      "in disp A\n",
      "in disp A\n",
      "in disp B\n"
     ]
    }
   ],
   "source": [
    "class A:\n",
    "    def disp(self):\n",
    "        print(\"in disp A\")\n",
    "class B(A):\n",
    "    def disp(self):\n",
    "        A.disp(self)\n",
    "        print(\"in disp B\")\n",
    "a1=A()\n",
    "a1.disp()\n",
    "b1=B()\n",
    "b1.disp()"
   ]
  },
  {
   "cell_type": "code",
   "execution_count": null,
   "metadata": {},
   "outputs": [],
   "source": []
  },
  {
   "cell_type": "code",
   "execution_count": 4,
   "metadata": {},
   "outputs": [
    {
     "name": "stdout",
     "output_type": "stream",
     "text": [
      "in disp A\n",
      "in disp A\n",
      "in disp B\n"
     ]
    }
   ],
   "source": [
    "class A:\n",
    "    def disp(self):\n",
    "        print(\"in disp A\")\n",
    "class B(A):\n",
    "    def disp(self):\n",
    "        A.disp(self)\n",
    "        print(\"in disp B\")\n",
    "a1=A()\n",
    "a1.disp()\n",
    "b1=B()\n",
    "b1.disp()"
   ]
  },
  {
   "cell_type": "markdown",
   "metadata": {},
   "source": [
    "### Usage of super()\n",
    "When there is multiple inheritance as below, and when there is implicit action, python interpreter as to look up in the class hierarchy for both A and B.\n",
    "\n",
    "It needs to do this in a consistent manner.\n",
    "\n",
    "To do this, python uses Method Resolution Order (MRO) and a C3 algorithm\n",
    "Because MRO is complex, python uses the super() which handles all of these.\n",
    "\n",
    "Most common use of super() is with `__init__()`."
   ]
  },
  {
   "cell_type": "code",
   "execution_count": 5,
   "metadata": {},
   "outputs": [
    {
     "name": "stdout",
     "output_type": "stream",
     "text": [
      "in disp C\n",
      "in disp B\n"
     ]
    }
   ],
   "source": [
    "class A:\n",
    "    def disp(self):\n",
    "        print(\"in disp A\")\n",
    "class B:\n",
    "    def disp(self):\n",
    "        print(\"in disp B\")\n",
    "class C(B,A): #Multiple inheritance\n",
    "#reverse the order of A and B specified here and observe the\n",
    "    def disp(self):\n",
    "        super().disp() #super() supported only in 3.x and above\n",
    "#super(C,self).disp() #supported in 2.7\n",
    "#in both the cases,\n",
    "#super() refers to the first parent specified in the list of parent\n",
    "#Change the order and observe the output\n",
    "print(\"in disp C\")\n",
    "c1=C()\n",
    "c1.disp()"
   ]
  },
  {
   "cell_type": "code",
   "execution_count": 6,
   "metadata": {},
   "outputs": [
    {
     "name": "stdout",
     "output_type": "stream",
     "text": [
      "Dev -- 12 -- Blr -- 677\n"
     ]
    }
   ],
   "source": [
    "#Assume the parent class has thousands of instance variables\n",
    "class Student:\n",
    "    def __init__(self,name,age,city):\n",
    "        self.name = name\n",
    "        self.age = age\n",
    "        self.city =city\n",
    "#child class has one more instance variable specific to it.\n",
    "#Rather than again mentioning all, call the super class constructor.\n",
    "class Mark(Student):\n",
    "    def __init__(self,name,age,city,tot_marks):\n",
    "        super().__init__(name,age,city)\n",
    "#Student.__init__(self,name,age,city)\n",
    "        self.total = tot_marks\n",
    "    def display_details(self):\n",
    "        print(self.name,\"--\",self.age,\"--\",self.city,\"--\",self.total)\n",
    "s1 = Mark(\"Dev\",12,\"Blr\",677)\n",
    "s1.display_details()"
   ]
  },
  {
   "cell_type": "markdown",
   "metadata": {},
   "source": [
    "## Composition\n",
    "Composition establishes a \"has-a\" relationship between classes"
   ]
  },
  {
   "cell_type": "code",
   "execution_count": 7,
   "metadata": {},
   "outputs": [
    {
     "data": {
      "text/plain": [
       "'Annual Salary is: 4278.0'"
      ]
     },
     "execution_count": 7,
     "metadata": {},
     "output_type": "execute_result"
    }
   ],
   "source": [
    "class Salary:\n",
    "    def __init__(self,pay):\n",
    "        self.pay = pay\n",
    "    def get_total(self):\n",
    "        return (self.pay*12)\n",
    "class Employee:\n",
    "    def __init__(self,pay,bonus):\n",
    "        self.pay = pay\n",
    "        self.bonus = bonus\n",
    "        self.obj_salary = Salary(self.pay) #object for Salary\n",
    "    def annual_sal(self):\n",
    "        return \"Annual Salary is: \" +str(self.obj_salary.get_total())\n",
    "Employee(356.5,100).annual_sal()"
   ]
  },
  {
   "cell_type": "code",
   "execution_count": 8,
   "metadata": {},
   "outputs": [
    {
     "name": "stdout",
     "output_type": "stream",
     "text": [
      "15-8-1947\n",
      "15-8-1947 => Independence Day\n"
     ]
    }
   ],
   "source": [
    "class MyDate:\n",
    "    def __init__(self, dd, mm, yy):\n",
    "        self.dd = dd\n",
    "        self.mm = mm\n",
    "        self.yy = yy\n",
    "    def __str__(self):\n",
    "        return str(self.dd) + \"-\" + str(self.mm) + \"-\" + str(self.yy)\n",
    "\"\"\"def key(self):\n",
    "return self.yy * 365 + self.mm * 30 + self.dd\"\"\"\n",
    "d = MyDate(15, 8, 1947)\n",
    "print(d)\n",
    "class MyEvent:\n",
    "    def __init__(self, dd, mm, yy, detail):\n",
    "        self.date = MyDate(dd, mm, yy) #create object for the MyDate class\n",
    "        self.detail = detail\n",
    "    def __str__(self):\n",
    "        return str(self.date) + \" => \" + self.detail\n",
    "    def key(self):\n",
    "        return self.detail\n",
    "#return self.date.key()\n",
    "e = MyEvent(15, 8, 1947, \"Independence Day\")\n",
    "print(e)"
   ]
  },
  {
   "cell_type": "markdown",
   "metadata": {},
   "source": [
    "### Scope of variables\n",
    "Private like variables are the ones which starts with __\n",
    "\n",
    "There can be private class variables or private instance variables.\n",
    "\n",
    "private like class variables are not actually private.\n",
    "\n",
    "They are accessible as shown below in the second block of code"
   ]
  },
  {
   "cell_type": "code",
   "execution_count": 9,
   "metadata": {},
   "outputs": [
    {
     "name": "stdout",
     "output_type": "stream",
     "text": [
      "Outside class 12\n"
     ]
    },
    {
     "ename": "AttributeError",
     "evalue": "type object 'A' has no attribute '__i'",
     "output_type": "error",
     "traceback": [
      "\u001b[0;31m---------------------------------------------------------------------------\u001b[0m",
      "\u001b[0;31mAttributeError\u001b[0m                            Traceback (most recent call last)",
      "Cell \u001b[0;32mIn[9], line 6\u001b[0m\n\u001b[1;32m      4\u001b[0m \u001b[38;5;66;03m#outside the class using className.variable\u001b[39;00m\n\u001b[1;32m      5\u001b[0m \u001b[38;5;28mprint\u001b[39m(\u001b[38;5;124m\"\u001b[39m\u001b[38;5;124mOutside class\u001b[39m\u001b[38;5;124m\"\u001b[39m,A\u001b[38;5;241m.\u001b[39mj)\n\u001b[0;32m----> 6\u001b[0m \u001b[38;5;28mprint\u001b[39m(\u001b[38;5;124m\"\u001b[39m\u001b[38;5;124mOutside\u001b[39m\u001b[38;5;124m\"\u001b[39m,\u001b[43mA\u001b[49m\u001b[38;5;241;43m.\u001b[39;49m\u001b[43m__i\u001b[49m) \u001b[38;5;66;03m#AttributeError\u001b[39;00m\n",
      "\u001b[0;31mAttributeError\u001b[0m: type object 'A' has no attribute '__i'"
     ]
    }
   ],
   "source": [
    "class A:\n",
    "    j=12\n",
    "    __i =10 #private like class variable. Not accessible\n",
    "#outside the class using className.variable\n",
    "print(\"Outside class\",A.j)\n",
    "print(\"Outside\",A.__i) #AttributeError\n"
   ]
  },
  {
   "cell_type": "code",
   "execution_count": 10,
   "metadata": {},
   "outputs": [
    {
     "name": "stdout",
     "output_type": "stream",
     "text": [
      "Outside 10\n"
     ]
    }
   ],
   "source": [
    "class A:\n",
    "    __i=10\n",
    "print(\"Outside\",A._A__i) #className._className__variable"
   ]
  },
  {
   "cell_type": "code",
   "execution_count": 11,
   "metadata": {},
   "outputs": [
    {
     "name": "stdout",
     "output_type": "stream",
     "text": [
      "12\n",
      "abc\n"
     ]
    }
   ],
   "source": [
    "class A:\n",
    "    def __init__(self,n,s):\n",
    "        self.__name=n\n",
    "        self.srn=s\n",
    "a1=A(\"abc\",12)\n",
    "print(a1.srn)\n",
    "#print(a1.__name) #AttributeError\n",
    "print(a1._A__name) #instanceName._className__instanceVariable\n",
    "#isinstance() is used to check whether the instance is of specified type or"
   ]
  },
  {
   "cell_type": "markdown",
   "metadata": {},
   "source": [
    "isinstance() is used to check whether the instance is of specified type or\n",
    "\n",
    "Two arguments: First is the instance name and second is the class Name\n",
    "\n",
    "issubclass() is used to check whether the first argument is a child class o\n"
   ]
  },
  {
   "cell_type": "code",
   "execution_count": 12,
   "metadata": {},
   "outputs": [
    {
     "name": "stdout",
     "output_type": "stream",
     "text": [
      "True\n",
      "False\n"
     ]
    }
   ],
   "source": [
    "class A:\n",
    "    pass\n",
    "class B:\n",
    "    pass\n",
    "a1=A()\n",
    "b1=B()\n",
    "print(isinstance(a1,A)) #True\n",
    "print(isinstance(b1,A)) #False"
   ]
  },
  {
   "cell_type": "code",
   "execution_count": 13,
   "metadata": {},
   "outputs": [
    {
     "name": "stdout",
     "output_type": "stream",
     "text": [
      "True\n",
      "False\n",
      "True\n",
      "True\n",
      "True\n",
      "False\n"
     ]
    }
   ],
   "source": [
    "class A:\n",
    "    pass\n",
    "class B(A): #inheritance\n",
    "    pass\n",
    "a1=A()\n",
    "b1=B()\n",
    "print(type(a1)==A) #True\n",
    "print(type(b1)==A) #False\n",
    "#so use isinstance()\n",
    "print(isinstance(a1,A)) #True\n",
    "print(isinstance(b1,A)) #True\n",
    "#Since there is inheritance, When object of child is created,\n",
    "#object of parent created implicitly\n",
    "#print(isinstance(B,A)) #B is a class not an instance\n",
    "#Change first argument to different values and observe the output\n",
    "print(issubclass(B,A)) #True\n",
    "print(isinstance(A,B)) #False"
   ]
  },
  {
   "cell_type": "code",
   "execution_count": 14,
   "metadata": {},
   "outputs": [
    {
     "name": "stdout",
     "output_type": "stream",
     "text": [
      "(<class 'object'>,)\n",
      "True\n",
      "(<class '__main__.A'>,)\n",
      "True\n",
      "False\n",
      "(<class '__main__.B'>,)\n"
     ]
    }
   ],
   "source": [
    "class A:\n",
    "    pass\n",
    "class B(A):\n",
    "    pass\n",
    "class C(B):\n",
    "    pass\n",
    "c1=C()\n",
    "b1=B()\n",
    "print(A.__bases__)\n",
    "print(isinstance(c1,A)) #True\n",
    "print(B.__bases__)\n",
    "print(issubclass(C,A)) #True\n",
    "print(isinstance(b1,C)) #False\n",
    "print(C.__bases__)"
   ]
  },
  {
   "cell_type": "markdown",
   "metadata": {},
   "source": [
    "## Destructor Sequence"
   ]
  },
  {
   "cell_type": "code",
   "execution_count": 15,
   "metadata": {},
   "outputs": [
    {
     "name": "stdout",
     "output_type": "stream",
     "text": [
      "in construtor A\n",
      "in construtor B\n"
     ]
    }
   ],
   "source": [
    "class A:\n",
    "    def __init__(self):\n",
    "        print(\"in construtor\",self.__class__.__name__)\n",
    "    def __del__(self):\n",
    "        print(\"in destructor\",self.__class__.__name__)\n",
    "class B(A): #inheritance\n",
    "    def __init__(self):\n",
    "        print(\"in construtor\",self.__class__.__name__)\n",
    "    def __del__(self):\n",
    "        print(\"in destructor\",self.__class__.__name__)\n",
    "a1=A() #Constructor of A is called\n",
    "b1=B()\n",
    "#Object created first gets deleted first.\n",
    "#But when you run many times, B might be deleted first because of garbage\n",
    "#collector in OS. Do not worry much as of now!!"
   ]
  }
 ],
 "metadata": {
  "kernelspec": {
   "display_name": "venv",
   "language": "python",
   "name": "python3"
  },
  "language_info": {
   "codemirror_mode": {
    "name": "ipython",
    "version": 3
   },
   "file_extension": ".py",
   "mimetype": "text/x-python",
   "name": "python",
   "nbconvert_exporter": "python",
   "pygments_lexer": "ipython3",
   "version": "3.12.0"
  }
 },
 "nbformat": 4,
 "nbformat_minor": 2
}
