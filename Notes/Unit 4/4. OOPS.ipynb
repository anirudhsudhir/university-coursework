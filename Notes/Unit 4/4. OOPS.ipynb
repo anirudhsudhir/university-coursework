{
 "cells": [
  {
   "cell_type": "markdown",
   "metadata": {},
   "source": [
    "Object Oriented Philosophy:\n",
    "\n",
    "3 streams:\n",
    "1. Object Oriented Analysis\n",
    "2. Object Oriented Design\n",
    "3. Object Oriented Programming\n",
    "\n",
    "Python supports procedural, imperative, functional, declarative and OOP.  \n",
    "\n",
    "Object Oriented: System is made up of objects. Real world entities are the objects \n",
    "\n",
    "Principles(Features) of OOP:\n",
    "1. View everything as an Object.\n",
    "2. Encapsulation: Wraps/Binds data and the behaviour into a single unit\n",
    "3. Data Hiding: Restrict data access -> implemented using access specifiers\n",
    "4. Abstraction: Hide the background details -> just project the foreground details.\n",
    "5. Polymorphism: Objects behave differently depending on type of data\n",
    "\n",
    "2 + 3 -> addition\n",
    "\n",
    "\"2\" + \"3\" - concatenation\n",
    "\n",
    "6. Inheritance: Acquiring the properties of the parent class. -> Benefits: Reusablity\n",
    "7. Collaboration or Containership: One object contains another object\n",
    "\n",
    "OOP Languages:  \n",
    "Python, C++, Java"
   ]
  },
  {
   "cell_type": "markdown",
   "metadata": {},
   "source": [
    "Classes - Design / Blueprint\n",
    "1. To create user defined data strutures\n",
    "2. Classes has properties - variable\n",
    "- class variables\n",
    "- instance variables\n",
    "3. Classes has behaviours - methods/functions\n",
    "- class method\n",
    "- instance method\n",
    "- static method\n",
    "4. Class is the Design - > objects are created from classes -> contains\n",
    "real world data\n",
    "5. The object that is created will be used to access the class properties\n",
    "(variables, methods)\n",
    "6. A class can have multiple objects"
   ]
  },
  {
   "cell_type": "code",
   "execution_count": null,
   "metadata": {},
   "outputs": [
    {
     "name": "stdout",
     "output_type": "stream",
     "text": [
      "<class '__main__.Person'>\n"
     ]
    }
   ],
   "source": [
    "class Person:\n",
    "    pass\n",
    "print(Person)\n",
    "#__name__ == \"__main__\"\n",
    "#Python has no main statement"
   ]
  },
  {
   "cell_type": "markdown",
   "metadata": {},
   "source": [
    "### Create objects"
   ]
  },
  {
   "cell_type": "code",
   "execution_count": null,
   "metadata": {},
   "outputs": [
    {
     "name": "stdout",
     "output_type": "stream",
     "text": [
      "<__main__.Person object at 0x110199cd0>\n",
      "<__main__.Person object at 0x11019ac00>\n",
      "<__main__.Person object at 0x11019ac60>\n"
     ]
    }
   ],
   "source": [
    "class Person:\n",
    "    pass\n",
    "#create an object\n",
    "p1 = Person()\n",
    "p2 = Person()\n",
    "p3 = Person()\n",
    "print(p1)\n",
    "print(p2)\n",
    "print(p3)"
   ]
  },
  {
   "cell_type": "code",
   "execution_count": null,
   "metadata": {},
   "outputs": [
    {
     "name": "stdout",
     "output_type": "stream",
     "text": [
      "CSE Student\n",
      "CSE Student\n"
     ]
    }
   ],
   "source": [
    "class Student:\n",
    "    def details(self): #class method ;self is not a keyword.\n",
    "        print(\"CSE Student\")\n",
    "s1 = Student()\n",
    "#to access the class properties, use the objects\n",
    "s1.details() #Student.details(s1)\n",
    "s2 = Student()\n",
    "s2.details() #Student.details(s2)"
   ]
  },
  {
   "cell_type": "markdown",
   "metadata": {},
   "source": [
    "### Constructor"
   ]
  },
  {
   "cell_type": "markdown",
   "metadata": {},
   "source": [
    "In python, `__init__()` is the constructor\n",
    "1. If there is no constructor in class explicity, the python interpreter creates one internally.(default constructor)\n",
    "2. `__init__()` - intializes new objects as they are created\n",
    "3. `__init__()` - can have any number args - but the first arg must be self\n",
    "4. Constructor is a function used to initialize the object with its attribute"
   ]
  },
  {
   "cell_type": "code",
   "execution_count": 1,
   "metadata": {},
   "outputs": [
    {
     "name": "stdout",
     "output_type": "stream",
     "text": [
      "In init\n",
      "In init\n",
      "CSE Student\n"
     ]
    }
   ],
   "source": [
    "#constructors with no parameters\n",
    "#__init__(self,...)\n",
    "class Student:\n",
    "    def __init__(self): #constructor\n",
    "        print(\"In init\")\n",
    "    def details(self):\n",
    "        print(\"CSE Student\")\n",
    "s1 = Student() #object created, constructor is called # __init__() called\n",
    "s2 = Student() # __init__() called implicitly\n",
    "s1.details()\n",
    "#Once the instance is out of scope, destructor called implicitly"
   ]
  },
  {
   "cell_type": "code",
   "execution_count": null,
   "metadata": {},
   "outputs": [
    {
     "name": "stdout",
     "output_type": "stream",
     "text": [
      "Kavya 45 PES\n",
      "Amar 30 PES\n"
     ]
    }
   ],
   "source": [
    "#constructor with parameters\n",
    "class Person:\n",
    "    uni = \"PES\"\n",
    "    def __init__(self,name,age): #constructor with arguments\n",
    "        #Memory is separately allocated for every instance created\n",
    "        self.name = name\n",
    "        self.age = age\n",
    "a = Person(\"Kavya\",45) #class object\n",
    "b = Person(\"Amar\",30) #class object\n",
    "print(a.name,a.age,a.uni)\n",
    "print(b.name,b.age,b.uni)"
   ]
  },
  {
   "cell_type": "code",
   "execution_count": null,
   "metadata": {},
   "outputs": [
    {
     "name": "stdout",
     "output_type": "stream",
     "text": [
      "78 90\n",
      "45 89\n",
      "78.33333333333333\n",
      "52.333333333333336\n"
     ]
    }
   ],
   "source": [
    "#constructor with parameters\n",
    "#create a class Student. Calculate the average marks of maths, physics and c\n",
    "#create a constructor to intialize the marks of the student.\n",
    "class Student:\n",
    "    def __init__(self,phy,comp,maths): #constructor\n",
    "        self.phy = phy\n",
    "        self.comp = comp\n",
    "        self.maths = maths\n",
    "    def avg(self): #instance method\n",
    "        return (self.maths+self.comp+self.phy)/3\n",
    "s1 = Student(67,78,90) #object created - Student(s1,67,78,90)\n",
    "s2 = Student(89,45,23)\n",
    "print(s1.comp,s1.maths)\n",
    "print(s2.comp,s2.phy)\n",
    "print(s1.avg())\n",
    "print(s2.avg())"
   ]
  },
  {
   "cell_type": "code",
   "execution_count": null,
   "metadata": {},
   "outputs": [
    {
     "name": "stdout",
     "output_type": "stream",
     "text": [
      "in constructor\n",
      "in constructor\n"
     ]
    }
   ],
   "source": [
    "#destructor\n",
    "#__del__() is a destructor function which is called implicitly\n",
    "#during the death of an object.\n",
    "class Sample:\n",
    "    def __init__(self):\n",
    "        print(\"in constructor\")\n",
    "    def __del__(self):\n",
    "        print(\"in destructor\")\n",
    "s1=Sample()\n",
    "s2=Sample()\n",
    "#after the above line, destructors are called,\n",
    "#s1 and s2 are deleted in the order of its creation."
   ]
  },
  {
   "cell_type": "code",
   "execution_count": null,
   "metadata": {},
   "outputs": [
    {
     "name": "stdout",
     "output_type": "stream",
     "text": [
      "Harrier 18 TATA\n",
      "i20 25 Hyundai\n",
      "TATA\n",
      "Harrier 18 TATA KA\n"
     ]
    }
   ],
   "source": [
    "class Car:\n",
    "    make = \"TATA\" #class variable\n",
    "    def __init__(self,name,mileage):\n",
    "        self.name = name #instance variables\n",
    "        self.mil = mileage\n",
    "c1 = Car(\"Harrier\",18)\n",
    "c2 = Car(\"Nexon\",25)\n",
    "print(c1.name,c1.mil,c1.make)\n",
    "c2.name = \"i20\" #values are dynamic\n",
    "c2.make = \"Hyundai\"\n",
    "print(c2.name,c2.mil,c2.make)\n",
    "print(Car.make) #can use a class name direclty to access the class variable\n",
    "#Adding new instance variable is also a valid operation\n",
    "c1.place = \"KA\"\n",
    "print(c1.name,c1.mil,c1.make,c1.place)\n",
    "#print(c2.name,c2.mil,c2.make,c2.place)#Error\n",
    "#print(Car.name) #ERROR"
   ]
  },
  {
   "cell_type": "markdown",
   "metadata": {},
   "source": [
    "1. hasattr(instancename,\"attr_name\"):\n",
    "This function checks whether the instance (s1) has the attribute mentioned in the second argument. Returns True if exists else returns False\n",
    "\n",
    "2. getattr(instancename,\"attr_name\"): Returns the value of the attribute if that attribute is defined for the instance. Else AttributeError.\n",
    "\n",
    "3. setattr(instancename,\"attr_name\",\"attr_value\"):\n",
    "Used to set the attribute and value for a instance specified in the first instance\n",
    "\n",
    "4. delattr(instancename,\"attr_name\"): Used to delete any attribute from the in the first argument"
   ]
  },
  {
   "cell_type": "code",
   "execution_count": null,
   "metadata": {},
   "outputs": [
    {
     "name": "stdout",
     "output_type": "stream",
     "text": [
      "in destructor\n",
      "RRR PES2UG23CS001 CSE\n",
      "True\n",
      "class variable True\n",
      "False\n",
      "RRR PES2UG23CS001 CSE Bangalore\n",
      "*******************************\n",
      "RRR\n",
      "display function data\n",
      "RRR -- PES2UG23CS001 --- CSE\n",
      "*******************************\n",
      "after setting the name: pqr\n",
      "pqr\n",
      "display function data\n",
      "pqr -- PES2UG23CS001 --- CSE\n"
     ]
    }
   ],
   "source": [
    "class Student:\n",
    "    i=23\n",
    "    def __init__(self,n,s,b):\n",
    "        self.name=n\n",
    "        self.srn=s\n",
    "        self.branch=b\n",
    "    def disp(self):\n",
    "        print(\"display function data\")\n",
    "        print(self.name,\"--\",self.srn,\"---\",self.branch)\n",
    "s1=Student(\"RRR\",\"PES2UG23CS001\",\"CSE\")\n",
    "print(s1.name,s1.srn,s1.branch)\n",
    "print(hasattr(s1,\"name\")) #True\n",
    "print(\"class variable\",hasattr(s1,\"i\")) #True\n",
    "print(hasattr(s1,\"city\")) #False\n",
    "if (not hasattr(s1,\"city\")):\n",
    "    s1.city=\"Bangalore\"\n",
    "print(s1.name,s1.srn,s1.branch,s1.city)\n",
    "print(\"*******************************\")\n",
    "print(getattr(s1,\"name\"))\n",
    "s1.disp()\n",
    "#print(getattr(s1,\"naaam\")) #AttributeError\n",
    "print(\"*******************************\")\n",
    "#delattr(s1,\"name\") #attribute name is deleted from s1\n",
    "#s1.disp() #error, name attribute deleted\n",
    "#print(s1.name) #Error\n",
    "setattr(s1,\"name\",\"pqr\")\n",
    "print(\"after setting the name:\",s1.name)\n",
    "print(getattr(s1,\"name\"))\n",
    "s1.disp() #observe that value of name attribute is changed"
   ]
  },
  {
   "cell_type": "code",
   "execution_count": 6,
   "metadata": {},
   "outputs": [
    {
     "name": "stdout",
     "output_type": "stream",
     "text": [
      "Constructor called\n",
      "1\n",
      "Constructor called\n",
      "1\n",
      "Constructor called\n",
      "1\n",
      "0\n"
     ]
    }
   ],
   "source": [
    "#__init__ () method is called every time an object is instan\n",
    "class Example:\n",
    "    count = 0 #class variable\n",
    "    def __init__(self): #constructor without parameters\n",
    "        print(\"Constructor called\")\n",
    "        self.count = self.count + 1\n",
    "#Example.count = Example.count + 1\n",
    "a = Example()\n",
    "print(a.count)\n",
    "b = Example()\n",
    "print(b.count)\n",
    "c = Example()\n",
    "print(c.count)\n",
    "print(Example.count)"
   ]
  },
  {
   "cell_type": "markdown",
   "metadata": {},
   "source": [
    "Static methods are methods that are bound to a class rather than its object\n",
    "\n",
    "They do not require a class instance creation.\n",
    "\n",
    "So, they are not dependent on the state of the object."
   ]
  },
  {
   "cell_type": "code",
   "execution_count": null,
   "metadata": {},
   "outputs": [
    {
     "name": "stdout",
     "output_type": "stream",
     "text": [
      "The sum is: 15\n",
      "The sum is: 30\n"
     ]
    }
   ],
   "source": [
    "class Mathematics:\n",
    "    def addNumbers(x, y):\n",
    "        return x + y\n",
    "# create addNumbers static method\n",
    "Mathematics.addNumbers = staticmethod(Mathematics.addNumbers)\n",
    "print('The sum is:', Mathematics.addNumbers(5, 10))\n",
    "print('The sum is:', Mathematics.addNumbers(15, 15))"
   ]
  },
  {
   "cell_type": "code",
   "execution_count": null,
   "metadata": {},
   "outputs": [
    {
     "name": "stdout",
     "output_type": "stream",
     "text": [
      "Equal\n"
     ]
    }
   ],
   "source": [
    "class Dates:\n",
    "    def __init__(self, date):\n",
    "        self.date = date\n",
    "    def getDate(self):\n",
    "        return self.date\n",
    "    @staticmethod\n",
    "    def toDashDate(date):\n",
    "        return date.replace(\"/\",\"-\")\n",
    "date = Dates(\"15-12-2016\")\n",
    "dateFromDB = \"15/12/2016\"\n",
    "dateWithDash = Dates.toDashDate(dateFromDB)\n",
    "if(date.getDate() == dateWithDash):\n",
    "    print(\"Equal\")\n",
    "else:\n",
    "    print(\"Unequal\")"
   ]
  },
  {
   "cell_type": "code",
   "execution_count": null,
   "metadata": {},
   "outputs": [
    {
     "name": "stdout",
     "output_type": "stream",
     "text": [
      "200\n",
      "after change length \n",
      "400\n",
      "before change breadth \n",
      "length :  40\n",
      "breadth :  10\n",
      "after change breadth \n",
      "1200\n",
      "length :  40\n",
      "breadth :  30\n"
     ]
    }
   ],
   "source": [
    "class Rect:\n",
    "    def __init__(self, l, b):\n",
    "        self.length = l\n",
    "        self.breadth = b\n",
    "    def area(self):\n",
    "        return self.length * self.breadth\n",
    "    def change_length(self, l):\n",
    "        self.length = l\n",
    "    def change_breadth(self, b):\n",
    "        self.breadth = b\n",
    "    def disp(self):\n",
    "        print('length : ', self.length)\n",
    "        print('breadth : ', self.breadth)\n",
    "r1 = Rect(20, 10)\n",
    "print(r1. area())\n",
    "print(\"after change length \")\n",
    "r1.change_length(40)\n",
    "print(r1.area())\n",
    "print(\"before change breadth \")\n",
    "r1.disp()\n",
    "print(\"after change breadth \")\n",
    "r1.change_breadth(30)\n",
    "print(r1.area())\n",
    "r1.disp()"
   ]
  }
 ],
 "metadata": {
  "kernelspec": {
   "display_name": "venv",
   "language": "python",
   "name": "python3"
  },
  "language_info": {
   "codemirror_mode": {
    "name": "ipython",
    "version": 3
   },
   "file_extension": ".py",
   "mimetype": "text/x-python",
   "name": "python",
   "nbconvert_exporter": "python",
   "pygments_lexer": "ipython3",
   "version": "3.12.0"
  }
 },
 "nbformat": 4,
 "nbformat_minor": 2
}
