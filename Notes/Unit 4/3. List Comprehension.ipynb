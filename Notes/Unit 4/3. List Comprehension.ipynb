{
 "cells": [
  {
   "cell_type": "markdown",
   "metadata": {},
   "source": [
    "### List Comprehension:\n",
    "1. List comprehension is a conscise way of defining and creating a list\n",
    "2. The return value if obtained by evaluating an expression by using either 'for' or 'if' or 'if else'\n",
    "3. Faster in processing"
   ]
  },
  {
   "cell_type": "markdown",
   "metadata": {},
   "source": [
    "Syntax:\n",
    "1. for\n",
    "\n",
    "[expression <b>for</b> iter_variable <b>in</b> iterable <b>if</b> condition ]\n",
    "\n",
    "2. If using if else, the if else should be present before for:\n",
    "\n",
    "[expression <b>if</b> condition <b>else</b> expression <b>for</b> iter_variable <b>in</b> iterable]\n",
    "\n",
    "3. if else with for and another if\n",
    "\n",
    "[expression <b>if</b> condition <b>else</b> expression <b>for</b> iter_variable <b>in</b> iterable <b>if</b> conditional]\n"
   ]
  },
  {
   "cell_type": "code",
   "execution_count": 4,
   "metadata": {},
   "outputs": [
    {
     "name": "stdout",
     "output_type": "stream",
     "text": [
      "[('Virat', 5), ('Dhoni', 5), ('Sachin', 6), ('Kapil', 5)]\n"
     ]
    }
   ],
   "source": [
    "li1 = ['Virat','Dhoni','Sachin','Kapil']\n",
    "li2 = [(i,len(i)) for i in li1]\n",
    "print(li2)"
   ]
  },
  {
   "cell_type": "code",
   "execution_count": 6,
   "metadata": {},
   "outputs": [
    {
     "name": "stdout",
     "output_type": "stream",
     "text": [
      "[(1, 1), (1, 2), (1, 3), (1, 4), (1, 5), (1, 6), (2, 1), (2, 2), (2, 3), (2, 4), (2, 5), (2, 6), (3, 1), (3, 2), (3, 3), (3, 4), (3, 5), (3, 6), (4, 1), (4, 2), (4, 3), (4, 4), (4, 5), (4, 6), (5, 1), (5, 2), (5, 3), (5, 4), (5, 5), (5, 6), (6, 1), (6, 2), (6, 3), (6, 4), (6, 5), (6, 6)]\n"
     ]
    }
   ],
   "source": [
    "#Print all possible dice combinations\n",
    "print([(i,j) for i in range(1,7) for j in range(1,7)])"
   ]
  },
  {
   "cell_type": "code",
   "execution_count": 10,
   "metadata": {},
   "outputs": [
    {
     "name": "stdout",
     "output_type": "stream",
     "text": [
      "[3, 4]\n"
     ]
    }
   ],
   "source": [
    "# Combine elements of two lists if they are equal\n",
    "li1  = [1,2,3,4]\n",
    "li2 = [3,4,5,6,7]\n",
    "print([i for i in li1 for j in li2 if i==j])\n"
   ]
  },
  {
   "cell_type": "code",
   "execution_count": 12,
   "metadata": {},
   "outputs": [
    {
     "name": "stdout",
     "output_type": "stream",
     "text": [
      "['University', 'Bangalore', 'python']\n"
     ]
    }
   ],
   "source": [
    "li = ['University','Bangalore','2022','python']\n",
    "print([i for i in li if len(i) > 5 and len(i) <= 10])"
   ]
  },
  {
   "cell_type": "code",
   "execution_count": null,
   "metadata": {},
   "outputs": [],
   "source": []
  }
 ],
 "metadata": {
  "kernelspec": {
   "display_name": "venv",
   "language": "python",
   "name": "python3"
  },
  "language_info": {
   "codemirror_mode": {
    "name": "ipython",
    "version": 3
   },
   "file_extension": ".py",
   "mimetype": "text/x-python",
   "name": "python",
   "nbconvert_exporter": "python",
   "pygments_lexer": "ipython3",
   "version": "3.12.0"
  }
 },
 "nbformat": 4,
 "nbformat_minor": 2
}
