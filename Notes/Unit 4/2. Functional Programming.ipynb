{
 "cells": [
  {
   "cell_type": "markdown",
   "metadata": {},
   "source": [
    "### map(function,sequence(s)):\n",
    "With map(), you can apply a function to each element in an iterable in turn, and map() will return an iterator that yields the results. This can allow for some very concise code because a map() statement can often take the place of an explicit loop.\n",
    "\n",
    "If the iterable contains items that aren’t suitable for the specified function, then Python raises an exception\n",
    "\n",
    "#### `map(<f>, <iterable₁>, <iterable₂>, ..., <iterableₙ>)`\n",
    "\n",
    "`map(<f>, <iterable1>, <iterable2>, ..., <iterablen>) applies <f> to the elements in each <iterablei> in parallel and returns an iterator that yields the results.`\n",
    "\n",
    "### `filter(<f>, <iterable>)`\n",
    "\n",
    "`filter(<f>, <iterable>) applies function <f> to each element of <iterable> and returns an iterator that yields all items for which <f> is truthy. Conversely, it filters out all items for which <f> is falsy.`\n",
    "\n",
    "### `reduce(<f>, <iterable>)` (import functools to use reduce(), map and filter are present by default)\n",
    "\n",
    "`reduce(<f>, <iterable>) uses <f>, which must be a function that takes exactly two arguments, to progressively combine the elements in <iterable>. To start, reduce() invokes <f> on the first two elements of <iterable>. That result is then combined with the third element, then that result with the fourth, and so on until the list is exhausted. Then reduce() returns the final result.`\n",
    "\n",
    "`reduce(<f>, <iterable>, <init>)`\n",
    "`When present, <init> specifies an initial value for the combination. In the first call to <f>, the arguments are <init> and the first element of <iterable>. That result is then combined with the second element of <iterable>, and so on`\n",
    "\n",
    "reduce() is kind of a remarkable function. The description at the beginning of this section states that reduce() combines elements to produce a single result. But that result can be a composite object like a list or a tuple. For that reason, reduce() is a very generalized higher-order function from which many other functions can be implemented.\n",
    "\n",
    "For example, you can implement map() in terms of reduce()\n",
    "\n",
    "map() and filter() always returns a new iterable/sequence"
   ]
  },
  {
   "cell_type": "markdown",
   "metadata": {},
   "source": [
    "1. ##### Map:\n",
    "Returns a new iterable\n",
    "\n",
    "Input: n elements, Output: n elements"
   ]
  },
  {
   "cell_type": "code",
   "execution_count": 20,
   "metadata": {},
   "outputs": [
    {
     "name": "stdout",
     "output_type": "stream",
     "text": [
      "<map object at 0x106299cc0>\n",
      "6\n",
      "2\n",
      "4\n",
      "5\n"
     ]
    }
   ],
   "source": [
    "# Program to find length of strings in a list\n",
    "li = ['Python','Go','Java','Swift']\n",
    "le = map(len,li)\n",
    "print(le)\n",
    "\n",
    "while True:\n",
    "    try:\n",
    "        print(next(le))\n",
    "    except:\n",
    "        break\n",
    "# for ele in le:\n",
    "    # print(ele)"
   ]
  },
  {
   "cell_type": "markdown",
   "metadata": {},
   "source": [
    "#### In the below example, using a string function.\n",
    "Format is: map(str.upper,sequence)"
   ]
  },
  {
   "cell_type": "code",
   "execution_count": 52,
   "metadata": {},
   "outputs": [
    {
     "name": "stdout",
     "output_type": "stream",
     "text": [
      "PYTHON\n",
      "GO\n",
      "JAVA\n",
      "SWIFT\n"
     ]
    }
   ],
   "source": [
    "# Program to convert strings in a list to uppercase\n",
    "li = ['Python','Go','Java','Swift']\n",
    "li2 = map(str.upper,li)\n",
    "while True:\n",
    "    try:\n",
    "        print(li2.__next__())\n",
    "    except:\n",
    "        break"
   ]
  },
  {
   "cell_type": "code",
   "execution_count": null,
   "metadata": {},
   "outputs": [
    {
     "name": "stdout",
     "output_type": "stream",
     "text": [
      "0 1 4 9 16 25 36 49 64 81 100 "
     ]
    }
   ],
   "source": [
    "# Program to find squares of numbers in a list \n",
    "li = map(lambda x:x**2,[ele for ele in range(11)])\n",
    "for ele in li:\n",
    "    print(ele,end=\" \")"
   ]
  },
  {
   "cell_type": "code",
   "execution_count": 23,
   "metadata": {},
   "outputs": [
    {
     "name": "stdout",
     "output_type": "stream",
     "text": [
      "0 1 4 9 16 25 36 49 64 81 100 "
     ]
    }
   ],
   "source": [
    "# Method 2\n",
    "def sqr(x):\n",
    "    return x**2\n",
    "li = map(sqr,[ele for ele in range(11)])\n",
    "for ele in li:\n",
    "    print(ele,end=\" \")"
   ]
  },
  {
   "cell_type": "markdown",
   "metadata": {},
   "source": [
    "The extra elements are ignored if multiple sequences are given and the lengths do not match"
   ]
  },
  {
   "cell_type": "code",
   "execution_count": 24,
   "metadata": {},
   "outputs": [
    {
     "name": "stdout",
     "output_type": "stream",
     "text": [
      "[5, 12, 21]\n"
     ]
    }
   ],
   "source": [
    "# Multiply list elements\n",
    "li=[1,2,3]\n",
    "li2=[5,6,7,8,9]\n",
    "func = map(lambda x,y: x*y , li,li2)\n",
    "print(list(func))"
   ]
  },
  {
   "cell_type": "code",
   "execution_count": 55,
   "metadata": {},
   "outputs": [
    {
     "name": "stdout",
     "output_type": "stream",
     "text": [
      "[('One', 1), ('Two', 2), ('Three', 3)]\n",
      "{}\n",
      "{'One': 1, 'Two': 2, 'Three': 3}\n",
      "{'One': 1, 'Two': 2, 'Three': 3}\n"
     ]
    }
   ],
   "source": [
    "# Convert keys and values to a dictionary\n",
    "k = ['One','Two','Three']\n",
    "v = [1,2,3]\n",
    "d = map(lambda x,y: (x,y) , k ,v)\n",
    "li = list(d)\n",
    "print(li)\n",
    "print(dict(d))\n",
    "print(dict(li))\n",
    "print(dict(map(lambda x,y: (x,y) , k ,v)))"
   ]
  },
  {
   "cell_type": "code",
   "execution_count": null,
   "metadata": {},
   "outputs": [
    {
     "name": "stdout",
     "output_type": "stream",
     "text": [
      "[1, 0, 0, 0, 1]\n"
     ]
    }
   ],
   "source": [
    "list1 = ['Alaska','Alabama','Arizona','Montana','Santa Cruz']\n",
    "li = map(lambda x: x.lower().count('s'),list1)\n",
    "print(list(li))"
   ]
  },
  {
   "cell_type": "code",
   "execution_count": 56,
   "metadata": {},
   "outputs": [
    {
     "data": {
      "text/plain": [
       "[['J', 'a', 'v', 'a'],\n",
       " ['P', 'E', 'S', 'U'],\n",
       " ['G', 'o'],\n",
       " ['P', 'e', 'r', 'l'],\n",
       " ['P', 'i', 'n', 'k']]"
      ]
     },
     "execution_count": 56,
     "metadata": {},
     "output_type": "execute_result"
    }
   ],
   "source": [
    "a = ['Java', 'PESU', 'Go', 'Perl', 'Pink']\n",
    "list(map(list,a))"
   ]
  },
  {
   "cell_type": "markdown",
   "metadata": {},
   "source": [
    "#### Duck Typing:\n",
    "Duck Typing is a type system used in dynamically-typed languages such as Python, JavaScript, Ruby, etc.\n",
    "\n",
    "In duck typing, the types are not checked. Instead, we check for the presence of function/attribute\n",
    "\n",
    "Duck typing: object has methods associated with it which does that operation"
   ]
  },
  {
   "cell_type": "code",
   "execution_count": 42,
   "metadata": {},
   "outputs": [
    {
     "name": "stdout",
     "output_type": "stream",
     "text": [
      "[30, 80.0, 150]\n",
      "(30, 80.0, 150)\n"
     ]
    },
    {
     "ename": "TypeError",
     "evalue": "descriptor '__mul__' requires a 'int' object but received a 'float'",
     "output_type": "error",
     "traceback": [
      "\u001b[0;31m---------------------------------------------------------------------------\u001b[0m",
      "\u001b[0;31mTypeError\u001b[0m                                 Traceback (most recent call last)",
      "Cell \u001b[0;32mIn[42], line 10\u001b[0m\n\u001b[1;32m      8\u001b[0m \u001b[38;5;28mprint\u001b[39m(\u001b[38;5;28mtuple\u001b[39m(c))\n\u001b[1;32m      9\u001b[0m f \u001b[38;5;241m=\u001b[39m \u001b[38;5;28mmap\u001b[39m(\u001b[38;5;28mint\u001b[39m\u001b[38;5;241m.\u001b[39m\u001b[38;5;21m__mul__\u001b[39m,a,b) \u001b[38;5;66;03m#duck typing\u001b[39;00m\n\u001b[0;32m---> 10\u001b[0m \u001b[38;5;28mprint\u001b[39m(\u001b[38;5;28;43mlist\u001b[39;49m\u001b[43m(\u001b[49m\u001b[43mf\u001b[49m\u001b[43m)\u001b[49m)\n",
      "\u001b[0;31mTypeError\u001b[0m: descriptor '__mul__' requires a 'int' object but received a 'float'"
     ]
    }
   ],
   "source": [
    "a = [10,20.0,30]\n",
    "b = [3,4,5]\n",
    "def multi(i,j):\n",
    "    return i * j\n",
    "d = map(multi,a,b)\n",
    "print(list(d))\n",
    "c = map(lambda x,y : x * y, a,b)\n",
    "print(tuple(c))\n",
    "f = map(int.__mul__,a,b) #duck typing\n",
    "print(list(f))"
   ]
  },
  {
   "cell_type": "code",
   "execution_count": 36,
   "metadata": {},
   "outputs": [
    {
     "name": "stdout",
     "output_type": "stream",
     "text": [
      "[5, NotImplemented, 21]\n"
     ]
    }
   ],
   "source": [
    "li1=[1,2,3]\n",
    "li2=[5,6.4,7]\n",
    "\n",
    "vals = map(int.__mul__,li1,li2)\n",
    "print(list(vals))"
   ]
  },
  {
   "cell_type": "markdown",
   "metadata": {},
   "source": [
    "`list.__add__ is different from int.__add__`"
   ]
  },
  {
   "cell_type": "code",
   "execution_count": 53,
   "metadata": {},
   "outputs": [
    {
     "name": "stdout",
     "output_type": "stream",
     "text": [
      "[[13, 14, 3, 14], [56, 2]]\n"
     ]
    }
   ],
   "source": [
    "m=[[13,14],[56],9]\n",
    "n=[[3,14],[2]]\n",
    "print(list(map(list.__add__,m,n)))"
   ]
  },
  {
   "cell_type": "markdown",
   "metadata": {},
   "source": [
    "### 2. filter():\n",
    "If the condition evaluates to 0 or False, the element in the sequence is omitted\n",
    "\n",
    "Input: n elements   \n",
    "Output: 0 to n elements"
   ]
  },
  {
   "cell_type": "code",
   "execution_count": 28,
   "metadata": {},
   "outputs": [
    {
     "name": "stdout",
     "output_type": "stream",
     "text": [
      "[11, 13, 15, 17, 19]\n"
     ]
    }
   ],
   "source": [
    "#Display the numbers between 10 and 20\n",
    "li = filter(lambda x: x if x>=10 and x<=20  else 0,[ele for ele in range(1,100,2)])\n",
    "print(list(li))"
   ]
  },
  {
   "cell_type": "code",
   "execution_count": 57,
   "metadata": {},
   "outputs": [
    {
     "name": "stdout",
     "output_type": "stream",
     "text": [
      "[1.0, 2.23606797749979, 2.8284271247461903, 3.0]\n"
     ]
    }
   ],
   "source": [
    "# Find square root of positive numbers only\n",
    "import math\n",
    "li1 = [1,-4,5,8,-3,9]\n",
    "li2 = map(lambda x:math.sqrt(x),filter(lambda x: x>0 , li1))\n",
    "print(list(li2))"
   ]
  },
  {
   "cell_type": "code",
   "execution_count": 31,
   "metadata": {},
   "outputs": [
    {
     "name": "stdout",
     "output_type": "stream",
     "text": [
      "['ronaldo', 'car', 'neymar']\n",
      "['ronaldo', 'messi', 'neymar', 'petkovic']\n",
      "['RONALDO', 'MESSI', 'NEYMAR', 'PETKOVIC']\n"
     ]
    }
   ],
   "source": [
    "li1 = ['sam','ronaldo','messi','car','neymar','petkovic']\n",
    "# Pickup all words containing r\n",
    "print(list(filter(lambda x: x.lower().count('r'),li1)))\n",
    "# Pickup all words whose length exceeds 4\n",
    "print(list(filter(lambda x: len(x) > 4, li1)))\n",
    "# Convert all the strings to uppercase whose len is greater than 4\n",
    "print(list(map(lambda x: x.upper(), filter(lambda x:len(x)>4,li1))))"
   ]
  },
  {
   "cell_type": "code",
   "execution_count": 32,
   "metadata": {},
   "outputs": [
    {
     "name": "stdout",
     "output_type": "stream",
     "text": [
      "[0, 6, 12, 18, 24, 30, 36, 42, 48, 54, 60]\n"
     ]
    }
   ],
   "source": [
    "# Display the even numbers multiplied by 3 till 20\n",
    "print(list(map(lambda x: x*3, [x for x in range(0,21,2)])))"
   ]
  },
  {
   "cell_type": "markdown",
   "metadata": {},
   "source": [
    "### Reduce(function, sequence(s),init(optional))\n",
    "Remember to import functools\n",
    "\n",
    "input: n elements\n",
    "\n",
    "output: 1 element (can be a collection like list or tuple)\n",
    "\n",
    "It is executed (n-1) times or n times if a starting element is provided"
   ]
  },
  {
   "cell_type": "code",
   "execution_count": 33,
   "metadata": {},
   "outputs": [
    {
     "name": "stdout",
     "output_type": "stream",
     "text": [
      "ABC\n"
     ]
    }
   ],
   "source": [
    "from functools import reduce\n",
    "li1 = [\"A\",\"B\",\"C\"]\n",
    "\n",
    "li2 = reduce(lambda x,y: x+y, li1)\n",
    "print(li2)"
   ]
  },
  {
   "cell_type": "code",
   "execution_count": 60,
   "metadata": {},
   "outputs": [
    {
     "name": "stdout",
     "output_type": "stream",
     "text": [
      "166\n"
     ]
    }
   ],
   "source": [
    "li = [11,22,33]\n",
    "print(reduce(lambda x,y: x+y,li,100))"
   ]
  },
  {
   "cell_type": "code",
   "execution_count": 35,
   "metadata": {},
   "outputs": [
    {
     "name": "stdout",
     "output_type": "stream",
     "text": [
      "MSD\n"
     ]
    }
   ],
   "source": [
    "li=['Mahendra','Singh','Dhoni']\n",
    "li2 = reduce(lambda x,y: x+y, map(lambda x: x[0],li))\n",
    "print(li2)"
   ]
  },
  {
   "cell_type": "code",
   "execution_count": 62,
   "metadata": {},
   "outputs": [
    {
     "name": "stdout",
     "output_type": "stream",
     "text": [
      "MSD\n"
     ]
    }
   ],
   "source": [
    "name = [ 'Mahendra', 'Singh', 'Dhoni' ]\n",
    "print(reduce(lambda x,y:x+y[0], name,\"\"))"
   ]
  }
 ],
 "metadata": {
  "kernelspec": {
   "display_name": "venv",
   "language": "python",
   "name": "python3"
  },
  "language_info": {
   "codemirror_mode": {
    "name": "ipython",
    "version": 3
   },
   "file_extension": ".py",
   "mimetype": "text/x-python",
   "name": "python",
   "nbconvert_exporter": "python",
   "pygments_lexer": "ipython3",
   "version": "3.12.0"
  }
 },
 "nbformat": 4,
 "nbformat_minor": 2
}
