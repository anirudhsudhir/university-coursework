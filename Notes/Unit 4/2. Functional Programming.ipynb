{
 "cells": [
  {
   "cell_type": "markdown",
   "metadata": {},
   "source": [
    "#### map(function,sequence(s)):\n",
    "function: normal function or a lambda function, Sequences: List,tuple,etc\n",
    "\n",
    "Maps the function to all the elements in the sequence\n",
    "\n",
    "\n",
    "#### filter(function,sequence(s))\n",
    "function: normal function or a lambda function, Sequences: List,tuple,etc\n",
    "\n",
    "Applies a condition or a boolean value function to all the elements in a sequence\n",
    "\n",
    "#### reduce(function, sequence(s)) (import functools to use reduce(), map and filter are present by default)\n",
    "function: normal function or a lambda function, Sequences: List,tuple,etc\n",
    "\n",
    "Reduce function applies the function in the first argument on all the elements of the sequence to produce a single cumulative value.\n",
    "\n",
    "map() and reduce() always returns a new iterable/sequence"
   ]
  },
  {
   "cell_type": "markdown",
   "metadata": {},
   "source": [
    "1. ##### Map:\n",
    "Returns a new iterable\n",
    "\n",
    "Input: n elements, Output: n elements"
   ]
  },
  {
   "cell_type": "code",
   "execution_count": 13,
   "metadata": {},
   "outputs": [
    {
     "name": "stdout",
     "output_type": "stream",
     "text": [
      "<map object at 0x1061c6500>\n",
      "6\n",
      "2\n",
      "4\n",
      "5\n"
     ]
    }
   ],
   "source": [
    "# Program to find length of strings in a list\n",
    "li = ['Python','Go','Java','Swift']\n",
    "le = map(len,li)\n",
    "print(le)\n",
    "\n",
    "for ele in le:\n",
    "    print(ele)"
   ]
  },
  {
   "cell_type": "markdown",
   "metadata": {},
   "source": [
    "#### In the below example, using a string function.\n",
    "Format is: map(str.upper,sequence)"
   ]
  },
  {
   "cell_type": "code",
   "execution_count": 6,
   "metadata": {},
   "outputs": [
    {
     "name": "stdout",
     "output_type": "stream",
     "text": [
      "PYTHON\n",
      "GO\n",
      "JAVA\n",
      "SWIFT\n"
     ]
    }
   ],
   "source": [
    "# Program to convert strings in a list to uppercase\n",
    "li = ['Python','Go','Java','Swift']\n",
    "li2 = map(str.upper,li)\n",
    "for ele in li2:\n",
    "    print(ele)"
   ]
  },
  {
   "cell_type": "code",
   "execution_count": 11,
   "metadata": {},
   "outputs": [
    {
     "name": "stdout",
     "output_type": "stream",
     "text": [
      "0 1 4 9 16 25 36 49 64 81 100 "
     ]
    }
   ],
   "source": [
    "# Program to find squares of numbers in a list \n",
    "li = map(lambda x:x**2,[ele for ele in range(11)])\n",
    "for ele in li:\n",
    "    print(ele,end=\" \")"
   ]
  },
  {
   "cell_type": "code",
   "execution_count": 12,
   "metadata": {},
   "outputs": [
    {
     "name": "stdout",
     "output_type": "stream",
     "text": [
      "0 1 4 9 16 25 36 49 64 81 100 "
     ]
    }
   ],
   "source": [
    "# Method 2\n",
    "def sqr(x):\n",
    "    return x**2\n",
    "li = map(sqr,[ele for ele in range(11)])\n",
    "for ele in li:\n",
    "    print(ele,end=\" \")"
   ]
  },
  {
   "cell_type": "markdown",
   "metadata": {},
   "source": [
    "The extra elements are ignored if multiple sequences are given and the lengths do not match"
   ]
  },
  {
   "cell_type": "code",
   "execution_count": 6,
   "metadata": {},
   "outputs": [
    {
     "name": "stdout",
     "output_type": "stream",
     "text": [
      "[5, 12, 21]\n"
     ]
    }
   ],
   "source": [
    "# Multiply list elements\n",
    "li=[1,2,3]\n",
    "li2=[5,6,7,8,9]\n",
    "func = map(lambda x,y: x*y , li,li2)\n",
    "print(list(func))"
   ]
  },
  {
   "cell_type": "markdown",
   "metadata": {},
   "source": [
    "#### Duck Typing:\n",
    "Duck Typing is a type system used in dynamically-typed languages such as Python, JavaScript, Ruby, etc.\n",
    "\n",
    "In duck typing, the types are not checked. Instead, we check for the presence of function/attribute\n"
   ]
  },
  {
   "cell_type": "code",
   "execution_count": 5,
   "metadata": {},
   "outputs": [
    {
     "name": "stdout",
     "output_type": "stream",
     "text": [
      "[5, NotImplemented, 21]\n"
     ]
    }
   ],
   "source": [
    "li1=[1,2,3]\n",
    "li2=[5,6.4,7]\n",
    "def mul(x,y):\n",
    "    return x*y\n",
    "vals = map(int.__mul__,li1,li2)\n",
    "print(list(vals))"
   ]
  },
  {
   "cell_type": "code",
   "execution_count": 11,
   "metadata": {},
   "outputs": [
    {
     "name": "stdout",
     "output_type": "stream",
     "text": [
      "[('One', 1), ('Two', 2), ('Three', 3)]\n",
      "{'One': 1, 'Two': 2, 'Three': 3}\n"
     ]
    }
   ],
   "source": [
    "# Convert keys and values to a dictionary\n",
    "k = ['One','Two','Three']\n",
    "v = [1,2,3]\n",
    "d = map(lambda x,y: (x,y) , k ,v)\n",
    "li = list(d)\n",
    "print(li)\n",
    "print(dict(li))"
   ]
  },
  {
   "cell_type": "code",
   "execution_count": 13,
   "metadata": {},
   "outputs": [
    {
     "name": "stdout",
     "output_type": "stream",
     "text": [
      "[1, 0, 0, 0, 1]\n"
     ]
    }
   ],
   "source": [
    "list1 = ['Alaska','Alabama','Arizona','Montana','Santa Cruz']\n",
    "li = map(lambda x: x.lower().count('s'),list1)\n",
    "print(list(li))"
   ]
  },
  {
   "cell_type": "markdown",
   "metadata": {},
   "source": [
    "2. ### filter():\n",
    "If the condition evaluates to 0 or False, the element in the sequence is omitted"
   ]
  },
  {
   "cell_type": "code",
   "execution_count": 6,
   "metadata": {},
   "outputs": [
    {
     "name": "stdout",
     "output_type": "stream",
     "text": [
      "[11, 13, 15, 17, 19]\n"
     ]
    }
   ],
   "source": [
    "#Display the numbers between 10 and 20\n",
    "li = filter(lambda x: x if x>=10 and x<=20  else 0,[ele for ele in range(1,100,2)])\n",
    "print(list(li))"
   ]
  },
  {
   "cell_type": "code",
   "execution_count": null,
   "metadata": {},
   "outputs": [
    {
     "name": "stdout",
     "output_type": "stream",
     "text": [
      "[11, 13, 15, 17, 19]\n"
     ]
    }
   ],
   "source": [
    "#Display the marks that are greater than \n",
    "li = filter(lambda x: x if x>=10 and x<=20  else 0,[ele for ele in range(1,100,2)])\n",
    "print(list(li))"
   ]
  },
  {
   "cell_type": "code",
   "execution_count": 1,
   "metadata": {},
   "outputs": [
    {
     "name": "stdout",
     "output_type": "stream",
     "text": [
      "[1.0, 2.23606797749979, 2.8284271247461903, 3.0]\n"
     ]
    }
   ],
   "source": [
    "# Find square root of positive numbers only\n",
    "import math\n",
    "li1 = [1,-4,5,8,-3,9]\n",
    "li2 = map(lambda x:math.sqrt(x),filter(lambda x: True if x>0 else False, li1))\n",
    "print(list(li2))"
   ]
  },
  {
   "cell_type": "code",
   "execution_count": 8,
   "metadata": {},
   "outputs": [
    {
     "name": "stdout",
     "output_type": "stream",
     "text": [
      "['ronaldo', 'car', 'neymar']\n",
      "['ronaldo', 'messi', 'neymar', 'petkovic']\n",
      "['RONALDO', 'MESSI', 'NEYMAR', 'PETKOVIC']\n"
     ]
    }
   ],
   "source": [
    "li1 = ['sam','ronaldo','messi','car','neymar','petkovic']\n",
    "# Pickup all words containing r\n",
    "print(list(filter(lambda x: x.lower().count('r'),li1)))\n",
    "# Pickup all words whose length exceeds 4\n",
    "print(list(filter(lambda x: len(x) > 4, li1)))\n",
    "# Convert all the strings to uppercase whose len is greater than 4\n",
    "print(list(map(lambda x: x.upper(), filter(lambda x:len(x)>4,li1))))"
   ]
  },
  {
   "cell_type": "code",
   "execution_count": 10,
   "metadata": {},
   "outputs": [
    {
     "name": "stdout",
     "output_type": "stream",
     "text": [
      "[0, 6, 12, 18, 24, 30, 36, 42, 48, 54, 60]\n"
     ]
    }
   ],
   "source": [
    "# Display the even numbers multiplied by 3 till 20\n",
    "print(list(map(lambda x: x*3, [x for x in range(0,21,2)])))"
   ]
  },
  {
   "cell_type": "markdown",
   "metadata": {},
   "source": [
    "### Reduce(function, sequence(s))\n",
    "Remember to import functools\n",
    "\n",
    "input: n elements\n",
    "\n",
    "output: 1 element (not always an iterator like map() and filter())\n",
    "\n",
    "It is executed (n-1) times"
   ]
  },
  {
   "cell_type": "code",
   "execution_count": 4,
   "metadata": {},
   "outputs": [
    {
     "name": "stdout",
     "output_type": "stream",
     "text": [
      "ABC\n"
     ]
    }
   ],
   "source": [
    "from functools import reduce\n",
    "li1 = [\"A\",\"B\",\"C\"]\n",
    "\n",
    "li2 = reduce(lambda x,y: x+y, li1)\n",
    "print(li2)"
   ]
  },
  {
   "cell_type": "code",
   "execution_count": 7,
   "metadata": {},
   "outputs": [
    {
     "name": "stdout",
     "output_type": "stream",
     "text": [
      "136\n"
     ]
    }
   ],
   "source": [
    "li = [11,12,13]\n",
    "print(reduce(lambda x,y: x+y,li,100))"
   ]
  },
  {
   "cell_type": "code",
   "execution_count": 10,
   "metadata": {},
   "outputs": [
    {
     "name": "stdout",
     "output_type": "stream",
     "text": [
      "MSD\n"
     ]
    }
   ],
   "source": [
    "li=['Mahendra','Singh','Dhoni']\n",
    "li2 = reduce(lambda x,y: x+y, map(lambda x: x[0],li))\n",
    "print(li2)"
   ]
  }
 ],
 "metadata": {
  "kernelspec": {
   "display_name": "venv",
   "language": "python",
   "name": "python3"
  },
  "language_info": {
   "codemirror_mode": {
    "name": "ipython",
    "version": 3
   },
   "file_extension": ".py",
   "mimetype": "text/x-python",
   "name": "python",
   "nbconvert_exporter": "python",
   "pygments_lexer": "ipython3",
   "version": "3.12.0"
  }
 },
 "nbformat": 4,
 "nbformat_minor": 2
}
