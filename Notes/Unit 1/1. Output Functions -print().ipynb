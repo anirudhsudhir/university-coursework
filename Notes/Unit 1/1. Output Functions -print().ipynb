{
 "cells": [
  {
   "cell_type": "markdown",
   "id": "96fa8531",
   "metadata": {},
   "source": [
    "# print()"
   ]
  },
  {
   "cell_type": "markdown",
   "id": "95adbb91",
   "metadata": {},
   "source": [
    "print() : prints and moves to newline  \n",
    "stdout : the standard output, usually the terminal.  \n",
    "Use the optional argument end to change the end string."
   ]
  },
  {
   "cell_type": "code",
   "execution_count": 2,
   "id": "a9f81d12",
   "metadata": {},
   "outputs": [
    {
     "name": "stdout",
     "output_type": "stream",
     "text": [
      "hello\n",
      "\n",
      "World\n",
      "Hello, World!"
     ]
    }
   ],
   "source": [
    "print('hello')\n",
    "print()\n",
    "print('World')\n",
    "print(\"Hello, World\", end=\"!\")  # => Hello, World!"
   ]
  },
  {
   "cell_type": "markdown",
   "id": "0e5fbf91",
   "metadata": {},
   "source": [
    "## Multi line strings"
   ]
  },
  {
   "cell_type": "code",
   "execution_count": 6,
   "id": "ba6597cd",
   "metadata": {},
   "outputs": [
    {
     "name": "stdout",
     "output_type": "stream",
     "text": [
      "Hello\n",
      "World\n",
      "Again\n",
      "Hello World Again\n"
     ]
    }
   ],
   "source": [
    "a = '''Hello\n",
    "World\n",
    "Again'''\n",
    "b ='Hello \\\n",
    "World \\\n",
    "Again'\n",
    "print(a)\n",
    "print(b)"
   ]
  },
  {
   "cell_type": "markdown",
   "id": "2ed2cdf9",
   "metadata": {},
   "source": [
    "Full synatx of print function\n",
    "\n",
    "print(*objects,sep=' ',end='\\n',file=sys.stdout,flush=False)"
   ]
  },
  {
   "cell_type": "markdown",
   "id": "8eae0a52",
   "metadata": {},
   "source": [
    "1. objects - objects to be printed\n",
    "2. sep - objects are spearated by whatever is mentioned in arguments. Default is space.\n",
    "3. end - To be printed at the end of line. Default - \\n\n",
    "4. file - Output is redirected to a file. Default - stdout\n",
    "5. flush - output stream is forcibly flushed. Default - False."
   ]
  },
  {
   "cell_type": "code",
   "execution_count": 41,
   "id": "52091dcf",
   "metadata": {},
   "outputs": [
    {
     "name": "stdout",
     "output_type": "stream",
     "text": [
      "Hello World\n",
      "HelloWorld\n"
     ]
    }
   ],
   "source": [
    "print('Hello World',sep='#')\n",
    "print('Hello''World',sep = '#')"
   ]
  },
  {
   "cell_type": "code",
   "execution_count": 3,
   "id": "fe4d350c",
   "metadata": {},
   "outputs": [
    {
     "name": "stdout",
     "output_type": "stream",
     "text": [
      "H#e#l#l#o# #W#o#r#l#d\n"
     ]
    }
   ],
   "source": [
    "print(*'Hello World',sep='#') #Last character is unaffected"
   ]
  },
  {
   "cell_type": "code",
   "execution_count": 14,
   "id": "d0da5ccb",
   "metadata": {},
   "outputs": [
    {
     "name": "stdout",
     "output_type": "stream",
     "text": [
      "Hello World#Hello Again\n"
     ]
    }
   ],
   "source": [
    "print('Hello World','Hello Again',sep='#')"
   ]
  },
  {
   "cell_type": "code",
   "execution_count": 17,
   "id": "d93ada9b",
   "metadata": {},
   "outputs": [
    {
     "name": "stdout",
     "output_type": "stream",
     "text": [
      "Hello World#H#e#l#l#o# #A#g#a#i#n\n"
     ]
    }
   ],
   "source": [
    "print('Hello World',*'Hello Again',sep='#')"
   ]
  },
  {
   "cell_type": "markdown",
   "id": "ce6b3d82",
   "metadata": {},
   "source": [
    "### Note that the separator is added after the space also in the example above"
   ]
  },
  {
   "cell_type": "code",
   "execution_count": 45,
   "id": "32480e0c",
   "metadata": {},
   "outputs": [
    {
     "name": "stdout",
     "output_type": "stream",
     "text": [
      "hello world 45\n",
      "hello0World\n"
     ]
    }
   ],
   "source": [
    "sep = 45\n",
    "print(\"hello\",\"world\",sep)\n",
    "print(\"hello\",\"World\", sep = \"0\")"
   ]
  },
  {
   "cell_type": "code",
   "execution_count": 13,
   "id": "6849047f",
   "metadata": {},
   "outputs": [
    {
     "name": "stdout",
     "output_type": "stream",
     "text": [
      "Hello World##"
     ]
    }
   ],
   "source": [
    "print('Hello World',end='##')"
   ]
  },
  {
   "cell_type": "code",
   "execution_count": 13,
   "id": "5789dcce",
   "metadata": {},
   "outputs": [
    {
     "name": "stdout",
     "output_type": "stream",
     "text": [
      "hello world\n",
      "\n"
     ]
    }
   ],
   "source": [
    "f=open('test.txt','w+')\n",
    "print('hello world', file=f)\n",
    "f.seek(0)\n",
    "print(f.read())"
   ]
  },
  {
   "cell_type": "code",
   "execution_count": 11,
   "id": "5d86459c",
   "metadata": {},
   "outputs": [
    {
     "name": "stdout",
     "output_type": "stream",
     "text": [
      "Hello helloagain welcome\n"
     ]
    }
   ],
   "source": [
    "print('Hello', 'hello' 'again', \"welcome\")"
   ]
  },
  {
   "cell_type": "code",
   "execution_count": 14,
   "id": "098f2bcf",
   "metadata": {},
   "outputs": [
    {
     "name": "stdout",
     "output_type": "stream",
     "text": [
      "The number is 2.8\n"
     ]
    }
   ],
   "source": [
    "print('The number is',num)\n",
    "# print('The number is '+num) # gives error"
   ]
  },
  {
   "cell_type": "code",
   "execution_count": 6,
   "id": "291444fa",
   "metadata": {},
   "outputs": [
    {
     "name": "stdout",
     "output_type": "stream",
     "text": [
      "Hello welcomeagain 45 79  world\n"
     ]
    }
   ],
   "source": [
    "inttemp2 = 45\n",
    "inttemp3 = 79\n",
    "print('Hello', 'welcome' 'again',inttemp2, inttemp3, ' world' )"
   ]
  },
  {
   "cell_type": "code",
   "execution_count": 7,
   "id": "164c845e",
   "metadata": {},
   "outputs": [
    {
     "name": "stdout",
     "output_type": "stream",
     "text": [
      "Hello&welcomeagain&45&79& world\n"
     ]
    }
   ],
   "source": [
    "inttemp2 = 45\n",
    "inttemp3 = 79\n",
    "print('Hello', 'welcome' 'again',inttemp2, inttemp3, ' world' ,sep='&')"
   ]
  },
  {
   "cell_type": "code",
   "execution_count": 17,
   "id": "cb155bed",
   "metadata": {},
   "outputs": [
    {
     "ename": "TypeError",
     "evalue": "can only concatenate str (not \"float\") to str",
     "output_type": "error",
     "traceback": [
      "\u001b[0;31m---------------------------------------------------------------------------\u001b[0m",
      "\u001b[0;31mTypeError\u001b[0m                                 Traceback (most recent call last)",
      "Cell \u001b[0;32mIn[17], line 1\u001b[0m\n\u001b[0;32m----> 1\u001b[0m \u001b[38;5;28mprint\u001b[39m(\u001b[38;5;124m'\u001b[39m\u001b[38;5;124mHello \u001b[39m\u001b[38;5;124m'\u001b[39m\u001b[38;5;241m+\u001b[39mnum)\n",
      "\u001b[0;31mTypeError\u001b[0m: can only concatenate str (not \"float\") to str"
     ]
    }
   ],
   "source": [
    "print('Hello '+num)"
   ]
  },
  {
   "cell_type": "code",
   "execution_count": 17,
   "id": "d38bc805",
   "metadata": {},
   "outputs": [
    {
     "name": "stdout",
     "output_type": "stream",
     "text": [
      "Hello1\n"
     ]
    }
   ],
   "source": [
    "num=1\n",
    "print('Hello'+str(num))"
   ]
  },
  {
   "cell_type": "code",
   "execution_count": 18,
   "id": "0145b822",
   "metadata": {},
   "outputs": [
    {
     "name": "stdout",
     "output_type": "stream",
     "text": [
      "<class 'int'>\n",
      "<class 'float'>\n",
      "<class 'complex'>\n",
      "<class 'bool'>\n"
     ]
    }
   ],
   "source": [
    "numint = 3\n",
    "numfloat = 2.8\n",
    "print(type(numint))\n",
    "print(type(numfloat))\n",
    "print(type(4+8j)) # use j, not i\n",
    "print(type(True))\n",
    "#type(true) #invalid datatype"
   ]
  },
  {
   "cell_type": "markdown",
   "id": "6782c29b",
   "metadata": {},
   "source": [
    "### Using format specifiers"
   ]
  },
  {
   "cell_type": "code",
   "execution_count": 19,
   "id": "32428920",
   "metadata": {},
   "outputs": [
    {
     "name": "stdout",
     "output_type": "stream",
     "text": [
      "a is 1, b is     2\n"
     ]
    }
   ],
   "source": [
    "a = 1\n",
    "b = 2\n",
    "print('a is %d, b is %5d'%(a,b))"
   ]
  },
  {
   "cell_type": "markdown",
   "id": "f13a15ea-c550-4801-b1d5-acd2de252a35",
   "metadata": {},
   "source": [
    "### print using .format"
   ]
  },
  {
   "cell_type": "code",
   "execution_count": 27,
   "id": "cee53056",
   "metadata": {},
   "outputs": [
    {
     "name": "stdout",
     "output_type": "stream",
     "text": [
      "Hello to the World\n"
     ]
    }
   ],
   "source": [
    "str1 = 'Hello'\n",
    "str2 = 'World'\n",
    "print('{0} to the {1}'.format(str1,str2))"
   ]
  },
  {
   "cell_type": "markdown",
   "id": "0a00ac9e",
   "metadata": {},
   "source": [
    "## f strings in python\n"
   ]
  },
  {
   "cell_type": "markdown",
   "id": "87ca3cc9",
   "metadata": {},
   "source": [
    "f strings are <b>formatted string literals</b> in python"
   ]
  },
  {
   "cell_type": "code",
   "execution_count": 25,
   "id": "df76beea",
   "metadata": {},
   "outputs": [
    {
     "name": "stdout",
     "output_type": "stream",
     "text": [
      "Hello to the World again!\n",
      "Hello to the World again!\n",
      "Hello to the World again!\n"
     ]
    }
   ],
   "source": [
    "str1 = 'Hello'\n",
    "str2 = 'World'\n",
    "print(f'{str1} to the {str2} again!')\n",
    "print(f\"{str1} to the {str2} again!\")\n",
    "print(F'{str1} to the {str2} again!')"
   ]
  },
  {
   "cell_type": "code",
   "execution_count": 10,
   "id": "62423eea",
   "metadata": {},
   "outputs": [
    {
     "name": "stdout",
     "output_type": "stream",
     "text": [
      "189,838,743.85993\n"
     ]
    }
   ],
   "source": [
    "val = 189838743.85993\n",
    "print(f'{val:,}')"
   ]
  },
  {
   "cell_type": "markdown",
   "id": "41349aed",
   "metadata": {},
   "source": [
    "#### In the above example, the comma automatically separates the number\n",
    "Doesn't work for other separators (Look below)"
   ]
  },
  {
   "cell_type": "code",
   "execution_count": 11,
   "id": "df7f9e56",
   "metadata": {},
   "outputs": [
    {
     "ename": "ValueError",
     "evalue": "Unknown format code ';' for object of type 'float'",
     "output_type": "error",
     "traceback": [
      "\u001b[0;31m---------------------------------------------------------------------------\u001b[0m",
      "\u001b[0;31mValueError\u001b[0m                                Traceback (most recent call last)",
      "Cell \u001b[0;32mIn[11], line 2\u001b[0m\n\u001b[1;32m      1\u001b[0m val \u001b[38;5;241m=\u001b[39m \u001b[38;5;241m189838743.85993\u001b[39m\n\u001b[0;32m----> 2\u001b[0m \u001b[38;5;28mprint\u001b[39m(\u001b[38;5;124mf\u001b[39m\u001b[38;5;124m'\u001b[39m\u001b[38;5;132;01m{\u001b[39;00mval\u001b[38;5;132;01m:\u001b[39;00m\u001b[38;5;124m;\u001b[39m\u001b[38;5;132;01m}\u001b[39;00m\u001b[38;5;124m'\u001b[39m)\n",
      "\u001b[0;31mValueError\u001b[0m: Unknown format code ';' for object of type 'float'"
     ]
    }
   ],
   "source": [
    "val = 189838743.85993\n",
    "print(f'{val:;}')"
   ]
  },
  {
   "cell_type": "markdown",
   "id": "e9a6ac6e",
   "metadata": {},
   "source": [
    "#### using os module"
   ]
  },
  {
   "cell_type": "code",
   "execution_count": 1,
   "id": "19f46cf9",
   "metadata": {},
   "outputs": [
    {
     "name": "stdout",
     "output_type": "stream",
     "text": [
      "Hello anirudh How are you?\n"
     ]
    }
   ],
   "source": [
    "import os\n",
    "print('Hello '+(os.getlogin())+' How are you?')"
   ]
  },
  {
   "cell_type": "markdown",
   "id": "a6bb5d29",
   "metadata": {},
   "source": [
    "### Types of errors"
   ]
  },
  {
   "cell_type": "markdown",
   "id": "55d2e7b5",
   "metadata": {},
   "source": [
    "1. NameError\n",
    "2. TypeError\n",
    "3. ValueError\n",
    "4. IndexError\n",
    "5. ZeroDivisionError<br>\n",
    "etc"
   ]
  }
 ],
 "metadata": {
  "kernelspec": {
   "display_name": "Python 3 (ipykernel)",
   "language": "python",
   "name": "python3"
  },
  "language_info": {
   "codemirror_mode": {
    "name": "ipython",
    "version": 3
   },
   "file_extension": ".py",
   "mimetype": "text/x-python",
   "name": "python",
   "nbconvert_exporter": "python",
   "pygments_lexer": "ipython3",
   "version": "3.11.5"
  }
 },
 "nbformat": 4,
 "nbformat_minor": 5
}
