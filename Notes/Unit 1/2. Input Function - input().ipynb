{
 "cells": [
  {
   "cell_type": "markdown",
   "id": "8b45c2b8",
   "metadata": {},
   "source": [
    "# input()"
   ]
  },
  {
   "cell_type": "markdown",
   "id": "f903ed93",
   "metadata": {},
   "source": [
    "input(string) - used to accept the number from the user"
   ]
  },
  {
   "cell_type": "code",
   "execution_count": 2,
   "id": "4d81fb8a",
   "metadata": {},
   "outputs": [
    {
     "name": "stdout",
     "output_type": "stream",
     "text": [
      "98\n",
      "The number is  98\n"
     ]
    }
   ],
   "source": [
    "print('The number is ', input())"
   ]
  },
  {
   "cell_type": "code",
   "execution_count": 9,
   "id": "2b328536",
   "metadata": {},
   "outputs": [
    {
     "name": "stdout",
     "output_type": "stream",
     "text": [
      "Enter a number: 80\n",
      "The number is  80\n",
      "<class 'str'>\n"
     ]
    }
   ],
   "source": [
    "number = input('Enter a number: ')\n",
    "print('The number is ',number)\n",
    "print(type(number))"
   ]
  },
  {
   "cell_type": "code",
   "execution_count": 10,
   "id": "452e4a13",
   "metadata": {},
   "outputs": [
    {
     "name": "stdout",
     "output_type": "stream",
     "text": [
      "Enter a number 56: 68\n",
      "The number is  68\n"
     ]
    }
   ],
   "source": [
    "num = 56\n",
    "number = input(f'Enter a number {num}: ')\n",
    "print('The number is ',number)"
   ]
  },
  {
   "cell_type": "markdown",
   "id": "247dd873",
   "metadata": {},
   "source": [
    "#### Remember to convert input() to int before calculations (Above example)"
   ]
  },
  {
   "cell_type": "markdown",
   "id": "7600aad4",
   "metadata": {},
   "source": [
    "### Qn to find diameter, area and circumference of a circle by taking the radius as input."
   ]
  },
  {
   "cell_type": "code",
   "execution_count": 45,
   "id": "d328ee92",
   "metadata": {},
   "outputs": [
    {
     "name": "stdout",
     "output_type": "stream",
     "text": [
      "548854\n",
      "Diameter is 1097708\n",
      "Area is 946375611916\n",
      "Circumference is 3,448,551.3885867447\n"
     ]
    }
   ],
   "source": [
    "import math\n",
    "\n",
    "radius = int(input())\n",
    "print('Diameter is',radius*2)\n",
    "print('Area is', round(math.pow(radius,2)*math.pi))\n",
    "print(f'Circumference is {radius*math.pi*2:,}')"
   ]
  }
 ],
 "metadata": {
  "kernelspec": {
   "display_name": "Python 3 (ipykernel)",
   "language": "python",
   "name": "python3"
  },
  "language_info": {
   "codemirror_mode": {
    "name": "ipython",
    "version": 3
   },
   "file_extension": ".py",
   "mimetype": "text/x-python",
   "name": "python",
   "nbconvert_exporter": "python",
   "pygments_lexer": "ipython3",
   "version": "3.11.5"
  }
 },
 "nbformat": 4,
 "nbformat_minor": 5
}
