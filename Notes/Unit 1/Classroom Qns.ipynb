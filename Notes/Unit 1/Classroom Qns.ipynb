{
 "cells": [
  {
   "cell_type": "markdown",
   "id": "d9d87a73",
   "metadata": {},
   "source": [
    "### Calculate the salary of a camera salesman.\n",
    "His basic salary is 25,000\n",
    "For every camera he sells, he gets 200 and the comission on the months sale is 12%\n",
    "The input will be the number of camera sold and the price of the camera"
   ]
  },
  {
   "cell_type": "code",
   "execution_count": 1,
   "id": "c7487bbf-ff25-44e4-b435-cea362024237",
   "metadata": {},
   "outputs": [
    {
     "name": "stdin",
     "output_type": "stream",
     "text": [
      "Enter the price of the camera:  200\n",
      "Enter the number of cameras sold:  20\n"
     ]
    },
    {
     "name": "stdout",
     "output_type": "stream",
     "text": [
      "The final salary is 29,480.0\n"
     ]
    }
   ],
   "source": [
    "cameraPrice = int(input('Enter the price of the camera: '))\n",
    "cameraUnits = int(input('Enter the number of cameras sold: '))\n",
    "\n",
    "saleValue = cameraPrice*cameraUnits\n",
    "salary  = 25000+cameraUnits*200+saleValue*0.12\n",
    "print(f'The final salary is {salary:,}')\n"
   ]
  },
  {
   "cell_type": "markdown",
   "id": "25e6773f-8696-45cc-932c-c1d5b9f2e83b",
   "metadata": {},
   "source": [
    "### A shop gives a discount of 10% if the cost of the quantity purchased is more than 1000. One unit costs 100. Print total cost for the user, Take the quantity as user input."
   ]
  },
  {
   "cell_type": "code",
   "execution_count": 13,
   "id": "747bf518",
   "metadata": {},
   "outputs": [
    {
     "name": "stdout",
     "output_type": "stream",
     "text": [
      "Enter the number of units: 457\n",
      "Discount is 4570.0\n",
      "Final amount to be paid is 41130.0\n"
     ]
    }
   ],
   "source": [
    "quantity = int(input(\"Enter the number of units: \"))\n",
    "saleValue = quantity*100\n",
    "totalCost = saleValue\n",
    "if(saleValue>1000):\n",
    "    discount = 0.1*saleValue\n",
    "    print(f'Discount is {discount}')\n",
    "    totalCost -= discount\n",
    "print(f'Final amount to be paid is {totalCost}')"
   ]
  },
  {
   "cell_type": "markdown",
   "id": "121fa8d9",
   "metadata": {},
   "source": [
    "### Program to find the largest of 3 numbers"
   ]
  },
  {
   "cell_type": "code",
   "execution_count": 2,
   "id": "37d93692",
   "metadata": {},
   "outputs": [
    {
     "name": "stdout",
     "output_type": "stream",
     "text": [
      "Enter first number: 5\n",
      "Enter second number: 7\n",
      "Enter third number: 2\n",
      "7\n"
     ]
    }
   ],
   "source": [
    "a,b,c = int(input(\"Enter first number: \")), int(input(\"Enter second number: \")), int(input(\"Enter third number: \"))\n",
    "greatest = 0\n",
    "if(a>b):\n",
    "    greatest = a\n",
    "else:\n",
    "    greatest =b\n",
    "if(greatest>c):\n",
    "    print(greatest)\n",
    "else:\n",
    "    print(c)"
   ]
  },
  {
   "cell_type": "markdown",
   "id": "6956cc5e",
   "metadata": {},
   "source": [
    "### Electricity Bill\n",
    "\n",
    "100 units - 0\n",
    "\n",
    "next 100 - 5 per unit\n",
    "\n",
    "more than 200 - 10 per unit"
   ]
  },
  {
   "cell_type": "code",
   "execution_count": 7,
   "id": "544ef246",
   "metadata": {},
   "outputs": [
    {
     "name": "stdout",
     "output_type": "stream",
     "text": [
      "Enter the number of units: 570\n",
      "Total amount is 4200\n"
     ]
    }
   ],
   "source": [
    "units = int(input(\"Enter the number of units: \"))\n",
    "if(units <=100):\n",
    "    amount=0\n",
    "elif(units>100 and units<200):\n",
    "    amount=(units-100)*5\n",
    "else:\n",
    "    amount=100*5+(units-200)*10\n",
    "print(f'Total amount is {amount}')"
   ]
  },
  {
   "cell_type": "markdown",
   "id": "4e577a9a",
   "metadata": {},
   "source": [
    "### Currency splitting program"
   ]
  },
  {
   "cell_type": "code",
   "execution_count": 12,
   "id": "3f4b28a6",
   "metadata": {},
   "outputs": [
    {
     "name": "stdout",
     "output_type": "stream",
     "text": [
      "Enter the withdrawal amount in multiples of tens: 8560\n",
      "Hundreds: 85\n",
      "Fifties: 1\n",
      "Tens: 1\n"
     ]
    }
   ],
   "source": [
    "amount = int(input('Enter the withdrawal amount in multiples of tens: '))\n",
    "notes100 = amount//100\n",
    "remAmt = amount%100\n",
    "notes50 = remAmt//50\n",
    "remAmt = remAmt%50\n",
    "notes10 = remAmt//10\n",
    "print(f'Hundreds: {notes100}')\n",
    "print(f'Fifties: {notes50}')\n",
    "print(f'Tens: {notes10}')"
   ]
  },
  {
   "cell_type": "markdown",
   "id": "863a2072",
   "metadata": {},
   "source": [
    "### Program to find sum of odd and even numbers within a given range"
   ]
  },
  {
   "cell_type": "code",
   "execution_count": 1,
   "id": "cc37040b",
   "metadata": {},
   "outputs": [
    {
     "name": "stdout",
     "output_type": "stream",
     "text": [
      "First number: 45\n",
      "Second number: 8900\n",
      "Odd Sum:  19802016\n",
      "Even Sum:  19806444\n"
     ]
    }
   ],
   "source": [
    "start = int(input('First number: '))\n",
    "end = int(input('Second number: '))\n",
    "oddSum,evenSum=0,0\n",
    "while start<=end:\n",
    "    if start%2==1:\n",
    "        oddSum+=start\n",
    "    else:\n",
    "        evenSum+=start\n",
    "    start+=1\n",
    "print('Odd Sum: ',oddSum)\n",
    "print('Even Sum: ',evenSum)"
   ]
  },
  {
   "cell_type": "markdown",
   "id": "8eec640c",
   "metadata": {},
   "source": [
    "### Write a python program to reverse a number using while loop"
   ]
  },
  {
   "cell_type": "code",
   "execution_count": 2,
   "id": "cc9027a6",
   "metadata": {},
   "outputs": [
    {
     "name": "stdout",
     "output_type": "stream",
     "text": [
      "Enter a number: 465633\n",
      "336564\n"
     ]
    }
   ],
   "source": [
    "num = input('Enter a number: ')\n",
    "no = int(num)\n",
    "revno=0\n",
    "newnum=\"\"\n",
    "#for i in range(len(num)):\n",
    "#    newnum+=num[len(num)-i-1]\n",
    "while no>0:\n",
    "    revno=(revno*10)+(no%10)\n",
    "    no//=10\n",
    "print(revno)"
   ]
  },
  {
   "cell_type": "markdown",
   "id": "3cd191aa",
   "metadata": {},
   "source": [
    "### Program to print 10 multiples of a given number"
   ]
  },
  {
   "cell_type": "code",
   "execution_count": 3,
   "id": "ac048e9d",
   "metadata": {},
   "outputs": [
    {
     "name": "stdout",
     "output_type": "stream",
     "text": [
      "Enter the required number: 56\n",
      "56 X 1 = 56\n",
      "56 X 2 = 112\n",
      "56 X 3 = 168\n",
      "56 X 4 = 224\n",
      "56 X 5 = 280\n",
      "56 X 6 = 336\n",
      "56 X 7 = 392\n",
      "56 X 8 = 448\n",
      "56 X 9 = 504\n",
      "56 X 10 = 560\n",
      "EOL\n"
     ]
    }
   ],
   "source": [
    "num = int(input('Enter the required number: '))\n",
    "for i in range(10):\n",
    "    i+=1\n",
    "    print(f'{num} X {i} = {num*i}')\n",
    "print('EOL')"
   ]
  },
  {
   "cell_type": "markdown",
   "id": "9607b3c0",
   "metadata": {},
   "source": [
    "### Program to find sum of numbers until 'Enter' is typed"
   ]
  },
  {
   "cell_type": "code",
   "execution_count": 7,
   "id": "053cb310",
   "metadata": {},
   "outputs": [
    {
     "name": "stdout",
     "output_type": "stream",
     "text": [
      "Enter a number: 45\n",
      "Enter a number: 46\n",
      "Enter a number: 89\n",
      "Enter a number: Enter\n",
      "180\n"
     ]
    }
   ],
   "source": [
    "sum = 0\n",
    "while sum>=0:\n",
    "    val=input(\"Enter a number: \")\n",
    "    if(val=='Enter'):\n",
    "        break\n",
    "    sum+=int(val)\n",
    "print(sum)"
   ]
  }
 ],
 "metadata": {
  "kernelspec": {
   "display_name": "Python 3 (ipykernel)",
   "language": "python",
   "name": "python3"
  },
  "language_info": {
   "codemirror_mode": {
    "name": "ipython",
    "version": 3
   },
   "file_extension": ".py",
   "mimetype": "text/x-python",
   "name": "python",
   "nbconvert_exporter": "python",
   "pygments_lexer": "ipython3",
   "version": "3.11.5"
  }
 },
 "nbformat": 4,
 "nbformat_minor": 5
}
