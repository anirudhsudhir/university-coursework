{
 "cells": [
  {
   "cell_type": "markdown",
   "id": "e0111aa2",
   "metadata": {},
   "source": [
    "## Types of statements"
   ]
  },
  {
   "cell_type": "markdown",
   "id": "56afc14d",
   "metadata": {},
   "source": [
    "Selection Statements - if, else, elif\n",
    "\n",
    "Iteration:\n",
    "1. for\n",
    "2. while\n",
    "3. while - else\n",
    "4. for - else: The else keyword in a for loop specifies a block of code to be executed when the loop is finished\n",
    "\n",
    "Jump Statements:\n",
    "1. continue\n",
    "2. break\n",
    "3. return(only for functions)"
   ]
  },
  {
   "cell_type": "markdown",
   "id": "7adb060c-a8c5-4d40-8fa2-9d3bc16a0852",
   "metadata": {},
   "source": [
    "## Add the update expression in while loop immediately in EXAMS to avoid mistakes"
   ]
  },
  {
   "cell_type": "markdown",
   "id": "500b3787",
   "metadata": {},
   "source": [
    "## In python, grouping of statements is controlled by identation, not brackets"
   ]
  },
  {
   "cell_type": "code",
   "execution_count": 15,
   "id": "f8aab2df",
   "metadata": {},
   "outputs": [
    {
     "name": "stdout",
     "output_type": "stream",
     "text": [
      "0 0 1 1 2 2 3 3 4 4 5 5 6 6 7 7 8 8 9 9 10 10 11 11 12 12 13 13 14 14 15 15 16 16 17 17 18 18 19 19 \n",
      "Not part of loop\n"
     ]
    }
   ],
   "source": [
    "for i in range(20): #known as leader suite, even in case of if or any other control or iterative statements\n",
    "    print(i, end = \" \") #part of leader suite\n",
    "    print(i ,end = \" \") #part of leader suite\n",
    "print(\"\\nNot part of loop\") #not part of leader suite"
   ]
  },
  {
   "cell_type": "markdown",
   "id": "299a693e",
   "metadata": {},
   "source": [
    "### Write a program to check if two strings are equal"
   ]
  },
  {
   "cell_type": "code",
   "execution_count": 17,
   "id": "aa6ddd92",
   "metadata": {},
   "outputs": [
    {
     "name": "stdout",
     "output_type": "stream",
     "text": [
      "Enter the first string: car\n",
      "Enter the second string: car\n",
      "Ids (139960254041264,139960254043888) are not equal\n",
      "Strings are equal\n"
     ]
    }
   ],
   "source": [
    "str1 = input(\"Enter the first string: \")\n",
    "str2 = input(\"Enter the second string: \")\n",
    "if(str1 is str2):\n",
    "    print(f'Ids ({id(str1)},{id(str2)}) are equal')\n",
    "else:\n",
    "    print(f'Ids ({id(str1)},{id(str2)}) are not equal')\n",
    "    \n",
    "\n",
    "if(str1 == str2 ):\n",
    "    print('Strings are equal')\n",
    "else:\n",
    "    print('Strings are not equal')"
   ]
  },
  {
   "cell_type": "markdown",
   "id": "60ed8301",
   "metadata": {},
   "source": [
    "#### == performs case sensitive comparison"
   ]
  },
  {
   "cell_type": "markdown",
   "id": "a070ed4b",
   "metadata": {},
   "source": [
    "## Imp Examples :"
   ]
  },
  {
   "cell_type": "markdown",
   "id": "ef8c8f10",
   "metadata": {},
   "source": [
    "### 1. python cannot handle assignments in if condition"
   ]
  },
  {
   "cell_type": "code",
   "execution_count": 21,
   "id": "565670b7",
   "metadata": {},
   "outputs": [
    {
     "ename": "SyntaxError",
     "evalue": "invalid syntax. Maybe you meant '==' or ':=' instead of '='? (642424356.py, line 1)",
     "output_type": "error",
     "traceback": [
      "\u001b[0;36m  Cell \u001b[0;32mIn[21], line 1\u001b[0;36m\u001b[0m\n\u001b[0;31m    if(a=7):\u001b[0m\n\u001b[0m       ^\u001b[0m\n\u001b[0;31mSyntaxError\u001b[0m\u001b[0;31m:\u001b[0m invalid syntax. Maybe you meant '==' or ':=' instead of '='?\n"
     ]
    }
   ],
   "source": [
    "if(a=7):\n",
    "    print('True')\n",
    "else:\n",
    "    print('False')"
   ]
  },
  {
   "cell_type": "markdown",
   "id": "7d29f82f",
   "metadata": {},
   "source": [
    "### 2. Any non-empty datatype is true"
   ]
  },
  {
   "cell_type": "code",
   "execution_count": 23,
   "id": "bb35e7c7",
   "metadata": {},
   "outputs": [
    {
     "name": "stdout",
     "output_type": "stream",
     "text": [
      "True\n"
     ]
    }
   ],
   "source": [
    "a=8\n",
    "if bool(a) == True:\n",
    "    print('True')"
   ]
  },
  {
   "cell_type": "markdown",
   "id": "588e60f3",
   "metadata": {},
   "source": [
    "Can be rewritten as:"
   ]
  },
  {
   "cell_type": "code",
   "execution_count": 24,
   "id": "9c442166",
   "metadata": {},
   "outputs": [
    {
     "name": "stdout",
     "output_type": "stream",
     "text": [
      "True\n"
     ]
    }
   ],
   "source": [
    "a=8\n",
    "if bool(a):\n",
    "    print('True')"
   ]
  },
  {
   "cell_type": "markdown",
   "id": "92218783",
   "metadata": {},
   "source": [
    "Which can be simplified further to:"
   ]
  },
  {
   "cell_type": "code",
   "execution_count": 25,
   "id": "5263b692",
   "metadata": {},
   "outputs": [
    {
     "name": "stdout",
     "output_type": "stream",
     "text": [
      "True\n"
     ]
    }
   ],
   "source": [
    "a=8\n",
    "if a:\n",
    "    print('True')"
   ]
  },
  {
   "cell_type": "markdown",
   "id": "4cf52b38-0ba6-4ce7-b60b-e5f1ff503f2b",
   "metadata": {},
   "source": [
    "## 3. Python doesn’t have a switch statement.  \n",
    "Python uses dictionary mapping to implement Switch Case in Python"
   ]
  },
  {
   "cell_type": "markdown",
   "id": "84373929-2c9d-466d-9b86-6907f6f68d6d",
   "metadata": {},
   "source": [
    "## 4. There can even be more than one statement on the same line, separated by semicolons:\n",
    "if expr: statement_1; statement_2; ...; statement_n\n",
    "But what does this mean? There are two possible interpretations:\n",
    "\n",
    "If expr is true, execute statement_1. Then, execute statement_2 ... statement_n unconditionally, irrespective of whether expr is true or not.\n",
    "\n",
    "If expr is true, execute all of statement_1 ... statement_n. Otherwise, don’t execute any of them.\n",
    "\n",
    "Python takes the latter interpretation. The semicolon separating the statements has higher precedence than the colon following expr. Thus, the statements are treated as a suite, and either all of them are executed, or none of them are:"
   ]
  },
  {
   "cell_type": "markdown",
   "id": "b08db6a8-8998-4165-8471-cf75a9667ecd",
   "metadata": {},
   "source": [
    "## 5. No ternary operator. Alternative:"
   ]
  },
  {
   "cell_type": "code",
   "execution_count": 11,
   "id": "16562aaa-4672-466f-9264-d94627dfdd55",
   "metadata": {},
   "outputs": [
    {
     "name": "stdout",
     "output_type": "stream",
     "text": [
      "x is greater than or equal to y\n"
     ]
    }
   ],
   "source": [
    "x=y=8\n",
    "st = \"x is less than y\" if (x < y) else \"x is greater than or equal to y\"\n",
    "print(st)\n",
    "#<statement1> if <conditional_expr> else <statement2>"
   ]
  },
  {
   "cell_type": "markdown",
   "id": "0f26bf52-58ff-4011-bdda-74f64510bdf9",
   "metadata": {},
   "source": [
    "z = 1 + x if x > y else y + 2  \n",
    "is the same as  \n",
    "z = (1 + x) if x > y else (y + 2)"
   ]
  },
  {
   "cell_type": "markdown",
   "id": "895cbcd3-6ab7-48ad-a708-7946c79f3f57",
   "metadata": {},
   "source": [
    "## 6. pass - Used in empty ifs to avoid IndentationError"
   ]
  },
  {
   "cell_type": "markdown",
   "id": "c0800634-0f4c-4831-abca-710e86121a98",
   "metadata": {},
   "source": [
    "if (x)  \n",
    "{  \n",
    "}  \n",
    "\n",
    "Performing similar operation in python:"
   ]
  },
  {
   "cell_type": "code",
   "execution_count": 13,
   "id": "3191c27b-7d0b-4ac5-a6a0-114f3aa5a614",
   "metadata": {},
   "outputs": [
    {
     "ename": "IndentationError",
     "evalue": "expected an indented block after 'if' statement on line 1 (3934105254.py, line 3)",
     "output_type": "error",
     "traceback": [
      "\u001b[0;36m  Cell \u001b[0;32mIn[13], line 3\u001b[0;36m\u001b[0m\n\u001b[0;31m    print('foo')\u001b[0m\n\u001b[0m    ^\u001b[0m\n\u001b[0;31mIndentationError\u001b[0m\u001b[0;31m:\u001b[0m expected an indented block after 'if' statement on line 1\n"
     ]
    }
   ],
   "source": [
    "if True:\n",
    "\n",
    "print('foo')  "
   ]
  },
  {
   "cell_type": "code",
   "execution_count": 14,
   "id": "23d82c0e-f1b7-4556-9f2c-85cec3905871",
   "metadata": {},
   "outputs": [
    {
     "name": "stdout",
     "output_type": "stream",
     "text": [
      "foo\n"
     ]
    }
   ],
   "source": [
    "\n",
    "if True:\n",
    "    pass\n",
    "\n",
    "print('foo')"
   ]
  },
  {
   "cell_type": "markdown",
   "id": "7bb23ade",
   "metadata": {},
   "source": [
    "## range()\n",
    "\n",
    "range() function is used to generate a sequence of integers.  \n",
    "Syntax: range(start,stop <b>(IS EXCLUSIVE)</b>,stepsize)  \n",
    "stop - manadatory argument   \n",
    "start and stepsize are optional arguments (start = 0 by default, stepsize = 1 by default)  \n",
    "Paramaters can only be int(not string, float,etc). Stepsize cannot be 0"
   ]
  },
  {
   "cell_type": "code",
   "execution_count": 30,
   "id": "f6a4bae5",
   "metadata": {},
   "outputs": [
    {
     "name": "stdout",
     "output_type": "stream",
     "text": [
      "-4\n",
      "-3\n",
      "-2\n",
      "-1\n"
     ]
    }
   ],
   "source": [
    "for i in range(-4,0):\n",
    "    print(i)"
   ]
  },
  {
   "cell_type": "code",
   "execution_count": 27,
   "id": "dc6c8aa5",
   "metadata": {},
   "outputs": [
    {
     "name": "stdout",
     "output_type": "stream",
     "text": [
      "-99\n",
      "-75\n",
      "-51\n",
      "-27\n",
      "-3\n",
      "21\n"
     ]
    }
   ],
   "source": [
    "for i in range(-99,45,24):\n",
    "    print(i)"
   ]
  },
  {
   "cell_type": "code",
   "execution_count": 1,
   "id": "a084804e",
   "metadata": {},
   "outputs": [],
   "source": [
    "for i in range(-99,45,-24):\n",
    "    print(i) # Valid but doesn't print anything as (-99-24) lessser than start"
   ]
  },
  {
   "cell_type": "code",
   "execution_count": 24,
   "id": "39bb21e9",
   "metadata": {},
   "outputs": [
    {
     "name": "stdout",
     "output_type": "stream",
     "text": [
      "-99\n",
      "-123\n"
     ]
    }
   ],
   "source": [
    "for i in range(-99,-145,-24):\n",
    "    print(i)"
   ]
  },
  {
   "cell_type": "code",
   "execution_count": 19,
   "id": "be86bea9",
   "metadata": {},
   "outputs": [
    {
     "name": "stdout",
     "output_type": "stream",
     "text": [
      "range(0, 6)\n",
      "range(0, 6)\n"
     ]
    }
   ],
   "source": [
    "a = range(6)\n",
    "print(range(6))\n",
    "print(a)"
   ]
  },
  {
   "cell_type": "markdown",
   "id": "e56562cd-2b05-4b2e-b7df-e967a075db14",
   "metadata": {},
   "source": [
    "## for\n",
    "for <b>iterator_variable</b> in <b>collection</b>:  \n",
    "    statement(s)"
   ]
  },
  {
   "cell_type": "code",
   "execution_count": 33,
   "id": "386fe422",
   "metadata": {},
   "outputs": [
    {
     "ename": "TypeError",
     "evalue": "'str' object cannot be interpreted as an integer",
     "output_type": "error",
     "traceback": [
      "\u001b[0;31m---------------------------------------------------------------------------\u001b[0m",
      "\u001b[0;31mTypeError\u001b[0m                                 Traceback (most recent call last)",
      "Cell \u001b[0;32mIn[33], line 2\u001b[0m\n\u001b[1;32m      1\u001b[0m a\u001b[38;5;241m=\u001b[39m\u001b[38;5;124m\"\u001b[39m\u001b[38;5;124mPESU\u001b[39m\u001b[38;5;124m\"\u001b[39m\n\u001b[0;32m----> 2\u001b[0m \u001b[38;5;28;01mfor\u001b[39;00m i \u001b[38;5;129;01min\u001b[39;00m \u001b[38;5;28mrange\u001b[39m(a):\n\u001b[1;32m      3\u001b[0m     \u001b[38;5;28mprint\u001b[39m(i)\n",
      "\u001b[0;31mTypeError\u001b[0m: 'str' object cannot be interpreted as an integer"
     ]
    }
   ],
   "source": [
    "a=\"PESU\"\n",
    "for i in range(a):\n",
    "    print(i)"
   ]
  },
  {
   "cell_type": "code",
   "execution_count": 32,
   "id": "1e123f8b",
   "metadata": {},
   "outputs": [
    {
     "name": "stdout",
     "output_type": "stream",
     "text": [
      "P\n",
      "E\n",
      "S\n",
      "U\n"
     ]
    }
   ],
   "source": [
    "a=\"PESU\"\n",
    "for i in a:\n",
    "    print(i)"
   ]
  }
 ],
 "metadata": {
  "kernelspec": {
   "display_name": "Python 3 (ipykernel)",
   "language": "python",
   "name": "python3"
  },
  "language_info": {
   "codemirror_mode": {
    "name": "ipython",
    "version": 3
   },
   "file_extension": ".py",
   "mimetype": "text/x-python",
   "name": "python",
   "nbconvert_exporter": "python",
   "pygments_lexer": "ipython3",
   "version": "3.11.5"
  }
 },
 "nbformat": 4,
 "nbformat_minor": 5
}
