{
 "cells": [
  {
   "cell_type": "markdown",
   "id": "799490dd",
   "metadata": {},
   "source": [
    "# Operators"
   ]
  },
  {
   "cell_type": "markdown",
   "id": "458a091d",
   "metadata": {},
   "source": [
    "Arity or rank - represents the precedence of the operator"
   ]
  },
  {
   "cell_type": "markdown",
   "id": "35d35c62",
   "metadata": {},
   "source": [
    "### There are no declarations, only assignments. (w.r.t variables)"
   ]
  },
  {
   "cell_type": "code",
   "execution_count": 1,
   "id": "7f7eb0ad",
   "metadata": {},
   "outputs": [
    {
     "data": {
      "text/plain": [
       "5"
      ]
     },
     "execution_count": 1,
     "metadata": {},
     "output_type": "execute_result"
    }
   ],
   "source": [
    "some_var = 5\n",
    "some_var"
   ]
  },
  {
   "cell_type": "code",
   "execution_count": 2,
   "id": "97a03254",
   "metadata": {},
   "outputs": [
    {
     "ename": "NameError",
     "evalue": "name 'any_var' is not defined",
     "output_type": "error",
     "traceback": [
      "\u001b[0;31m---------------------------------------------------------------------------\u001b[0m",
      "\u001b[0;31mNameError\u001b[0m                                 Traceback (most recent call last)",
      "Cell \u001b[0;32mIn[2], line 1\u001b[0m\n\u001b[0;32m----> 1\u001b[0m \u001b[43many_var\u001b[49m\n",
      "\u001b[0;31mNameError\u001b[0m: name 'any_var' is not defined"
     ]
    }
   ],
   "source": [
    "any_var"
   ]
  },
  {
   "cell_type": "markdown",
   "id": "14fd2a55",
   "metadata": {},
   "source": [
    "### i % j has the same sign as j, unlike C\n",
    "(quotient is always negative, remainder sign same as j, use logic to find %)"
   ]
  },
  {
   "cell_type": "code",
   "execution_count": 13,
   "id": "12435160",
   "metadata": {},
   "outputs": [
    {
     "name": "stdout",
     "output_type": "stream",
     "text": [
      "-3\n",
      "2\n",
      "1\n"
     ]
    }
   ],
   "source": [
    "print(-7//3)\n",
    "print(-7 % 3)#3*-3 + 2\n",
    "print(7%3)"
   ]
  },
  {
   "cell_type": "code",
   "execution_count": 10,
   "id": "c2f533fe",
   "metadata": {},
   "outputs": [
    {
     "name": "stdout",
     "output_type": "stream",
     "text": [
      "-3\n",
      "-2\n"
     ]
    }
   ],
   "source": [
    "print(7 // -3)\n",
    "print(7 % -3) # -3*-3 -2"
   ]
  },
  {
   "cell_type": "code",
   "execution_count": 14,
   "id": "14eb0d5c-e960-4858-84d5-6efb66d07b6d",
   "metadata": {},
   "outputs": [
    {
     "name": "stdout",
     "output_type": "stream",
     "text": [
      "3\n"
     ]
    }
   ],
   "source": [
    "# -13%4 = 4*-4 + 3\n",
    "print(-13%4)"
   ]
  },
  {
   "cell_type": "markdown",
   "id": "a0281c15",
   "metadata": {},
   "source": [
    "## Note the capitalization\n",
    "True, not true; Similarly, False, and not false  \n",
    "Also, True and False hold the mathematical values 1 and 0"
   ]
  },
  {
   "cell_type": "code",
   "execution_count": 8,
   "id": "9c2a4d05",
   "metadata": {},
   "outputs": [
    {
     "name": "stdout",
     "output_type": "stream",
     "text": [
      "9\n",
      "1\n",
      "True\n"
     ]
    }
   ],
   "source": [
    "print(True*9)\n",
    "print(False+1)\n",
    "print(True)"
   ]
  },
  {
   "cell_type": "markdown",
   "id": "0ef33045",
   "metadata": {},
   "source": [
    "## Important!\n",
    "\n",
    "Logical operators return values, not True or False by themselves\n",
    "\n",
    "Comparison operators return only True or False"
   ]
  },
  {
   "cell_type": "code",
   "execution_count": 6,
   "id": "db518dc5",
   "metadata": {},
   "outputs": [
    {
     "name": "stdout",
     "output_type": "stream",
     "text": [
      "hello\n",
      "1.3333333333333333\n",
      "True\n"
     ]
    }
   ],
   "source": [
    "print(0 or \"hello\")\n",
    "print(0 or (4/3))\n",
    "print(0 or 4>3)"
   ]
  },
  {
   "cell_type": "markdown",
   "id": "882cd3c2",
   "metadata": {},
   "source": [
    "##  10==10==10 ?\n",
    "\n",
    "1. python checks if <b>(10 equals 10) and (10 equals 10)</b>  \n",
    "returns True\n",
    "2. other languages: 10 == 10 gives 1(True)  \n",
    "1 != 10  \n",
    "Therefore, returns False"
   ]
  },
  {
   "cell_type": "code",
   "execution_count": 9,
   "id": "7905cf98",
   "metadata": {},
   "outputs": [
    {
     "name": "stdout",
     "output_type": "stream",
     "text": [
      "True\n"
     ]
    }
   ],
   "source": [
    "print(10 == 10 == 10)"
   ]
  },
  {
   "cell_type": "markdown",
   "id": "768e90b1",
   "metadata": {},
   "source": [
    "### This can be used in chaining operators  \n",
    "Eg: To check if a number is within a given range  \n",
    "1 < 2 and 2 < 3  \n",
    "Can be rewritten as: \n",
    "1 < 2 < 3"
   ]
  },
  {
   "cell_type": "markdown",
   "id": "f73cbd55",
   "metadata": {},
   "source": [
    "#### Multiple assignments"
   ]
  },
  {
   "cell_type": "code",
   "execution_count": 6,
   "id": "43d4e723",
   "metadata": {},
   "outputs": [
    {
     "name": "stdout",
     "output_type": "stream",
     "text": [
      "1 2 3\n",
      "15 15 15\n"
     ]
    }
   ],
   "source": [
    "a,b,c = 1,2,3\n",
    "print(a,b,c)\n",
    "x=y=z=15\n",
    "#x,y,z=15 Invalid\n",
    "print(x,y,z)"
   ]
  },
  {
   "cell_type": "markdown",
   "id": "7fc5af85",
   "metadata": {},
   "source": [
    "#### Exponentiation is not ^ \n",
    "### All operators (except exponentiation) is left-to-right"
   ]
  },
  {
   "cell_type": "code",
   "execution_count": 18,
   "id": "c20a3afd",
   "metadata": {},
   "outputs": [
    {
     "name": "stdout",
     "output_type": "stream",
     "text": [
      "24\n",
      "2417851639229258349412352\n",
      "4096\n"
     ]
    }
   ],
   "source": [
    "print(2*3*4)\n",
    "print(2**3**4) # equivalent to 2**81\n",
    "print((2**3)**4) # equivalent to 8**4"
   ]
  },
  {
   "cell_type": "markdown",
   "id": "c467d78e-1367-4b7f-81cd-2b05a15830fa",
   "metadata": {},
   "source": [
    "## The result of division is always a float unless // is used"
   ]
  },
  {
   "cell_type": "markdown",
   "id": "596bed6d",
   "metadata": {},
   "source": [
    "#### Truncated division- //"
   ]
  },
  {
   "cell_type": "code",
   "execution_count": 3,
   "id": "600857f1",
   "metadata": {},
   "outputs": [
    {
     "name": "stdout",
     "output_type": "stream",
     "text": [
      "4.0\n",
      "4.5\n",
      "4\n",
      "1.0\n"
     ]
    }
   ],
   "source": [
    "print(8/2)\n",
    "print(9/2)\n",
    "print(9//2)\n",
    "print(5.0//4)"
   ]
  },
  {
   "cell_type": "markdown",
   "id": "db8d2e4b",
   "metadata": {},
   "source": [
    "#### Logical Operators\n",
    "\n",
    "and - represents && <br>\n",
    "or - || <br>\n",
    "not  - !"
   ]
  },
  {
   "cell_type": "code",
   "execution_count": 16,
   "id": "b9fd5c92",
   "metadata": {},
   "outputs": [
    {
     "name": "stdout",
     "output_type": "stream",
     "text": [
      "False\n",
      "True\n",
      "False\n"
     ]
    }
   ],
   "source": [
    "print(True and False)\n",
    "print(True or False)\n",
    "print(not True)"
   ]
  },
  {
   "cell_type": "markdown",
   "id": "d156af9c",
   "metadata": {},
   "source": [
    "#### Short circuit evaluation\n",
    "\n",
    "<b>and</b> evaluates second argument only if first is <b>True</b><br>\n",
    "<b>or</b> evaluates second argument only if first is <b>False</b>"
   ]
  },
  {
   "cell_type": "code",
   "execution_count": 3,
   "id": "4fb24e01",
   "metadata": {},
   "outputs": [
    {
     "ename": "ZeroDivisionError",
     "evalue": "division by zero",
     "output_type": "error",
     "traceback": [
      "\u001b[0;31m---------------------------------------------------------------------------\u001b[0m",
      "\u001b[0;31mZeroDivisionError\u001b[0m                         Traceback (most recent call last)",
      "Cell \u001b[0;32mIn[3], line 1\u001b[0m\n\u001b[0;32m----> 1\u001b[0m \u001b[38;5;28mprint\u001b[39m(\u001b[38;5;241m3\u001b[39m\u001b[38;5;241m/\u001b[39m\u001b[38;5;241m0\u001b[39m)\n",
      "\u001b[0;31mZeroDivisionError\u001b[0m: division by zero"
     ]
    }
   ],
   "source": [
    "print(3/0)"
   ]
  },
  {
   "cell_type": "code",
   "execution_count": 2,
   "id": "d89195be",
   "metadata": {},
   "outputs": [
    {
     "name": "stdout",
     "output_type": "stream",
     "text": [
      "False\n"
     ]
    }
   ],
   "source": [
    "print(False and 3/0)"
   ]
  },
  {
   "cell_type": "code",
   "execution_count": 6,
   "id": "5383449c",
   "metadata": {},
   "outputs": [
    {
     "name": "stdout",
     "output_type": "stream",
     "text": [
      "hello\n",
      "1.3333333333333333\n",
      "True\n"
     ]
    }
   ],
   "source": [
    "print(0 or \"hello\")\n",
    "print(0 or (4/3))\n",
    "print(0 or 4>3)"
   ]
  },
  {
   "cell_type": "markdown",
   "id": "1cf89a1b",
   "metadata": {},
   "source": [
    "#### String comparisons "
   ]
  },
  {
   "cell_type": "code",
   "execution_count": 10,
   "id": "01c0ba53",
   "metadata": {},
   "outputs": [
    {
     "name": "stdout",
     "output_type": "stream",
     "text": [
      "False\n",
      "True\n",
      "True\n",
      "True\n",
      "False\n"
     ]
    }
   ],
   "source": [
    "print('car' > 'car')\n",
    "print('car' >= 'car')\n",
    "print('car' > str(99)) #comparing with string \"99\"\n",
    "print('car' > chr(99))\n",
    "print('car'<'Car')"
   ]
  },
  {
   "cell_type": "markdown",
   "id": "81623105",
   "metadata": {},
   "source": [
    "## Bitwise Operations"
   ]
  },
  {
   "cell_type": "markdown",
   "id": "31640edd",
   "metadata": {},
   "source": [
    "### and (&)\n",
    "2 - 0010<br>\n",
    "3 - 0011<br>\n",
    "applying <b>and</b> operation: 0010"
   ]
  },
  {
   "cell_type": "code",
   "execution_count": 10,
   "id": "f67271a6",
   "metadata": {},
   "outputs": [
    {
     "data": {
      "text/plain": [
       "2"
      ]
     },
     "execution_count": 10,
     "metadata": {},
     "output_type": "execute_result"
    }
   ],
   "source": [
    "2 & 3"
   ]
  },
  {
   "cell_type": "markdown",
   "id": "53545fc9",
   "metadata": {},
   "source": [
    "### or(|)\n",
    "2 - 0010<br>\n",
    "3 - 0011<br>\n",
    "applying <b>or</b> operation: 0011"
   ]
  },
  {
   "cell_type": "code",
   "execution_count": 12,
   "id": "315afdd1",
   "metadata": {},
   "outputs": [
    {
     "data": {
      "text/plain": [
       "3"
      ]
     },
     "execution_count": 12,
     "metadata": {},
     "output_type": "execute_result"
    }
   ],
   "source": [
    "2 | 3"
   ]
  },
  {
   "cell_type": "markdown",
   "id": "e5ab8342",
   "metadata": {},
   "source": [
    "### not (~)\n",
    " Formula is : ~N = -(N+1) <br>\n",
    "Under the hood, one's complement etc. occurs"
   ]
  },
  {
   "cell_type": "code",
   "execution_count": 5,
   "id": "e13c10d0",
   "metadata": {},
   "outputs": [
    {
     "name": "stdout",
     "output_type": "stream",
     "text": [
      "-5\n",
      "3\n",
      "3\n"
     ]
    }
   ],
   "source": [
    "print(~4)\n",
    "print(~(-4))\n",
    "print(~-4)"
   ]
  },
  {
   "cell_type": "markdown",
   "id": "3a6cd743",
   "metadata": {},
   "source": [
    "### Right shift (>>)\n",
    "\n",
    "Eg: 2 >> 1  \n",
    "2 = 0010  \n",
    "shifting bits to right <b>once</b>, becomes = _001  \n",
    "adding an extra zero to make 4 bits - 0001(which is 1)"
   ]
  },
  {
   "cell_type": "code",
   "execution_count": 6,
   "id": "61b10bca",
   "metadata": {},
   "outputs": [
    {
     "data": {
      "text/plain": [
       "1"
      ]
     },
     "execution_count": 6,
     "metadata": {},
     "output_type": "execute_result"
    }
   ],
   "source": [
    "2 >> 1"
   ]
  },
  {
   "cell_type": "code",
   "execution_count": 9,
   "id": "1dfe7ca5",
   "metadata": {},
   "outputs": [
    {
     "data": {
      "text/plain": [
       "0"
      ]
     },
     "execution_count": 9,
     "metadata": {},
     "output_type": "execute_result"
    }
   ],
   "source": [
    "2 >> 2"
   ]
  },
  {
   "cell_type": "markdown",
   "id": "14d7c354",
   "metadata": {},
   "source": [
    "### Left shift (>>)\n",
    "\n",
    "Eg: 2 << 1  \n",
    "2 = 0010  \n",
    "shifting bits to left <b>once</b>, becomes = 010_  \n",
    "adding an extra zero to make 4 bits = 0100(which is 4)"
   ]
  },
  {
   "cell_type": "code",
   "execution_count": 11,
   "id": "d3aec54e",
   "metadata": {},
   "outputs": [
    {
     "data": {
      "text/plain": [
       "4"
      ]
     },
     "execution_count": 11,
     "metadata": {},
     "output_type": "execute_result"
    }
   ],
   "source": [
    "2 << 1"
   ]
  },
  {
   "cell_type": "markdown",
   "id": "f344eb87",
   "metadata": {},
   "source": [
    "Shifting bits twice in below example\n",
    "\n",
    "Becomes 1000 (8)"
   ]
  },
  {
   "cell_type": "code",
   "execution_count": 10,
   "id": "8429bac4",
   "metadata": {},
   "outputs": [
    {
     "data": {
      "text/plain": [
       "8"
      ]
     },
     "execution_count": 10,
     "metadata": {},
     "output_type": "execute_result"
    }
   ],
   "source": [
    "2 << 2"
   ]
  },
  {
   "cell_type": "markdown",
   "id": "b122a47b",
   "metadata": {},
   "source": [
    "###  * operator shows polymorphism"
   ]
  },
  {
   "cell_type": "code",
   "execution_count": 18,
   "id": "e873e05f",
   "metadata": {},
   "outputs": [
    {
     "name": "stdout",
     "output_type": "stream",
     "text": [
      "oneoneoneoneoneone\n",
      "oneoneoneoneoneone\n",
      "o#n#e#o#n#e#o#n#e#o#n#e#o#n#e#o#n#e\n"
     ]
    }
   ],
   "source": [
    "print(\"one\"*6)\n",
    "print(\"one\"*6,sep='#') #Not adding sep as it is a single object\n",
    "print(*\"one\"*6,sep='#') #adding sep after each character as single object"
   ]
  },
  {
   "cell_type": "markdown",
   "id": "72cc14a3-6669-4455-86da-5d3fa83d978d",
   "metadata": {},
   "source": [
    "## Strings can be added too\n",
    "\"Hello \" + \"world!\"   => \"Hello world!\"\n",
    "## String literals (but not variables) can be concatenated without using '+'\n",
    "\"Hello \" \"world!\"     => \"Hello world!\"\n"
   ]
  },
  {
   "cell_type": "markdown",
   "id": "40561727",
   "metadata": {},
   "source": [
    "## Special Operators"
   ]
  },
  {
   "cell_type": "markdown",
   "id": "d38dc247",
   "metadata": {},
   "source": [
    "#### Membership operators\n",
    "in  \n",
    "not in\n",
    "#### Identity operators\n",
    "is  \n",
    "is not"
   ]
  },
  {
   "cell_type": "code",
   "execution_count": 14,
   "id": "9f0acdfd-02bc-460d-8279-c33bcbb287d2",
   "metadata": {},
   "outputs": [
    {
     "name": "stdout",
     "output_type": "stream",
     "text": [
      "True\n"
     ]
    }
   ],
   "source": [
    "li=[1,2,3]\n",
    "if 4 not in li:\n",
    "    print('True')"
   ]
  },
  {
   "cell_type": "markdown",
   "id": "80f20867",
   "metadata": {},
   "source": [
    "### is and == : is checks if two variables refer to the same object, but == checks if the objects pointed to have the same values. "
   ]
  },
  {
   "cell_type": "code",
   "execution_count": 11,
   "id": "5f945926",
   "metadata": {},
   "outputs": [
    {
     "name": "stdout",
     "output_type": "stream",
     "text": [
      "True\n",
      "True\n",
      "False\n",
      "True\n"
     ]
    }
   ],
   "source": [
    "a = [1, 2, 3, 4]  # Point a at a new list, [1, 2, 3, 4]\n",
    "b = a             # Point b at what a is pointing to\n",
    "print(b is a)            # => True, a and b refer to the same object\n",
    "print(b == a)            # => True, a's and b's objects are equal\n",
    "b = [1, 2, 3, 4]  # Point b at a new list, [1, 2, 3, 4]\n",
    "print(b is a)            # => False, a and b do not refer to the same object\n",
    "print(b == a)    "
   ]
  },
  {
   "cell_type": "markdown",
   "id": "ae2c2bc8",
   "metadata": {},
   "source": [
    "### id()"
   ]
  },
  {
   "cell_type": "markdown",
   "id": "8653c455",
   "metadata": {},
   "source": [
    "-5 to 256 have same ids  \n",
    "Higher numbers have different ids"
   ]
  },
  {
   "cell_type": "code",
   "execution_count": 3,
   "id": "dc4dfc27",
   "metadata": {},
   "outputs": [
    {
     "name": "stdout",
     "output_type": "stream",
     "text": [
      "140236826215528\n",
      "140236826215528\n",
      "140236826223880\n",
      "140236826223880\n",
      "140236761252912\n",
      "140236761260848\n",
      "True\n",
      "True\n",
      "True\n"
     ]
    }
   ],
   "source": [
    "a = -5\n",
    "b = -5\n",
    "c = 256\n",
    "d = 256\n",
    "e = 1000\n",
    "f = 1000\n",
    "print(id(a))\n",
    "print(id(b))\n",
    "print(id(c))\n",
    "print(id(d))\n",
    "print(id(e))\n",
    "print(id(f))\n",
    "print(a is b)\n",
    "print(c is d)\n",
    "print(e is not f)"
   ]
  },
  {
   "cell_type": "markdown",
   "id": "c460f89b-55e6-430f-b325-818052455ed2",
   "metadata": {},
   "source": [
    "## None is an object\n",
    "\n",
    "\n",
    "## Don't use the equality \"==\" symbol to compare objects to None\n",
    "Use \"is\" instead. This checks for equality of object identity."
   ]
  },
  {
   "cell_type": "code",
   "execution_count": 4,
   "id": "d643ad56-784e-40c6-b087-3d8732781685",
   "metadata": {},
   "outputs": [
    {
     "name": "stdout",
     "output_type": "stream",
     "text": [
      "False\n",
      "True\n"
     ]
    },
    {
     "name": "stderr",
     "output_type": "stream",
     "text": [
      "<>:1: SyntaxWarning: \"is\" with a literal. Did you mean \"==\"?\n",
      "<>:1: SyntaxWarning: \"is\" with a literal. Did you mean \"==\"?\n",
      "/tmp/ipykernel_1108/584510281.py:1: SyntaxWarning: \"is\" with a literal. Did you mean \"==\"?\n",
      "  print(\"etc\" is None)  # => False\n"
     ]
    }
   ],
   "source": [
    "print(\"etc\" is None)  # => False\n",
    "print(None is None)   # => True"
   ]
  },
  {
   "cell_type": "markdown",
   "id": "15c4d059",
   "metadata": {},
   "source": [
    "## no charAt() or substring(). Use direct index for extraction and slicing\n",
    "If only one index given - extraction of character takes place  \n",
    "Slicing - [start:stop:stepsize]  \n",
    "One colon is mandatory for slicing, second colon required only if specifying stepsize"
   ]
  },
  {
   "cell_type": "code",
   "execution_count": 28,
   "id": "86b0ae08",
   "metadata": {},
   "outputs": [
    {
     "name": "stdout",
     "output_type": "stream",
     "text": [
      "lworld\n",
      "A\n",
      "ll\n",
      "niagA olleH\n"
     ]
    }
   ],
   "source": [
    "tempstr1 = \"Hello\"\n",
    "print(tempstr1[2]+'world')\n",
    "print('Hello Again'[6]) #Retrieves the character at the index directly\n",
    "print('Hello Again'[2:4])\n",
    "print('Hello Again'[::-1])"
   ]
  },
  {
   "cell_type": "markdown",
   "id": "e2de12d1",
   "metadata": {},
   "source": [
    "#### Difference in representaion of huge number"
   ]
  },
  {
   "cell_type": "code",
   "execution_count": 45,
   "id": "7d1337bd",
   "metadata": {},
   "outputs": [
    {
     "name": "stdout",
     "output_type": "stream",
     "text": [
      "1267650600228229401496703205376\n",
      "1.2676506002282294e+30\n"
     ]
    }
   ],
   "source": [
    "print(2**100)\n",
    "print(math.pow(2,100))"
   ]
  }
 ],
 "metadata": {
  "kernelspec": {
   "display_name": "Python 3 (ipykernel)",
   "language": "python",
   "name": "python3"
  },
  "language_info": {
   "codemirror_mode": {
    "name": "ipython",
    "version": 3
   },
   "file_extension": ".py",
   "mimetype": "text/x-python",
   "name": "python",
   "nbconvert_exporter": "python",
   "pygments_lexer": "ipython3",
   "version": "3.11.5"
  }
 },
 "nbformat": 4,
 "nbformat_minor": 5
}
