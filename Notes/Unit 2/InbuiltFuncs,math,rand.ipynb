{
 "cells": [
  {
   "cell_type": "markdown",
   "id": "363cb8de-4211-422c-8a3c-cc2746e747c6",
   "metadata": {},
   "source": [
    "### 1. abs(n)  - Returns the absolute value of a number"
   ]
  },
  {
   "cell_type": "markdown",
   "id": "b2fc53d4-ce6f-415a-9057-00aaaf078045",
   "metadata": {},
   "source": [
    "### 2. all(iterable)   - Returns True if all items in an iterable object are true"
   ]
  },
  {
   "cell_type": "markdown",
   "id": "80526b4b-7bee-4450-bd3d-791a3e4011bd",
   "metadata": {},
   "source": [
    "### 3. any(iterable)    - Returns True if any item in an iterable object is true"
   ]
  },
  {
   "cell_type": "markdown",
   "id": "62289da9-8efc-4d19-b40f-3088ee6c3619",
   "metadata": {},
   "source": [
    "### 4.  bin(n) - Returns the binary version of a number"
   ]
  },
  {
   "cell_type": "markdown",
   "id": "a30bb0da-4c18-40d1-9671-c358d8d81217",
   "metadata": {},
   "source": [
    "### 5. bool(object) - \tReturns the boolean value of the specified object\n",
    "The object will always return True, unless:\n",
    "\n",
    "The object is empty, like [], (), {}  \n",
    "The object is False  \n",
    "The object is 0  \n",
    "The object is None"
   ]
  },
  {
   "cell_type": "markdown",
   "id": "af1a4f36-1fb0-408f-a3ed-0e3a806ca129",
   "metadata": {},
   "source": [
    "### 6. chr(number) - Returns a character from the specified Unicode code."
   ]
  },
  {
   "cell_type": "markdown",
   "id": "ab4e9dc0-98eb-4851-9d2f-eaa63b503398",
   "metadata": {},
   "source": [
    "### 7. complex(real, imaginary/string('x+yj'))  - Returns a complex number"
   ]
  },
  {
   "cell_type": "code",
   "execution_count": 3,
   "id": "c01b51f4-2009-48a6-9459-4f3d5f87cb8e",
   "metadata": {},
   "outputs": [
    {
     "name": "stdout",
     "output_type": "stream",
     "text": [
      "(4+5j)\n",
      "(2-5j)\n"
     ]
    }
   ],
   "source": [
    "print(complex('4+5j'))\n",
    "print(complex(2,-5))"
   ]
  },
  {
   "cell_type": "markdown",
   "id": "75502d95-218b-4fce-9c23-68be7e0eec4e",
   "metadata": {
    "jp-MarkdownHeadingCollapsed": true
   },
   "source": [
    "### 8. dict(number) - Returns a dictionary"
   ]
  },
  {
   "cell_type": "markdown",
   "id": "79e8f68c-d7aa-4ed6-a071-3c939ab3161f",
   "metadata": {},
   "source": [
    "### 9. dir(object) - Returns a list of the specified object's properties and methods"
   ]
  },
  {
   "cell_type": "code",
   "execution_count": 4,
   "id": "355f56b0-a2c2-485c-b4fc-2daabbfba144",
   "metadata": {},
   "outputs": [
    {
     "name": "stdout",
     "output_type": "stream",
     "text": [
      "<class 'list'>\n"
     ]
    }
   ],
   "source": [
    "a=dir(tuple)\n",
    "print(type(a))"
   ]
  },
  {
   "cell_type": "markdown",
   "id": "b838e02b-a0ab-40d5-9116-ebd24ebb571e",
   "metadata": {},
   "source": [
    "### 10. divmod(dividend, divisor) - Returns the quotient and the remainder when argument1 is divided by argument2"
   ]
  },
  {
   "cell_type": "code",
   "execution_count": 5,
   "id": "6bbe2752-37f6-4615-b05c-47e945e29130",
   "metadata": {},
   "outputs": [
    {
     "data": {
      "text/plain": [
       "(2, 1)"
      ]
     },
     "execution_count": 5,
     "metadata": {},
     "output_type": "execute_result"
    }
   ],
   "source": [
    "divmod(5, 2)"
   ]
  },
  {
   "cell_type": "markdown",
   "id": "e60885f8-025b-43c0-972d-c3b2d9f6b4da",
   "metadata": {},
   "source": [
    "### 11. eval() - \tEvaluates and executes an expression"
   ]
  },
  {
   "cell_type": "code",
   "execution_count": 6,
   "id": "c933e6e8-1a2a-4964-b8a9-419d2ce361e2",
   "metadata": {},
   "outputs": [
    {
     "name": "stdout",
     "output_type": "stream",
     "text": [
      "10\n",
      "10\n"
     ]
    }
   ],
   "source": [
    "a='print(10)'\n",
    "b=eval(a)\n",
    "eval(a)"
   ]
  },
  {
   "cell_type": "markdown",
   "id": "8e958c0e-0134-436b-888a-1e6a40a36e09",
   "metadata": {},
   "source": [
    "### 12. float() - Returns a floating point number"
   ]
  },
  {
   "cell_type": "code",
   "execution_count": 15,
   "id": "60347393-b816-4992-9516-3c6f243d23ae",
   "metadata": {},
   "outputs": [
    {
     "name": "stdout",
     "output_type": "stream",
     "text": [
      "8.0\n"
     ]
    }
   ],
   "source": [
    "print(float(8))"
   ]
  },
  {
   "cell_type": "markdown",
   "id": "637e39b7-a731-4ba5-ad62-d640143dd95b",
   "metadata": {},
   "source": [
    "### 13. hex() - Converts a number into a hexadecimal value"
   ]
  },
  {
   "cell_type": "markdown",
   "id": "2ca13dde-4baa-4870-99a2-9ad46381539e",
   "metadata": {},
   "source": [
    "### 14. id() - Returns the id of an object\n",
    "The id() function returns a unique id for the specified object.\n",
    "\n",
    "All objects in Python has its own unique id.\n",
    "\n",
    "The id is assigned to the object when it is created.\n",
    "\n",
    "The id is the object's memory address, and will be different for each time you run the program. (except for some object that has a constant unique id, like integers from -5 to 256)"
   ]
  },
  {
   "cell_type": "markdown",
   "id": "a96976d8-59e2-4325-b8a3-7c77c492ffb2",
   "metadata": {},
   "source": [
    "### 15. input(string) - Allowing user input"
   ]
  },
  {
   "cell_type": "markdown",
   "id": "16e0321f-0296-4942-baa7-4dce7b3b4735",
   "metadata": {},
   "source": [
    "### 16. int(value)  - Returns an integer number"
   ]
  },
  {
   "cell_type": "code",
   "execution_count": 1,
   "id": "bdd290e5-4f26-4e4c-b16a-d3dc1a53ef32",
   "metadata": {},
   "outputs": [
    {
     "name": "stdout",
     "output_type": "stream",
     "text": [
      "8789\n",
      "78\n"
     ]
    }
   ],
   "source": [
    "print(int(87_89))\n",
    "print(int(78.98))"
   ]
  },
  {
   "cell_type": "markdown",
   "id": "64b60acd-a27f-48f9-ad8a-9feeb58722ed",
   "metadata": {},
   "source": [
    "### 17. len(object) - Returns the length of an object"
   ]
  },
  {
   "cell_type": "markdown",
   "id": "0b13ad61-e1ef-4b82-8757-ca39bfbd92e8",
   "metadata": {},
   "source": [
    "### 18. max(n1, n2, n3, ...) OR max(iterable)  - Returns the largest item in an iterable"
   ]
  },
  {
   "cell_type": "code",
   "execution_count": 17,
   "id": "c20932af-c92b-4a01-9d07-7d6b261dffa0",
   "metadata": {},
   "outputs": [
    {
     "name": "stdout",
     "output_type": "stream",
     "text": [
      "b\n",
      "B\n"
     ]
    }
   ],
   "source": [
    "print(max(['a','b']))\n",
    "print(max('AB'))"
   ]
  },
  {
   "cell_type": "markdown",
   "id": "40fb7a45-6d27-4317-a884-f3c5fafae5a1",
   "metadata": {},
   "source": [
    "### 19. min(n1, n2, n3, ...) OR min(iterable)  - Returns the smallest item in an iterable"
   ]
  },
  {
   "cell_type": "markdown",
   "id": "67b9de9b-966d-4351-95c9-930a804608af",
   "metadata": {},
   "source": [
    "### 20.  oct(int)  - Converts a number into an octal"
   ]
  },
  {
   "cell_type": "markdown",
   "id": "3538bfad-6693-4a91-869e-3cbcbffdcad0",
   "metadata": {},
   "source": [
    "### 21. ord(character) - Returns an integer representing the Unicode of the specified character"
   ]
  },
  {
   "cell_type": "markdown",
   "id": "03b9ff4b-3bed-4648-a3dd-8f698ce6d274",
   "metadata": {},
   "source": [
    "### 22. pow(x, y) - Returns the value of x to the power of y"
   ]
  },
  {
   "cell_type": "markdown",
   "id": "bf69ceed-839a-4ea2-ac38-cf0edc31375d",
   "metadata": {},
   "source": [
    "### 23. range(start,stop,step) - Returns a sequence of numbers, starting from 0 and increments by 1 (by default)"
   ]
  },
  {
   "cell_type": "markdown",
   "id": "0415c82e-1383-41f8-986e-8e34f7ecfe70",
   "metadata": {},
   "source": [
    "### 24. reversed(sequence) - Returns a reversed iterator"
   ]
  },
  {
   "cell_type": "code",
   "execution_count": 8,
   "id": "0cb122b8-598d-4082-9296-c9ce0f2c0dab",
   "metadata": {},
   "outputs": [
    {
     "name": "stdout",
     "output_type": "stream",
     "text": [
      "<list_reverseiterator object at 0x7f6dab6244f0>\n",
      "4 3 2 1 \n",
      "c b a "
     ]
    }
   ],
   "source": [
    "a=reversed([1,2,3,4])\n",
    "print(a)\n",
    "for i in a:\n",
    "    print(i,end =' ')\n",
    "b=reversed('abc')\n",
    "print()\n",
    "for i in b:\n",
    "    print(i,end=' ')"
   ]
  },
  {
   "cell_type": "markdown",
   "id": "480ba89f-2e21-433c-bf75-d99281c16ece",
   "metadata": {},
   "source": [
    "### 26. round(number, digits[Default - 0]) - Rounds a numbers"
   ]
  },
  {
   "cell_type": "markdown",
   "id": "58f135c8-8e5e-43f3-bb05-ed49ca79c413",
   "metadata": {},
   "source": [
    "### 27.\tsorted(iterable) - Returns a sorted 'list'\n",
    "Note: You cannot sort a list that contains BOTH string values AND numeric values."
   ]
  },
  {
   "cell_type": "code",
   "execution_count": 11,
   "id": "c247335b-28a4-4e8e-9b66-723b6834f852",
   "metadata": {},
   "outputs": [
    {
     "name": "stdout",
     "output_type": "stream",
     "text": [
      "['a', 'b', 'c', 'd', 'e', 'f', 'g', 'h'] [1, 2, 3, 5]\n"
     ]
    }
   ],
   "source": [
    "a = (\"b\", \"g\", \"a\", \"d\", \"f\", \"c\", \"h\", \"e\")\n",
    "b={3,5,2,1,5}\n",
    "x = sorted(a)\n",
    "y=sorted(b)\n",
    "print(x,y)"
   ]
  },
  {
   "cell_type": "markdown",
   "id": "9b3b6bf0-46d9-40d2-974f-8e6224cbfd21",
   "metadata": {},
   "source": [
    "### 28.\tstr(object) - Returns a string object"
   ]
  },
  {
   "cell_type": "markdown",
   "id": "4c93481d-c47a-41c2-8e22-d820fbee1a57",
   "metadata": {},
   "source": [
    "### 29.\tsum(iterable) - Sums the items of an iterator"
   ]
  },
  {
   "cell_type": "markdown",
   "id": "735354da-0e95-43ab-8e93-e52ee9283c7e",
   "metadata": {},
   "source": [
    "### 30.\ttype(object) - Returns the type of an object"
   ]
  },
  {
   "cell_type": "markdown",
   "id": "71c7311e-1094-45db-a67c-e39a096e81d0",
   "metadata": {},
   "source": [
    "# Math Module\n",
    "Returns decimal values except ceil and floor"
   ]
  },
  {
   "cell_type": "markdown",
   "id": "17ccd08b-85de-4035-af30-0948522789a2",
   "metadata": {},
   "source": [
    "## Remember to import math module in exams"
   ]
  },
  {
   "cell_type": "markdown",
   "id": "60975625-94b3-4fa1-a52e-41bf2a890a1d",
   "metadata": {},
   "source": [
    "1. Trigonometry - math.sin(),math.cos(),math.tan()  \n",
    "2. Inverse Trigonometric - math.asin(), etc\n",
    "3. Hyperbolic - math.sinh(),math.asinh() etc\n",
    "4. Regular Functions:  \n",
    "math.ceil(),floor(),sqrt(),log(x,base[DEFAULT=e]),log10(),log2()  \n",
    "math.degrees(),radians(),factorial(),exp(),gcd(),trunc()[removes decimals without rounding]  \n",
    "math.prod(iterable) -> product of all elements in an iterable  \n",
    "fmod() -> returns only modulus unlike divmod  \n",
    "Similar to built-in functions - math.fabs(),pow(),fsum()  \n",
    "6. Constants  \n",
    "   math.pi,math.e"
   ]
  },
  {
   "cell_type": "code",
   "execution_count": 27,
   "id": "abfef90d-c29d-4fde-94f9-5a55580da127",
   "metadata": {},
   "outputs": [
    {
     "name": "stdout",
     "output_type": "stream",
     "text": [
      "-9\n",
      "10\n",
      "120 15.0 15\n",
      "2.0\n"
     ]
    }
   ],
   "source": [
    "import math\n",
    "print(math.ceil(-9.8))\n",
    "print(math.ceil(9.8))\n",
    "li=[1,2,3,4,5]\n",
    "print(math.prod(li),math.fsum(li),sum(li))\n",
    "print(math.fmod(11,3))"
   ]
  },
  {
   "cell_type": "markdown",
   "id": "bac03539-2e6d-4f49-8f44-7385fa047646",
   "metadata": {},
   "source": [
    "# Random module"
   ]
  },
  {
   "cell_type": "markdown",
   "id": "a347f2cd-199a-436b-bb6e-53ee9b05bcc5",
   "metadata": {},
   "source": [
    "### 1. randrange() -  \tReturns a random number between the given range"
   ]
  },
  {
   "cell_type": "code",
   "execution_count": 41,
   "id": "ff002048-70d2-458b-b983-ef2e0d7e53b1",
   "metadata": {},
   "outputs": [
    {
     "name": "stdout",
     "output_type": "stream",
     "text": [
      "8\n"
     ]
    }
   ],
   "source": [
    "import random\n",
    "\n",
    "print(random.randrange(3, 9)) "
   ]
  },
  {
   "cell_type": "markdown",
   "id": "8a0f7a97-433b-4c47-9194-9624d2503225",
   "metadata": {},
   "source": [
    "### 2. randint() -  \tReturns a random number between the given range\n",
    "This method is an alias for randrange(start, stop+1)."
   ]
  },
  {
   "cell_type": "code",
   "execution_count": 33,
   "id": "5dd1e732-7ff2-44ae-88c1-e42ab40516ee",
   "metadata": {},
   "outputs": [
    {
     "name": "stdout",
     "output_type": "stream",
     "text": [
      "9\n"
     ]
    }
   ],
   "source": [
    "import random\n",
    "\n",
    "print(random.randint(3, 9)) "
   ]
  },
  {
   "cell_type": "markdown",
   "id": "e0708373-2ce3-4a41-97a5-6acd0c0a6229",
   "metadata": {},
   "source": [
    "### 3. choice() - Returns a random element from the given sequence"
   ]
  },
  {
   "cell_type": "code",
   "execution_count": 50,
   "id": "03f9c83c-e9f9-4f32-b9a5-8c7743a5dd09",
   "metadata": {},
   "outputs": [
    {
     "name": "stdout",
     "output_type": "stream",
     "text": [
      "banana\n",
      "M\n"
     ]
    }
   ],
   "source": [
    "import random\n",
    "mylist = [\"apple\", \"banana\", \"cherry\"]\n",
    "print(random.choice(mylist)) \n",
    "x = \"WELCOME\"\n",
    "print(random.choice(x)) "
   ]
  },
  {
   "cell_type": "markdown",
   "id": "f822a1c5-1cf8-4630-a31e-96d5afd54333",
   "metadata": {},
   "source": [
    "### 4. choices() - Returns a list with a random selection from the given sequence"
   ]
  },
  {
   "cell_type": "code",
   "execution_count": 43,
   "id": "15fe4554-6eb1-4494-b2d1-4f2f58de2b3e",
   "metadata": {},
   "outputs": [
    {
     "name": "stdout",
     "output_type": "stream",
     "text": [
      "['banana']\n",
      "['cherry', 'apple', 'banana']\n"
     ]
    }
   ],
   "source": [
    "import random\n",
    "mylist = [\"apple\", \"banana\", \"cherry\"]\n",
    "print(random.choices(mylist)) \n",
    "print(random.choices(mylist,k=3)) "
   ]
  },
  {
   "cell_type": "markdown",
   "id": "dc1ee436-8495-4496-9a87-80edcb8cab62",
   "metadata": {},
   "source": [
    "### 5. shuffle() - Takes a sequence and returns the sequence in a random order\n",
    "Note: This method changes the original list, it does not return a new list."
   ]
  },
  {
   "cell_type": "code",
   "execution_count": 44,
   "id": "8bc39b35-efca-4884-95b7-6983d8de69fc",
   "metadata": {},
   "outputs": [
    {
     "name": "stdout",
     "output_type": "stream",
     "text": [
      "['apple', 'cherry', 'banana']\n"
     ]
    }
   ],
   "source": [
    "import random\n",
    "\n",
    "mylist = [\"apple\", \"banana\", \"cherry\"]\n",
    "random.shuffle(mylist)\n",
    "\n",
    "print(mylist) "
   ]
  },
  {
   "cell_type": "markdown",
   "id": "4cca14b3-6ff3-4faf-97c1-8fb334e787ba",
   "metadata": {},
   "source": [
    "### 6. random() - Returns a random float number between 0 and 1"
   ]
  },
  {
   "cell_type": "code",
   "execution_count": 75,
   "id": "ede7ca7f-2a2f-4e2e-80ee-7322018f16c6",
   "metadata": {},
   "outputs": [
    {
     "name": "stdout",
     "output_type": "stream",
     "text": [
      "0.8956227738841459\n"
     ]
    }
   ],
   "source": [
    "import random\n",
    "\n",
    "print(random.random()) "
   ]
  }
 ],
 "metadata": {
  "kernelspec": {
   "display_name": "Python 3 (ipykernel)",
   "language": "python",
   "name": "python3"
  },
  "language_info": {
   "codemirror_mode": {
    "name": "ipython",
    "version": 3
   },
   "file_extension": ".py",
   "mimetype": "text/x-python",
   "name": "python",
   "nbconvert_exporter": "python",
   "pygments_lexer": "ipython3",
   "version": "3.12.0"
  }
 },
 "nbformat": 4,
 "nbformat_minor": 5
}
