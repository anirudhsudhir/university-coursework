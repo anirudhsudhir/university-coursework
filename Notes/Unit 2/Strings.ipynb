{
 "cells": [
  {
   "cell_type": "markdown",
   "id": "96e5114b-8272-4629-a830-80b3d05a47dd",
   "metadata": {},
   "source": [
    "# Strings"
   ]
  },
  {
   "cell_type": "markdown",
   "id": "0933d335-aa6a-44a8-a921-9b24fff54d9b",
   "metadata": {},
   "source": [
    "1. Can be enclosed in single quotes, double quotes and triple quotes(For multiline string)\n",
    "2. Are immutable"
   ]
  },
  {
   "cell_type": "markdown",
   "id": "040eadca-75fe-4285-bd9e-f7fbd9c5f777",
   "metadata": {},
   "source": [
    "3. Strings are also iterables"
   ]
  },
  {
   "cell_type": "code",
   "execution_count": 15,
   "id": "4ee8f3cc-0379-4bca-b068-32b5ab16b233",
   "metadata": {},
   "outputs": [
    {
     "name": "stdout",
     "output_type": "stream",
     "text": [
      "H\n",
      "e\n",
      "l\n",
      "l\n",
      "o\n"
     ]
    }
   ],
   "source": [
    "str = 'Hello'\n",
    "for i in str:\n",
    "    print(i)"
   ]
  },
  {
   "cell_type": "markdown",
   "id": "4d249535-4723-4716-8bb3-021baa565410",
   "metadata": {},
   "source": [
    "5. Access strings via indexing -> 0 to len[str]-1"
   ]
  },
  {
   "cell_type": "code",
   "execution_count": 8,
   "id": "719319a8-6fac-46be-b5c4-374a8752e28f",
   "metadata": {},
   "outputs": [
    {
     "name": "stdout",
     "output_type": "stream",
     "text": [
      "o\n"
     ]
    }
   ],
   "source": [
    "str = 'Hello'\n",
    "print(str[-1])"
   ]
  },
  {
   "cell_type": "markdown",
   "id": "a1641023-f3da-43da-a8d2-d629cd2771dd",
   "metadata": {},
   "source": [
    "6. Strings can be sliced too"
   ]
  },
  {
   "cell_type": "code",
   "execution_count": 18,
   "id": "c58c45e2-dec8-4ca9-8d9f-84f794a1585b",
   "metadata": {},
   "outputs": [
    {
     "name": "stdout",
     "output_type": "stream",
     "text": [
      "olleH\n",
      "Hlo\n"
     ]
    }
   ],
   "source": [
    "str = 'Hello'\n",
    "print(str[::-1])\n",
    "str = 'Hello'\n",
    "print(str[::2])"
   ]
  },
  {
   "cell_type": "markdown",
   "id": "bd66829b-143c-4ee5-ac1d-7e4b5fb99486",
   "metadata": {},
   "source": [
    "Using Built-in functions on strings"
   ]
  },
  {
   "cell_type": "code",
   "execution_count": 61,
   "id": "a248b361-ffd1-4f11-a273-d519e4f95461",
   "metadata": {},
   "outputs": [
    {
     "name": "stdout",
     "output_type": "stream",
     "text": [
      "H\n",
      "o\n",
      "['H', 'e', 'l', 'l', 'o']\n",
      "101\n",
      "A\n"
     ]
    }
   ],
   "source": [
    "print(min(str))\n",
    "print(max(str))\n",
    "print(sorted(str))\n",
    "print(ord(str[1]))\n",
    "print(chr(65))"
   ]
  },
  {
   "cell_type": "markdown",
   "id": "207f3867-b7f5-4522-a0ae-8115b0c4d5a0",
   "metadata": {},
   "source": [
    "(+) -> Concatenate  \n",
    "(*) -> Multiply strings"
   ]
  },
  {
   "cell_type": "markdown",
   "id": "5f187f5c-b66b-4240-88bc-e2a763c45a8a",
   "metadata": {},
   "source": [
    "# String Functions:\n",
    "Note: Every string method does not change the original string instead returns a new string with the changed attributes. "
   ]
  },
  {
   "cell_type": "markdown",
   "id": "c1e903ab-82a6-42b7-9567-1cfa036ed26f",
   "metadata": {},
   "source": [
    "1. lower(): Converts all uppercase characters in a string into lowercase\n",
    "2. upper(): Converts all lowercase characters in a string into uppercase\n",
    "3. title(): Convert string to title case\n",
    "4. swapcase(): Swap the cases of all characters in a string\n",
    "5. capitalize(): Convert the first character of a string to uppercase\n",
    "6. islower()\n",
    "7. isupper()"
   ]
  },
  {
   "cell_type": "code",
   "execution_count": 1,
   "id": "9cd3dbb5-e552-42e5-ac81-435691781904",
   "metadata": {},
   "outputs": [
    {
     "name": "stdout",
     "output_type": "stream",
     "text": [
      "1 Hello world! welcome. we\n",
      "2 HELLO WORLD! WELCOME. WE\n",
      "3 hello world! welcome. we\n",
      "4 Hello World! Welcome. We\n",
      "5 HeLLo wORlD! WeLComE. We\n",
      "True\n",
      "False\n",
      "False\n"
     ]
    }
   ],
   "source": [
    "str1 = 'hEllO WorLd! wElcOMe. wE'\n",
    "print(1,str1.capitalize())\n",
    "print(2,str1.upper())\n",
    "print(3,str1.lower())\n",
    "print(4,str1.title())\n",
    "print(5,str1.swapcase())\n",
    "\n",
    "str2 = str1.lower()\n",
    "print(str2.islower())\n",
    "str2 = 'Hello'\n",
    "print(str2.isupper())\n",
    "print(str2.islower())"
   ]
  },
  {
   "cell_type": "markdown",
   "id": "84fa3eab-4b2e-4f85-adee-b88178278bdd",
   "metadata": {},
   "source": [
    "### 8. cen,ter()- Pad the string with the specified character.\n",
    "The method tries to keep the new string length equal to the given length value and fills the extra characters using the default character (space in this case)."
   ]
  },
  {
   "cell_type": "code",
   "execution_count": 9,
   "id": "4b405085-a0d4-49a1-b2bc-b6535b06d0b7",
   "metadata": {},
   "outputs": [
    {
     "name": "stdout",
     "output_type": "stream",
     "text": [
      "After padding String is:    hello!  \n",
      "After padding String is: ##hello!##\n",
      "hello!\n",
      "##hello!#\n"
     ]
    }
   ],
   "source": [
    "string = \"hello!\"\n",
    "new_string = string.center(10)\n",
    "print(\"After padding String is: \", new_string)\n",
    "new_string = string.center(10, '#')\n",
    "print(\"After padding String is:\", new_string)\n",
    "print(string.center(5))\n",
    "print(string.center(9,'#'))"
   ]
  },
  {
   "cell_type": "markdown",
   "id": "143405f8-8af9-4c5a-b477-7a43c9f1714e",
   "metadata": {},
   "source": [
    "### 9. count(substring, start= …., end= ….) - Returns the number of occurrences of a substring in the string.\n",
    "\n",
    "    start (Optional) – starting index within the string where the search starts. \n",
    "    end (Optional) – ending index within the string where the search ends.\n"
   ]
  },
  {
   "cell_type": "code",
   "execution_count": 11,
   "id": "192d8326-c214-439d-b9d4-2296b4757ae0",
   "metadata": {},
   "outputs": [
    {
     "name": "stdout",
     "output_type": "stream",
     "text": [
      "1 2\n",
      "2 0\n",
      "3 0\n",
      "4 1\n",
      "5 0\n",
      "6 0\n"
     ]
    }
   ],
   "source": [
    "string = \"geeks for geeks\"\n",
    "print(1,string.count(\"geeks\"))\n",
    "print(2,string.count(\"geeks\", 0, 2))\n",
    "print(3,string.count(\"geeks\", 0, 4))\n",
    "print(4,string.count(\"geeks\", 0, 5))\n",
    "print(5,string.count(\"skeeg\", -1))\n",
    "print(6,string.count(\"geeks\", -1)) # Anomalous behaviour of negative indices"
   ]
  },
  {
   "cell_type": "code",
   "execution_count": 12,
   "id": "79f25d46-9227-4967-b5d2-c60383bf3b4e",
   "metadata": {},
   "outputs": [
    {
     "ename": "SyntaxError",
     "evalue": "invalid syntax (3796360267.py, line 3)",
     "output_type": "error",
     "traceback": [
      "\u001b[0;36m  Cell \u001b[0;32mIn[12], line 3\u001b[0;36m\u001b[0m\n\u001b[0;31m    print(string.count(\"geeks\",, 5)) # Stop has to be accompanied by start\u001b[0m\n\u001b[0m                               ^\u001b[0m\n\u001b[0;31mSyntaxError\u001b[0m\u001b[0;31m:\u001b[0m invalid syntax\n"
     ]
    }
   ],
   "source": [
    "string = \"geeks for geeks\"\n",
    "print(string.count(\"geeks\"))\n",
    "print(string.count(\"geeks\",, 5)) # Stop has to be accompanied by start"
   ]
  },
  {
   "cell_type": "markdown",
   "id": "ce0956d2-ee0e-4b6d-852a-6dca3c80773c",
   "metadata": {},
   "source": [
    "### 10. encode() - Encodes strings with the specified encoded scheme"
   ]
  },
  {
   "cell_type": "code",
   "execution_count": 5,
   "id": "7cd624ec-7cb8-446d-9c63-61fd486e4265",
   "metadata": {},
   "outputs": [
    {
     "name": "stdout",
     "output_type": "stream",
     "text": [
      "b'\\xc2\\xb6'\n"
     ]
    }
   ],
   "source": [
    "print(\"¶\".encode('utf-8'))"
   ]
  },
  {
   "cell_type": "markdown",
   "id": "5895ed5e-a9f9-405e-99e4-17efcd27ffc5",
   "metadata": {},
   "source": [
    "### 11. endswith(substring, start= …., end= ….) - Returns “True” if a string ends with the given suffix"
   ]
  },
  {
   "cell_type": "code",
   "execution_count": 46,
   "id": "818c8731-2a01-4526-97f1-8d2f4ac669ff",
   "metadata": {},
   "outputs": [
    {
     "name": "stdout",
     "output_type": "stream",
     "text": [
      "True\n",
      "False\n",
      "False\n",
      "True\n",
      "False\n",
      "False\n"
     ]
    }
   ],
   "source": [
    "string = \"geeksforgeeks\"\n",
    "print(string.endswith(\"geeks\"))\n",
    "print(string.endswith('geeks', 10, 15))\n",
    "print(string.endswith('geeks', 8, 10))\n",
    "print(string.endswith('geeks', 8))\n",
    "\n",
    "print(string.endswith('ks', -1))\n",
    "print(string.endswith('sk', -1))"
   ]
  },
  {
   "cell_type": "markdown",
   "id": "8680b576-6acd-4bac-9191-78e28c69bd82",
   "metadata": {},
   "source": [
    "### 12. find(substring, start= …., end= ….) - Returns the lowest index of the substring if it is found\n",
    "If it is not found, then it returns -1, while index() returns an error"
   ]
  },
  {
   "cell_type": "code",
   "execution_count": 45,
   "id": "a3cd4118-9220-4507-90e7-ef59a5bcbe7b",
   "metadata": {},
   "outputs": [
    {
     "name": "stdout",
     "output_type": "stream",
     "text": [
      "6\n",
      "10\n",
      "-1\n"
     ]
    }
   ],
   "source": [
    "word = 'geeks for geeks'\n",
    "print(word.find('for'))\n",
    "print(word.find('geeks',-5))\n",
    "print(word.find('geeks',-8,-10))"
   ]
  },
  {
   "cell_type": "markdown",
   "id": "fdc089f5-0950-48a3-8636-f606cb175cf5",
   "metadata": {},
   "source": [
    "### 13. format()"
   ]
  },
  {
   "cell_type": "code",
   "execution_count": 14,
   "id": "c8fa1fd2-5703-434a-8d9f-783114c90640",
   "metadata": {},
   "outputs": [
    {
     "name": "stdout",
     "output_type": "stream",
     "text": [
      "My name is Ram and I am 22 years                     old. 22 is my favorite                     number.\n"
     ]
    }
   ],
   "source": [
    "name = \"Ram\"\n",
    "age = 22\n",
    "message = \"My name is {0} and I am {1} years \\\n",
    "                    old. {1} is my favorite \\\n",
    "                    number.\".format(name, age)\n",
    "print(message)"
   ]
  },
  {
   "cell_type": "markdown",
   "id": "106fcdd8-9cb1-481c-ae0c-722fb0cc4285",
   "metadata": {},
   "source": [
    "### 14. index(substring, start= …., end= ….) - Returns the lowest index of the substring if it is found\n",
    "If it is not found, then it returns an error."
   ]
  },
  {
   "cell_type": "markdown",
   "id": "a2659475-d659-4aaa-8362-9fa0637e2008",
   "metadata": {},
   "source": [
    "### 15. isalnum() - Checks whether all the characters in a given string is alphanumeric or not"
   ]
  },
  {
   "cell_type": "code",
   "execution_count": 15,
   "id": "3e51fddf-03a7-4c48-b1c9-d1c8de4ea7a5",
   "metadata": {},
   "outputs": [
    {
     "name": "stdout",
     "output_type": "stream",
     "text": [
      "abc 123 is alphanumeric? False\n",
      "abc_123 is alphanumeric? False\n"
     ]
    }
   ],
   "source": [
    "string = \"abc 123\"\n",
    "print(string, \"is alphanumeric?\", string.isalnum())\n",
    "string = \"abc_123\"\n",
    "print(string, \"is alphanumeric?\", string.isalnum())"
   ]
  },
  {
   "cell_type": "markdown",
   "id": "a168290e-58da-4ae9-b505-afece2879602",
   "metadata": {},
   "source": [
    "### 16. isalpha() - Returns “True” if all characters in the string are alphabets"
   ]
  },
  {
   "cell_type": "markdown",
   "id": "1d2226a6-6bc2-4f60-9d53-2a8bbb578311",
   "metadata": {},
   "source": [
    "### 17. isdecimal() - Returns “True” if all characters in the string are decimals"
   ]
  },
  {
   "cell_type": "markdown",
   "id": "a693d367-ff90-4ebb-81da-626bca4c1522",
   "metadata": {},
   "source": [
    "### 18. isdigit() - Returns “True” if all characters in the string are digits"
   ]
  },
  {
   "cell_type": "markdown",
   "id": "3e150901-a81d-4677-8904-6e77f68b00b9",
   "metadata": {},
   "source": [
    "### 19. isnumeric() - Returns “True” if all characters in the string are digits"
   ]
  },
  {
   "cell_type": "code",
   "execution_count": 15,
   "id": "68610c56-7dfe-42ea-8749-e921d811e9f0",
   "metadata": {},
   "outputs": [
    {
     "name": "stdout",
     "output_type": "stream",
     "text": [
      "expr isdigit()? True\n",
      "expr isdecimal()? False\n",
      "expr isdigit()? False\n",
      "expr isnumeric()? True\n",
      "expr isdecimal()? False\n"
     ]
    }
   ],
   "source": [
    "expr = \"4²\"\n",
    "print(\"expr isdigit()?\", expr.isdigit())\n",
    "print(\"expr isdecimal()?\", expr.isdecimal())\n",
    "\n",
    "expr = \"⅔\"\n",
    "print(\"expr isdigit()?\", expr.isdigit())\n",
    "print(\"expr isnumeric()?\", expr.isnumeric())\n",
    "print(\"expr isdecimal()?\", expr.isdecimal())"
   ]
  },
  {
   "cell_type": "markdown",
   "id": "8d5afe73-bdce-41df-8a6a-4780a4c719ae",
   "metadata": {},
   "source": [
    "### 20. isspace() - Returns “True” if all characters in the string are whitespace characters"
   ]
  },
  {
   "cell_type": "markdown",
   "id": "83b5d1c6-99bc-4480-be56-9c8769f30cfb",
   "metadata": {},
   "source": [
    "### 21. istitle() - Returns “True” if the string is a title cased string"
   ]
  },
  {
   "cell_type": "markdown",
   "id": "e9484516-7aca-40fb-a485-c7b0cb1a675e",
   "metadata": {},
   "source": [
    "### 22. string.join(iterable) - Returns a concatenated String\n",
    "Iterable should contain only string type elements"
   ]
  },
  {
   "cell_type": "code",
   "execution_count": 29,
   "id": "3383fdc8-9a14-4868-ab80-e46837197cc7",
   "metadata": {},
   "outputs": [
    {
     "name": "stdout",
     "output_type": "stream",
     "text": [
      "geeks\n",
      "g$e$e$k$s\n",
      "2-#-3-#-4-#-1\n",
      "Geek_For_Geeks\n"
     ]
    }
   ],
   "source": [
    "list1 = ['g', 'e', 'e', 'k', 's']\n",
    "print(\"\".join(list1))\n",
    " \n",
    "# Joining with string\n",
    "list1 = \"geeks\"\n",
    "print(\"$\".join(list1))\n",
    "\n",
    "#Joining with set\n",
    "list1 = {'1', '2', '3', '4', '4'} \n",
    "s = \"-#-\"\n",
    "s = s.join(list1)\n",
    "print(s)\n",
    "\n",
    "dic = {'Geek': 1, 'For': 2, 'Geeks': 3}\n",
    "# Joining special character with dictionary\n",
    "string = '_'.join(dic)\n",
    "print(string)"
   ]
  },
  {
   "cell_type": "markdown",
   "id": "2b120b92-e06e-4121-86ab-4d289cde4f9e",
   "metadata": {},
   "source": [
    "### 23. lstrip(characters) - Returns the string with leading characters removed"
   ]
  },
  {
   "cell_type": "code",
   "execution_count": 32,
   "id": "51cb3673-f63b-46a1-a8fb-805fde900ceb",
   "metadata": {},
   "outputs": [
    {
     "name": "stdout",
     "output_type": "stream",
     "text": [
      "geeksforgeeks\n",
      " geeksforgeeks\n",
      "ksforgeeks\n"
     ]
    }
   ],
   "source": [
    "string = \"   geeksforgeeks\" \n",
    "print(string.lstrip())\n",
    "string = \"++++x...y!!z* geeksforgeeks\" \n",
    "print(string.lstrip(\"+.!*xyz\"))\n",
    "string='geeksforgeeks'\n",
    "print(string.lstrip('ge'))"
   ]
  },
  {
   "cell_type": "markdown",
   "id": "a9fc2b8e-ab29-4a12-bcb4-3d4197f6e2ad",
   "metadata": {},
   "source": [
    "### 24. replace(old, new, count[Default=complete]) - Replaces all occurrences of a substring with another substring"
   ]
  },
  {
   "cell_type": "code",
   "execution_count": 13,
   "id": "18d14899-7c56-4fee-881e-43b5dc2ca900",
   "metadata": {},
   "outputs": [
    {
     "name": "stdout",
     "output_type": "stream",
     "text": [
      "Great Morning Great\n",
      "Great Morning Good\n"
     ]
    }
   ],
   "source": [
    "string = \"Good Morning Good\"\n",
    "new_string = string.replace(\"Good\", \"Great\") \n",
    "print(new_string)\n",
    "new_string = string.replace(\"Good\", \"Great\",1) \n",
    "print(new_string)"
   ]
  },
  {
   "cell_type": "markdown",
   "id": "d5f12d04-ccf0-4f87-9ca8-688e7e135f37",
   "metadata": {},
   "source": [
    "### 25. rfind(substring, start= …., end= ….) - Returns the highest index of the substring\n",
    "Returns -1 if not found"
   ]
  },
  {
   "cell_type": "markdown",
   "id": "16394ac0-7309-4690-9c36-07cf5e4d6149",
   "metadata": {},
   "source": [
    "### 26. rindex(substring, start= …., end= ….) - Returns the highest index of the substring inside the string\n",
    "Returns error if not found"
   ]
  },
  {
   "cell_type": "markdown",
   "id": "d50cc71c-26e2-4f7d-820e-8496d649cf29",
   "metadata": {},
   "source": [
    "### 27. rsplit(separator, maxsplit[Default=complete]) - Returns a list containing the string split from the right by the specified separator\n",
    "Note: Splitting a string using Python String rsplit() but without using maxsplit is same as using String split() Method"
   ]
  },
  {
   "cell_type": "code",
   "execution_count": 15,
   "id": "3e32dc41-d85d-48ff-8c09-17498b8d547e",
   "metadata": {},
   "outputs": [
    {
     "name": "stdout",
     "output_type": "stream",
     "text": [
      "['geeks@for', 'geeks']\n",
      "['geeks', 'for@geeks']\n"
     ]
    }
   ],
   "source": [
    "word = 'geeks@for@geeks'\n",
    "print(word.rsplit('@', 1))\n",
    "print(word.split('@', 1))"
   ]
  },
  {
   "cell_type": "markdown",
   "id": "2356e0dd-661e-41f1-9966-fe9ccee25c59",
   "metadata": {},
   "source": [
    "### 28. rstrip(chars) - Removes trailing characters"
   ]
  },
  {
   "cell_type": "code",
   "execution_count": 39,
   "id": "d3db138c-35f7-485b-9222-448e9b06fd39",
   "metadata": {},
   "outputs": [
    {
     "name": "stdout",
     "output_type": "stream",
     "text": [
      "geeks for g\n",
      "geeks for geeks\n"
     ]
    }
   ],
   "source": [
    "string = \"geeks for geeks\"\n",
    "print(string.rstrip('ske'))\n",
    "string = \"geeks for geeks\"\n",
    "print(string.rstrip('ek'))"
   ]
  },
  {
   "cell_type": "markdown",
   "id": "91038db2-96e7-4bf8-ba0d-a9c39a8c8082",
   "metadata": {},
   "source": [
    "### 29. split(separator, maxsplit)) - Returns a list containing the string split according to the specified separator"
   ]
  },
  {
   "cell_type": "markdown",
   "id": "da159511-2cea-4c62-8593-d0fc40083579",
   "metadata": {},
   "source": [
    "### 30. splitlines(keepends[Default=False]) - Split the lines at line boundaries"
   ]
  },
  {
   "cell_type": "code",
   "execution_count": 50,
   "id": "3b9b8f6a-a103-44e7-ab95-fe41853ecf0f",
   "metadata": {},
   "outputs": [
    {
     "name": "stdout",
     "output_type": "stream",
     "text": [
      "['Welcome everyone to', 'the world of Geeks', 'GeeksforGeeks']\n",
      "['Welcome everyone to\\r', 'the world of Geeks\\n', 'GeeksforGeeks']\n"
     ]
    }
   ],
   "source": [
    "string = \"Welcome everyone to\\rthe world of Geeks\\nGeeksforGeeks\" \n",
    "print (string.splitlines( ))  \n",
    "print (string.splitlines(True)) "
   ]
  },
  {
   "cell_type": "markdown",
   "id": "e2aea0c2-c5c1-457c-84a1-89f939a7ad7a",
   "metadata": {
    "jp-MarkdownHeadingCollapsed": true
   },
   "source": [
    "### 31. startswith(substring, start= …., end= ….) - Returns “True” if a string starts with the given prefix"
   ]
  },
  {
   "cell_type": "markdown",
   "id": "b57be7c7-6e45-4990-9fbb-4933a25ac249",
   "metadata": {},
   "source": [
    "### 32. strip(chars) - Returns the string with both leading and trailing characters"
   ]
  }
 ],
 "metadata": {
  "kernelspec": {
   "display_name": "Python 3 (ipykernel)",
   "language": "python",
   "name": "python3"
  },
  "language_info": {
   "codemirror_mode": {
    "name": "ipython",
    "version": 3
   },
   "file_extension": ".py",
   "mimetype": "text/x-python",
   "name": "python",
   "nbconvert_exporter": "python",
   "pygments_lexer": "ipython3",
   "version": "3.12.0"
  }
 },
 "nbformat": 4,
 "nbformat_minor": 5
}
