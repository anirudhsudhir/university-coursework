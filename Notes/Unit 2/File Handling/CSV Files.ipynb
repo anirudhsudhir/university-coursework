{
 "cells": [
  {
   "cell_type": "markdown",
   "id": "60fcb41d-a36f-451b-b1c9-0d054e780e73",
   "metadata": {},
   "source": [
    "For working CSV files in Python, there is an inbuilt module called csv. "
   ]
  },
  {
   "cell_type": "markdown",
   "id": "e600daad-ad7f-4dd6-82a2-365e87d1f37a",
   "metadata": {},
   "source": [
    "Reading from a CSV file is done using the reader object. The CSV file is opened as a text file with Python’s built-in open() function, which returns a file object. In this example, we first open the CSV file in READ mode, file object is converted to csv.reader object and further operation takes place. Code and detailed explanation is given below."
   ]
  },
  {
   "cell_type": "code",
   "execution_count": 1,
   "id": "7a84d03d-a603-4b68-b493-c13e596ff282",
   "metadata": {},
   "outputs": [
    {
     "name": "stdout",
     "output_type": "stream",
     "text": [
      "Total no. of rows: 5\n",
      "Field names are:Name, Class, Marks\n",
      "\n",
      "First 5 rows are:\n",
      "\n",
      "         A          1         87 \n",
      "\n",
      "         B          2         56 \n",
      "\n",
      "         C          3         41 \n",
      "\n",
      "         D          4         21 \n",
      "\n"
     ]
    }
   ],
   "source": [
    "# importing csv module\n",
    "import csv\n",
    "# csv file name\n",
    "filename = \"test.csv\"\n",
    "# initializing the titles and rows list\n",
    "fields = []\n",
    "rowslist = []\n",
    "\n",
    "#Here, we first open the CSV file in READ mode. The file object is named as csvfile. \n",
    "#The file object is converted to csv.reader object. We save the csv.reader object as csvreader.\n",
    "with open(filename, 'r') as csvfile:\n",
    "\t# creating a csv reader object\n",
    "\tcsvreader = csv.reader(csvfile)\n",
    "\t\n",
    "\t\n",
    "    #csvreader is an iterable object. Hence, .next() method returns the current row and \n",
    "    #advances the iterator to the next row. Since, the first row of our csv file contains the headers \n",
    "    #(or field names), we save them in a list called fields.\n",
    "\tfields = next(csvreader)\n",
    "\n",
    "\t#Now, we iterate through the remaining rows using a for loop. Each row is appended to a list called rows.\n",
    "    #If you try to print each row, one can find that a row is nothing but a list containing all the field values.\n",
    "\tfor i in csvreader:\n",
    "\t\trowslist.append(i)\n",
    "\n",
    "    #csvreader.line_num is nothing but a counter which returns the number of lines that have been iterated.\n",
    "    #This is not the same as the number of records returned, as records can span multiple lines.\n",
    "\tprint(\"Total no. of rows: %d\"%(csvreader.line_num))\n",
    "\n",
    "# printing the field names\n",
    "print('Field names are:' + ', '.join(field for field in fields))\n",
    "\n",
    "# printing first 5 rows\n",
    "print('\\nFirst 5 rows are:\\n')\n",
    "for row in rowslist:\n",
    "\t# parsing each column of a row\n",
    "\tfor col in row:\n",
    "\t\tprint(\"%10s\"%col,end=\" \"),\n",
    "\tprint('\\n')\n"
   ]
  },
  {
   "cell_type": "markdown",
   "id": "23a5dcc0-211f-4f59-9136-14e7ab81c5bb",
   "metadata": {},
   "source": [
    "# Writing to a CSV file\n",
    "\n",
    "To write to a CSV file, we first open the CSV file in WRITE mode. The file object is converted to csv.writer object and further operations takes place."
   ]
  },
  {
   "cell_type": "markdown",
   "id": "02305618-fc36-41a8-85d2-4603917a1421",
   "metadata": {},
   "source": [
    "2D list in writerows() as each row of list is unpacked as one record"
   ]
  },
  {
   "cell_type": "code",
   "execution_count": 14,
   "id": "a4f1917c-438b-4eb7-92fb-9ca1f36aef99",
   "metadata": {},
   "outputs": [],
   "source": [
    "# importing the csv module\n",
    "import csv\n",
    "\n",
    "# field names\n",
    "fields = ['Name', 'Branch', 'Year', 'CGPA']\n",
    "\n",
    "# data rows of csv file\n",
    "rows = [ ['Nikhil', 'COE', '2', '9.0'],\n",
    "\t\t['Sanchit', 'COE', '2', '9.1'],\n",
    "\t\t['Aditya', 'IT', '2', '9.3'],\n",
    "\t\t['Sagar', 'SE', '1', '9.5'],\n",
    "\t\t['Prateek', 'MCE', '3', '7.8'],\n",
    "\t\t['Sahil', 'EP', '2', '9.1']]\n",
    "\n",
    "# name of csv file\n",
    "filename = \"university_records.csv\"\n",
    "\n",
    "# writing to csv file\n",
    "with open(filename, 'w') as csvfile:\n",
    "\t# creating a csv writer object\n",
    "\tcsvwriter = csv.writer(csvfile)\n",
    "\t\n",
    "\t# writing the fields\n",
    "\tcsvwriter.writerow(fields)\n",
    "\t\n",
    "\t# writing the data rows\n",
    "\tcsvwriter.writerows(rows)\n"
   ]
  },
  {
   "cell_type": "markdown",
   "id": "0d0c6cb1-ffde-4144-8c72-5426a7d5abdc",
   "metadata": {},
   "source": [
    "We notice that the delimiter is not a comma but a semi-colon. Also, the rows are separated by two newlines instead of one. In such cases, we can specify the delimiter and line terminator."
   ]
  },
  {
   "cell_type": "markdown",
   "id": "8ee04e52-a43f-408a-bcb3-b8c60d4f0934",
   "metadata": {},
   "source": [
    "with open('eggs.csv', newline='') as csvfile:  \n",
    "    spamreader = csv.reader(csvfile, delimiter=' ')"
   ]
  },
  {
   "cell_type": "markdown",
   "id": "de398541-7787-4294-962b-8e6c89ce787f",
   "metadata": {},
   "source": [
    "###  Here, each element of 1D list is unpacked as a record into csv in writerows()"
   ]
  },
  {
   "cell_type": "code",
   "execution_count": 21,
   "id": "2aaeb719-7162-40bd-b28c-5006c79360c8",
   "metadata": {},
   "outputs": [
    {
     "name": "stdout",
     "output_type": "stream",
     "text": [
      "['Name', 'Branch', 'Year', 'CGPA']\n",
      "['N', 'i', 'k', 'h', 'i', 'l']\n",
      "['C', 'O', 'E']\n",
      "['2']\n",
      "['9', '.', '0']\n"
     ]
    }
   ],
   "source": [
    "# importing the csv module\n",
    "import csv\n",
    "\n",
    "# field names\n",
    "fields = ['Name', 'Branch', 'Year', 'CGPA']\n",
    "\n",
    "# data rows of csv file\n",
    "rows = ['Nikhil', 'COE', '2', '9.0']\n",
    "\n",
    "# name of csv file\n",
    "filename = \"university_records_temp.csv\"\n",
    "\n",
    "# writing to csv file\n",
    "with open(filename, 'w') as csvfile:\n",
    "\t# creating a csv writer object\n",
    "\tcsvwriter = csv.writer(csvfile)\n",
    "\t\n",
    "\t# writing the fields\n",
    "\tcsvwriter.writerow(fields)\n",
    "\t\n",
    "\t# writing the data rows\n",
    "\tcsvwriter.writerows(rows)\n",
    "with open(filename,'r') as f:\n",
    "    csf = csv.reader(f)\n",
    "    for i in csf:\n",
    "        print(i)"
   ]
  },
  {
   "cell_type": "markdown",
   "id": "7ac7622a-50c9-44ab-bee8-d0d309d0b58a",
   "metadata": {},
   "source": [
    "# Writing a dictionary to a CSV file\n",
    "\n",
    "To write a dictionary to a CSV file, the file object (csvfile) is converted to a DictWriter object. "
   ]
  },
  {
   "cell_type": "code",
   "execution_count": 15,
   "id": "7a86da4b-c509-47d2-b420-fe59b86fc24a",
   "metadata": {},
   "outputs": [],
   "source": [
    "# importing the csv module\n",
    "import csv\n",
    "\n",
    "# my data rows as dictionary objects\n",
    "mydict =[{'branch': 'COE', 'cgpa': '9.0', \n",
    "\t\t'name': 'Nikhil', 'year': '2'},\n",
    "\t\t{'branch': 'COE', 'cgpa': '9.1', \n",
    "\t\t'name': 'Sanchit', 'year': '2'},\n",
    "\t\t{'branch': 'IT', 'cgpa': '9.3', \n",
    "\t\t'name': 'Aditya', 'year': '2'},\n",
    "\t\t{'branch': 'SE', 'cgpa': '9.5', \n",
    "\t\t'name': 'Sagar', 'year': '1'},\n",
    "\t\t{'branch': 'MCE', 'cgpa': '7.8', \n",
    "\t\t'name': 'Prateek', 'year': '3'},\n",
    "\t\t{'branch': 'EP', 'cgpa': '9.1', \n",
    "\t\t'name': 'Sahil', 'year': '2'}]\n",
    "\n",
    "# field names\n",
    "fields = ['name', 'branch', 'year', 'cgpa']\n",
    "\n",
    "# name of csv file\n",
    "filename = \"university_records.csv\"\n",
    "\n",
    "# writing to csv file\n",
    "with open(filename, 'w') as csvfile:\n",
    "\t# creating a csv dict writer object\n",
    "\twriter = csv.DictWriter(csvfile, fieldnames = fields)\n",
    "\t\n",
    "\t# writing headers (field names)\n",
    "\twriter.writeheader()\n",
    "\t\n",
    "\t# writing data rows\n",
    "\twriter.writerows(mydict)\n"
   ]
  }
 ],
 "metadata": {
  "kernelspec": {
   "display_name": "Python 3 (ipykernel)",
   "language": "python",
   "name": "python3"
  },
  "language_info": {
   "codemirror_mode": {
    "name": "ipython",
    "version": 3
   },
   "file_extension": ".py",
   "mimetype": "text/x-python",
   "name": "python",
   "nbconvert_exporter": "python",
   "pygments_lexer": "ipython3",
   "version": "3.11.5"
  }
 },
 "nbformat": 4,
 "nbformat_minor": 5
}
