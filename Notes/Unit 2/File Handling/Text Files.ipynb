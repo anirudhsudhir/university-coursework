{
 "cells": [
  {
   "cell_type": "markdown",
   "id": "e1083b1b-a64d-41bd-8de2-771fcd2a1009",
   "metadata": {},
   "source": [
    "Each line of a file is terminated with a special character, called the EOL or End of Line characters like comma {,} or newline character. It ends the current line and tells the interpreter a new one has begun."
   ]
  },
  {
   "cell_type": "markdown",
   "id": "9c926960-7f6c-4666-b1ba-106bec6f289c",
   "metadata": {},
   "source": [
    "EOF is End of file exception"
   ]
  },
  {
   "cell_type": "markdown",
   "id": "2aa52174-8257-43dd-829e-6f2c0a2a4d73",
   "metadata": {},
   "source": [
    "Before performing any operation on the file like reading or writing, first, we have to open that file. For this, we should use Python’s inbuilt function open() but at the time of opening, we have to specify the mode, which represents the purpose of the opening file.\n",
    "\n",
    "f = open(filename, mode)\n",
    "\n",
    "Where the following mode is supported:\n",
    "\n",
    "    r: open an existing file for a read operation.\n",
    "    w: open an existing file for a write operation. If the file already contains some data then it will be overwritten but if the file is not present then it creates the file as well.\n",
    "    a:  open an existing file for append operation. It won’t override existing data. (Creates file if it isn't present)\n",
    "    x: Only creates the file\n",
    "    r+:  To read and write data into the file. The previous data in the file will be overridden.\n",
    "    w+: To write and read data. It will override existing data.\n",
    "    a+: To append and read data from the file. It won’t override existing data.\n"
   ]
  },
  {
   "cell_type": "markdown",
   "id": "911f0bff-f56a-4259-85a6-528119233d34",
   "metadata": {},
   "source": [
    "Always close the file after all operations"
   ]
  },
  {
   "cell_type": "markdown",
   "id": "f47d3c1b-4fc0-4b4e-95bf-9194a4934540",
   "metadata": {},
   "source": [
    "Default open mode is 'r' - read  \n",
    "If file exists, use read mode to open file  \n",
    "If file does not exist - read mode gives an Error while opening a file  \n",
    "Writing a file which is being read - returns Error  \n",
    "Reading a file in write mode or append mode- returns Error  \n",
    "filename.closed -> Returns True if file is closed(not filename.closed())"
   ]
  },
  {
   "cell_type": "markdown",
   "id": "521dbc4c-7599-44ec-8b0f-e80c4a4e35b6",
   "metadata": {},
   "source": [
    "## Working in Read mode\n",
    "\n",
    "There is more than one way to read a file in Python. Let us see how we can read the content of a file in read mode."
   ]
  },
  {
   "cell_type": "markdown",
   "id": "c3110c12-f109-4cb8-80ac-b9a2671897f7",
   "metadata": {},
   "source": [
    "Example 1: The open command will open the file in the read mode and the for loop will print each line present in the file."
   ]
  },
  {
   "cell_type": "code",
   "execution_count": 2,
   "id": "06551ac6-c325-48bf-baa7-1c1f042ad71e",
   "metadata": {},
   "outputs": [
    {
     "name": "stdout",
     "output_type": "stream",
     "text": [
      "<class '_io.TextIOWrapper'>\n",
      "Hello world\n",
      "\n",
      "GeeksforGeeks\n",
      "\n",
      "123 456\n",
      "\n"
     ]
    }
   ],
   "source": [
    "# a file named \"geek\", will be opened with the reading mode.\n",
    "file = open('geek.txt', 'r')\n",
    "print(type(file))\n",
    "# This will print every line one by one in the file\n",
    "for each in file:\n",
    "\tprint (each)"
   ]
  },
  {
   "cell_type": "markdown",
   "id": "35297955-65c9-4e82-87e9-f0f7721281b6",
   "metadata": {},
   "source": [
    "Example 2: In this example, we will extract a string that contains all characters in the file then we can use file.read().   \n",
    "Also note how mode='r' is being used here"
   ]
  },
  {
   "cell_type": "code",
   "execution_count": 5,
   "id": "0763da19-805c-4ab0-b86a-d9a24ff825e7",
   "metadata": {},
   "outputs": [
    {
     "name": "stdout",
     "output_type": "stream",
     "text": [
      "<class 'str'>\n",
      "Hello world\n",
      "GeeksforGeeks\n",
      "123 456\n",
      "\n"
     ]
    }
   ],
   "source": [
    "# Python code to illustrate read() mode\n",
    "file = open(\"geek.txt\", mode=\"r\") \n",
    "print(type(file.read()))\n",
    "file.seek(0)\n",
    "print(file.read())\n"
   ]
  },
  {
   "cell_type": "markdown",
   "id": "1cfd55f9-4f83-47cf-b97e-caa5da3782ec",
   "metadata": {},
   "source": [
    "Example 3: In this example, we will see how we can read a file using the with statement.  \n",
    "The variables in the with block are global scope variables "
   ]
  },
  {
   "cell_type": "code",
   "execution_count": 6,
   "id": "cc1a33f9-ba48-484c-8b80-7048452a73d0",
   "metadata": {},
   "outputs": [
    {
     "name": "stdout",
     "output_type": "stream",
     "text": [
      "True\n",
      "Hello world\n",
      "GeeksforGeeks\n",
      "123 456\n",
      "\n"
     ]
    }
   ],
   "source": [
    "# Python code to illustrate with()\n",
    "with open(\"geek.txt\") as file: \n",
    "\tdata = file.read() \n",
    "print(file.closed)\n",
    "print(data)\n"
   ]
  },
  {
   "cell_type": "markdown",
   "id": "7b795af4-6249-421c-93ba-0e64db853906",
   "metadata": {},
   "source": [
    "Example 4: Another way to read a file is to call a certain number of characters like in the following code the interpreter will read the first five characters of stored data and return it as a string: "
   ]
  },
  {
   "cell_type": "code",
   "execution_count": 8,
   "id": "fb3494eb-246c-4a41-81ff-2bcaa37abd75",
   "metadata": {},
   "outputs": [
    {
     "name": "stdout",
     "output_type": "stream",
     "text": [
      "Hello\n"
     ]
    }
   ],
   "source": [
    "# Python code to illustrate read() mode character wise\n",
    "file = open(\"geek.txt\", \"r\")\n",
    "print (file.read(5))\n"
   ]
  },
  {
   "cell_type": "markdown",
   "id": "962afd8f-714d-44d2-931a-93ef34b9dbb1",
   "metadata": {},
   "source": [
    "Example 5: We can also split lines while reading files in Python. The split() function splits the variable when space is encountered. You can also split using any characters as you wish."
   ]
  },
  {
   "cell_type": "code",
   "execution_count": 13,
   "id": "571d76e2-fd0b-4223-b994-db89d4d2ef2f",
   "metadata": {},
   "outputs": [
    {
     "name": "stdout",
     "output_type": "stream",
     "text": [
      "['Hello', 'world']\n",
      "['GeeksforGeeks']\n",
      "['123', '456']\n"
     ]
    }
   ],
   "source": [
    "# Python code to illustrate split() function\n",
    "with open(\"geek.txt\", \"r\") as file:\n",
    "\tdata = file.readlines()\n",
    "\tfor line in data:\n",
    "\t\tword = line.split()\n",
    "\t\tprint (word)\n"
   ]
  },
  {
   "cell_type": "markdown",
   "id": "507dc38f-063c-44d5-9e67-5fdcd6e6ec90",
   "metadata": {},
   "source": [
    "read() - returns all bytes characters of the file and moves cursor   \n",
    "readline() - returns a line and moves cursor  \n",
    "readlines() - returns all lines as a list along with EOL char and moves cursor  "
   ]
  },
  {
   "cell_type": "markdown",
   "id": "adcc6b6b-0ba0-4073-9cfa-8655e2b8a65b",
   "metadata": {},
   "source": [
    "# Here, read() reads the whole file and the cursor is at the bottom\n",
    "Hence, readline() and readlines() returns nothing"
   ]
  },
  {
   "cell_type": "code",
   "execution_count": 44,
   "id": "75cd7829-720e-437c-9d31-60c331bd9534",
   "metadata": {},
   "outputs": [
    {
     "name": "stdout",
     "output_type": "stream",
     "text": [
      "learning file handling\n",
      "sentence 1\n",
      "sentence 2\n",
      "sentence 3\n",
      "readline\n",
      "\n",
      "[]\n"
     ]
    }
   ],
   "source": [
    "fi = open('a.txt','r')\n",
    "st1 = fi.read()\n",
    "print(st1)\n",
    "print('readline')\n",
    "st2 = fi.readline()\n",
    "print(st2)\n",
    "st3 = fi.readlines()\n",
    "print(st3)"
   ]
  },
  {
   "cell_type": "markdown",
   "id": "b06818ad-2b91-41e4-86d6-7e16dcbcaacb",
   "metadata": {},
   "source": [
    "## use filename.seek(0) to move cursor to the top"
   ]
  },
  {
   "cell_type": "code",
   "execution_count": 8,
   "id": "412ceb0e-f283-4ed0-b78e-7b018ff7e760",
   "metadata": {},
   "outputs": [
    {
     "name": "stdout",
     "output_type": "stream",
     "text": [
      "Hello world\n",
      "GeeksforGeeks\n",
      "123 456\n",
      "\n",
      "readline\n",
      "\n",
      "readlines\n",
      "['Hello world\\n', 'GeeksforGeeks\\n', '123 456\\n']\n",
      "Hello world\n",
      "\n",
      "GeeksforGeeks\n",
      "\n",
      "123 456\n",
      "\n"
     ]
    }
   ],
   "source": [
    "fi = open('geek.txt','r')\n",
    "st1 = fi.read()\n",
    "print(st1)\n",
    "print('readline')\n",
    "st2 = fi.readline()\n",
    "print(st2)\n",
    "fi.seek(0)\n",
    "print('readlines')\n",
    "st3 = fi.readlines()\n",
    "print(st3)\n",
    "for i in st3:\n",
    "    print(i)"
   ]
  },
  {
   "cell_type": "markdown",
   "id": "f116d328-dc6a-40bd-aa18-b850c9197eef",
   "metadata": {},
   "source": [
    "## Arguments in read()\n",
    "read(size) -  \tsize is optional and represent the number of bytes to return. Default -1, which means the whole file.   \n",
    "readline(size) -  \tsize is optional and represent the number of bytes to return. Default -1, which means the whole file.   \n",
    "readlines(hint) - Use the hint parameter to limit the number of lines returned. If the total number of bytes returned 'exceeds' the specified number, no more lines are returned."
   ]
  },
  {
   "cell_type": "code",
   "execution_count": 13,
   "id": "ef8508a1-0c8e-4e8a-876d-3be15a857775",
   "metadata": {},
   "outputs": [
    {
     "name": "stdout",
     "output_type": "stream",
     "text": [
      "Hel\n",
      "readline\n",
      "Hel\n",
      "readlines\n",
      "['Hello world\\n']\n",
      "['Hello world\\n']\n",
      "['Hello world\\n', 'GeeksforGeeks\\n']\n"
     ]
    }
   ],
   "source": [
    "fi = open('geek.txt','r')\n",
    "st1 = fi.read(3)\n",
    "print(st1)\n",
    "fi.seek(0)\n",
    "print('readline')\n",
    "st2 = fi.readline(3)\n",
    "print(st2)\n",
    "fi.seek(0)\n",
    "print('readlines')\n",
    "st3 = fi.readlines(2)\n",
    "print(st3)\n",
    "fi.seek(0)\n",
    "st3 = fi.readlines(11)\n",
    "print(st3)\n",
    "fi.seek(0)\n",
    "st3 = fi.readlines(12)\n",
    "print(st3)"
   ]
  },
  {
   "cell_type": "markdown",
   "id": "8efccd03-58fc-4455-8b1b-b2c71856e822",
   "metadata": {},
   "source": [
    "# Writing"
   ]
  },
  {
   "cell_type": "markdown",
   "id": "0f667bba-c9da-45ff-b0e3-34302897c97c",
   "metadata": {},
   "source": [
    "Example 1: In this example, we will see how the write mode and the write() function is used to write in a file. The close() command terminates all the resources in use and frees the system of this particular program. "
   ]
  },
  {
   "cell_type": "code",
   "execution_count": 14,
   "id": "3460874c-956f-486c-9174-602062f2f72d",
   "metadata": {},
   "outputs": [],
   "source": [
    "# Python code to create a file\n",
    "file = open('geek.txt','w')\n",
    "file.write(\"This is the write command\")\n",
    "file.write(\"It allows us to write in a particular file\")\n",
    "file.close()\n"
   ]
  },
  {
   "cell_type": "markdown",
   "id": "fbbb63b6-5075-4819-bcc8-44a11a6e4e62",
   "metadata": {},
   "source": [
    "Example 2: We can also use the written statement along with the  with() function."
   ]
  },
  {
   "cell_type": "code",
   "execution_count": 30,
   "id": "a90f872f-bd7b-40ec-9df1-9d05c9a093ad",
   "metadata": {},
   "outputs": [],
   "source": [
    "# Python code to illustrate with() alongwith write()\n",
    "with open(\"file.txt\", \"w\") as f: \n",
    "\tf.write(\"Hello World!!!\")\n"
   ]
  },
  {
   "cell_type": "markdown",
   "id": "d0571219-71f6-46fa-9f40-fe21d97252b7",
   "metadata": {},
   "source": [
    "Example 3: Using print"
   ]
  },
  {
   "cell_type": "code",
   "execution_count": 14,
   "id": "a56205de-6978-4171-8354-5aef4bdcf9b7",
   "metadata": {},
   "outputs": [
    {
     "name": "stdout",
     "output_type": "stream",
     "text": [
      "Adding text using print\n",
      "\n"
     ]
    }
   ],
   "source": [
    "with open(\"file.txt\", \"w\") as f: \n",
    "\tprint('Adding text using print',file=f)\n",
    "with open('file.txt','r') as f:\n",
    "    print(f.read())"
   ]
  },
  {
   "cell_type": "markdown",
   "id": "d30883aa-b916-447b-a625-adb59373b85e",
   "metadata": {},
   "source": [
    "## Working of Append Mode\n",
    "\n",
    "Let us see how the append mode works.\n",
    "\n",
    "Example: For this example, we will use the file created in the previous example."
   ]
  },
  {
   "cell_type": "code",
   "execution_count": 24,
   "id": "c50dc426-e9b1-4ce9-a587-f012cbb38191",
   "metadata": {},
   "outputs": [
    {
     "name": "stdout",
     "output_type": "stream",
     "text": [
      "This will add this line\n",
      "This will add this line\n",
      "\n"
     ]
    }
   ],
   "source": [
    "# Python code to illustrate append() mode\n",
    "file = open('geek.txt', 'a+')\n",
    "file.write(\"This will add this line\\n\")\n",
    "file.seek(0)\n",
    "print(file.read())\n",
    "file.close()\n"
   ]
  },
  {
   "cell_type": "markdown",
   "id": "8c3b0129-3e44-4031-abfb-707acff14ba9",
   "metadata": {},
   "source": [
    "# Implementing all of the functions in a single program"
   ]
  },
  {
   "cell_type": "code",
   "execution_count": 13,
   "id": "e093e018-ef2c-4ab2-8b90-b905f0d80ea2",
   "metadata": {},
   "outputs": [
    {
     "name": "stdout",
     "output_type": "stream",
     "text": [
      "File example.txt created successfully.\n",
      "Hello, world!\n",
      "\n",
      "Text appended to file example.txt successfully.\n",
      "Hello, world!\n",
      "This is some additional text.\n",
      "\n",
      "File example.txt renamed to new_example.txt successfully.\n",
      "Hello, world!\n",
      "This is some additional text.\n",
      "\n",
      "File new_example.txt deleted successfully.\n"
     ]
    }
   ],
   "source": [
    "import os\n",
    "\n",
    "def create_file(filename):\n",
    "\ttry:\n",
    "\t\twith open(filename, 'w') as f:\n",
    "\t\t\tf.write('Hello, world!\\n')\n",
    "\t\tprint(\"File \" + filename + \" created successfully.\")\n",
    "\texcept IOError:\n",
    "\t\tprint(\"Error: could not create file \" + filename)\n",
    "\n",
    "def read_file(filename):\n",
    "\ttry:\n",
    "\t\twith open(filename, 'r') as f:\n",
    "\t\t\tcontents = f.read()\n",
    "\t\t\tprint(contents)\n",
    "\texcept IOError:\n",
    "\t\tprint(\"Error: could not read file \" + filename)\n",
    "\n",
    "def append_file(filename, text):\n",
    "\ttry:\n",
    "\t\twith open(filename, 'a') as f:\n",
    "\t\t\tf.write(text)\n",
    "\t\tprint(\"Text appended to file \" + filename + \" successfully.\")\n",
    "\texcept IOError:\n",
    "\t\tprint(\"Error: could not append to file \" + filename)\n",
    "\n",
    "def rename_file(filename, new_filename):\n",
    "\ttry:\n",
    "\t\tos.rename(filename, new_filename)\n",
    "\t\tprint(\"File \" + filename + \" renamed to \" + new_filename + \" successfully.\")\n",
    "\texcept IOError:\n",
    "\t\tprint(\"Error: could not rename file \" + filename)\n",
    "\n",
    "def delete_file(filename):\n",
    "\ttry:\n",
    "\t\tos.remove(filename)\n",
    "\t\tprint(\"File \" + filename + \" deleted successfully.\")\n",
    "\texcept IOError:\n",
    "\t\tprint(\"Error: could not delete file \" + filename)\n",
    "\n",
    "\n",
    "if __name__ == '__main__':\n",
    "\tfilename = \"example.txt\"\n",
    "\tnew_filename = \"new_example.txt\"\n",
    "\n",
    "\tcreate_file(filename)\n",
    "\tread_file(filename)\n",
    "\tappend_file(filename, \"This is some additional text.\\n\")\n",
    "\tread_file(filename)\n",
    "\trename_file(filename, new_filename)\n",
    "\tread_file(new_filename)\n",
    "\tdelete_file(new_filename)\n"
   ]
  }
 ],
 "metadata": {
  "kernelspec": {
   "display_name": "Python 3 (ipykernel)",
   "language": "python",
   "name": "python3"
  },
  "language_info": {
   "codemirror_mode": {
    "name": "ipython",
    "version": 3
   },
   "file_extension": ".py",
   "mimetype": "text/x-python",
   "name": "python",
   "nbconvert_exporter": "python",
   "pygments_lexer": "ipython3",
   "version": "3.11.5"
  }
 },
 "nbformat": 4,
 "nbformat_minor": 5
}
