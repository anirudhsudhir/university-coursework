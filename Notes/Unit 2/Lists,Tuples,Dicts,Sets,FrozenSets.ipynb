{
 "cells": [
  {
   "cell_type": "markdown",
   "id": "7ec52f5a-3ac2-40c3-aecc-bbf873b21849",
   "metadata": {},
   "source": [
    "# Introduction\n",
    "\n",
    "Duplicate Elements:\n",
    "1. Yes:\n",
    "   1. Mutable -> list() - []\n",
    "   2. Immutable -> tuple() - () - Cannot modify tuple or its elements ( Can be redefined though)\n",
    "2. No:\n",
    "   1. Key-Value Pair -> dict() - {}\n",
    "   2. Mathematical set -> set() - {}  - Can modify set but not its elements  \n",
    "      Special Mention - frozenset() -> Cannot be modified"
   ]
  },
  {
   "cell_type": "markdown",
   "id": "53aadd39-bb7f-415c-bdab-18a1ed4a2bc0",
   "metadata": {},
   "source": [
    "1. All of the above can have heterogeneous elements\n",
    "2. Lists and tuples are ordered (The elements will be in the same order as added and won't be changed internally)  \n",
    "   dicts and sets are not\n",
    "4. Lists,tuples and strings allow indexing(including negative indices) and slicing  \n",
    "  Sets and dicts do not allow indexing or slicing    \n",
    "5. Use dir(...) -> to view functions of a particular datatype\n",
    "6. Can use membership operators in all datatypes (Eg: if i not in li1 ; for i in li1 )\n",
    "   #### Cannot add set/list/dict(mutable elements/unhashable type) as an element inside a set!! -> Tuples are allowed(As immutable)"
   ]
  },
  {
   "cell_type": "code",
   "execution_count": 1,
   "id": "9dc1e90a-9223-47bd-ae47-2d218c769858",
   "metadata": {},
   "outputs": [
    {
     "ename": "TypeError",
     "evalue": "unhashable type: 'set'",
     "output_type": "error",
     "traceback": [
      "\u001b[0;31m---------------------------------------------------------------------------\u001b[0m",
      "\u001b[0;31mTypeError\u001b[0m                                 Traceback (most recent call last)",
      "Cell \u001b[0;32mIn[1], line 1\u001b[0m\n\u001b[0;32m----> 1\u001b[0m set1 \u001b[38;5;241m=\u001b[39m {\u001b[38;5;124m'\u001b[39m\u001b[38;5;124mban\u001b[39m\u001b[38;5;124m'\u001b[39m ,{ \u001b[38;5;124m'\u001b[39m\u001b[38;5;124ma\u001b[39m\u001b[38;5;124m'\u001b[39m,\u001b[38;5;124m'\u001b[39m\u001b[38;5;124mb\u001b[39m\u001b[38;5;124m'\u001b[39m}}\n",
      "\u001b[0;31mTypeError\u001b[0m: unhashable type: 'set'"
     ]
    }
   ],
   "source": [
    "set1 = {'ban' ,{ 'a','b'}}"
   ]
  },
  {
   "cell_type": "code",
   "execution_count": 3,
   "id": "6c616da4-6e3c-40a7-a545-4db566c90f31",
   "metadata": {},
   "outputs": [
    {
     "name": "stdout",
     "output_type": "stream",
     "text": [
      "{('a', 'b'), 'ban'}\n"
     ]
    }
   ],
   "source": [
    "set1 = {'ban' ,('a','b')}\n",
    "print(set1)"
   ]
  },
  {
   "cell_type": "markdown",
   "id": "3314fcbe-dc64-43d1-8a7f-398d763f290f",
   "metadata": {},
   "source": [
    "# Types of Datatypes: \n",
    "1. 'sequence' type elements:\n",
    "Can be accessed through indexing  \n",
    "Eg: List, tuple, str, range  \n",
    "\n",
    "2. 'non-sequence' type elements:\n",
    "Cannot be accessed through indexing  \n",
    "Eg: set, dictionary\n",
    "\n",
    "3. 'mutable' elements:\n",
    "   Once the object can be modified after creation  \n",
    "   Eg: list, dict, set(set elements itself cannot be modified)\n",
    "\n",
    "5. 'immutable' elements\n",
    "   The object cannot be modified  \n",
    "   Eg: str, tuple, frozenset, int, float, bool, complex\n",
    "   int ,bool ,etc \n",
    "\n",
    "6. 'hashable' elements  \n",
    "   All immutable types are hashable  \n",
    "   Hashing is a mechanism to convert a given element into an integer.\n",
    "   \n",
    "   An object/element is hashable if it has a hash value which never changes during its lifetime\n",
    "\n",
    "7. 'unhashable' elements\n",
    "   hash([45,65]) -> invalid\n",
    "\n",
    "8. 'iterable' elements  \n",
    "   Objects supporting _iter_ ()  \n",
    "   Eg: list, tuple, set, str, dict,\n",
    "\n",
    "9. 'non-iterable' elements  \n",
    "    Eg: int, float, etc."
   ]
  },
  {
   "cell_type": "code",
   "execution_count": 2,
   "id": "6334731b-fe0b-4040-8873-efc5c9ff0a71",
   "metadata": {},
   "outputs": [
    {
     "data": {
      "text/plain": [
       "(32, 1)"
      ]
     },
     "execution_count": 2,
     "metadata": {},
     "output_type": "execute_result"
    }
   ],
   "source": [
    " hash(32),hash(True)"
   ]
  },
  {
   "cell_type": "code",
   "execution_count": 3,
   "id": "9ef4a799-7345-479f-84d7-b3a68dff308b",
   "metadata": {},
   "outputs": [
    {
     "ename": "TypeError",
     "evalue": "unhashable type: 'list'",
     "output_type": "error",
     "traceback": [
      "\u001b[0;31m---------------------------------------------------------------------------\u001b[0m",
      "\u001b[0;31mTypeError\u001b[0m                                 Traceback (most recent call last)",
      "Cell \u001b[0;32mIn[3], line 1\u001b[0m\n\u001b[0;32m----> 1\u001b[0m \u001b[38;5;28;43mhash\u001b[39;49m\u001b[43m(\u001b[49m\u001b[43m[\u001b[49m\u001b[38;5;241;43m1\u001b[39;49m\u001b[43m,\u001b[49m\u001b[38;5;241;43m2\u001b[39;49m\u001b[43m]\u001b[49m\u001b[43m)\u001b[49m\n",
      "\u001b[0;31mTypeError\u001b[0m: unhashable type: 'list'"
     ]
    }
   ],
   "source": [
    "hash([1,2])"
   ]
  },
  {
   "cell_type": "markdown",
   "id": "1da0a891-6cdb-46a9-a70c-f19794c20afc",
   "metadata": {},
   "source": [
    "# Important Points:"
   ]
  },
  {
   "cell_type": "markdown",
   "id": "d45e1f07-5a09-4551-a21d-2a86fb5db33b",
   "metadata": {},
   "source": [
    "### 1. Lists and tuples are ordered"
   ]
  },
  {
   "cell_type": "code",
   "execution_count": 88,
   "id": "6cd7de9d-bb27-484c-bcce-1b78b8d5988e",
   "metadata": {},
   "outputs": [
    {
     "name": "stdout",
     "output_type": "stream",
     "text": [
      "False\n",
      "True\n"
     ]
    }
   ],
   "source": [
    "l1 = [1,\"rt\",3]\n",
    "l2 = [3,\"rt\",1]\n",
    "s1,s2=set(l1),set(l2)\n",
    "print(l1==l2)\n",
    "print(s1==s2)"
   ]
  },
  {
   "cell_type": "markdown",
   "id": "056c55e7-bab8-41fa-adc1-09b3ebee24bd",
   "metadata": {},
   "source": [
    "### 2. Cannot loop list, dict, tuple if updating them -> As they change size  "
   ]
  },
  {
   "cell_type": "code",
   "execution_count": 41,
   "id": "bda7a3be-f731-47a0-a27f-d1fc3848e1ff",
   "metadata": {},
   "outputs": [
    {
     "name": "stdout",
     "output_type": "stream",
     "text": [
      "a\n",
      "b\n",
      "a\n"
     ]
    },
    {
     "ename": "RuntimeError",
     "evalue": "Set changed size during iteration",
     "output_type": "error",
     "traceback": [
      "\u001b[0;31m---------------------------------------------------------------------------\u001b[0m",
      "\u001b[0;31mRuntimeError\u001b[0m                              Traceback (most recent call last)",
      "Cell \u001b[0;32mIn[41], line 5\u001b[0m\n\u001b[1;32m      3\u001b[0m     \u001b[38;5;28mprint\u001b[39m(i) \u001b[38;5;66;03m# runs without error as set size unmodified\u001b[39;00m\n\u001b[1;32m      4\u001b[0m a\u001b[38;5;241m=\u001b[39m{\u001b[38;5;124m'\u001b[39m\u001b[38;5;124ma\u001b[39m\u001b[38;5;124m'\u001b[39m,\u001b[38;5;124m'\u001b[39m\u001b[38;5;124mb\u001b[39m\u001b[38;5;124m'\u001b[39m}\n\u001b[0;32m----> 5\u001b[0m \u001b[38;5;28;43;01mfor\u001b[39;49;00m\u001b[43m \u001b[49m\u001b[43mi\u001b[49m\u001b[43m \u001b[49m\u001b[38;5;129;43;01min\u001b[39;49;00m\u001b[43m \u001b[49m\u001b[43ma\u001b[49m\u001b[43m:\u001b[49m\n\u001b[1;32m      6\u001b[0m \u001b[43m    \u001b[49m\u001b[38;5;28;43mprint\u001b[39;49m\u001b[43m(\u001b[49m\u001b[43mi\u001b[49m\u001b[43m)\u001b[49m\n\u001b[1;32m      7\u001b[0m \u001b[43m    \u001b[49m\u001b[43ma\u001b[49m\u001b[38;5;241;43m.\u001b[39;49m\u001b[43madd\u001b[49m\u001b[43m(\u001b[49m\u001b[38;5;241;43m1\u001b[39;49m\u001b[43m)\u001b[49m\n",
      "\u001b[0;31mRuntimeError\u001b[0m: Set changed size during iteration"
     ]
    }
   ],
   "source": [
    "a={'a','b'}\n",
    "for i in a:\n",
    "    print(i) # runs without error as set size unmodified\n",
    "a={'a','b'}\n",
    "for i in a:\n",
    "    print(i)\n",
    "    a.add(1)"
   ]
  },
  {
   "cell_type": "code",
   "execution_count": 4,
   "id": "6eee32ea-fc49-40e5-ad6a-fb90c6d35dc1",
   "metadata": {},
   "outputs": [
    {
     "name": "stdout",
     "output_type": "stream",
     "text": [
      "a\n",
      "b\n"
     ]
    }
   ],
   "source": [
    "a=frozenset(['a','b'])\n",
    "for i in a:\n",
    "    print(i)"
   ]
  },
  {
   "cell_type": "markdown",
   "id": "b4c195d3-3e1a-4b1d-8173-acdd070d49a4",
   "metadata": {},
   "source": [
    "### 3. These datatypes create deep copy if assigned unlike primitives or strings\n",
    "Shallow copy - when elements are copied but memory addresses are different  \n",
    "Eg: When using copy() in lists; slicing lists or tuples or other structure; etc.  \n",
    "Deep copy - when memory addresses are copied, therefore elements are copied too  \n",
    "When assignment operator is used(t2 = t1)"
   ]
  },
  {
   "cell_type": "code",
   "execution_count": 109,
   "id": "a838ae9d-1642-4a3b-96cd-829a219ad6ec",
   "metadata": {},
   "outputs": [
    {
     "name": "stdout",
     "output_type": "stream",
     "text": [
      "[1, 99] hello\n"
     ]
    }
   ],
   "source": [
    "li1,str1=[1,2],'hello'\n",
    "li2,str2=li1,str1\n",
    "li2[1] = 99\n",
    "str2.replace('l','p')\n",
    "print(li1,str1)"
   ]
  },
  {
   "cell_type": "markdown",
   "id": "d6af29c8-e226-42a5-8ea0-64dbce5a7c0a",
   "metadata": {},
   "source": [
    "### 4. Input of any datatype:"
   ]
  },
  {
   "cell_type": "code",
   "execution_count": 7,
   "id": "92ddb889-b513-444a-803e-b84311abd604",
   "metadata": {},
   "outputs": [
    {
     "name": "stdin",
     "output_type": "stream",
     "text": [
      " 1\n"
     ]
    },
    {
     "name": "stdout",
     "output_type": "stream",
     "text": [
      "<class 'int'>\n"
     ]
    }
   ],
   "source": [
    "a = eval(input())\n",
    "print(type(a))"
   ]
  },
  {
   "cell_type": "code",
   "execution_count": 2,
   "id": "4ba34298-b662-4564-9fa7-e61459c6cae2",
   "metadata": {},
   "outputs": [
    {
     "name": "stdin",
     "output_type": "stream",
     "text": [
      " 'ert'\n"
     ]
    },
    {
     "name": "stdout",
     "output_type": "stream",
     "text": [
      "<class 'str'>\n"
     ]
    }
   ],
   "source": [
    "a = eval(input())\n",
    "print(type(a))"
   ]
  },
  {
   "cell_type": "code",
   "execution_count": 114,
   "id": "bb373521-2a9d-4d52-a07d-a42e7d1754e0",
   "metadata": {},
   "outputs": [
    {
     "name": "stdin",
     "output_type": "stream",
     "text": [
      " 3.4\n"
     ]
    },
    {
     "name": "stdout",
     "output_type": "stream",
     "text": [
      "<class 'float'>\n"
     ]
    }
   ],
   "source": [
    "a = eval(input())\n",
    "print(type(a))"
   ]
  },
  {
   "cell_type": "code",
   "execution_count": 115,
   "id": "25f3cf63-0698-48bb-b523-09d28286aa92",
   "metadata": {},
   "outputs": [
    {
     "name": "stdin",
     "output_type": "stream",
     "text": [
      " 1,2,3\n"
     ]
    },
    {
     "name": "stdout",
     "output_type": "stream",
     "text": [
      "<class 'tuple'>\n"
     ]
    }
   ],
   "source": [
    "a = eval(input())\n",
    "print(type(a))"
   ]
  },
  {
   "cell_type": "code",
   "execution_count": 116,
   "id": "73006131-3876-4e6c-a918-8740f9f87a4b",
   "metadata": {},
   "outputs": [
    {
     "name": "stdin",
     "output_type": "stream",
     "text": [
      " [1,2,3]\n"
     ]
    },
    {
     "name": "stdout",
     "output_type": "stream",
     "text": [
      "<class 'list'>\n"
     ]
    }
   ],
   "source": [
    "a = eval(input())\n",
    "print(type(a))"
   ]
  },
  {
   "cell_type": "code",
   "execution_count": 117,
   "id": "b8663d81-ba00-4a2e-a851-42a02b131eba",
   "metadata": {},
   "outputs": [
    {
     "name": "stdin",
     "output_type": "stream",
     "text": [
      " {1:2,2:3}\n"
     ]
    },
    {
     "name": "stdout",
     "output_type": "stream",
     "text": [
      "<class 'dict'>\n"
     ]
    }
   ],
   "source": [
    "a = eval(input())\n",
    "print(type(a))"
   ]
  },
  {
   "cell_type": "code",
   "execution_count": 118,
   "id": "af77ecc7-e9cc-4ccd-a8b3-44548ef97d28",
   "metadata": {},
   "outputs": [
    {
     "name": "stdin",
     "output_type": "stream",
     "text": [
      " {1,2,3}\n"
     ]
    },
    {
     "name": "stdout",
     "output_type": "stream",
     "text": [
      "<class 'set'>\n"
     ]
    }
   ],
   "source": [
    "a = eval(input())\n",
    "print(type(a))"
   ]
  },
  {
   "cell_type": "markdown",
   "id": "187376da-2149-4420-86e7-7824a0c167a7",
   "metadata": {},
   "source": [
    "## 5. Del"
   ]
  },
  {
   "cell_type": "markdown",
   "id": "3312bb5c-e3b6-4235-8942-8d1d51e41a9c",
   "metadata": {},
   "source": [
    "### Del Keyword for Deleting Variables"
   ]
  },
  {
   "cell_type": "code",
   "execution_count": 1,
   "id": "e873d461-7644-4ab3-bbd2-dd8b3945b96a",
   "metadata": {},
   "outputs": [
    {
     "name": "stdout",
     "output_type": "stream",
     "text": [
      "20\n"
     ]
    },
    {
     "ename": "NameError",
     "evalue": "name 'my_variable1' is not defined",
     "output_type": "error",
     "traceback": [
      "\u001b[0;31m---------------------------------------------------------------------------\u001b[0m",
      "\u001b[0;31mNameError\u001b[0m                                 Traceback (most recent call last)",
      "Cell \u001b[0;32mIn[1], line 4\u001b[0m\n\u001b[1;32m      2\u001b[0m \u001b[38;5;28mprint\u001b[39m(my_variable1)  \n\u001b[1;32m      3\u001b[0m \u001b[38;5;28;01mdel\u001b[39;00m my_variable1 \n\u001b[0;32m----> 4\u001b[0m \u001b[38;5;28mprint\u001b[39m(\u001b[43mmy_variable1\u001b[49m) \n",
      "\u001b[0;31mNameError\u001b[0m: name 'my_variable1' is not defined"
     ]
    }
   ],
   "source": [
    "my_variable1 = 20\n",
    "print(my_variable1)  \n",
    "del my_variable1 \n",
    "print(my_variable1) "
   ]
  },
  {
   "cell_type": "markdown",
   "id": "e18669f6-e1ad-42d0-86ae-f7392a101535",
   "metadata": {},
   "source": [
    "### Del Keyword for Deleting List and List Slicing"
   ]
  },
  {
   "cell_type": "code",
   "execution_count": 4,
   "id": "93e8121b-f49f-417d-b0af-7ce3a709a5bb",
   "metadata": {},
   "outputs": [
    {
     "name": "stdout",
     "output_type": "stream",
     "text": [
      "[1, 2, 3, 4, 5, 6, 7, 8, 9]\n",
      "['Geeks', 'For', 'Geek']\n",
      "[1, 3, 4, 5, 6, 7, 8, 9]\n",
      "[1, 3, 4, 7, 8, 9]\n"
     ]
    }
   ],
   "source": [
    "my_list1 = [1, 2, 3, 4, 5, 6, 7, 8, 9] \n",
    "my_list2 =[\"Geeks\", \"For\", \"Geek\"] \n",
    "print(my_list1) \n",
    "print(my_list2) \n",
    "\t\n",
    "# delete second element of my_list1 \n",
    "del my_list1[1] \n",
    "\t\n",
    "# check if the second element in my_list1 is deleted \n",
    "print(my_list1) \n",
    "\t\n",
    "# slice my_list1 from index 3 to 5 \n",
    "del my_list1[3:5] \n",
    "\t\n",
    "# check if the elements from index 3 to 5 in my_list1 is deleted \n",
    "print(my_list1) "
   ]
  },
  {
   "cell_type": "markdown",
   "id": "87a8642e-9fd1-4187-94fb-4e4d7b780681",
   "metadata": {},
   "source": [
    "### Del Keyword for Deleting Dictionaries and Removing key-value Pairs"
   ]
  },
  {
   "cell_type": "code",
   "execution_count": 5,
   "id": "9007b3c6-bd18-4b8b-9690-d574133bd6db",
   "metadata": {},
   "outputs": [
    {
     "name": "stdout",
     "output_type": "stream",
     "text": [
      "{'small': 'big', 'black': 'white', 'up': 'down'}\n",
      "{'small': 'big', 'up': 'down'}\n"
     ]
    }
   ],
   "source": [
    "my_dict1 = {\"small\": \"big\", \"black\": \"white\", \"up\": \"down\"} \n",
    " \n",
    "# check if my_dict1 and my_dict2 exists \n",
    "print(my_dict1) \n",
    "    \n",
    "# delete key-value pair with key \"black\" from my_dict1 \n",
    "del my_dict1[\"black\"] \n",
    "    \n",
    "# check if the  key-value pair with key \"black\" from my_dict1 is deleted \n",
    "print(my_dict1) "
   ]
  },
  {
   "cell_type": "code",
   "execution_count": 6,
   "id": "a8fb491d-de83-4439-a4c8-a208d5d6eb3c",
   "metadata": {},
   "outputs": [
    {
     "name": "stdout",
     "output_type": "stream",
     "text": [
      "{'small': 'big', 'black': 'white', 'up': 'down'}\n"
     ]
    },
    {
     "ename": "KeyError",
     "evalue": "'orange'",
     "output_type": "error",
     "traceback": [
      "\u001b[0;31m---------------------------------------------------------------------------\u001b[0m",
      "\u001b[0;31mKeyError\u001b[0m                                  Traceback (most recent call last)",
      "Cell \u001b[0;32mIn[6], line 7\u001b[0m\n\u001b[1;32m      4\u001b[0m \u001b[38;5;28mprint\u001b[39m(my_dict1) \n\u001b[1;32m      6\u001b[0m \u001b[38;5;66;03m# delete key-value pair with key \"black\" from my_dict1 \u001b[39;00m\n\u001b[0;32m----> 7\u001b[0m \u001b[38;5;28;01mdel\u001b[39;00m \u001b[43mmy_dict1\u001b[49m\u001b[43m[\u001b[49m\u001b[38;5;124;43m\"\u001b[39;49m\u001b[38;5;124;43morange\u001b[39;49m\u001b[38;5;124;43m\"\u001b[39;49m\u001b[43m]\u001b[49m \n\u001b[1;32m      9\u001b[0m \u001b[38;5;66;03m# check if the  key-value pair with key \"black\" from my_dict1 is deleted \u001b[39;00m\n\u001b[1;32m     10\u001b[0m \u001b[38;5;28mprint\u001b[39m(my_dict1) \n",
      "\u001b[0;31mKeyError\u001b[0m: 'orange'"
     ]
    }
   ],
   "source": [
    "my_dict1 = {\"small\": \"big\", \"black\": \"white\", \"up\": \"down\"} \n",
    " \n",
    "# check if my_dict1 and my_dict2 exists \n",
    "print(my_dict1) \n",
    "    \n",
    "# delete key-value pair with key \"black\" from my_dict1 \n",
    "del my_dict1[\"orange\"] \n",
    "    \n",
    "# check if the  key-value pair with key \"black\" from my_dict1 is deleted \n",
    "print(my_dict1) "
   ]
  },
  {
   "cell_type": "markdown",
   "id": "f18c5fc7-d517-4a5a-b91a-89e3c323b129",
   "metadata": {},
   "source": [
    "# Lists"
   ]
  },
  {
   "cell_type": "markdown",
   "id": "9afa3747-b057-48c9-bab7-0fc8fcfbc0b1",
   "metadata": {},
   "source": [
    "## Creating a list"
   ]
  },
  {
   "cell_type": "code",
   "execution_count": 119,
   "id": "b75a5f07-42fd-4599-936b-10cab978993b",
   "metadata": {},
   "outputs": [
    {
     "name": "stdout",
     "output_type": "stream",
     "text": [
      "<class 'list'> <class 'list'>\n"
     ]
    }
   ],
   "source": [
    "li1,li2=[],list()\n",
    "print(type(li1),type(li2))"
   ]
  },
  {
   "cell_type": "markdown",
   "id": "e7193520-8126-4cf9-b074-403be7c5751f",
   "metadata": {},
   "source": [
    "## List Traversal"
   ]
  },
  {
   "cell_type": "markdown",
   "id": "7931ef25-462d-4be1-8ddf-e6b4dc1c9d56",
   "metadata": {},
   "source": [
    "#### 1. Using for as an iterator"
   ]
  },
  {
   "cell_type": "code",
   "execution_count": 89,
   "id": "74f82ee8-cb99-45fc-aece-ab91962ad42c",
   "metadata": {},
   "outputs": [
    {
     "name": "stdout",
     "output_type": "stream",
     "text": [
      "10\n"
     ]
    }
   ],
   "source": [
    "li2 = [1,2,3,4]\n",
    "sum = 0\n",
    "for i in li2:\n",
    "    sum+=i\n",
    "print(sum)"
   ]
  },
  {
   "cell_type": "markdown",
   "id": "e624a208-48a4-429a-9df6-ab111c6e6cab",
   "metadata": {},
   "source": [
    "#### 2. Using 'for'/'while' to access indices of list"
   ]
  },
  {
   "cell_type": "code",
   "execution_count": 93,
   "id": "b22aec31-0f63-4013-969c-36b4be4fe5c8",
   "metadata": {},
   "outputs": [
    {
     "name": "stdout",
     "output_type": "stream",
     "text": [
      "10\n"
     ]
    }
   ],
   "source": [
    "li3 = [1,2,3,4]\n",
    "sum = 0\n",
    "for i in range(len(li3)): #len() returns number -> use range()\n",
    "    sum+=li3[i]\n",
    "print(sum)"
   ]
  },
  {
   "cell_type": "markdown",
   "id": "c7f56a75-2aec-49f5-ab77-a43e1cc0b45d",
   "metadata": {},
   "source": [
    "## Assignment while slicing a list"
   ]
  },
  {
   "cell_type": "code",
   "execution_count": 106,
   "id": "1f3b4fdd-e4f7-45dc-881e-b94c4f72b368",
   "metadata": {},
   "outputs": [
    {
     "name": "stdout",
     "output_type": "stream",
     "text": [
      "[1, 2, 9, 8, 7, 6, 4]\n",
      "[1, 2, 0, 0, 9, 8, 7, 6, 4]\n",
      "[1, 2, 0, 0, 8, 7, 6, 4]\n"
     ]
    }
   ],
   "source": [
    "li = [1,2,3,4]\n",
    "li[2:3] = [9,8,7,6]\n",
    "li2,li3 = li.copy(), li.copy()\n",
    "li2[2:2]=[0,0]\n",
    "li3[2:3]=[0,0]\n",
    "print(li,li2,li3,sep='\\n')"
   ]
  },
  {
   "cell_type": "code",
   "execution_count": 13,
   "id": "26ab0425-cdfe-44b2-b8bc-a51edb75117c",
   "metadata": {},
   "outputs": [
    {
     "name": "stdout",
     "output_type": "stream",
     "text": [
      "[1, 2, 3, 56, 78, 90]\n",
      "[1, 2, 3, 4, 56, 78, 90, 5]\n",
      "[1, 56, 78, 90, 4, 5]\n",
      "[1, 2, 3, 1, 2, 3, 4, 5, 6]\n"
     ]
    }
   ],
   "source": [
    "li=[1,2,3,4,5]\n",
    "li[-2:] = [56,78,90]\n",
    "print(li)\n",
    "\n",
    "li=[1,2,3,4,5]\n",
    "li[-1:-3] = [56,78,90] # Doesn't remove any element\n",
    "print(li)\n",
    "\n",
    "li=[1,2,3,4,5]\n",
    "li[1:3] = [56,78,90]\n",
    "print(li)\n",
    "\n",
    "li=[1,2,3,4,5]\n",
    "li[3:9999999] = [1,2,3,4,5,6] # No Error\n",
    "print(li)"
   ]
  },
  {
   "cell_type": "markdown",
   "id": "f77d2f6a-1f9b-4980-b615-9539a1358bed",
   "metadata": {},
   "source": [
    "## Nested List - Similar to 2-D Array"
   ]
  },
  {
   "cell_type": "code",
   "execution_count": 108,
   "id": "a6bb0fb3-828f-4210-9e77-daf5b6d5ca30",
   "metadata": {},
   "outputs": [
    {
     "name": "stdout",
     "output_type": "stream",
     "text": [
      "89\n"
     ]
    }
   ],
   "source": [
    "l1 = [45,67,[56,89]]\n",
    "print(l1[2][1])"
   ]
  },
  {
   "cell_type": "markdown",
   "id": "0bd12073-27be-44e9-8c81-199c91dff17d",
   "metadata": {},
   "source": [
    "## List Functions"
   ]
  },
  {
   "cell_type": "markdown",
   "id": "eab292a7-8d12-48dc-8750-35670a6c193d",
   "metadata": {},
   "source": [
    "### 1. list.append(elmnt) -> Adds only one element at the end of the list"
   ]
  },
  {
   "cell_type": "code",
   "execution_count": 6,
   "id": "f5e01001-685f-4908-9086-d957186ae896",
   "metadata": {},
   "outputs": [
    {
     "name": "stdout",
     "output_type": "stream",
     "text": [
      "['apple', 'banana', 'cherry', 'orange,pear']\n",
      "['apple', 'banana', 'cherry', ['orange', 'pear']]\n"
     ]
    }
   ],
   "source": [
    "fruits = ['apple', 'banana', 'cherry']\n",
    "fruits.append(\"orange,pear\")\n",
    "print(fruits)\n",
    "\n",
    "fruits = ['apple', 'banana', 'cherry']\n",
    "fruits.append([\"orange\",\"pear\"])\n",
    "print(fruits)"
   ]
  },
  {
   "cell_type": "markdown",
   "id": "e4a468dc-59f3-45ce-b44e-5f293e0060cc",
   "metadata": {},
   "source": [
    "### 2. list.extend(iterable)  -> Add the elements of a list (or any iterable), to the end of the current list"
   ]
  },
  {
   "cell_type": "code",
   "execution_count": 9,
   "id": "7a9234f7-3919-4ca5-b28a-23e1b75580de",
   "metadata": {},
   "outputs": [
    {
     "name": "stdout",
     "output_type": "stream",
     "text": [
      "['apple', 'banana', 'cherry', 'Ford', 'BMW', 'Volvo']\n",
      "['apple', 'banana', 'cherry', 1, 4, 5, 9]\n"
     ]
    }
   ],
   "source": [
    "fruits = ['apple', 'banana', 'cherry']\n",
    "cars = ['Ford', 'BMW', 'Volvo']\n",
    "fruits.extend(cars)\n",
    "print(fruits)\n",
    "\n",
    "fruits = ['apple', 'banana', 'cherry']\n",
    "points = (1, 4, 5, 9)\n",
    "fruits.extend(points)\n",
    "print(fruits)"
   ]
  },
  {
   "cell_type": "markdown",
   "id": "aabe3f5d-591b-4256-a7fa-20690291a048",
   "metadata": {},
   "source": [
    "### 3. list.insert(pos, elmnt)  -> \tAdds only one element at the specified position, loop to insert multiple elements"
   ]
  },
  {
   "cell_type": "code",
   "execution_count": 11,
   "id": "fde1dc84-3301-4ec2-86ae-db5b4bbf0e40",
   "metadata": {},
   "outputs": [
    {
     "name": "stdout",
     "output_type": "stream",
     "text": [
      "['apple', 'orange', 'banana', 'cherry']\n",
      "['apple', ['orange', 'pears'], 'orange', 'banana', 'cherry']\n"
     ]
    }
   ],
   "source": [
    "fruits = ['apple', 'banana', 'cherry']\n",
    "fruits.insert(1, \"orange\")\n",
    "print(fruits)\n",
    "fruits.insert(1, [\"orange\",\"pears\"])\n",
    "print(fruits)"
   ]
  },
  {
   "cell_type": "markdown",
   "id": "12648734-7cda-46cf-ad7d-3dc4efe5a7b1",
   "metadata": {},
   "source": [
    "### 4. list.clear() -> Removes all the elements from the list"
   ]
  },
  {
   "cell_type": "code",
   "execution_count": 12,
   "id": "cb3d7e88-684e-47bb-83ba-9aa97214ea74",
   "metadata": {},
   "outputs": [
    {
     "name": "stdout",
     "output_type": "stream",
     "text": [
      "[]\n"
     ]
    }
   ],
   "source": [
    "fruits = ['apple', 'banana', 'cherry', 'orange']\n",
    "fruits.clear()\n",
    "print(fruits)"
   ]
  },
  {
   "cell_type": "markdown",
   "id": "236aa2b6-5a1c-48f4-80c6-e84cf88369c8",
   "metadata": {},
   "source": [
    "### 5. list.copy()  -> Returns a shallow copy of the list"
   ]
  },
  {
   "cell_type": "code",
   "execution_count": 13,
   "id": "7f1c41d1-b0b0-421f-9e46-a9d9f4ba8979",
   "metadata": {},
   "outputs": [
    {
     "name": "stdout",
     "output_type": "stream",
     "text": [
      "[]\n",
      "['apple', 'banana', 'cherry', 'orange']\n"
     ]
    }
   ],
   "source": [
    "fruits = ['apple', 'banana', 'cherry', 'orange']\n",
    "x = fruits.copy()\n",
    "fruits.clear()\n",
    "print(fruits)\n",
    "print(x)"
   ]
  },
  {
   "cell_type": "markdown",
   "id": "72f5734e-d416-44bd-a480-43bddccca03a",
   "metadata": {},
   "source": [
    "### 6. list.count(value) -> Returns the number of elements with the specified value"
   ]
  },
  {
   "cell_type": "code",
   "execution_count": 14,
   "id": "741163b7-a598-4b1c-9a54-1c0d040ce434",
   "metadata": {},
   "outputs": [
    {
     "name": "stdout",
     "output_type": "stream",
     "text": [
      "2\n"
     ]
    }
   ],
   "source": [
    "points = [1, 4, 2, 9, 7, 8, 9, 3, 1]\n",
    "x = points.count(9)\n",
    "print(x)"
   ]
  },
  {
   "cell_type": "markdown",
   "id": "1cb24eb9-56d8-46a2-9e0f-6e217b53d26c",
   "metadata": {},
   "source": [
    "### 7. list.index(elmnt) ->  Returns the index of the first element with the specified value; Error if value isn't present"
   ]
  },
  {
   "cell_type": "code",
   "execution_count": 14,
   "id": "d4aa9564-4f2e-42aa-8d79-8980a3c71860",
   "metadata": {},
   "outputs": [
    {
     "name": "stdout",
     "output_type": "stream",
     "text": [
      "2\n"
     ]
    },
    {
     "ename": "ValueError",
     "evalue": "'1' is not in list",
     "output_type": "error",
     "traceback": [
      "\u001b[0;31m---------------------------------------------------------------------------\u001b[0m",
      "\u001b[0;31mValueError\u001b[0m                                Traceback (most recent call last)",
      "Cell \u001b[0;32mIn[14], line 4\u001b[0m\n\u001b[1;32m      2\u001b[0m x \u001b[38;5;241m=\u001b[39m fruits\u001b[38;5;241m.\u001b[39mindex(\u001b[38;5;124m\"\u001b[39m\u001b[38;5;124mcherry\u001b[39m\u001b[38;5;124m\"\u001b[39m)\n\u001b[1;32m      3\u001b[0m \u001b[38;5;28mprint\u001b[39m(x)\n\u001b[0;32m----> 4\u001b[0m \u001b[38;5;28mprint\u001b[39m(\u001b[43mfruits\u001b[49m\u001b[38;5;241;43m.\u001b[39;49m\u001b[43mindex\u001b[49m\u001b[43m(\u001b[49m\u001b[38;5;124;43m\"\u001b[39;49m\u001b[38;5;124;43m1\u001b[39;49m\u001b[38;5;124;43m\"\u001b[39;49m\u001b[43m)\u001b[49m)\n",
      "\u001b[0;31mValueError\u001b[0m: '1' is not in list"
     ]
    }
   ],
   "source": [
    "fruits = ['apple', 'banana', 'cherry'] \n",
    "x = fruits.index(\"cherry\")\n",
    "print(x)\n",
    "print(fruits.index(\"1\"))"
   ]
  },
  {
   "cell_type": "markdown",
   "id": "f2887186-fe8f-4e0c-8076-6df2e47fe7de",
   "metadata": {},
   "source": [
    "### 8. list.pop(posn) -> Removes the element at the specified position\n",
    "Without parameter, elements from end are popped"
   ]
  },
  {
   "cell_type": "code",
   "execution_count": 20,
   "id": "fa71af3c-96f6-4d95-9b5f-7a3caa9819b8",
   "metadata": {},
   "outputs": [
    {
     "name": "stdout",
     "output_type": "stream",
     "text": [
      "banana\n",
      "cherry\n"
     ]
    }
   ],
   "source": [
    "fruits = ['apple', 'banana', 'cherry']\n",
    "x = fruits.pop(1)\n",
    "print(x)\n",
    "print(fruits.pop())"
   ]
  },
  {
   "cell_type": "markdown",
   "id": "63c042b4-5807-4ed0-8721-ab642781a080",
   "metadata": {},
   "source": [
    "### 9. list.remove(elmnt) -> Removes the first item with the specified value\n",
    "Error if value isn't present"
   ]
  },
  {
   "cell_type": "code",
   "execution_count": 15,
   "id": "de671cde-6c22-4f96-9fc1-e2756bd2edac",
   "metadata": {},
   "outputs": [
    {
     "name": "stdout",
     "output_type": "stream",
     "text": [
      "['apple', 'cherry', 'banana']\n"
     ]
    },
    {
     "ename": "ValueError",
     "evalue": "list.remove(x): x not in list",
     "output_type": "error",
     "traceback": [
      "\u001b[0;31m---------------------------------------------------------------------------\u001b[0m",
      "\u001b[0;31mValueError\u001b[0m                                Traceback (most recent call last)",
      "Cell \u001b[0;32mIn[15], line 4\u001b[0m\n\u001b[1;32m      2\u001b[0m fruits\u001b[38;5;241m.\u001b[39mremove(\u001b[38;5;124m\"\u001b[39m\u001b[38;5;124mbanana\u001b[39m\u001b[38;5;124m\"\u001b[39m)\n\u001b[1;32m      3\u001b[0m \u001b[38;5;28mprint\u001b[39m(fruits)\n\u001b[0;32m----> 4\u001b[0m \u001b[43mfruits\u001b[49m\u001b[38;5;241;43m.\u001b[39;49m\u001b[43mremove\u001b[49m\u001b[43m(\u001b[49m\u001b[38;5;124;43m'\u001b[39;49m\u001b[38;5;124;43mw\u001b[39;49m\u001b[38;5;124;43m'\u001b[39;49m\u001b[43m)\u001b[49m\n",
      "\u001b[0;31mValueError\u001b[0m: list.remove(x): x not in list"
     ]
    }
   ],
   "source": [
    "fruits = ['apple', 'banana', 'cherry','banana']\n",
    "fruits.remove(\"banana\")\n",
    "print(fruits)\n",
    "fruits.remove('w')"
   ]
  },
  {
   "cell_type": "markdown",
   "id": "530d3745-cda2-4fa3-87ae-61f1e47abcf4",
   "metadata": {},
   "source": [
    "### 10. list.reverse() -> Reverses the order of the list"
   ]
  },
  {
   "cell_type": "code",
   "execution_count": 23,
   "id": "1648b604-e288-4d50-aaad-d469a11ef455",
   "metadata": {},
   "outputs": [
    {
     "name": "stdout",
     "output_type": "stream",
     "text": [
      "['cherry', 'banana', 'apple']\n"
     ]
    }
   ],
   "source": [
    "fruits = ['apple', 'banana', 'cherry']\n",
    "fruits.reverse()\n",
    "print(fruits)"
   ]
  },
  {
   "cell_type": "markdown",
   "id": "715fbcbc-647f-4af8-80c3-069dcc254b15",
   "metadata": {},
   "source": [
    "### 11. list.sort(reverse=True|False) -> Sorts the list  \n",
    "    reverse=True will sort the list descending. Default is reverse=False  "
   ]
  },
  {
   "cell_type": "code",
   "execution_count": 29,
   "id": "edb12a83-7db0-4df4-ae7a-2bb0857f2f98",
   "metadata": {},
   "outputs": [
    {
     "name": "stdout",
     "output_type": "stream",
     "text": [
      "['apple', 'banana', 'cherry']\n"
     ]
    }
   ],
   "source": [
    "fruits = [ 'banana','apple', 'cherry']\n",
    "fruits.sort()\n",
    "print(fruits)"
   ]
  },
  {
   "cell_type": "markdown",
   "id": "8c6824c6-139d-4c5d-85a5-e5b1d54b2217",
   "metadata": {},
   "source": [
    "# Tuples"
   ]
  },
  {
   "cell_type": "markdown",
   "id": "9c13a8a4-43e3-46fc-890c-13d59c14bda9",
   "metadata": {},
   "source": [
    "## Creating a tuple"
   ]
  },
  {
   "cell_type": "code",
   "execution_count": 128,
   "id": "9eb33984-5a3f-4271-b73e-f5abcfd20830",
   "metadata": {},
   "outputs": [
    {
     "name": "stdout",
     "output_type": "stream",
     "text": [
      "<class 'tuple'> <class 'tuple'>\n",
      "<class 'int'> <class 'tuple'>\n",
      "<class 'tuple'>\n"
     ]
    }
   ],
   "source": [
    "t1,t2=(),tuple()\n",
    "print(type(t1),type(t2))\n",
    "t3,t4=(1),(1,)\n",
    "print(type(t3),type(t4))\n",
    "t5=5,6,7\n",
    "print(type(t5))"
   ]
  },
  {
   "cell_type": "code",
   "execution_count": 137,
   "id": "c4b2f40f-f57e-4be9-a9f0-4afed745b407",
   "metadata": {},
   "outputs": [
    {
     "name": "stdout",
     "output_type": "stream",
     "text": [
      "(1, 2, 3)\n"
     ]
    }
   ],
   "source": [
    "t1=()\n",
    "t1=(1,2,3) # Tuple is being redefined\n",
    "print(t1)"
   ]
  },
  {
   "cell_type": "markdown",
   "id": "e6d9cc99-4e4d-44b2-8537-3b719ce56fca",
   "metadata": {},
   "source": [
    "## Concatenating tuples"
   ]
  },
  {
   "cell_type": "code",
   "execution_count": 138,
   "id": "a8ce379f-b60c-4594-b891-53bdd30d7ac5",
   "metadata": {},
   "outputs": [
    {
     "name": "stdout",
     "output_type": "stream",
     "text": [
      "(9, 8, 2, 3, 4)\n"
     ]
    }
   ],
   "source": [
    "t1=2,3,4\n",
    "t2=9,8\n",
    "print(t2+t1)"
   ]
  },
  {
   "cell_type": "markdown",
   "id": "bd7dae5b-1525-4939-8842-49f981eaac87",
   "metadata": {},
   "source": [
    "## Tuple Functions"
   ]
  },
  {
   "cell_type": "markdown",
   "id": "2b71173b-4017-4d42-b1d0-944dd5b4530e",
   "metadata": {},
   "source": [
    "1. tuple.count(value) "
   ]
  },
  {
   "cell_type": "markdown",
   "id": "096fd3ea-ad87-4167-9264-99faac870918",
   "metadata": {},
   "source": [
    "2. tuple.index(value) "
   ]
  },
  {
   "cell_type": "markdown",
   "id": "38c231d3-b909-403e-ab75-5532c45cd4fb",
   "metadata": {},
   "source": [
    "# Dictionaries"
   ]
  },
  {
   "cell_type": "markdown",
   "id": "044dc546-2e78-42bf-8ec5-39667c618063",
   "metadata": {},
   "source": [
    "## Creating dictionaries:"
   ]
  },
  {
   "cell_type": "code",
   "execution_count": 3,
   "id": "5f291cbb-23ca-41c6-bf41-d8aa6187576f",
   "metadata": {},
   "outputs": [
    {
     "name": "stdout",
     "output_type": "stream",
     "text": [
      "<class 'dict'> <class 'dict'>\n",
      "{2: 'a', 3: 'b'}\n",
      "{2: 'r', 3: 'b'}\n"
     ]
    }
   ],
   "source": [
    "d1,d2={},dict()\n",
    "print(type(d1),type(d2))\n",
    "d3=dict([(2,'a'),[3,'b']])\n",
    "print(d3)\n",
    "d3[2]='r'\n",
    "print(d3)"
   ]
  },
  {
   "cell_type": "markdown",
   "id": "91c1090f-520b-4264-bdff-284cbbf18adf",
   "metadata": {},
   "source": [
    "## Mutable datatypes cannot be used as keys"
   ]
  },
  {
   "cell_type": "code",
   "execution_count": 3,
   "id": "fe9e2971-7b24-4889-bb98-1b4bb5a3cc01",
   "metadata": {},
   "outputs": [
    {
     "name": "stdout",
     "output_type": "stream",
     "text": [
      "check1\n"
     ]
    },
    {
     "ename": "TypeError",
     "evalue": "unhashable type: 'list'",
     "output_type": "error",
     "traceback": [
      "\u001b[0;31m---------------------------------------------------------------------------\u001b[0m",
      "\u001b[0;31mTypeError\u001b[0m                                 Traceback (most recent call last)",
      "Cell \u001b[0;32mIn[3], line 3\u001b[0m\n\u001b[1;32m      1\u001b[0m d6 \u001b[38;5;241m=\u001b[39m {(\u001b[38;5;241m1\u001b[39m,\u001b[38;5;241m2\u001b[39m,\u001b[38;5;241m3\u001b[39m):\u001b[38;5;124m\"\u001b[39m\u001b[38;5;124mcheck1\u001b[39m\u001b[38;5;124m\"\u001b[39m}\n\u001b[1;32m      2\u001b[0m \u001b[38;5;28mprint\u001b[39m(d6[(\u001b[38;5;241m1\u001b[39m,\u001b[38;5;241m2\u001b[39m,\u001b[38;5;241m3\u001b[39m)])\n\u001b[0;32m----> 3\u001b[0m d6 \u001b[38;5;241m=\u001b[39m {[\u001b[38;5;241m1\u001b[39m,\u001b[38;5;241m2\u001b[39m,\u001b[38;5;241m3\u001b[39m]:\u001b[38;5;124m\"\u001b[39m\u001b[38;5;124mcheck1\u001b[39m\u001b[38;5;124m\"\u001b[39m}\n",
      "\u001b[0;31mTypeError\u001b[0m: unhashable type: 'list'"
     ]
    }
   ],
   "source": [
    "d6 = {(1,2,3):\"check1\"}\n",
    "print(d6[(1,2,3)])\n",
    "d6 = {[1,2,3]:\"check1\"}"
   ]
  },
  {
   "cell_type": "markdown",
   "id": "01b2f14e-e2e1-438c-a4b0-f94eb5a3c445",
   "metadata": {},
   "source": [
    "## Membership operators can be used for keys only"
   ]
  },
  {
   "cell_type": "code",
   "execution_count": 19,
   "id": "8d0ef08f-ac8e-4fae-9d9f-4f9d588a237c",
   "metadata": {},
   "outputs": [
    {
     "name": "stdout",
     "output_type": "stream",
     "text": [
      "True 1\n"
     ]
    }
   ],
   "source": [
    "d4={1:'a',2:'b'}\n",
    "if 2 in d4:\n",
    "    print('True 1')\n",
    "if 'b' in d4:\n",
    "    print('True 2')"
   ]
  },
  {
   "cell_type": "markdown",
   "id": "fc9704de-a486-4d30-a55d-d7f34a86b551",
   "metadata": {},
   "source": [
    "## dict functions"
   ]
  },
  {
   "cell_type": "markdown",
   "id": "9e8b4de3-0bea-4724-a484-221524848d8f",
   "metadata": {},
   "source": [
    "### 1. clear()"
   ]
  },
  {
   "cell_type": "markdown",
   "id": "e8e9c532-60c9-4657-91d1-dad81d2fa36a",
   "metadata": {},
   "source": [
    "### 2. copy()"
   ]
  },
  {
   "cell_type": "markdown",
   "id": "6923ce1d-399d-4754-bdc5-35c5883588d7",
   "metadata": {},
   "source": [
    "### 3. fromkeys() - Creates a dictionary from the given sequence  \n",
    "   Usage is different -> as dictonary is being created, call function as dict.fromkeys()"
   ]
  },
  {
   "cell_type": "markdown",
   "id": "2752c8be-1268-4e2b-8bd7-fdf166cd5eab",
   "metadata": {},
   "source": [
    "Syntax : fromkeys(seq, val)  \n",
    "\n",
    "Parameters :  \n",
    "\n",
    "    seq : The sequence to be transformed into a dictionary.  \n",
    "    val : Initial values that need to be assigned to the generated keys. Defaults to None.  \n",
    "\n",
    "Returns : A dictionary with keys mapped to None if no value is provided, else to the value provided in the field.  "
   ]
  },
  {
   "cell_type": "code",
   "execution_count": 50,
   "id": "7de059f3-4d5c-4107-be26-7cb7c7e36c45",
   "metadata": {},
   "outputs": [
    {
     "name": "stdout",
     "output_type": "stream",
     "text": [
      "The newly created dict with None values : {'c': None, 'e': None, 'b': None, 'd': None, 'a': None}\n",
      "The newly created dict with 1 as value : {'c': 1, 'e': 1, 'b': 1, 'd': 1, 'a': 1}\n"
     ]
    }
   ],
   "source": [
    "seq = {'a', 'b', 'c', 'd', 'e'}\n",
    "res_dict = dict.fromkeys(seq)\n",
    "print(\"The newly created dict with None values : \" + str(res_dict))\n",
    "res_dict2 = dict.fromkeys(seq, 1)\n",
    "print(\"The newly created dict with 1 as value : \" + str(res_dict2))"
   ]
  },
  {
   "cell_type": "code",
   "execution_count": 49,
   "id": "2471104e-a691-4452-87bb-ef9d63889439",
   "metadata": {},
   "outputs": [
    {
     "name": "stdout",
     "output_type": "stream",
     "text": [
      "The newly created dict with None values : {'c': None, 'e': None, 'b': None, 'd': None, 'a': None}\n"
     ]
    },
    {
     "ename": "TypeError",
     "evalue": "fromkeys expected at most 2 arguments, got 3",
     "output_type": "error",
     "traceback": [
      "\u001b[0;31m---------------------------------------------------------------------------\u001b[0m",
      "\u001b[0;31mTypeError\u001b[0m                                 Traceback (most recent call last)",
      "Cell \u001b[0;32mIn[49], line 4\u001b[0m\n\u001b[1;32m      2\u001b[0m res_dict \u001b[38;5;241m=\u001b[39m \u001b[38;5;28mdict\u001b[39m\u001b[38;5;241m.\u001b[39mfromkeys(seq)\n\u001b[1;32m      3\u001b[0m \u001b[38;5;28mprint\u001b[39m(\u001b[38;5;124m\"\u001b[39m\u001b[38;5;124mThe newly created dict with None values : \u001b[39m\u001b[38;5;124m\"\u001b[39m \u001b[38;5;241m+\u001b[39m \u001b[38;5;28mstr\u001b[39m(res_dict))\n\u001b[0;32m----> 4\u001b[0m res_dict2 \u001b[38;5;241m=\u001b[39m \u001b[38;5;28;43mdict\u001b[39;49m\u001b[38;5;241;43m.\u001b[39;49m\u001b[43mfromkeys\u001b[49m\u001b[43m(\u001b[49m\u001b[43mseq\u001b[49m\u001b[43m,\u001b[49m\u001b[43m \u001b[49m\u001b[38;5;241;43m1\u001b[39;49m\u001b[43m,\u001b[49m\u001b[38;5;241;43m2\u001b[39;49m\u001b[43m)\u001b[49m\n\u001b[1;32m      5\u001b[0m \u001b[38;5;28mprint\u001b[39m(\u001b[38;5;124m\"\u001b[39m\u001b[38;5;124mThe newly created dict with 1 as value : \u001b[39m\u001b[38;5;124m\"\u001b[39m \u001b[38;5;241m+\u001b[39m \u001b[38;5;28mstr\u001b[39m(res_dict2))\n",
      "\u001b[0;31mTypeError\u001b[0m: fromkeys expected at most 2 arguments, got 3"
     ]
    }
   ],
   "source": [
    "seq = {'a', 'b', 'c', 'd', 'e'}\n",
    "res_dict = dict.fromkeys(seq)\n",
    "print(\"The newly created dict with None values : \" + str(res_dict))\n",
    "res_dict2 = dict.fromkeys(seq, 1,2)\n",
    "print(\"The newly created dict with 1 as value : \" + str(res_dict2))"
   ]
  },
  {
   "cell_type": "markdown",
   "id": "dc620bea-4676-447f-bcad-446f0d5035e5",
   "metadata": {},
   "source": [
    "Behavior of Python Dictionary fromkeys() Method with Mutable objects as values, fromdict() can also be supplied with the mutable object as the default value. But in this case, a shallow copy is made of the dictionary, i.e. if we append a value in the original list, the append takes place in all the values of keys."
   ]
  },
  {
   "cell_type": "code",
   "execution_count": 48,
   "id": "832fe87e-7314-4c4e-aeb8-a4c1628be501",
   "metadata": {},
   "outputs": [
    {
     "name": "stdout",
     "output_type": "stream",
     "text": [
      "The newly created dict with list values : {'c': [2, 3], 'e': [2, 3], 'b': [2, 3], 'd': [2, 3], 'a': [2, 3]}\n",
      "The dict with list values after appending :  {'c': [2, 3, 4], 'e': [2, 3, 4], 'b': [2, 3, 4], 'd': [2, 3, 4], 'a': [2, 3, 4]}\n",
      "\n",
      "\n",
      "The newly created dict with list values : {'c': [2, 3], 'e': [2, 3], 'b': [2, 3], 'd': [2, 3], 'a': [2, 3]}\n",
      "The dict with list values after appending (no change) :  {'c': [2, 3], 'e': [2, 3], 'b': [2, 3], 'd': [2, 3], 'a': [2, 3]}\n"
     ]
    }
   ],
   "source": [
    "seq = {'a', 'b', 'c', 'd', 'e'}\n",
    "lis1 = [2, 3]\n",
    "res_dict = dict.fromkeys(seq, lis1)\n",
    "print(\"The newly created dict with list values : \"\n",
    "\t+ str(res_dict))\n",
    "lis1.append(4)\n",
    "print(\"The dict with list values after appending : \", str(res_dict))\n",
    "\n",
    "lis1 = [2, 3]\n",
    "print('\\n')\n",
    "res_dict2 = {key: list(lis1) for key in seq}\n",
    "print(\"The newly created dict with list values : \"\n",
    "\t+ str(res_dict2))\n",
    "lis1.append(4)\n",
    "print(\"The dict with list values after appending (no change) : \", str(res_dict2))"
   ]
  },
  {
   "cell_type": "markdown",
   "id": "fccbcdcc-d3b4-4c64-8b7a-f1055ba0c813",
   "metadata": {},
   "source": [
    "### 4. get() - Returns the value for the given key"
   ]
  },
  {
   "cell_type": "markdown",
   "id": "aeb00754-db7f-4822-ba6a-ce8c7eac545b",
   "metadata": {},
   "source": [
    "Syntax : Dict.get(key, default=None)\n",
    "\n",
    "Parameters: \n",
    "\n",
    "    key: The key name of the item you want to return the value from\n",
    "    Value: (Optional) Value to be returned if the key is not found. The default value is None.\n",
    "\n",
    "Returns: Returns the value of the item with the specified key or the default value."
   ]
  },
  {
   "cell_type": "code",
   "execution_count": 17,
   "id": "c43063e8-c948-4702-b4f6-39ec05783330",
   "metadata": {},
   "outputs": [
    {
     "name": "stdout",
     "output_type": "stream",
     "text": [
      "good\n"
     ]
    }
   ],
   "source": [
    "d = {'coding': 'good', 'thinking': 'better'}\n",
    "print(d.get('coding'))"
   ]
  },
  {
   "cell_type": "code",
   "execution_count": 6,
   "id": "89a7c135-05c4-4480-adf9-586382a68bcf",
   "metadata": {},
   "outputs": [
    {
     "name": "stdout",
     "output_type": "stream",
     "text": [
      "None\n",
      "Not found\n"
     ]
    }
   ],
   "source": [
    "d = {1: '001', 2: '010', 3: '011'}\n",
    "print(d.get(4))\n",
    "print(d.get(4, \"Not found\"))"
   ]
  },
  {
   "cell_type": "markdown",
   "id": "14205f70-376c-4d1f-860b-d313083c7be2",
   "metadata": {},
   "source": [
    "### 5. items() - Return the list with all dictionary keys with values"
   ]
  },
  {
   "cell_type": "markdown",
   "id": "7cb8f218-12d9-4193-b5e7-e62f3a051025",
   "metadata": {},
   "source": [
    "Syntax: dictionary.items()  \n",
    "Parameters: This method takes no parameters.  \n",
    "Returns: A view object that displays a list of a given dictionary’s (key, value) tuple pair."
   ]
  },
  {
   "cell_type": "code",
   "execution_count": 24,
   "id": "7cb0e858-f747-49e7-8b43-1b67070575a7",
   "metadata": {},
   "outputs": [
    {
     "name": "stdout",
     "output_type": "stream",
     "text": [
      "A : Geeks\n",
      "B : 4\n",
      "C : Geeks\n",
      "<class 'dict_items'>\n"
     ]
    }
   ],
   "source": [
    "Dictionary1 = { 'A': 'Geeks', 'B': 4, 'C': 'Geeks' }\n",
    "for i,j in Dictionary1.items():\n",
    "    print(i,':',j)\n",
    "print(type(Dictionary1.items()))"
   ]
  },
  {
   "cell_type": "code",
   "execution_count": 45,
   "id": "b0bac50d-72f1-4670-888c-9ddcbea0cac3",
   "metadata": {},
   "outputs": [
    {
     "name": "stdout",
     "output_type": "stream",
     "text": [
      "Original Dictionary items:\n",
      "dict_items([('A', 'Geeks'), ('B', 4), ('C', 'Geeks')])\n",
      "Updated Dictionary:\n",
      "dict_items([('A', 'Geeks'), ('B', 4)])\n"
     ]
    }
   ],
   "source": [
    "Dictionary1 = { 'A': 'Geeks', 'B': 4, 'C': 'Geeks' } \n",
    "print(\"Original Dictionary items:\") \n",
    "\n",
    "items = Dictionary1.items() \n",
    "print(items) \n",
    "del[Dictionary1['C']] \n",
    "print('Updated Dictionary:') \n",
    "print(items) "
   ]
  },
  {
   "cell_type": "markdown",
   "id": "c21365dc-63fe-4e83-902c-840e55af2bb3",
   "metadata": {},
   "source": [
    "### 6. keys() - Returns a view object that displays a list of all the keys in the dictionary in order of insertion"
   ]
  },
  {
   "cell_type": "markdown",
   "id": "a6675c12-2fa6-4738-a126-7c658e3f9b62",
   "metadata": {},
   "source": [
    "Syntax: dict.keys()\n",
    "\n",
    "Parameters: There are no parameters.\n",
    "\n",
    "Returns: A view object is returned that displays all the keys. This view object changes according to the changes in the dictionary."
   ]
  },
  {
   "cell_type": "code",
   "execution_count": 23,
   "id": "f64102f8-a712-4480-b0c3-cbd19931815e",
   "metadata": {},
   "outputs": [
    {
     "name": "stdout",
     "output_type": "stream",
     "text": [
      "2nd key using keys() :  for\n",
      "<class 'dict_keys'>\n"
     ]
    }
   ],
   "source": [
    "test_dict = {\"geeks\": 7, \"for\": 1, \"geeks\": 2}\n",
    "\n",
    "print('2nd key using keys() : ', list(test_dict.keys())[1])\n",
    "print(type(test_dict.keys()))"
   ]
  },
  {
   "cell_type": "markdown",
   "id": "f8afeb21-48f1-4d6d-9e53-7f1d4ad15db7",
   "metadata": {},
   "source": [
    "### 7. pop() - Returns and removes the element with the given key"
   ]
  },
  {
   "cell_type": "markdown",
   "id": "26f37f55-ddfe-4739-9cee-51fd90b9e823",
   "metadata": {},
   "source": [
    "\n",
    "    Syntax: dict.pop(key, def)\n",
    "    Parameters : \n",
    "\n",
    "        key : The key whose key-value pair has to be returned and removed.\n",
    "        def : The default value to return if specified key is not present.\n",
    "\n",
    "    Returns :\n",
    "\n",
    "        The value associated with the deleted key-value pair, if the key is present. \n",
    "        Default value if specified if key is not present. \n",
    "        KeyError, if key not present and default value not specified. \n",
    "\n"
   ]
  },
  {
   "cell_type": "code",
   "execution_count": 42,
   "id": "cdb37231-8ce7-4daa-bedf-cec90519388e",
   "metadata": {},
   "outputs": [
    {
     "name": "stdout",
     "output_type": "stream",
     "text": [
      "The dictionary before deletion : {'Nikhil': 7, 'Akshat': 1, 'Akash': 2}\n",
      "Value associated to popped key is : 2\n",
      "Dictionary after deletion is : {'Nikhil': 7, 'Akshat': 1}\n"
     ]
    }
   ],
   "source": [
    "test_dict = {\"Nikhil\": 7, \"Akshat\": 1, \"Akash\": 2} \n",
    "\n",
    "print(\"The dictionary before deletion : \" + str(test_dict))  \n",
    "pop_ele = test_dict.pop('Akash') \n",
    "print(\"Value associated to popped key is : \" + str(pop_ele)) \n",
    "print(\"Dictionary after deletion is : \" + str(test_dict)) "
   ]
  },
  {
   "cell_type": "markdown",
   "id": "f88f95df-5fdd-494e-924e-b7a5f18bab79",
   "metadata": {},
   "source": [
    "### 8. popitem() - Returns and removes the key-value pair from the dictionary"
   ]
  },
  {
   "cell_type": "markdown",
   "id": "44958a70-ff96-432b-9b1a-d0c21b605adc",
   "metadata": {},
   "source": [
    "Syntax : dict.popitem() \n",
    "\n",
    "Parameters : None \n",
    "\n",
    "Returns : A tuple containing the arbitrary key-value pair from dictionary. That pair is removed from dictionary.   \n",
    "Returns an error if dictionary is empty"
   ]
  },
  {
   "cell_type": "code",
   "execution_count": 41,
   "id": "e10dc600-8ba5-4e11-b365-ddc14f7a3eb1",
   "metadata": {},
   "outputs": [
    {
     "name": "stdout",
     "output_type": "stream",
     "text": [
      "Before using popitem(), test_dict:  {'Nikhil': 7, 'Akshat': 1, 'Akash': 2}\n",
      "The key, value pair returned is :  ('Akash', 2)\n",
      "After using popitem(), test_dict:  {'Nikhil': 7, 'Akshat': 1}\n"
     ]
    }
   ],
   "source": [
    "test_dict = {\"Nikhil\": 7, \"Akshat\": 1, \"Akash\": 2}\n",
    "\n",
    "print(\"Before using popitem(), test_dict: \", test_dict)\n",
    "\n",
    "res = test_dict.popitem()\n",
    "print('The key, value pair returned is : ', res)\n",
    "print(\"After using popitem(), test_dict: \", test_dict)"
   ]
  },
  {
   "cell_type": "markdown",
   "id": "aa719999-b361-462a-a038-4d6e0aeda409",
   "metadata": {},
   "source": [
    "### 9. setdefault() - Returns the value of a key if the key is in the dictionary else inserts the key with a value to the dictionary"
   ]
  },
  {
   "cell_type": "markdown",
   "id": "21bfeb18-de69-4a00-a5f3-ee10e2db8744",
   "metadata": {},
   "source": [
    "\n",
    "\n",
    "    Syntax: dict.setdefault(key, default_value)\n",
    "    Parameters: It takes two parameters: \n",
    "\n",
    "        key – Key to be searched in the dictionary. \n",
    "        default_value (optional) – Key with a value default_value is inserted to the dictionary if key is not in the dictionary. If not provided, the default_value will be None.\n",
    "\n",
    "    Returns: \n",
    "\n",
    "        Value of the key if it is in the dictionary. \n",
    "        None if key is not in the dictionary and default_value is not specified. \n",
    "        default_value if key is not in the dictionary and default_value is specified.\n",
    "\n"
   ]
  },
  {
   "cell_type": "code",
   "execution_count": 39,
   "id": "3eb380ba-8a30-447c-8e31-1d02b5050ba4",
   "metadata": {},
   "outputs": [
    {
     "name": "stdout",
     "output_type": "stream",
     "text": [
      "setdefault() returned: 98\n",
      "After using setdefault(): {'a': 97, 'b': 98}\n"
     ]
    }
   ],
   "source": [
    "d = {'a': 97, 'b': 98} \n",
    "print(\"setdefault() returned:\", d.setdefault('b', 999999)) \n",
    "print(\"After using setdefault():\", d)"
   ]
  },
  {
   "cell_type": "code",
   "execution_count": 38,
   "id": "68caf2c5-4791-4913-a2cc-22b29e773800",
   "metadata": {},
   "outputs": [
    {
     "name": "stdout",
     "output_type": "stream",
     "text": [
      "Dictionary before using setdefault(): {'A': 'Geeks', 'B': 'For'}\n",
      "Return value of setdefault(): Geeks\n",
      "Dictionary after using setdefault(): {'A': 'Geeks', 'B': 'For', 'C': 'Geeks'}\n"
     ]
    }
   ],
   "source": [
    "Dictionary1 = { 'A': 'Geeks', 'B': 'For'} \n",
    "print(\"Dictionary before using setdefault():\", Dictionary1) \n",
    " \n",
    "ret_value = Dictionary1.setdefault('C', \"Geeks\") \n",
    "print(\"Return value of setdefault():\", ret_value) \n",
    "\n",
    "print(\"Dictionary after using setdefault():\", Dictionary1)"
   ]
  },
  {
   "cell_type": "markdown",
   "id": "47e02251-6084-40a9-94f3-c7d2ac4725b2",
   "metadata": {},
   "source": [
    "### 10. values() - Returns a list of all the values available in a given dictionary"
   ]
  },
  {
   "cell_type": "markdown",
   "id": "a508a26d-874e-436e-98f2-86b55113f3fc",
   "metadata": {},
   "source": [
    "Syntax: dictionary_name.values()\n",
    "\n",
    "Parameters: There are no parameters \n",
    "\n",
    "Returns:  A list of all the values available in a given dictionary. The values have been stored in a reversed manner."
   ]
  },
  {
   "cell_type": "code",
   "execution_count": 22,
   "id": "a8dca5d9-b4d1-45fd-aba2-06ff4e3bb4eb",
   "metadata": {},
   "outputs": [
    {
     "name": "stdout",
     "output_type": "stream",
     "text": [
      "dict_values([2, 3, 4])\n",
      "<class 'dict_values'>\n",
      "dict_values(['5', '3', '5'])\n"
     ]
    }
   ],
   "source": [
    "dictionary = {\"raj\": 2, \"striver\": 3, \"vikram\": 4}\n",
    "print(dictionary.values())\n",
    "print(type(dictionary.values()))\n",
    "\n",
    "dictionary = {\"geeks\": \"5\", \"for\": \"3\", \"Geeks\": \"5\"}\n",
    "print(dictionary.values())"
   ]
  },
  {
   "cell_type": "code",
   "execution_count": 51,
   "id": "1b69d8a6-4ac8-4153-b567-4cf3c4ca981b",
   "metadata": {},
   "outputs": [
    {
     "name": "stdout",
     "output_type": "stream",
     "text": [
      "115000\n"
     ]
    }
   ],
   "source": [
    "salary = {\"raj\" : 50000, \"striver\" : 60000, \"vikram\" : 5000}\n",
    "\n",
    "list1 = salary.values()\n",
    "print(sum(list1))"
   ]
  },
  {
   "cell_type": "markdown",
   "id": "d64dc415-2658-45f9-80bb-0800faed1472",
   "metadata": {},
   "source": [
    "### 11. update() - Updates the dictionary with the elements of another iterable"
   ]
  },
  {
   "cell_type": "markdown",
   "id": "20cf0f94-3a50-49d8-9ffe-37496785aa8b",
   "metadata": {},
   "source": [
    "\n",
    "\n",
    "    Syntax: dict.update([other])\n",
    "\n",
    "    Parameters: This method takes either a dictionary or an iterable object of key/value pairs (generally tuples) as parameters.\n",
    "\n",
    "    Returns: It doesn’t return any value but updates the Dictionary with elements from a dictionary object or an iterable object of key/value pairs.\n"
   ]
  },
  {
   "cell_type": "code",
   "execution_count": 35,
   "id": "facd1625-3bc4-4743-a10f-b5632fc4ab86",
   "metadata": {},
   "outputs": [
    {
     "name": "stdout",
     "output_type": "stream",
     "text": [
      "Original Dictionary:\n",
      "{'A': 'Geeks', 'B': 'For'}\n",
      "Dictionary after updation:\n",
      "{'A': 'Geeks', 'B': 'Geeks'}\n"
     ]
    }
   ],
   "source": [
    "Dictionary1 = {'A': 'Geeks', 'B': 'For', }\n",
    "Dictionary2 = {'B': 'Geeks'}\n",
    "\n",
    "print(\"Original Dictionary:\")\n",
    "print(Dictionary1)\n",
    "\n",
    "Dictionary1.update(Dictionary2)\n",
    "print(\"Dictionary after updation:\")\n",
    "print(Dictionary1)"
   ]
  },
  {
   "cell_type": "code",
   "execution_count": 34,
   "id": "db12ac72-ada8-4e4e-94b2-eaf3b248cd4e",
   "metadata": {},
   "outputs": [
    {
     "name": "stdout",
     "output_type": "stream",
     "text": [
      "Original Dictionary:\n",
      "{'A': 'Geeks'}\n",
      "Dictionary after updation:\n",
      "{'A': 'Geeks', 'B': 'For', 'C': 'Geeks'}\n"
     ]
    }
   ],
   "source": [
    "Dictionary1 = {'A': 'Geeks'}\n",
    "print(\"Original Dictionary:\")\n",
    "print(Dictionary1)\n",
    "\n",
    "Dictionary1.update(B='For', C='Geeks')\n",
    "print(\"Dictionary after updation:\")\n",
    "print(Dictionary1)"
   ]
  },
  {
   "cell_type": "markdown",
   "id": "edccc772-bb1e-427b-8994-f534d1efb7a4",
   "metadata": {},
   "source": [
    "## Sets"
   ]
  },
  {
   "cell_type": "markdown",
   "id": "377a9e3c-38f4-469c-a8c8-6d345e621f4c",
   "metadata": {},
   "source": [
    "## Creating an empty set"
   ]
  },
  {
   "cell_type": "code",
   "execution_count": 139,
   "id": "9d1a205f-6478-4585-b553-e0d38dd765e5",
   "metadata": {},
   "outputs": [
    {
     "name": "stdout",
     "output_type": "stream",
     "text": [
      "<class 'dict'>\n",
      "<class 'set'>\n"
     ]
    }
   ],
   "source": [
    "a={}\n",
    "b=set()\n",
    "print(type(a))\n",
    "print(type(b))"
   ]
  },
  {
   "cell_type": "markdown",
   "id": "7722e52a-feb7-48e5-a1b5-255ec8981f3c",
   "metadata": {},
   "source": [
    "#### Duplicate elements are ignored\n",
    "Only distinct elements are part of the set  \n",
    "#### Hence, sets can be used to remove duplicate elements form other datatypes"
   ]
  },
  {
   "cell_type": "code",
   "execution_count": 147,
   "id": "3df8c7f7-b0a9-45ff-8ff6-c1fa0f6af240",
   "metadata": {},
   "outputs": [
    {
     "name": "stdout",
     "output_type": "stream",
     "text": [
      "{1, 2}\n",
      "[1, 2]\n",
      "{'h', 'o', 'e', 'l'}\n",
      "{'Hello', 'Police'}\n"
     ]
    }
   ],
   "source": [
    "s1 = {1,1,1,1,2}\n",
    "print(s1)\n",
    "l1=[1,1,1,1,2]\n",
    "print(list(set(l1)))\n",
    "print(set('hello')) \n",
    "print(set({'Hello':1,'Police':34}))"
   ]
  },
  {
   "cell_type": "code",
   "execution_count": 149,
   "id": "99d13d77-bffb-46a7-a555-2bab1cea997d",
   "metadata": {},
   "outputs": [
    {
     "name": "stdout",
     "output_type": "stream",
     "text": [
      "{'h', 'o', 'e', 'l'}\n",
      "{'hello'}\n",
      "{1, 2, 3}\n"
     ]
    },
    {
     "ename": "TypeError",
     "evalue": "unhashable type: 'list'",
     "output_type": "error",
     "traceback": [
      "\u001b[0;31m---------------------------------------------------------------------------\u001b[0m",
      "\u001b[0;31mTypeError\u001b[0m                                 Traceback (most recent call last)",
      "Cell \u001b[0;32mIn[149], line 6\u001b[0m\n\u001b[1;32m      4\u001b[0m li \u001b[38;5;241m=\u001b[39m[\u001b[38;5;241m1\u001b[39m,\u001b[38;5;241m2\u001b[39m,\u001b[38;5;241m2\u001b[39m,\u001b[38;5;241m3\u001b[39m]\n\u001b[1;32m      5\u001b[0m \u001b[38;5;28mprint\u001b[39m(\u001b[38;5;28mset\u001b[39m(li))\n\u001b[0;32m----> 6\u001b[0m \u001b[38;5;28mprint\u001b[39m({li})\n",
      "\u001b[0;31mTypeError\u001b[0m: unhashable type: 'list'"
     ]
    }
   ],
   "source": [
    "a='hello'\n",
    "print(set(a))\n",
    "print({a})\n",
    "li =[1,2,2,3]\n",
    "print(set(li))\n",
    "print({li})"
   ]
  },
  {
   "cell_type": "markdown",
   "id": "4a4bd2f0-48d2-403d-8250-15a4e3a31236",
   "metadata": {},
   "source": [
    "## Adding and Removing elements\n",
    "\n",
    "We can add and remove elements form the set with the help of the below functions – \n",
    "\n",
    "### 1.    add(element): Adds a given element to a set\n",
    "### 2.    clear(): Removes all elements from the set"
   ]
  },
  {
   "cell_type": "markdown",
   "id": "9cd572c5-066d-42ae-aab2-dd9bf4ebdb98",
   "metadata": {},
   "source": [
    "### 3.    discard(value): Removes the element from the set - The discard() method is different from the remove() method, because the remove() method will raise an error if the specified item does not exist, and the discard() method will not."
   ]
  },
  {
   "cell_type": "code",
   "execution_count": 75,
   "id": "2412ee62-baba-4375-931a-2e12f27d6bfd",
   "metadata": {},
   "outputs": [
    {
     "name": "stdout",
     "output_type": "stream",
     "text": [
      "{'apple', 'cherry', 'banana'}\n",
      "{'apple', 'cherry'}\n"
     ]
    }
   ],
   "source": [
    "fruits = {\"apple\", \"banana\", \"cherry\",'banana'}\n",
    "print(fruits)\n",
    "fruits.discard(\"banana\")\n",
    "print(fruits) "
   ]
  },
  {
   "cell_type": "markdown",
   "id": "d58b31b8-1533-4209-a0c1-b03e496fcea4",
   "metadata": {},
   "source": [
    "### 4. remove(): Removes the element from the set "
   ]
  },
  {
   "cell_type": "code",
   "execution_count": 2,
   "id": "e76ea2a6-e084-47c5-b84e-2c8292c406ac",
   "metadata": {},
   "outputs": [
    {
     "name": "stdout",
     "output_type": "stream",
     "text": [
      "{'cherry', 'apple'}\n"
     ]
    }
   ],
   "source": [
    "fruits = {\"apple\", \"banana\", \"cherry\",'banana'}\n",
    "fruits.remove(\"banana\")\n",
    "print(fruits) "
   ]
  },
  {
   "cell_type": "markdown",
   "id": "54f31acb-837a-4e84-8813-74d66062673d",
   "metadata": {},
   "source": [
    "### 5. pop(): Returns and removes a 'random' element from the set"
   ]
  },
  {
   "cell_type": "code",
   "execution_count": 11,
   "id": "139662d0-eb62-4ba7-8d20-452b211d0cbc",
   "metadata": {},
   "outputs": [
    {
     "name": "stdout",
     "output_type": "stream",
     "text": [
      "{'banana', 'apple'}\n"
     ]
    }
   ],
   "source": [
    "fruits = {\"apple\", \"banana\", \"cherry\"}\n",
    "fruits.pop()\n",
    "print(fruits) "
   ]
  },
  {
   "cell_type": "code",
   "execution_count": 14,
   "id": "6a8ef979-5653-4e29-a4d6-cdf0bfb03e31",
   "metadata": {},
   "outputs": [
    {
     "name": "stdout",
     "output_type": "stream",
     "text": [
      "{'food', 'cherry', 'apple', 'good'}\n"
     ]
    }
   ],
   "source": [
    "fruits = {\"apple\", \"banana\", \"cherry\",'food','good'}\n",
    "fruits.pop()\n",
    "print(fruits) "
   ]
  },
  {
   "cell_type": "code",
   "execution_count": 50,
   "id": "6400b640-2573-43bc-af5a-785522e294be",
   "metadata": {},
   "outputs": [
    {
     "name": "stdout",
     "output_type": "stream",
     "text": [
      "{'banana', 'food', 'cherry', 'good'}\n"
     ]
    }
   ],
   "source": [
    "fruits = { 'pineapple',\"banana\", \"cherry\",'food','good'}\n",
    "fruits.pop()\n",
    "print(fruits) "
   ]
  },
  {
   "cell_type": "markdown",
   "id": "f0fc4c15-eeb7-4411-8ce2-464329454b2a",
   "metadata": {},
   "source": [
    "### 6. set1.update(set2,list3,....)\n",
    "\n",
    "    Syntax :  set1.update(set2) \n",
    "\n",
    "    Here set1 is the set in which set2 will be added.\n",
    "\n",
    "    Parameters : Update() method takes any number of argument. The arguments can be a set, list, tuples or a dictionary. It automatically converts into a set and adds to the set. \n",
    "\n",
    "    Return value : This method adds set2 to set1 and returns nothing. "
   ]
  },
  {
   "cell_type": "code",
   "execution_count": 74,
   "id": "a2f2de45-0298-45f6-8c96-48871fe4dab4",
   "metadata": {},
   "outputs": [
    {
     "name": "stdout",
     "output_type": "stream",
     "text": [
      "Updated set:  {1, 2, 3, 4, 5, 6, 7, 8, 9, 10, 23, 90, 2333}\n"
     ]
    }
   ],
   "source": [
    "number = {1, 2, 3, 4, 5} \n",
    "num_Dict = {6: 'Six', 7: 'Seven', 8: 'Eight',\n",
    "            9: 'Nine', 10: 'Ten'}\n",
    "li = [23,2333,90]\n",
    "number.update(num_Dict,li)\n",
    "print(\"Updated set: \", number)"
   ]
  },
  {
   "cell_type": "markdown",
   "id": "236318bc-a1b3-4e4a-9984-18a5c040322e",
   "metadata": {},
   "source": [
    "## General Set Functions"
   ]
  },
  {
   "cell_type": "markdown",
   "id": "3f835079-2be4-4165-b971-ff9caa07104f",
   "metadata": {},
   "source": [
    "### 7. copy() - Returns a shallow copy of the set"
   ]
  },
  {
   "cell_type": "markdown",
   "id": "b1e7b300-bcfd-40c6-8642-e2b900268e77",
   "metadata": {},
   "source": [
    "### 8. frozenset(element)  \n",
    "    Syntax : frozenset(iterable_object_name)  \n",
    "    Return :  Returns an equivalent frozenset object.    \n",
    "    Frozen sets are immutable sets that allow you to perform various set operations such as union, intersection, difference, and symmetric difference."
   ]
  },
  {
   "cell_type": "code",
   "execution_count": 89,
   "id": "9c6f9459-6a23-4695-9515-dbafe23997c7",
   "metadata": {},
   "outputs": [
    {
     "name": "stdout",
     "output_type": "stream",
     "text": [
      "The frozen set is: frozenset({'age', 'name', 'address'})\n",
      "frozenset()\n"
     ]
    }
   ],
   "source": [
    "Student = {\"name\": \"Ankit\", \"age\": 21,\"address\": \"Allahabad\"}\n",
    "fs = frozenset(Student)\n",
    "print('The frozen set is:', fs)\n",
    "print(frozenset())"
   ]
  },
  {
   "cell_type": "markdown",
   "id": "0cf9b5ca-4b5a-4fb9-b271-0057c157f432",
   "metadata": {},
   "source": [
    "### 9. difference() - Returns a set that is the difference between two sets (can also use lists)\n",
    "Can also use '-' to find difference  \n",
    "If we have equal sets then it will return the null set. "
   ]
  },
  {
   "cell_type": "code",
   "execution_count": 90,
   "id": "8daa3869-ef0a-444e-b319-c719e8a6bf98",
   "metadata": {},
   "outputs": [
    {
     "name": "stdout",
     "output_type": "stream",
     "text": [
      "{10, 20}\n",
      "{100, 60}\n",
      "set()\n",
      "{20, 10}\n"
     ]
    },
    {
     "ename": "AttributeError",
     "evalue": "'list' object has no attribute 'difference'",
     "output_type": "error",
     "traceback": [
      "\u001b[0;31m---------------------------------------------------------------------------\u001b[0m",
      "\u001b[0;31mAttributeError\u001b[0m                            Traceback (most recent call last)",
      "Cell \u001b[0;32mIn[90], line 9\u001b[0m\n\u001b[1;32m      7\u001b[0m \u001b[38;5;28mprint\u001b[39m(C\u001b[38;5;241m.\u001b[39mdifference(A))\n\u001b[1;32m      8\u001b[0m \u001b[38;5;28mprint\u001b[39m(A\u001b[38;5;241m.\u001b[39mdifference(li))\n\u001b[0;32m----> 9\u001b[0m \u001b[38;5;28mprint\u001b[39m(\u001b[43mli\u001b[49m\u001b[38;5;241;43m.\u001b[39;49m\u001b[43mdifference\u001b[49m(li))\n",
      "\u001b[0;31mAttributeError\u001b[0m: 'list' object has no attribute 'difference'"
     ]
    }
   ],
   "source": [
    "A = {10, 20, 30, 40, 80}\n",
    "B = {100, 30, 80, 40, 60}\n",
    "li = [100,100,100, 30, 80, 40, 60]\n",
    "print (A.difference(B))\n",
    "print (B-A)\n",
    "C = A\n",
    "print(C.difference(A))\n",
    "print(A.difference(li))\n",
    "print(li.difference(li))"
   ]
  },
  {
   "cell_type": "code",
   "execution_count": 87,
   "id": "c54e3c8b-eca8-4651-8dd0-a01e8dce44dc",
   "metadata": {},
   "outputs": [
    {
     "ename": "TypeError",
     "evalue": "unsupported operand type(s) for -: 'set' and 'list'",
     "output_type": "error",
     "traceback": [
      "\u001b[0;31m---------------------------------------------------------------------------\u001b[0m",
      "\u001b[0;31mTypeError\u001b[0m                                 Traceback (most recent call last)",
      "Cell \u001b[0;32mIn[87], line 3\u001b[0m\n\u001b[1;32m      1\u001b[0m B \u001b[38;5;241m=\u001b[39m {\u001b[38;5;241m100\u001b[39m, \u001b[38;5;241m30\u001b[39m, \u001b[38;5;241m80\u001b[39m, \u001b[38;5;241m40\u001b[39m, \u001b[38;5;241m60\u001b[39m}\n\u001b[1;32m      2\u001b[0m li \u001b[38;5;241m=\u001b[39m [\u001b[38;5;241m100\u001b[39m,\u001b[38;5;241m100\u001b[39m,\u001b[38;5;241m100\u001b[39m, \u001b[38;5;241m30\u001b[39m, \u001b[38;5;241m80\u001b[39m, \u001b[38;5;241m40\u001b[39m, \u001b[38;5;241m60\u001b[39m]\n\u001b[0;32m----> 3\u001b[0m \u001b[38;5;28mprint\u001b[39m(\u001b[43mB\u001b[49m\u001b[38;5;241;43m-\u001b[39;49m\u001b[43mli\u001b[49m)\n",
      "\u001b[0;31mTypeError\u001b[0m: unsupported operand type(s) for -: 'set' and 'list'"
     ]
    }
   ],
   "source": [
    "B = {100, 30, 80, 40, 60}\n",
    "li = [100,100,100, 30, 80, 40, 60]\n",
    "print(B-li)"
   ]
  },
  {
   "cell_type": "markdown",
   "id": "b3b1ae88-491f-468b-ab11-061c0ab34391",
   "metadata": {},
   "source": [
    "### 10. difference_update()\n",
    "The set difference() method will get the (A – B) and will return a new set. The set difference_update() method modifies the existing set."
   ]
  },
  {
   "cell_type": "code",
   "execution_count": 76,
   "id": "5e13e456-8ca8-41ce-8584-015a18e007f7",
   "metadata": {},
   "outputs": [
    {
     "name": "stdout",
     "output_type": "stream",
     "text": [
      "{20, 10}\n"
     ]
    }
   ],
   "source": [
    "A = {10, 20, 30, 40, 80}\n",
    "B = {100, 30, 80, 40, 60}\n",
    "A.difference_update(B)\n",
    "print (A)"
   ]
  },
  {
   "cell_type": "markdown",
   "id": "a4054a2f-0ada-4179-9f52-9a57d55eceae",
   "metadata": {},
   "source": [
    "### 11. intersection() - Returns a set that has the intersection of all sets\n",
    "Syntax: set1.intersection(set2, list3, dict4….) \n",
    "\n",
    "Return: Returns a set which has the intersection of all sets(set1, set2, set3…) with set1. \n",
    "\n",
    "It returns a copy of set1 only if no parameter is passed. \n",
    "\n",
    "We can also get intersections using ‘&’ operator."
   ]
  },
  {
   "cell_type": "code",
   "execution_count": 86,
   "id": "c032d2be-8770-4c51-8902-b6856a8af688",
   "metadata": {},
   "outputs": [
    {
     "name": "stdout",
     "output_type": "stream",
     "text": [
      "set1 intersection set2 :  {4, 6}\n",
      "set()\n",
      "{2}\n"
     ]
    },
    {
     "ename": "TypeError",
     "evalue": "unsupported operand type(s) for &: 'set' and 'list'",
     "output_type": "error",
     "traceback": [
      "\u001b[0;31m---------------------------------------------------------------------------\u001b[0m",
      "\u001b[0;31mTypeError\u001b[0m                                 Traceback (most recent call last)",
      "Cell \u001b[0;32mIn[86], line 9\u001b[0m\n\u001b[1;32m      7\u001b[0m \u001b[38;5;28mprint\u001b[39m(set1 \u001b[38;5;241m&\u001b[39m set2 \u001b[38;5;241m&\u001b[39m set3)\n\u001b[1;32m      8\u001b[0m \u001b[38;5;28mprint\u001b[39m(set1\u001b[38;5;241m.\u001b[39mintersection(li))\n\u001b[0;32m----> 9\u001b[0m \u001b[38;5;28mprint\u001b[39m(\u001b[43mset1\u001b[49m\u001b[43m \u001b[49m\u001b[38;5;241;43m&\u001b[39;49m\u001b[43m \u001b[49m\u001b[43mli\u001b[49m)\n",
      "\u001b[0;31mTypeError\u001b[0m: unsupported operand type(s) for &: 'set' and 'list'"
     ]
    }
   ],
   "source": [
    "set1 = {2, 4, 5, 6}\n",
    "set2 = {4, 6, 7, 8}\n",
    "set3 = {1, 0, 12}\n",
    "li=[1,0,0,0,2]\n",
    "print(\"set1 intersection set2 : \",\n",
    "      set1.intersection(set2))\n",
    "print(set1 & set2 & set3)\n",
    "print(set1.intersection(li))\n",
    "print(set1 & li)"
   ]
  },
  {
   "cell_type": "markdown",
   "id": "550ae2ea-9eef-464e-82e9-276d845dd5ee",
   "metadata": {},
   "source": [
    "### 12. intersection_update() - Updates the existing caller set with the intersection of sets"
   ]
  },
  {
   "cell_type": "markdown",
   "id": "85b1dd18-6dd0-4264-9de5-4029d94614de",
   "metadata": {},
   "source": [
    "### 13. isdisjoint() - Checks whether the sets are disjoint or not\n",
    "Syntax: set1.isdisjoint(set2)\n",
    "\n",
    "Parameters:\n",
    "\n",
    "    another set to compare with\n",
    "    or\n",
    "    an iterable (list, tuple, dictionary, and string)\n",
    "\n",
    "Return: bool\n",
    "\n",
    "Note: Two empty sets are disjoint"
   ]
  },
  {
   "cell_type": "code",
   "execution_count": 79,
   "id": "90e1158d-3379-4dd6-9444-570bd411191c",
   "metadata": {},
   "outputs": [
    {
     "name": "stdout",
     "output_type": "stream",
     "text": [
      "set1 and set2 are disjoint? True\n",
      "set1 and set3 are disjoint? False\n",
      "True\n"
     ]
    }
   ],
   "source": [
    "set1 = {2, 4, 5, 6}\n",
    "set2 = {7, 8, 9, 10}\n",
    "set3 = {1, 2}\n",
    "set4,set5 = set(),set()\n",
    "print(\"set1 and set2 are disjoint?\",set1.isdisjoint(set2))\n",
    "print(\"set1 and set3 are disjoint?\",set1.isdisjoint(set3))\n",
    "print(set4.isdisjoint(set5))"
   ]
  },
  {
   "cell_type": "code",
   "execution_count": 80,
   "id": "b20a5070-2b49-4e93-9c62-f5fe8857230f",
   "metadata": {},
   "outputs": [
    {
     "name": "stdout",
     "output_type": "stream",
     "text": [
      "Set A and List lis disjoint? False\n",
      "Set A and dict are disjoint? False\n",
      "Set A and dict2 are disjoint? True\n"
     ]
    }
   ],
   "source": [
    "A = {2, 4, 5, 6}\n",
    "# List\n",
    "lis = [1, 2, 3, 4, 5] \n",
    "# Dictionary dict, Set is formed on Keys\n",
    "dict = {1: 'Apple', 2: 'Orange'}\n",
    "# Dictionary dict2\n",
    "dict2 = {'Apple': 1, 'Orange': 2}\n",
    "print(\"Set A and List lis disjoint?\", A.isdisjoint(lis))\n",
    "print(\"Set A and dict are disjoint?\", A.isdisjoint(dict))\n",
    "print(\"Set A and dict2 are disjoint?\", A.isdisjoint(dict2))"
   ]
  },
  {
   "cell_type": "markdown",
   "id": "cfae2f47-0fd9-4689-9874-4aeef46857bc",
   "metadata": {},
   "source": [
    "### 14. issubset() - Returns True if all elements of a set A are present in another set B"
   ]
  },
  {
   "cell_type": "code",
   "execution_count": 81,
   "id": "d97207ef-b36d-4f59-927a-91f3a9989fc8",
   "metadata": {},
   "outputs": [
    {
     "name": "stdout",
     "output_type": "stream",
     "text": [
      "True\n",
      "False\n"
     ]
    }
   ],
   "source": [
    "A = {4, 1, 3, 5} \n",
    "B = {6, 0, 4, 1, 5, 0, 3, 5} \n",
    "print(A.issubset(B)) \n",
    "print(B.issubset(A)) "
   ]
  },
  {
   "cell_type": "markdown",
   "id": "18fd28e1-5356-481e-bf18-4c82addabe36",
   "metadata": {},
   "source": [
    "### 15. issuperset() - Returns True if all elements of a set A occupies set B"
   ]
  },
  {
   "cell_type": "code",
   "execution_count": 82,
   "id": "b245fe56-1056-48aa-8374-4459c5fda6d2",
   "metadata": {},
   "outputs": [
    {
     "name": "stdout",
     "output_type": "stream",
     "text": [
      "A.issuperset(B) :  False\n",
      "B.issuperset(A) :  True\n",
      "A.issuperset(C) :  False\n",
      "C.issuperset(B) :  False\n"
     ]
    }
   ],
   "source": [
    "\n",
    "A = {1, 2, 3}\n",
    "B = {1, 2, 3, 4, 5}\n",
    "C = {1, 2, 4, 5}\n",
    " \n",
    "print(\"A.issuperset(B) : \", A.issuperset(B))\n",
    "print(\"B.issuperset(A) : \", B.issuperset(A))\n",
    "print(\"A.issuperset(C) : \", A.issuperset(C))\n",
    "print(\"C.issuperset(B) : \", C.issuperset(B))\n"
   ]
  },
  {
   "cell_type": "markdown",
   "id": "621216f9-4152-4835-9a40-a81a7ec03f25",
   "metadata": {},
   "source": [
    "### 16. symmetric_difference() - Returns a set which is the symmetric difference between the two sets\n",
    "The symmetric difference of two sets set1 and set2 is the set of elements which are in either of the sets set1 or set2 but not in both. "
   ]
  },
  {
   "cell_type": "code",
   "execution_count": 83,
   "id": "4f7022f5-9b3f-4071-b262-a70e8316591a",
   "metadata": {},
   "outputs": [
    {
     "name": "stdout",
     "output_type": "stream",
     "text": [
      "{1, 4}\n",
      "{2, 5}\n"
     ]
    }
   ],
   "source": [
    "list1 = [1, 2, 3]  \n",
    "list2 = [2, 3, 4]  \n",
    "list3 = [3, 4, 5]  \n",
    "set1 = set(list1)  \n",
    "set2 = set(list2)  \n",
    "print(set1.symmetric_difference(set2))  \n",
    "print(set2.symmetric_difference(list3)) "
   ]
  },
  {
   "cell_type": "markdown",
   "id": "6c1ad9ba-ece4-45e2-b79e-7f7c0e1eac50",
   "metadata": {},
   "source": [
    "### 17. symmetric_difference_update() - Updates the existing caller set with the symmetric difference of sets"
   ]
  },
  {
   "cell_type": "markdown",
   "id": "34a82650-81b9-4a5d-9b91-dcdf0e0a556f",
   "metadata": {},
   "source": [
    "### 18. union() - Returns a set that has the union of all sets\n",
    "\n",
    "\n",
    "    Syntax: set1.union(set2, tuple3, dict4….)\n",
    "\n",
    "    Parameters: zero or more iterables\n",
    "\n",
    "    Return: Returns a set, which has the union of all sets(set1, set2, set3…) with set1. It returns a copy of set1 only if no parameter is passed.\n",
    "\n",
    "We can use “|” operator to find the union of the sets.\n"
   ]
  },
  {
   "cell_type": "code",
   "execution_count": 92,
   "id": "45138167-f9c1-4bc1-9fcf-4c5be6dea6dd",
   "metadata": {},
   "outputs": [
    {
     "name": "stdout",
     "output_type": "stream",
     "text": [
      "A U B: {2, 4, 5, 6, 7, 8, 10, 11}\n",
      "{2, 4, 5, 6, 7, 8, 10, 11}\n"
     ]
    }
   ],
   "source": [
    "A = {2, 4, 5, 6} \n",
    "B = {4, 6, 7, 8}\n",
    "C = {10,11}\n",
    "print(\"A U B:\", A.union(B,C))\n",
    "print(A|B|C)"
   ]
  },
  {
   "cell_type": "markdown",
   "id": "26e455b4-7759-435c-89f3-8f10df9a09e6",
   "metadata": {},
   "source": [
    "## Frozenset\n",
    "Frozen sets are immutable sets that allow you to perform various set operations such as union, intersection, difference, and symmetric difference."
   ]
  }
 ],
 "metadata": {
  "kernelspec": {
   "display_name": "Python 3 (ipykernel)",
   "language": "python",
   "name": "python3"
  },
  "language_info": {
   "codemirror_mode": {
    "name": "ipython",
    "version": 3
   },
   "file_extension": ".py",
   "mimetype": "text/x-python",
   "name": "python",
   "nbconvert_exporter": "python",
   "pygments_lexer": "ipython3",
   "version": "3.12.0"
  }
 },
 "nbformat": 4,
 "nbformat_minor": 5
}
