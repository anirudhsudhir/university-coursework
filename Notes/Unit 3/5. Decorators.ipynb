{
 "cells": [
  {
   "cell_type": "markdown",
   "metadata": {},
   "source": [
    "## Decorators\n",
    "Decorators are used to modify the behaviour of a function/class without changing the source code of the function\n",
    "   \n",
    "Function Decorators are used\n",
    "1. when we need to change the behavior of a function without modifying the function itself.  \n",
    "Eg: logging, test performance, verify permissions and so on.\n",
    "2. when we need to run the same code on multiple functions. This avoids writing duplicating code."
   ]
  },
  {
   "cell_type": "code",
   "execution_count": 2,
   "id": "a4fe9c85-dcb1-4b18-80e7-0717792a4754",
   "metadata": {},
   "outputs": [
    {
     "name": "stdout",
     "output_type": "stream",
     "text": [
      "Hello, before the function is called\n",
      "Inside Hello function\n",
      "Hello, after the function is called\n"
     ]
    }
   ],
   "source": [
    "def func_decorator(func):\n",
    "    def inner_func():\n",
    "        print(\"Hello, before the function is called\")\n",
    "        func()\n",
    "        print(\"Hello, after the function is called\")\n",
    "    return inner_func\n",
    "    \n",
    "def func_hello():\n",
    "    print(\"Inside Hello function\")\n",
    "\n",
    "hello = func_decorator(func_hello)\n",
    "hello()"
   ]
  },
  {
   "cell_type": "markdown",
   "metadata": {},
   "source": [
    "@func_decorator is equivalent to:\n",
    "\n",
    "func_hello = func_decorator(func_hello)"
   ]
  },
  {
   "cell_type": "code",
   "execution_count": 4,
   "id": "45914916-9ab9-4460-bc6e-73604e43eede",
   "metadata": {},
   "outputs": [
    {
     "name": "stdout",
     "output_type": "stream",
     "text": [
      "Hello, before the function is called\n",
      "Inside Hello function\n",
      "Hello, after the function is called\n"
     ]
    }
   ],
   "source": [
    "def func_decorator(func): # Decorator Function\n",
    "    def inner_func():\n",
    "        print(\"Hello, before the function is called\")\n",
    "        func()\n",
    "        print(\"Hello, after the function is called\")\n",
    "    return inner_func\n",
    "    \n",
    "@func_decorator    \n",
    "def func_hello(): # Function to be decorated\n",
    "    print(\"Inside Hello function\")\n",
    "\n",
    "#hello = func_decorator(func_hello)\n",
    "func_hello()"
   ]
  },
  {
   "cell_type": "code",
   "execution_count": 1,
   "metadata": {},
   "outputs": [
    {
     "name": "stdout",
     "output_type": "stream",
     "text": [
      "Hello\n",
      "Calling decorated function:\n",
      "ByeBye\n",
      "HelloHello\n"
     ]
    }
   ],
   "source": [
    "def disp1(fun): #decorator function\n",
    "    msg = \"Hello\"\n",
    "    print(msg)\n",
    "    def disp2(): #wrapper function\n",
    "        fun()\n",
    "        print(msg * 2)\n",
    "    return disp2\n",
    "\n",
    "@disp1\n",
    "def common(): #function to be decorated\n",
    "    print(\"Bye\" * 2)\n",
    "\n",
    "print(\"Calling decorated function:\")\n",
    "common()"
   ]
  },
  {
   "cell_type": "markdown",
   "metadata": {},
   "source": [
    "### To use parameters with decorators, use arbitrary positional and keyword arguments in the wrapper function and the function to be decorated"
   ]
  },
  {
   "cell_type": "code",
   "execution_count": 4,
   "metadata": {},
   "outputs": [
    {
     "name": "stdout",
     "output_type": "stream",
     "text": [
      "cheers is called\n",
      "Cheer up class\n",
      "**********\n",
      "cheers_info is called\n",
      "A's age is: 45\n",
      "**********\n"
     ]
    }
   ],
   "source": [
    "def dec_fun(func):\n",
    "    def wrapper_fun(*args): # Note how arbitrary positional argumnts are used in decorators for function input\n",
    "        print(\"{} is called\".format(func.__name__))\n",
    "        func(*args) #Note how arguments are passed\n",
    "        print(\"*\" * 10)\n",
    "    return wrapper_fun\n",
    "\n",
    "@dec_fun\n",
    "def cheers():\n",
    "    print(\"Cheer up class\")\n",
    "cheers()\n",
    "\n",
    "@dec_fun\n",
    "def cheers_info(name,age): #Arbitrary arguments are parsed accordingly\n",
    "    print(name,\"age is:\",age)\n",
    "cheers_info(\"A's\",45)"
   ]
  },
  {
   "cell_type": "code",
   "execution_count": 5,
   "metadata": {},
   "outputs": [
    {
     "name": "stdout",
     "output_type": "stream",
     "text": [
      "fact is called\n",
      "720\n",
      "**********\n",
      "sqrt is called\n",
      "4.0\n",
      "**********\n",
      "maximum is called\n",
      "90\n",
      "**********\n"
     ]
    }
   ],
   "source": [
    "import math\n",
    "def dec_fun(ori_fun):\n",
    "    def wrapper_fun(*args): # Note how arbitrary positional argumnts are used in decorators for function input\n",
    "        print(\"{} is called\".format(ori_fun.__name__))\n",
    "        ori_fun(*args) #Note how arguments are passed\n",
    "        print(\"*\" * 10)\n",
    "    return wrapper_fun\n",
    "\n",
    "@dec_fun\n",
    "def fact(num):\n",
    "    print(math.factorial(num))\n",
    "@dec_fun\n",
    "def sqrt(num):\n",
    "    print(math.sqrt(num))\n",
    "@dec_fun\n",
    "def maximum(*a):\n",
    "    print(max(a))\n",
    "fact(6)\n",
    "sqrt(16)\n",
    "maximum(45,23,45,89,90)"
   ]
  },
  {
   "cell_type": "markdown",
   "metadata": {},
   "source": [
    "### Chaining of Decorators\n",
    "Multiple decorators decorating a function."
   ]
  },
  {
   "cell_type": "markdown",
   "metadata": {},
   "source": [
    "@decor1  \n",
    "@decor2  \n",
    "def fun():\n",
    "\n",
    "Equivalent to\n",
    "\n",
    "fun = decor1(decor2(fun))"
   ]
  },
  {
   "cell_type": "code",
   "execution_count": 20,
   "metadata": {},
   "outputs": [
    {
     "name": "stdout",
     "output_type": "stream",
     "text": [
      "#####\n",
      "entering the wrapper function in star()\n",
      "*****\n",
      "C Section\n",
      "*****\n",
      "exiting the wrapper function in star()\n",
      "#####\n"
     ]
    }
   ],
   "source": [
    "def star(func):\n",
    "    def wrap():\n",
    "        print(\"entering the wrapper function in star()\")\n",
    "        print(\"*****\")\n",
    "        func()\n",
    "        print(\"*****\")\n",
    "        print(\"exiting the wrapper function in star()\")\n",
    "    return wrap\n",
    "\n",
    "def hash(func):\n",
    "    def wrap():\n",
    "        print(\"#####\")\n",
    "        func()\n",
    "        print(\"#####\")\n",
    "    return wrap\n",
    "\n",
    "@hash\n",
    "@star\n",
    "def display():\n",
    "    print(\"C Section\")\n",
    "display()"
   ]
  }
 ],
 "metadata": {
  "kernelspec": {
   "display_name": "Python 3 (ipykernel)",
   "language": "python",
   "name": "python3"
  },
  "language_info": {
   "codemirror_mode": {
    "name": "ipython",
    "version": 3
   },
   "file_extension": ".py",
   "mimetype": "text/x-python",
   "name": "python",
   "nbconvert_exporter": "python",
   "pygments_lexer": "ipython3",
   "version": "3.12.0"
  }
 },
 "nbformat": 4,
 "nbformat_minor": 5
}
