{
 "cells": [
  {
   "cell_type": "markdown",
   "metadata": {},
   "source": [
    "## Decorators\n",
    "1. Decorators are used to modify the behaviour of a function/class without changing the source code of the function\n",
    "2. Functions are passed as arguments and the function is called inside the nested function/ wrapper function  \n",
    "   \n",
    "Function Decorators are used\n",
    "- when we need to change the behavior of a function without\n",
    "modifying the function itself.\n",
    "Eg: logging, test performance, verify permissions and so on.\n",
    "- when we need to run the same code on multiple functions.\n",
    "This avoids writing duplicating code."
   ]
  },
  {
   "cell_type": "code",
   "execution_count": 9,
   "id": "a4fe9c85-dcb1-4b18-80e7-0717792a4754",
   "metadata": {},
   "outputs": [
    {
     "name": "stdout",
     "output_type": "stream",
     "text": [
      "Hello, before the function is called\n",
      "Inside Hello function\n",
      "Hello, after the function is called\n"
     ]
    }
   ],
   "source": [
    "def func_decorator(func):\n",
    "    def inner_func():\n",
    "        print(\"Hello, before the function is called\")\n",
    "        func()\n",
    "        print(\"Hello, after the function is called\")\n",
    "    return inner_func\n",
    "    \n",
    "def func_hello():\n",
    "    print(\"Inside Hello function\")\n",
    "\n",
    "hello = func_decorator(func_hello)\n",
    "hello()"
   ]
  },
  {
   "cell_type": "code",
   "execution_count": 11,
   "id": "45914916-9ab9-4460-bc6e-73604e43eede",
   "metadata": {},
   "outputs": [
    {
     "name": "stdout",
     "output_type": "stream",
     "text": [
      "Hello, before the function is called\n",
      "Inside Hello function\n",
      "Hello, after the function is called\n"
     ]
    }
   ],
   "source": [
    "def func_decorator(func): # Decorator Function\n",
    "    def inner_func():\n",
    "        print(\"Hello, before the function is called\")\n",
    "        func()\n",
    "        print(\"Hello, after the function is called\")\n",
    "    return inner_func\n",
    "    \n",
    "@func_decorator    \n",
    "def func_hello(): # Function to be decorated\n",
    "    print(\"Inside Hello function\")\n",
    "\n",
    "#hello = func_decorator(func_hello)\n",
    "func_hello()"
   ]
  },
  {
   "cell_type": "code",
   "execution_count": 12,
   "metadata": {},
   "outputs": [
    {
     "name": "stdout",
     "output_type": "stream",
     "text": [
      "Hello\n",
      "ByeBye\n",
      "HelloHello\n"
     ]
    }
   ],
   "source": [
    "def disp1(fun): #decorator function\n",
    "    msg = \"Hello\"\n",
    "    print(msg)\n",
    "    def disp2(): #wrapper function\n",
    "        fun()\n",
    "        print(msg * 2)\n",
    "    return disp2\n",
    "@disp1 #common = disp1(common)\n",
    "def common(): #function to be decorated\n",
    "    print(\"Bye\" * 2)\n",
    "common()"
   ]
  },
  {
   "cell_type": "code",
   "execution_count": 14,
   "metadata": {},
   "outputs": [
    {
     "name": "stdout",
     "output_type": "stream",
     "text": [
      "cheers is called\n",
      "Cheer up class\n",
      "**********\n",
      "cheers_info is called\n",
      "Dev age is: 45\n",
      "**********\n"
     ]
    }
   ],
   "source": [
    "def dec_fun(ori_fun):\n",
    "    def wrapper_fun(*args):\n",
    "        print(\"{} is called\".format(ori_fun.__name__))\n",
    "        ori_fun(*args)\n",
    "        print(\"*\" * 10)\n",
    "    return wrapper_fun\n",
    "@dec_fun\n",
    "def cheers():\n",
    "    print(\"Cheer up class\")\n",
    "cheers()\n",
    "\n",
    "@dec_fun\n",
    "def cheers_info(name,age):\n",
    "    print(name,\"age is:\",age)\n",
    "cheers_info(\"Dev\",45)"
   ]
  },
  {
   "cell_type": "code",
   "execution_count": null,
   "metadata": {},
   "outputs": [],
   "source": []
  }
 ],
 "metadata": {
  "kernelspec": {
   "display_name": "Python 3 (ipykernel)",
   "language": "python",
   "name": "python3"
  },
  "language_info": {
   "codemirror_mode": {
    "name": "ipython",
    "version": 3
   },
   "file_extension": ".py",
   "mimetype": "text/x-python",
   "name": "python",
   "nbconvert_exporter": "python",
   "pygments_lexer": "ipython3",
   "version": "3.12.0"
  }
 },
 "nbformat": 4,
 "nbformat_minor": 5
}
