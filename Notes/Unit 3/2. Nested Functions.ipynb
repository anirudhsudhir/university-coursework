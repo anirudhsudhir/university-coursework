{
 "cells": [
  {
   "cell_type": "markdown",
   "id": "590c8f2d-775e-47cf-b61d-72348f67c643",
   "metadata": {},
   "source": [
    "Functions that are defined within the definiton of another function is called nesting of function / inner function."
   ]
  },
  {
   "cell_type": "code",
   "execution_count": 3,
   "id": "d9416e9c-048d-44fb-8a5e-046f4fc2fdb0",
   "metadata": {},
   "outputs": [
    {
     "name": "stdout",
     "output_type": "stream",
     "text": [
      "This is an outer function\n",
      "This is the inner function\n"
     ]
    }
   ],
   "source": [
    "def outer():\n",
    "    print('This is an outer function')\n",
    "    \n",
    "    def inner():\n",
    "        print('This is the inner function')\n",
    "        \n",
    "    inner()\n",
    "outer()"
   ]
  },
  {
   "cell_type": "markdown",
   "id": "589d85bc-9ff6-46a0-b147-f14acc8b94e0",
   "metadata": {},
   "source": [
    "# Global, Enclosed and Local Scopes\n",
    "Local scope functions can be invoked from the enclosing scope  \n",
    "Enclosing scope functions can be invoked from the global scope"
   ]
  },
  {
   "cell_type": "code",
   "execution_count": 5,
   "id": "9c2282b2-8314-460f-85a5-5b8b136358cd",
   "metadata": {},
   "outputs": [
    {
     "name": "stdout",
     "output_type": "stream",
     "text": [
      "This is an outer function\n"
     ]
    },
    {
     "ename": "NameError",
     "evalue": "name 'inner' is not defined",
     "output_type": "error",
     "traceback": [
      "\u001b[0;31m---------------------------------------------------------------------------\u001b[0m",
      "\u001b[0;31mNameError\u001b[0m                                 Traceback (most recent call last)",
      "Cell \u001b[0;32mIn[5], line 11\u001b[0m\n\u001b[1;32m      9\u001b[0m \u001b[38;5;66;03m# Global Scope\u001b[39;00m\n\u001b[1;32m     10\u001b[0m outer()\n\u001b[0;32m---> 11\u001b[0m \u001b[43minner\u001b[49m()\n",
      "\u001b[0;31mNameError\u001b[0m: name 'inner' is not defined"
     ]
    }
   ],
   "source": [
    "def outer():\n",
    "    # Enclosing scope\n",
    "    print('This is an outer function')\n",
    "    \n",
    "    def inner():\n",
    "        # Local Scope\n",
    "        print('This is the inner function')\n",
    "        \n",
    "# Global Scope\n",
    "outer()\n",
    "inner()"
   ]
  },
  {
   "cell_type": "code",
   "execution_count": 10,
   "id": "3fb3b378-0ff3-40b4-832b-d89b747debd6",
   "metadata": {},
   "outputs": [
    {
     "name": "stdout",
     "output_type": "stream",
     "text": [
      "5\n"
     ]
    }
   ],
   "source": [
    "b=6\n",
    "def outer():\n",
    "    b=5\n",
    "    def inner():\n",
    "        print(b)\n",
    "    inner()\n",
    "\n",
    "b=7\n",
    "outer()"
   ]
  },
  {
   "cell_type": "markdown",
   "id": "deecc097-ca80-40fe-a62e-a9ca9ba81e40",
   "metadata": {},
   "source": [
    "In the below example, a new variable is created in the local scope"
   ]
  },
  {
   "cell_type": "code",
   "execution_count": 12,
   "id": "d6c69d70-fd60-4fdb-85d9-a6166375ea12",
   "metadata": {},
   "outputs": [
    {
     "name": "stdout",
     "output_type": "stream",
     "text": [
      "7\n",
      "8\n",
      "10\n",
      "7\n"
     ]
    }
   ],
   "source": [
    "x=7\n",
    "def one(x):\n",
    "    x = x+1\n",
    "    print(x)\n",
    "    def two(x):\n",
    "        x=x+2\n",
    "        print(x)\n",
    "    two(x)\n",
    "print(x)\n",
    "one(x)\n",
    "print(x)"
   ]
  },
  {
   "cell_type": "markdown",
   "id": "a869af54-e01d-406e-b2a6-3c7d93934703",
   "metadata": {},
   "source": [
    "## Behaviour is different for collections"
   ]
  },
  {
   "cell_type": "code",
   "execution_count": 16,
   "id": "d68e17dd-df5b-4f96-959b-fd3c508c8ff0",
   "metadata": {},
   "outputs": [
    {
     "name": "stdout",
     "output_type": "stream",
     "text": [
      "[100]\n",
      "[23]\n",
      "[23]\n"
     ]
    }
   ],
   "source": [
    "def f1():\n",
    "    li=[100]\n",
    "    print(li)\n",
    "    def f2():\n",
    "        li[0]=23 # Existing list is used since index is used\n",
    "        print(li)\n",
    "    f2()\n",
    "    print(li) \n",
    "f1()"
   ]
  },
  {
   "cell_type": "code",
   "execution_count": 17,
   "id": "aa546fa6-2a33-4a32-9e14-90185e29f48b",
   "metadata": {},
   "outputs": [
    {
     "name": "stdout",
     "output_type": "stream",
     "text": [
      "[100, 200]\n",
      "[1, 2]\n",
      "[100, 200]\n"
     ]
    }
   ],
   "source": [
    "def f1():\n",
    "    li=[100,200]\n",
    "    print(li)\n",
    "    def f2():\n",
    "        li=[1,2] # New list is created since assignment is being done\n",
    "        print(li)\n",
    "    f2()\n",
    "    print(li)\n",
    "f1()"
   ]
  },
  {
   "cell_type": "markdown",
   "id": "99612911-036f-47b5-a3e1-4bf9ef97bdb3",
   "metadata": {},
   "source": [
    "# Global, Local and Non-Local Variables"
   ]
  },
  {
   "cell_type": "markdown",
   "id": "b60df9cf-95c7-4c59-a696-fc086760247e",
   "metadata": {},
   "source": [
    "### Non-Local Functions\n",
    "These variables are used in nested functions and are neither global nor local.  \n",
    "They're defined in the outer function and can be accessed within the inner function  \n",
    "Nonlocal variable can be modified only using the keyword nonlocal"
   ]
  },
  {
   "cell_type": "markdown",
   "id": "9cebac2b-31f8-4e26-be70-f6f159532150",
   "metadata": {},
   "source": [
    "Here, 'a' of enclosed scope [ f1() ] is being used in f2() which returns an error"
   ]
  },
  {
   "cell_type": "code",
   "execution_count": 18,
   "id": "2148b068-216e-4dea-89ff-5ef0a1bf3b4d",
   "metadata": {},
   "outputs": [
    {
     "ename": "UnboundLocalError",
     "evalue": "cannot access local variable 'a' where it is not associated with a value",
     "output_type": "error",
     "traceback": [
      "\u001b[0;31m---------------------------------------------------------------------------\u001b[0m",
      "\u001b[0;31mUnboundLocalError\u001b[0m                         Traceback (most recent call last)",
      "Cell \u001b[0;32mIn[18], line 8\u001b[0m\n\u001b[1;32m      6\u001b[0m     f2()\n\u001b[1;32m      7\u001b[0m     \u001b[38;5;28mprint\u001b[39m(a)\n\u001b[0;32m----> 8\u001b[0m \u001b[43mf1\u001b[49m\u001b[43m(\u001b[49m\u001b[43m)\u001b[49m\n",
      "Cell \u001b[0;32mIn[18], line 6\u001b[0m, in \u001b[0;36mf1\u001b[0;34m()\u001b[0m\n\u001b[1;32m      4\u001b[0m     a\u001b[38;5;241m=\u001b[39ma\u001b[38;5;241m+\u001b[39m\u001b[38;5;241m1\u001b[39m\n\u001b[1;32m      5\u001b[0m     \u001b[38;5;28mprint\u001b[39m(a)\n\u001b[0;32m----> 6\u001b[0m \u001b[43mf2\u001b[49m\u001b[43m(\u001b[49m\u001b[43m)\u001b[49m\n\u001b[1;32m      7\u001b[0m \u001b[38;5;28mprint\u001b[39m(a)\n",
      "Cell \u001b[0;32mIn[18], line 4\u001b[0m, in \u001b[0;36mf1.<locals>.f2\u001b[0;34m()\u001b[0m\n\u001b[1;32m      3\u001b[0m \u001b[38;5;28;01mdef\u001b[39;00m \u001b[38;5;21mf2\u001b[39m():\n\u001b[0;32m----> 4\u001b[0m     a\u001b[38;5;241m=\u001b[39m\u001b[43ma\u001b[49m\u001b[38;5;241m+\u001b[39m\u001b[38;5;241m1\u001b[39m\n\u001b[1;32m      5\u001b[0m     \u001b[38;5;28mprint\u001b[39m(a)\n",
      "\u001b[0;31mUnboundLocalError\u001b[0m: cannot access local variable 'a' where it is not associated with a value"
     ]
    }
   ],
   "source": [
    "def f1():\n",
    "    a=1\n",
    "    def f2():\n",
    "        a=a+1\n",
    "        print(a)\n",
    "    f2()\n",
    "    print(a)\n",
    "f1()"
   ]
  },
  {
   "cell_type": "code",
   "execution_count": 19,
   "id": "6de5c556-4544-4fb6-8ded-5bf6e7bf371b",
   "metadata": {},
   "outputs": [
    {
     "name": "stdout",
     "output_type": "stream",
     "text": [
      "2\n",
      "2\n"
     ]
    }
   ],
   "source": [
    "def f1():\n",
    "    a=1\n",
    "    def f2():\n",
    "        nonlocal a\n",
    "        a=a+1\n",
    "        print(a)\n",
    "    f2()\n",
    "    print(a)\n",
    "f1()"
   ]
  },
  {
   "cell_type": "markdown",
   "id": "42339d8a-ab16-4fed-8521-1e290c29c3a8",
   "metadata": {},
   "source": [
    "## The inner function can however access the outer variables"
   ]
  },
  {
   "cell_type": "code",
   "execution_count": 32,
   "id": "f5058e02-2e9f-4cb8-983e-c68b443386c9",
   "metadata": {},
   "outputs": [
    {
     "name": "stdout",
     "output_type": "stream",
     "text": [
      "1\n",
      "1\n"
     ]
    }
   ],
   "source": [
    "def f1():\n",
    "    a=1\n",
    "    def f2():\n",
    "        print(a)\n",
    "    f2()\n",
    "    print(a)\n",
    "f1()"
   ]
  },
  {
   "cell_type": "markdown",
   "id": "5af8ab51-259a-4d99-883b-278653a8e161",
   "metadata": {},
   "source": [
    "## In Python, shallow copies of the function are created when assigning function without ()\n",
    "With (), deep copy takes place"
   ]
  },
  {
   "cell_type": "code",
   "execution_count": 2,
   "id": "a0289480-0179-449b-b6af-fc2acdfd7515",
   "metadata": {},
   "outputs": [
    {
     "name": "stdout",
     "output_type": "stream",
     "text": [
      "2\n",
      "2\n"
     ]
    }
   ],
   "source": [
    "def f1():\n",
    "    a=1\n",
    "    def f2():\n",
    "        nonlocal a\n",
    "        a=2\n",
    "    f2()\n",
    "    print(a)\n",
    "a=f1\n",
    "b=a\n",
    "a()\n",
    "f1()"
   ]
  },
  {
   "cell_type": "code",
   "execution_count": 3,
   "id": "2926aeb3-012f-4294-b0de-10aa1c843282",
   "metadata": {},
   "outputs": [
    {
     "ename": "SyntaxError",
     "evalue": "cannot delete function call (3027484794.py, line 1)",
     "output_type": "error",
     "traceback": [
      "\u001b[0;36m  Cell \u001b[0;32mIn[3], line 1\u001b[0;36m\u001b[0m\n\u001b[0;31m    del f1()\u001b[0m\n\u001b[0m        ^\u001b[0m\n\u001b[0;31mSyntaxError\u001b[0m\u001b[0;31m:\u001b[0m cannot delete function call\n"
     ]
    }
   ],
   "source": [
    "del f1()"
   ]
  },
  {
   "cell_type": "code",
   "execution_count": 31,
   "id": "4632b8c2-6c72-45a5-bcd2-34653dd8a4c5",
   "metadata": {},
   "outputs": [
    {
     "name": "stdout",
     "output_type": "stream",
     "text": [
      "2\n"
     ]
    }
   ],
   "source": [
    "del f1\n",
    "del a\n",
    "b()"
   ]
  },
  {
   "cell_type": "code",
   "execution_count": 1,
   "id": "d691e9c3-df99-4902-9fd4-dbdca08f700c",
   "metadata": {},
   "outputs": [
    {
     "name": "stdout",
     "output_type": "stream",
     "text": [
      "2\n"
     ]
    }
   ],
   "source": [
    "def f1():\n",
    "    a=1\n",
    "    def f2():\n",
    "        nonlocal a\n",
    "        a=2\n",
    "    f2()\n",
    "    print(a)\n",
    "f1\n",
    "a=f1()\n",
    "b=a"
   ]
  },
  {
   "cell_type": "code",
   "execution_count": 2,
   "id": "edda1140-ad95-4005-9155-8a286df9a15e",
   "metadata": {},
   "outputs": [
    {
     "ename": "TypeError",
     "evalue": "'NoneType' object is not callable",
     "output_type": "error",
     "traceback": [
      "\u001b[0;31m---------------------------------------------------------------------------\u001b[0m",
      "\u001b[0;31mTypeError\u001b[0m                                 Traceback (most recent call last)",
      "Cell \u001b[0;32mIn[2], line 3\u001b[0m\n\u001b[1;32m      1\u001b[0m \u001b[38;5;28;01mdel\u001b[39;00m f1\n\u001b[1;32m      2\u001b[0m \u001b[38;5;28;01mdel\u001b[39;00m a\n\u001b[0;32m----> 3\u001b[0m \u001b[43mb\u001b[49m\u001b[43m(\u001b[49m\u001b[43m)\u001b[49m\n",
      "\u001b[0;31mTypeError\u001b[0m: 'NoneType' object is not callable"
     ]
    }
   ],
   "source": [
    "del f1\n",
    "del a\n",
    "b()"
   ]
  }
 ],
 "metadata": {
  "kernelspec": {
   "display_name": "Python 3 (ipykernel)",
   "language": "python",
   "name": "python3"
  },
  "language_info": {
   "codemirror_mode": {
    "name": "ipython",
    "version": 3
   },
   "file_extension": ".py",
   "mimetype": "text/x-python",
   "name": "python",
   "nbconvert_exporter": "python",
   "pygments_lexer": "ipython3",
   "version": "3.12.0"
  }
 },
 "nbformat": 4,
 "nbformat_minor": 5
}
