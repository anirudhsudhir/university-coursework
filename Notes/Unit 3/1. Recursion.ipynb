{
 "cells": [
  {
   "cell_type": "markdown",
   "id": "9d1a6529-c997-4e0f-8482-62344d5fa856",
   "metadata": {},
   "source": [
    "### Recursion\n",
    "A process in which a function calls itself directly or indirectly\n",
    "\n",
    "### How Recursion Works?\n",
    "1. Recursion is implemented using stack because activation records are to be stored in LIFO order (last in first out).\n",
    "2. An activation record of a function call contains arguments, return address and local variables of the function.\n",
    "3. Stack is a linear data structure in which elements are inserted to the top and deleted from the top.\n",
    "\n",
    "##### Advantages:\n",
    "1. Recursive calls makes the code look simple\n",
    "2. Complex task can be broken down into simpler subproblems\n",
    "\n",
    "##### Disadvantages:\n",
    "1. Sometimes the logic is hard to follow(Winding phase and unwinding phase)\n",
    "2. Recursive functions are hard to debug\n",
    "3. Recursive calls are expensive(inefficient): Take up memory and time\n",
    "\n",
    "##### Criteria:\n",
    "1. Should have a terminating/stopping condition\n",
    "2. Each recursive call must move towards the terminating condition\n",
    "\n",
    "#### Iteration:\n",
    "1. Set of program statements executed repeatedly\n",
    "2. Implemented using Loops\n",
    "3. Termination condition is defined in the definition of the loop\n",
    "4. Leads to infinite loop, if the condition in the loop never becomes false\n",
    "5. It is faster than recursion\n",
    "6. Uses less memory compared to recursion\n",
    "\n",
    "Recursion:\n",
    "1. Function calls itself\n",
    "2. Implemented using Function calls\n",
    "3. Termination condition is defined within the recursive function\n",
    "4. Leads to infinite recursion, if does not meet termination condition\n",
    "5. It is slower than iteration\n",
    "6. Uses more memory than iteration"
   ]
  },
  {
   "cell_type": "code",
   "execution_count": 1,
   "id": "749a5397-c628-4dc6-81f7-94ce8af8e547",
   "metadata": {},
   "outputs": [
    {
     "data": {
      "text/plain": [
       "3000"
      ]
     },
     "execution_count": 1,
     "metadata": {},
     "output_type": "execute_result"
    }
   ],
   "source": [
    "import sys\n",
    "sys.getrecursionlimit() #Can be modified by user\n",
    "# Max no. of times a func can be called"
   ]
  },
  {
   "cell_type": "code",
   "execution_count": 1,
   "id": "b99e76de-68ef-48d4-bf20-f1adb443fd5e",
   "metadata": {},
   "outputs": [
    {
     "name": "stdout",
     "output_type": "stream",
     "text": [
      "5 4 3 2 1 0 "
     ]
    }
   ],
   "source": [
    "def nums(i):\n",
    "    if i==0:\n",
    "        print(i,end=' ')\n",
    "    else:\n",
    "        print(i,end=' ')\n",
    "        nums(i-1)\n",
    "nums(5)"
   ]
  },
  {
   "cell_type": "code",
   "execution_count": 3,
   "id": "1c1de25f-b133-4e16-8f6d-4fe0ff865bb1",
   "metadata": {},
   "outputs": [
    {
     "data": {
      "text/plain": [
       "479001600"
      ]
     },
     "execution_count": 3,
     "metadata": {},
     "output_type": "execute_result"
    }
   ],
   "source": [
    "def fac(i):\n",
    "    if i==0:\n",
    "        return 1\n",
    "    return i*fac(i-1)\n",
    "fac(12)"
   ]
  },
  {
   "cell_type": "markdown",
   "id": "6805b4b3-0180-4dc6-a5ae-9a7a17686fd5",
   "metadata": {},
   "source": [
    "### Euclidean algo for GCD or HCF\n",
    "1. Division method "
   ]
  },
  {
   "cell_type": "code",
   "execution_count": 2,
   "id": "5555827f-a3e3-4896-af3b-db368b140580",
   "metadata": {},
   "outputs": [
    {
     "data": {
      "text/plain": [
       "2"
      ]
     },
     "execution_count": 2,
     "metadata": {},
     "output_type": "execute_result"
    }
   ],
   "source": [
    "def gcd(a,b):\n",
    "    if b==0:\n",
    "        return a\n",
    "    return gcd(b,a%b)\n",
    "gcd(12,2)"
   ]
  },
  {
   "cell_type": "markdown",
   "id": "95568c8d-75c3-4d1a-a7b2-75cf94358eba",
   "metadata": {},
   "source": [
    "2. Subtraction method"
   ]
  },
  {
   "cell_type": "code",
   "execution_count": 19,
   "id": "46510727-06be-4446-9a45-9190f8d2062b",
   "metadata": {},
   "outputs": [
    {
     "data": {
      "text/plain": [
       "4"
      ]
     },
     "execution_count": 19,
     "metadata": {},
     "output_type": "execute_result"
    }
   ],
   "source": [
    "def gcd2(a,b):\n",
    "    if a>b:\n",
    "        return gcd(a-b,b)\n",
    "    elif a<b:\n",
    "        return gcd(a,b-a)\n",
    "    else:\n",
    "        return a\n",
    "gcd(20,12)"
   ]
  },
  {
   "cell_type": "markdown",
   "id": "b34aaac2-c329-4b38-82a3-c02390c9d0e2",
   "metadata": {},
   "source": [
    "### Fibonacci"
   ]
  },
  {
   "cell_type": "code",
   "execution_count": 9,
   "id": "922a8119-a6dd-44cb-a1e2-4749f986bd29",
   "metadata": {},
   "outputs": [
    {
     "name": "stdout",
     "output_type": "stream",
     "text": [
      "0 1 1 2 3 5 8 13 "
     ]
    }
   ],
   "source": [
    "def fib(num):\n",
    "    if num <= 1:\n",
    "        return num\n",
    "    return fib(num-1) + fib(num-2)\n",
    "\n",
    "for i in range(int(input(\"Enter the number of terms: \"))):\n",
    "    print(fib(i),end=' ')\n"
   ]
  },
  {
   "cell_type": "markdown",
   "id": "002a9458-110a-4ab0-ad0f-cce8ef9b08aa",
   "metadata": {},
   "source": [
    "### Length of string"
   ]
  },
  {
   "cell_type": "code",
   "execution_count": 4,
   "id": "46a218aa-9ca5-4cb8-bdae-efcb042dd168",
   "metadata": {},
   "outputs": [
    {
     "data": {
      "text/plain": [
       "12"
      ]
     },
     "execution_count": 4,
     "metadata": {},
     "output_type": "execute_result"
    }
   ],
   "source": [
    "def length(string):\n",
    "    if string == '':\n",
    "        return 0\n",
    "    return 1+length(string[1:])\n",
    "length('hello world!')"
   ]
  },
  {
   "cell_type": "markdown",
   "id": "7e87e9b4-6700-4462-b948-c6bf58a231f9",
   "metadata": {},
   "source": [
    "### Reverse a string"
   ]
  },
  {
   "cell_type": "code",
   "execution_count": 5,
   "id": "68e2950d-349f-46a9-8cd3-59c19ffa9481",
   "metadata": {},
   "outputs": [
    {
     "data": {
      "text/plain": [
       "'dlrow olleh'"
      ]
     },
     "execution_count": 5,
     "metadata": {},
     "output_type": "execute_result"
    }
   ],
   "source": [
    "def rev(string):\n",
    "    if string == '':\n",
    "        return ''\n",
    "    return rev(string[1:])+string[0]\n",
    "\n",
    "rev('hello world')"
   ]
  },
  {
   "cell_type": "markdown",
   "metadata": {},
   "source": [
    "### Tower of Hanoi:"
   ]
  },
  {
   "cell_type": "code",
   "execution_count": 7,
   "metadata": {},
   "outputs": [
    {
     "name": "stdout",
     "output_type": "stream",
     "text": [
      "1 from A to B\n",
      "2 from A to C\n",
      "1 from B to C\n",
      "3 from A to B\n",
      "1 from C to A\n",
      "2 from C to B\n",
      "1 from A to B\n",
      "4 from A to C\n",
      "1 from B to C\n",
      "2 from B to A\n",
      "1 from C to A\n",
      "3 from B to C\n",
      "1 from A to B\n",
      "2 from A to C\n",
      "1 from B to C\n",
      "5 from A to B\n",
      "1 from C to A\n",
      "2 from C to B\n",
      "1 from A to B\n",
      "3 from C to A\n",
      "1 from B to C\n",
      "2 from B to A\n",
      "1 from C to A\n",
      "4 from C to B\n",
      "1 from A to B\n",
      "2 from A to C\n",
      "1 from B to C\n",
      "3 from A to B\n",
      "1 from C to A\n",
      "2 from C to B\n",
      "1 from A to B\n"
     ]
    }
   ],
   "source": [
    "def tower(n,towerA,towerB,towerC):\n",
    "    if n==1:\n",
    "        print(n,'from',towerA,'to',towerB)\n",
    "    else:\n",
    "        tower(n-1,towerA,towerC,towerB)\n",
    "        print(n,'from',towerA,'to',towerB)\n",
    "        tower(n-1,towerC,towerB,towerA)\n",
    "tower(5,'A','B','C')"
   ]
  }
 ],
 "metadata": {
  "kernelspec": {
   "display_name": "Python 3 (ipykernel)",
   "language": "python",
   "name": "python3"
  },
  "language_info": {
   "codemirror_mode": {
    "name": "ipython",
    "version": 3
   },
   "file_extension": ".py",
   "mimetype": "text/x-python",
   "name": "python",
   "nbconvert_exporter": "python",
   "pygments_lexer": "ipython3",
   "version": "3.12.0"
  }
 },
 "nbformat": 4,
 "nbformat_minor": 5
}
