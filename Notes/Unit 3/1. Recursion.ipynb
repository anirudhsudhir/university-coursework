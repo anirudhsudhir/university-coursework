{
 "cells": [
  {
   "cell_type": "markdown",
   "id": "9d1a6529-c997-4e0f-8482-62344d5fa856",
   "metadata": {},
   "source": [
    "A process in which a function calls itself directly or indirectly\n",
    "\n",
    "### Characteristics:\n",
    "1. Base Case - whose solution is known without no further recursive breakdown\n",
    "2. Multiple recursive cases\n",
    "\n",
    "### Advantages:\n",
    "1. Recursive calls makes the code look simple\n",
    "2. Complex task can be broken down into simpler subproblems\n",
    "\n",
    "### Disadvantages:\n",
    "1. Sometimes the logic is hard to follow(Winding phase and unwinding phase)\n",
    "2. Recursive functions are hard to debug\n",
    "3. Recursive calls are expensive: Take up memory and time\n",
    "\n",
    "### Criteria:\n",
    "1. Should have a base/stop condition\n",
    "2. Each recursive call must move towards the base condition\n",
    "\n",
    "## Terms to remember:\n",
    "Stack frames, Activation Recall"
   ]
  },
  {
   "cell_type": "code",
   "execution_count": 6,
   "id": "749a5397-c628-4dc6-81f7-94ce8af8e547",
   "metadata": {},
   "outputs": [
    {
     "data": {
      "text/plain": [
       "3000"
      ]
     },
     "execution_count": 6,
     "metadata": {},
     "output_type": "execute_result"
    }
   ],
   "source": [
    "import sys\n",
    "sys.getrecursionlimit() #Can be modified by user\n",
    "# Max no. of times a func can be called"
   ]
  },
  {
   "cell_type": "code",
   "execution_count": 10,
   "id": "b99e76de-68ef-48d4-bf20-f1adb443fd5e",
   "metadata": {},
   "outputs": [
    {
     "name": "stdout",
     "output_type": "stream",
     "text": [
      "5 4 3 2 1 0 "
     ]
    }
   ],
   "source": [
    "def nums(i):\n",
    "    if i==0:\n",
    "        print(i,end=' ')\n",
    "    else:\n",
    "        print(i,end=' ')\n",
    "        nums(i-1)\n",
    "nums(5)"
   ]
  },
  {
   "cell_type": "code",
   "execution_count": 12,
   "id": "1c1de25f-b133-4e16-8f6d-4fe0ff865bb1",
   "metadata": {},
   "outputs": [
    {
     "data": {
      "text/plain": [
       "479001600"
      ]
     },
     "execution_count": 12,
     "metadata": {},
     "output_type": "execute_result"
    }
   ],
   "source": [
    "def fac(i):\n",
    "    if i==0:\n",
    "        return 1\n",
    "    return i*fac(i-1)\n",
    "fac(12)"
   ]
  },
  {
   "cell_type": "markdown",
   "id": "6805b4b3-0180-4dc6-a5ae-9a7a17686fd5",
   "metadata": {},
   "source": [
    "## Euclidean algo for gcd"
   ]
  },
  {
   "cell_type": "code",
   "execution_count": 17,
   "id": "5555827f-a3e3-4896-af3b-db368b140580",
   "metadata": {},
   "outputs": [
    {
     "data": {
      "text/plain": [
       "12"
      ]
     },
     "execution_count": 17,
     "metadata": {},
     "output_type": "execute_result"
    }
   ],
   "source": [
    "def gcd(a,b):\n",
    "    if b==0:\n",
    "        return a\n",
    "    return gcd(b,a%b)\n",
    "gcd(24,12)"
   ]
  },
  {
   "cell_type": "markdown",
   "id": "95568c8d-75c3-4d1a-a7b2-75cf94358eba",
   "metadata": {},
   "source": [
    "### Another Euclidean algo for gcd - Using subtraction"
   ]
  },
  {
   "cell_type": "code",
   "execution_count": 19,
   "id": "46510727-06be-4446-9a45-9190f8d2062b",
   "metadata": {},
   "outputs": [
    {
     "data": {
      "text/plain": [
       "4"
      ]
     },
     "execution_count": 19,
     "metadata": {},
     "output_type": "execute_result"
    }
   ],
   "source": [
    "def gcd2(a,b):\n",
    "    if a>b:\n",
    "        return gcd(a-b,b)\n",
    "    elif a<b:\n",
    "        return gcd(a,b-a)\n",
    "    else:\n",
    "        return a\n",
    "gcd(20,12)"
   ]
  },
  {
   "cell_type": "markdown",
   "id": "b34aaac2-c329-4b38-82a3-c02390c9d0e2",
   "metadata": {},
   "source": [
    "### Fibonacci"
   ]
  },
  {
   "cell_type": "code",
   "execution_count": 21,
   "id": "c38fdfc8-842c-4924-a9c5-71e4ad1c2c04",
   "metadata": {},
   "outputs": [
    {
     "data": {
      "text/plain": [
       "13"
      ]
     },
     "execution_count": 21,
     "metadata": {},
     "output_type": "execute_result"
    }
   ],
   "source": [
    "a,b=0,1\n",
    "def fib(i):\n",
    "    if i <= 1:\n",
    "        return i\n",
    "    return fib(i-1)+fib(i-2)\n",
    "fib(7)"
   ]
  },
  {
   "cell_type": "code",
   "execution_count": 18,
   "id": "922a8119-a6dd-44cb-a1e2-4749f986bd29",
   "metadata": {},
   "outputs": [
    {
     "name": "stdin",
     "output_type": "stream",
     "text": [
      "Enter the number of terms:  8\n"
     ]
    },
    {
     "name": "stdout",
     "output_type": "stream",
     "text": [
      "0 1 1 2 3 5 8 13 "
     ]
    }
   ],
   "source": [
    "def fibreg():\n",
    "    f,s=0,1\n",
    "    n=int(input('Enter the number of terms: '))\n",
    "    print(f,s,end=' ')\n",
    "    for i in range(n-2):\n",
    "        t=f+s\n",
    "        print(t,end=' ')\n",
    "        f,s=s,t\n",
    "fibreg()"
   ]
  },
  {
   "cell_type": "markdown",
   "id": "ad4a8147-6719-48c5-a929-9da0f2b2f819",
   "metadata": {},
   "source": [
    "### Tower of Hanoi:"
   ]
  },
  {
   "cell_type": "code",
   "execution_count": 1,
   "id": "3810e47c-e9f7-41a9-9c20-6b0abcbe39a0",
   "metadata": {},
   "outputs": [
    {
     "name": "stdout",
     "output_type": "stream",
     "text": [
      "1 from A to B\n",
      "2 from A to C\n",
      "1 from B to C\n",
      "3 from A to B\n",
      "1 from C to A\n",
      "2 from C to B\n",
      "1 from A to B\n",
      "4 from A to C\n",
      "1 from B to C\n",
      "2 from B to A\n",
      "1 from C to A\n",
      "3 from B to C\n",
      "1 from A to B\n",
      "2 from A to C\n",
      "1 from B to C\n",
      "5 from A to B\n",
      "1 from C to A\n",
      "2 from C to B\n",
      "1 from A to B\n",
      "3 from C to A\n",
      "1 from B to C\n",
      "2 from B to A\n",
      "1 from C to A\n",
      "4 from C to B\n",
      "1 from A to B\n",
      "2 from A to C\n",
      "1 from B to C\n",
      "3 from A to B\n",
      "1 from C to A\n",
      "2 from C to B\n",
      "1 from A to B\n"
     ]
    }
   ],
   "source": [
    "def tower(n,towerA,towerB,towerC):\n",
    "    if n==1:\n",
    "        print(n,'from',towerA,'to',towerB)\n",
    "    else:\n",
    "        tower(n-1,towerA,towerC,towerB)\n",
    "        print(n,'from',towerA,'to',towerB)\n",
    "        tower(n-1,towerC,towerB,towerA)\n",
    "tower(5,'A','B','C')"
   ]
  },
  {
   "cell_type": "markdown",
   "id": "002a9458-110a-4ab0-ad0f-cce8ef9b08aa",
   "metadata": {},
   "source": [
    "### Length of string"
   ]
  },
  {
   "cell_type": "code",
   "execution_count": 2,
   "id": "46a218aa-9ca5-4cb8-bdae-efcb042dd168",
   "metadata": {},
   "outputs": [
    {
     "data": {
      "text/plain": [
       "11"
      ]
     },
     "execution_count": 2,
     "metadata": {},
     "output_type": "execute_result"
    }
   ],
   "source": [
    "def length(string):\n",
    "    if string == '':\n",
    "        return 0\n",
    "    return 1+length(string[1:])\n",
    "leng('hello world')"
   ]
  },
  {
   "cell_type": "markdown",
   "id": "7e87e9b4-6700-4462-b948-c6bf58a231f9",
   "metadata": {},
   "source": [
    "### Reverse a string"
   ]
  },
  {
   "cell_type": "code",
   "execution_count": 5,
   "id": "68e2950d-349f-46a9-8cd3-59c19ffa9481",
   "metadata": {},
   "outputs": [
    {
     "data": {
      "text/plain": [
       "'dlrow olleh'"
      ]
     },
     "execution_count": 5,
     "metadata": {},
     "output_type": "execute_result"
    }
   ],
   "source": [
    "def rev(string):\n",
    "    if string == '':\n",
    "        return ''\n",
    "    return rev(string[1:])+string[0]\n",
    "\n",
    "rev('hello world')"
   ]
  }
 ],
 "metadata": {
  "kernelspec": {
   "display_name": "Python 3 (ipykernel)",
   "language": "python",
   "name": "python3"
  },
  "language_info": {
   "codemirror_mode": {
    "name": "ipython",
    "version": 3
   },
   "file_extension": ".py",
   "mimetype": "text/x-python",
   "name": "python",
   "nbconvert_exporter": "python",
   "pygments_lexer": "ipython3",
   "version": "3.12.0"
  }
 },
 "nbformat": 4,
 "nbformat_minor": 5
}
