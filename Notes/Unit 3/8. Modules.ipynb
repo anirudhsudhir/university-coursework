{
 "cells": [
  {
   "cell_type": "markdown",
   "metadata": {},
   "source": [
    "### \\_ before a function or a variable indicates that it is private and should not be accessed in imported files\n",
    "However, the function can still be imported and used"
   ]
  },
  {
   "cell_type": "markdown",
   "metadata": {},
   "source": [
    "1. Modules in python are just python files with .py extension\n",
    "2. The name of the file will be the module name and it should be an identifier(start with letter, can contain digit and underscore)\n",
    "3. Modules can have variables, functions and classes\n",
    "\n",
    "### Types of modules:\n",
    "1. Built-In modules: Modules belonging to python's standard library\n",
    "2. User defined modules: User created module with .py extension\n",
    "3. Third party modules: pip install module_name\n",
    "\n",
    "### Advantages of modules:\n",
    "1. Reusability\n",
    "2. Modularity - Organizing code into modules(organized logically)\n",
    "3. Separate scope - Separate namespaces\n",
    "4. Grouping - Set of functions, classes, variables\n",
    "\n",
    "### Packages and namespaces\n",
    "\n",
    "1. Modules in Python are grouped together in packages\n",
    "2. Packages organize the code into logical groups and provide a namespace to the modules - so that there is no conflict with modules having the same name in the other packages.\n",
    "3. import statement is used to access the functions, classes, variables inside them.\n",
    "\n",
    "### Difference:\n",
    "1. Modules - contain several functions, variables and classes\n",
    "2. Packages - contain several modules\n",
    "3. Libraries - a collection of packages and modules used to access built-in functionality \n",
    "\n",
    "### Module Path\n",
    "Python modules are located by interpreter in following steps.\n",
    "\n",
    "First, it will check for the built-in module.\n",
    "\n",
    "If not built-in module, Search for the Module in the current directory\n",
    "\n",
    "If not found in current directory, Python then searches each directory\n",
    "in the shell variable PYTHONPATH (An environment variable,\n",
    "consisting of a list of directories).\n",
    "\n",
    "If that also fails python checks the sys.path (A built-in variable within\n",
    "the sys module. It contains a installation-dependent list of directories\n",
    "configured during Python installation)."
   ]
  },
  {
   "cell_type": "code",
   "execution_count": 4,
   "metadata": {},
   "outputs": [
    {
     "name": "stdout",
     "output_type": "stream",
     "text": [
      "/Users/anirudh/Documents/code/university-coursework/Notes/Unit 3\n",
      "/Users/anirudh/.pyenv/versions/3.12.0/lib/python312.zip\n",
      "/Users/anirudh/.pyenv/versions/3.12.0/lib/python3.12\n",
      "/Users/anirudh/.pyenv/versions/3.12.0/lib/python3.12/lib-dynload\n",
      "\n",
      "/Users/anirudh/Documents/code/university-coursework/venv/lib/python3.12/site-packages\n",
      "['/Users/anirudh/Documents/code/university-coursework/Notes/Unit 3', '/Users/anirudh/.pyenv/versions/3.12.0/lib/python312.zip', '/Users/anirudh/.pyenv/versions/3.12.0/lib/python3.12', '/Users/anirudh/.pyenv/versions/3.12.0/lib/python3.12/lib-dynload', '', '/Users/anirudh/Documents/code/university-coursework/venv/lib/python3.12/site-packages']\n"
     ]
    }
   ],
   "source": [
    "import sys\n",
    "for path in sys.path: # All the paths searched by python interpreter\n",
    "    print(path)\n",
    "print(sys.path)"
   ]
  },
  {
   "cell_type": "markdown",
   "metadata": {},
   "source": [
    "## How to import a module"
   ]
  },
  {
   "cell_type": "markdown",
   "metadata": {},
   "source": [
    "1. import math\n",
    "    - math.sqrt() : Use module.function()\n",
    "    - math.pi : Use module.variable"
   ]
  },
  {
   "cell_type": "markdown",
   "metadata": {},
   "source": [
    "2. import math as m : alias for the module\n"
   ]
  },
  {
   "cell_type": "code",
   "execution_count": 1,
   "metadata": {},
   "outputs": [
    {
     "name": "stdout",
     "output_type": "stream",
     "text": [
      "3.141592653589793\n"
     ]
    }
   ],
   "source": [
    "import math as m\n",
    "print(m.pi) "
   ]
  },
  {
   "cell_type": "markdown",
   "metadata": {},
   "source": [
    "3. from math import sqrt, factorial : only the specified functions can be used\n",
    "    - sqrt() : modulename not required"
   ]
  },
  {
   "cell_type": "code",
   "execution_count": 2,
   "metadata": {},
   "outputs": [
    {
     "name": "stdout",
     "output_type": "stream",
     "text": [
      "2.0\n"
     ]
    }
   ],
   "source": [
    "from math import sqrt\n",
    "print(sqrt(4))"
   ]
  },
  {
   "cell_type": "markdown",
   "metadata": {},
   "source": [
    "4. from math import * : all predefined functions, variables, classes "
   ]
  },
  {
   "cell_type": "code",
   "execution_count": 4,
   "metadata": {},
   "outputs": [
    {
     "name": "stdout",
     "output_type": "stream",
     "text": [
      "24\n"
     ]
    }
   ],
   "source": [
    "from math import *\n",
    "print(factorial(4))"
   ]
  },
  {
   "cell_type": "markdown",
   "metadata": {},
   "source": [
    "## Attributes:\n",
    "1. `__name__` : returns the name of a file, module, function, class\n",
    "2. `__doc__` : denoted the documentation string (doctsring)\n",
    "3. `__dict__`: returns a dictionary object for module attributes"
   ]
  },
  {
   "cell_type": "code",
   "execution_count": 10,
   "metadata": {},
   "outputs": [
    {
     "data": {
      "text/plain": [
       "'This module provides access to the mathematical functions\\ndefined by the C standard.'"
      ]
     },
     "execution_count": 10,
     "metadata": {},
     "output_type": "execute_result"
    }
   ],
   "source": [
    "import math\n",
    "math.__doc__"
   ]
  },
  {
   "cell_type": "code",
   "execution_count": 11,
   "metadata": {},
   "outputs": [
    {
     "name": "stdout",
     "output_type": "stream",
     "text": [
      "This module provides access to the mathematical functions\n",
      "defined by the C standard.\n",
      "math\n"
     ]
    }
   ],
   "source": [
    "import math\n",
    "print(math.__doc__)\n",
    "print(math.__name__)"
   ]
  },
  {
   "cell_type": "code",
   "execution_count": 13,
   "metadata": {},
   "outputs": [
    {
     "data": {
      "text/plain": [
       "{'__name__': 'math',\n",
       " '__doc__': 'This module provides access to the mathematical functions\\ndefined by the C standard.',\n",
       " '__package__': '',\n",
       " '__loader__': <_frozen_importlib_external.ExtensionFileLoader at 0x100990230>,\n",
       " '__spec__': ModuleSpec(name='math', loader=<_frozen_importlib_external.ExtensionFileLoader object at 0x100990230>, origin='/Users/anirudh/.pyenv/versions/3.12.0/lib/python3.12/lib-dynload/math.cpython-312-darwin.so'),\n",
       " 'acos': <function math.acos(x, /)>,\n",
       " 'acosh': <function math.acosh(x, /)>,\n",
       " 'asin': <function math.asin(x, /)>,\n",
       " 'asinh': <function math.asinh(x, /)>,\n",
       " 'atan': <function math.atan(x, /)>,\n",
       " 'atan2': <function math.atan2(y, x, /)>,\n",
       " 'atanh': <function math.atanh(x, /)>,\n",
       " 'cbrt': <function math.cbrt(x, /)>,\n",
       " 'ceil': <function math.ceil(x, /)>,\n",
       " 'copysign': <function math.copysign(x, y, /)>,\n",
       " 'cos': <function math.cos(x, /)>,\n",
       " 'cosh': <function math.cosh(x, /)>,\n",
       " 'degrees': <function math.degrees(x, /)>,\n",
       " 'dist': <function math.dist(p, q, /)>,\n",
       " 'erf': <function math.erf(x, /)>,\n",
       " 'erfc': <function math.erfc(x, /)>,\n",
       " 'exp': <function math.exp(x, /)>,\n",
       " 'exp2': <function math.exp2(x, /)>,\n",
       " 'expm1': <function math.expm1(x, /)>,\n",
       " 'fabs': <function math.fabs(x, /)>,\n",
       " 'factorial': <function math.factorial(n, /)>,\n",
       " 'floor': <function math.floor(x, /)>,\n",
       " 'fmod': <function math.fmod(x, y, /)>,\n",
       " 'frexp': <function math.frexp(x, /)>,\n",
       " 'fsum': <function math.fsum(seq, /)>,\n",
       " 'gamma': <function math.gamma(x, /)>,\n",
       " 'gcd': <function math.gcd(*integers)>,\n",
       " 'hypot': <function math.hypot>,\n",
       " 'isclose': <function math.isclose(a, b, *, rel_tol=1e-09, abs_tol=0.0)>,\n",
       " 'isfinite': <function math.isfinite(x, /)>,\n",
       " 'isinf': <function math.isinf(x, /)>,\n",
       " 'isnan': <function math.isnan(x, /)>,\n",
       " 'isqrt': <function math.isqrt(n, /)>,\n",
       " 'lcm': <function math.lcm(*integers)>,\n",
       " 'ldexp': <function math.ldexp(x, i, /)>,\n",
       " 'lgamma': <function math.lgamma(x, /)>,\n",
       " 'log': <function math.log>,\n",
       " 'log1p': <function math.log1p(x, /)>,\n",
       " 'log10': <function math.log10(x, /)>,\n",
       " 'log2': <function math.log2(x, /)>,\n",
       " 'modf': <function math.modf(x, /)>,\n",
       " 'pow': <function math.pow(x, y, /)>,\n",
       " 'radians': <function math.radians(x, /)>,\n",
       " 'remainder': <function math.remainder(x, y, /)>,\n",
       " 'sin': <function math.sin(x, /)>,\n",
       " 'sinh': <function math.sinh(x, /)>,\n",
       " 'sqrt': <function math.sqrt(x, /)>,\n",
       " 'tan': <function math.tan(x, /)>,\n",
       " 'tanh': <function math.tanh(x, /)>,\n",
       " 'sumprod': <function math.sumprod(p, q, /)>,\n",
       " 'trunc': <function math.trunc(x, /)>,\n",
       " 'prod': <function math.prod(iterable, /, *, start=1)>,\n",
       " 'perm': <function math.perm(n, k=None, /)>,\n",
       " 'comb': <function math.comb(n, k, /)>,\n",
       " 'nextafter': <function math.nextafter(x, y, /, *, steps=None)>,\n",
       " 'ulp': <function math.ulp(x, /)>,\n",
       " '__file__': '/Users/anirudh/.pyenv/versions/3.12.0/lib/python3.12/lib-dynload/math.cpython-312-darwin.so',\n",
       " 'pi': 3.141592653589793,\n",
       " 'e': 2.718281828459045,\n",
       " 'tau': 6.283185307179586,\n",
       " 'inf': inf,\n",
       " 'nan': nan}"
      ]
     },
     "execution_count": 13,
     "metadata": {},
     "output_type": "execute_result"
    }
   ],
   "source": [
    "import math\n",
    "math.__dict__"
   ]
  }
 ],
 "metadata": {
  "kernelspec": {
   "display_name": "venv",
   "language": "python",
   "name": "python3"
  },
  "language_info": {
   "codemirror_mode": {
    "name": "ipython",
    "version": 3
   },
   "file_extension": ".py",
   "mimetype": "text/x-python",
   "name": "python",
   "nbconvert_exporter": "python",
   "pygments_lexer": "ipython3",
   "version": "3.12.0"
  }
 },
 "nbformat": 4,
 "nbformat_minor": 2
}
