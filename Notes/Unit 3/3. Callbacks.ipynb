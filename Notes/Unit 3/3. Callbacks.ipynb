{
 "cells": [
  {
   "cell_type": "markdown",
   "id": "7fbd090c-60ac-46a6-8910-7841620ec173",
   "metadata": {},
   "source": [
    "A callback is a function that is passed as an argument to other function."
   ]
  },
  {
   "cell_type": "code",
   "execution_count": 4,
   "id": "384ddb1d-fba4-43ca-aabc-d6e295d18b8a",
   "metadata": {},
   "outputs": [
    {
     "name": "stdout",
     "output_type": "stream",
     "text": [
      "Multiplication = 40\n"
     ]
    }
   ],
   "source": [
    "def caller(func, n):\n",
    "    return func(n)\n",
    "\n",
    "def called(n): # Position of function passed as argument doesn't matter as it is interpreted before invoking\n",
    "    return n[0]*n[1]\n",
    "\n",
    "\n",
    "#tuple\n",
    "num = (8, 5)\n",
    "\n",
    "ans = caller(called, num)\n",
    "\n",
    "print(\"Multiplication =\", ans)"
   ]
  },
  {
   "cell_type": "markdown",
   "id": "57098ea8-9622-4fea-8362-75cc628a1cde",
   "metadata": {},
   "source": [
    "# Refer Notes"
   ]
  }
 ],
 "metadata": {
  "kernelspec": {
   "display_name": "Python 3 (ipykernel)",
   "language": "python",
   "name": "python3"
  },
  "language_info": {
   "codemirror_mode": {
    "name": "ipython",
    "version": 3
   },
   "file_extension": ".py",
   "mimetype": "text/x-python",
   "name": "python",
   "nbconvert_exporter": "python",
   "pygments_lexer": "ipython3",
   "version": "3.12.0"
  }
 },
 "nbformat": 4,
 "nbformat_minor": 5
}
