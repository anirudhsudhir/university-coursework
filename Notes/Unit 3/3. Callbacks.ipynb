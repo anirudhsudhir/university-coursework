{
 "cells": [
  {
   "cell_type": "markdown",
   "metadata": {},
   "source": [
    "Callback is a mechanism of passing a function as an argument.\n",
    "\n",
    "#### Need for Callback in Functions\n",
    "1. Used in event-driven programming, where a function is called in response to a specific event or action, such as a button press or the completion of a network request.\n",
    "2. Also used in functional programming, where a function is passed as an argument to another function to be used as a \"hook\" for performing specific operations.\n",
    "3. Helps to separate functions’ functionality and make code more reusable and modular.\n",
    "\n",
    "#### Advantages of callbacks:\n",
    "1. Calling function can call the callback function as many number of times as required\n",
    "2. Calling function can pass appropriate parameters according to the task at hand\n",
    "3. The calling function acts as an interface for the other function\n",
    "4. Data/information hiding is acheived through callbacks"
   ]
  },
  {
   "cell_type": "code",
   "execution_count": 4,
   "id": "384ddb1d-fba4-43ca-aabc-d6e295d18b8a",
   "metadata": {},
   "outputs": [
    {
     "name": "stdout",
     "output_type": "stream",
     "text": [
      "Multiplication = 40\n"
     ]
    }
   ],
   "source": [
    "def caller(func, n):\n",
    "    return func(n)\n",
    "\n",
    "def called(n): # Position of function passed as argument doesn't matter as it is interpreted before invoking\n",
    "    return n[0]*n[1]\n",
    "\n",
    "\n",
    "#tuple\n",
    "num = (8, 5)\n",
    "\n",
    "ans = caller(called, num)\n",
    "\n",
    "print(\"Multiplication =\", ans)"
   ]
  },
  {
   "cell_type": "code",
   "execution_count": 2,
   "metadata": {},
   "outputs": [
    {
     "name": "stdout",
     "output_type": "stream",
     "text": [
      "Booked ola from a to b\n"
     ]
    }
   ],
   "source": [
    "def ola(s,d):\n",
    "    print(\"Booked ola from\",s,\"to\",d)\n",
    "def uber(s,d):\n",
    "    print(\"Booked uber from\",s,\"to\",d)\n",
    "def gmaps(src,dest,fn):\n",
    "    fn(src,dest)\n",
    "s,d,service = input(\"Enter the src,des,service:\").split(\",\")\n",
    "if service == \"ola\":\n",
    "    gmaps(s,d,ola)\n",
    "if service == \"uber\":\n",
    "    gmaps(s,d,uber)"
   ]
  }
 ],
 "metadata": {
  "kernelspec": {
   "display_name": "Python 3 (ipykernel)",
   "language": "python",
   "name": "python3"
  },
  "language_info": {
   "codemirror_mode": {
    "name": "ipython",
    "version": 3
   },
   "file_extension": ".py",
   "mimetype": "text/x-python",
   "name": "python",
   "nbconvert_exporter": "python",
   "pygments_lexer": "ipython3",
   "version": "3.12.0"
  }
 },
 "nbformat": 4,
 "nbformat_minor": 5
}
