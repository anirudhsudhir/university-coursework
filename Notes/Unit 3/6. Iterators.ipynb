{
 "cells": [
  {
   "cell_type": "markdown",
   "metadata": {},
   "source": [
    "1. Iterators are objects that can contain countable number of values\n",
    "2. An iterator object can be iterated upon using loops\n",
    "3. It is an object which implements the iterator protocol which consists of the methods `__iter__`/iter() and \n",
    "next()/`__next__`"
   ]
  },
  {
   "cell_type": "markdown",
   "metadata": {},
   "source": [
    "1. Calling the iter()/`__iter__` on an iterable gives an iterator\n",
    "2. Calling the next()/`__next__` on the iterable gives the next element\n",
    "3. If the iterator is exhausted while calling next(), it raises an exception(StopIteration)\n",
    "\n",
    "'Itera<b>bles</b>' in Python include List, Tuple, Set, Dict, String and range"
   ]
  },
  {
   "cell_type": "markdown",
   "metadata": {},
   "source": [
    "Iterables vs Iterators:\n",
    "- Iterables - Eg: list, string, etc.\n",
    "1. Supports iter() function\n",
    "2. Iterables are not iterators\n",
    "3. Can use len(),indexing,etc. depending on type of iterable\n",
    "- Iterators \n",
    "1. Supports iter() and next() functions\n",
    "2. It is a iterator object of type range_iterator, list_iterator, etc.\n",
    "3. Cannot use specific object functions"
   ]
  },
  {
   "cell_type": "code",
   "execution_count": 4,
   "metadata": {},
   "outputs": [
    {
     "name": "stdout",
     "output_type": "stream",
     "text": [
      "<method-wrapper '__iter__' of range object at 0x106fb7db0>\n"
     ]
    },
    {
     "ename": "TypeError",
     "evalue": "'range' object is not an iterator",
     "output_type": "error",
     "traceback": [
      "\u001b[0;31m---------------------------------------------------------------------------\u001b[0m",
      "\u001b[0;31mTypeError\u001b[0m                                 Traceback (most recent call last)",
      "\u001b[1;32m/Users/anirudh/Documents/code/university-coursework/Notes/Unit 3/6. Iterators.ipynb Cell 3\u001b[0m line \u001b[0;36m4\n\u001b[1;32m      <a href='vscode-notebook-cell:/Users/anirudh/Documents/code/university-coursework/Notes/Unit%203/6.%20Iterators.ipynb#W2sZmlsZQ%3D%3D?line=1'>2</a>\u001b[0m a_iter \u001b[39m=\u001b[39m a\u001b[39m.\u001b[39m\u001b[39m__iter__\u001b[39m \u001b[39m# same as iter(a)\u001b[39;00m\n\u001b[1;32m      <a href='vscode-notebook-cell:/Users/anirudh/Documents/code/university-coursework/Notes/Unit%203/6.%20Iterators.ipynb#W2sZmlsZQ%3D%3D?line=2'>3</a>\u001b[0m \u001b[39mprint\u001b[39m(a_iter)\n\u001b[0;32m----> <a href='vscode-notebook-cell:/Users/anirudh/Documents/code/university-coursework/Notes/Unit%203/6.%20Iterators.ipynb#W2sZmlsZQ%3D%3D?line=3'>4</a>\u001b[0m \u001b[39mprint\u001b[39m(\u001b[39mnext\u001b[39;49m(a))\n",
      "\u001b[0;31mTypeError\u001b[0m: 'range' object is not an iterator"
     ]
    }
   ],
   "source": [
    "a = range(5)\n",
    "a_iter = a.__iter__ # same as iter(a)\n",
    "print(a_iter)\n",
    "print(next(a))"
   ]
  },
  {
   "cell_type": "code",
   "execution_count": 2,
   "metadata": {},
   "outputs": [
    {
     "name": "stdout",
     "output_type": "stream",
     "text": [
      "<range_iterator object at 0x10587d8f0>\n",
      "0\n",
      "1\n",
      "2\n",
      "3\n",
      "4\n",
      "Iterator Empty\n"
     ]
    }
   ],
   "source": [
    "a = range(5)\n",
    "a_iter = iter(a)\n",
    "print(a_iter)\n",
    "while True:\n",
    "    try:\n",
    "        print(a_iter.__next__())\n",
    "    except StopIteration:\n",
    "        print(\"Iterator Empty\")\n",
    "        break"
   ]
  },
  {
   "cell_type": "code",
   "execution_count": 21,
   "metadata": {},
   "outputs": [
    {
     "name": "stdout",
     "output_type": "stream",
     "text": [
      "0 1 2 3 4 "
     ]
    }
   ],
   "source": [
    "a = range(5)\n",
    "a_iter = iter(a)\n",
    "for i in a_iter:\n",
    "    print(i, end = \" \")\n",
    "for j in a_iter:\n",
    "    print(\"Second Loop\") # Doesn't enter loop as iter object is empty\n",
    "    print(j)"
   ]
  },
  {
   "cell_type": "code",
   "execution_count": 10,
   "metadata": {},
   "outputs": [
    {
     "name": "stdout",
     "output_type": "stream",
     "text": [
      "<list_iterator object at 0x106fcb310>\n",
      "<method-wrapper '__iter__' of list object at 0x10bcb5440>\n",
      "<range_iterator object at 0x106fed080>\n",
      "<method-wrapper '__iter__' of range object at 0x106fcb810>\n"
     ]
    }
   ],
   "source": [
    "listiterator1 = iter([1,2,3])\n",
    "listiterator2 = [1,2,3].__iter__\n",
    "rangeiterator1 = iter(range(5))\n",
    "rangeiterator2 = range(5).__iter__\n",
    "print(listiterator1)\n",
    "print(listiterator2)\n",
    "print(rangeiterator1)\n",
    "print(rangeiterator2)"
   ]
  }
 ],
 "metadata": {
  "kernelspec": {
   "display_name": "venv",
   "language": "python",
   "name": "python3"
  },
  "language_info": {
   "codemirror_mode": {
    "name": "ipython",
    "version": 3
   },
   "file_extension": ".py",
   "mimetype": "text/x-python",
   "name": "python",
   "nbconvert_exporter": "python",
   "pygments_lexer": "ipython3",
   "version": "3.12.0"
  }
 },
 "nbformat": 4,
 "nbformat_minor": 2
}
