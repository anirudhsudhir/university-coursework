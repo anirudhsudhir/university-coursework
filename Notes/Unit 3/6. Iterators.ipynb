{
 "cells": [
  {
   "cell_type": "markdown",
   "metadata": {},
   "source": [
    "1. Iterators are objects that can contian countable number of values\n",
    "2. An iterator object can be iterated upon using loops\n",
    "3. It is an object which implements the iterator protocol which consists of the methods __iter__/iter() and \n",
    "next()/__next__"
   ]
  },
  {
   "cell_type": "markdown",
   "metadata": {},
   "source": [
    "1. Calling the iter()/__iter__ on an iterable gives an iterator\n",
    "2. Calling the next()/__next__ on the iterable gives the next element\n",
    "3. If the iterator is exhausted while calling next(), it raises an exception(StopIteration)\n",
    "\n",
    "Eg: List, Tuple, Set, Dict, String, Range"
   ]
  },
  {
   "cell_type": "code",
   "execution_count": 10,
   "metadata": {},
   "outputs": [
    {
     "name": "stdout",
     "output_type": "stream",
     "text": [
      "<range_iterator object at 0x103c3ea30>\n"
     ]
    },
    {
     "ename": "TypeError",
     "evalue": "'range' object is not an iterator",
     "output_type": "error",
     "traceback": [
      "\u001b[0;31m---------------------------------------------------------------------------\u001b[0m",
      "\u001b[0;31mTypeError\u001b[0m                                 Traceback (most recent call last)",
      "\u001b[1;32m/Users/anirudh/Documents/university-coursework/Notes/Unit 3/Iterators and Generators.ipynb Cell 4\u001b[0m line \u001b[0;36m4\n\u001b[1;32m      <a href='vscode-notebook-cell:/Users/anirudh/Documents/university-coursework/Notes/Unit%203/Iterators%20and%20Generators.ipynb#W6sZmlsZQ%3D%3D?line=1'>2</a>\u001b[0m a_iter \u001b[39m=\u001b[39m \u001b[39miter\u001b[39m(a)\n\u001b[1;32m      <a href='vscode-notebook-cell:/Users/anirudh/Documents/university-coursework/Notes/Unit%203/Iterators%20and%20Generators.ipynb#W6sZmlsZQ%3D%3D?line=2'>3</a>\u001b[0m \u001b[39mprint\u001b[39m(a_iter)\n\u001b[0;32m----> <a href='vscode-notebook-cell:/Users/anirudh/Documents/university-coursework/Notes/Unit%203/Iterators%20and%20Generators.ipynb#W6sZmlsZQ%3D%3D?line=3'>4</a>\u001b[0m \u001b[39mprint\u001b[39m(\u001b[39mnext\u001b[39;49m(a))\n",
      "\u001b[0;31mTypeError\u001b[0m: 'range' object is not an iterator"
     ]
    }
   ],
   "source": [
    "a = range(5)\n",
    "a_iter = iter(a)\n",
    "print(a_iter)\n",
    "print(next(a))"
   ]
  },
  {
   "cell_type": "code",
   "execution_count": 17,
   "metadata": {},
   "outputs": [
    {
     "name": "stdout",
     "output_type": "stream",
     "text": [
      "<range_iterator object at 0x103b4e460>\n",
      "0\n",
      "1\n",
      "2\n",
      "3\n",
      "4\n",
      "Iterator Empty\n"
     ]
    }
   ],
   "source": [
    "a = range(5)\n",
    "a_iter = iter(a)\n",
    "print(a_iter)\n",
    "while True:\n",
    "    try:\n",
    "        print(next(a_iter))\n",
    "    except StopIteration:\n",
    "        print(\"Iterator Empty\")\n",
    "        break"
   ]
  },
  {
   "cell_type": "code",
   "execution_count": 21,
   "metadata": {},
   "outputs": [
    {
     "name": "stdout",
     "output_type": "stream",
     "text": [
      "0 1 2 3 4 "
     ]
    }
   ],
   "source": [
    "a = range(5)\n",
    "a_iter = iter(a)\n",
    "for i in a_iter:\n",
    "    print(i, end = \" \")\n",
    "for j in a_iter:\n",
    "    print(\"Second Loop\") # Doesn't enter loop as iter object is empty\n",
    "    print(j)"
   ]
  },
  {
   "cell_type": "markdown",
   "metadata": {},
   "source": [
    "Iterables vs Iterators:\n",
    "- Iterables\n",
    "1. Supports iter() function\n",
    "2. Iterables are not iterators\n",
    "3. Can use len(),indexing,etc.\n",
    "- Iterators\n",
    "1. Supports iter() and next() functions\n",
    "2. Not iterators\n",
    "3. Cannot use functions"
   ]
  }
 ],
 "metadata": {
  "kernelspec": {
   "display_name": "venv",
   "language": "python",
   "name": "python3"
  },
  "language_info": {
   "codemirror_mode": {
    "name": "ipython",
    "version": 3
   },
   "file_extension": ".py",
   "mimetype": "text/x-python",
   "name": "python",
   "nbconvert_exporter": "python",
   "pygments_lexer": "ipython3",
   "version": "3.12.0"
  }
 },
 "nbformat": 4,
 "nbformat_minor": 2
}
