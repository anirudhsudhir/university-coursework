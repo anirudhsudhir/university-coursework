{
 "cells": [
  {
   "cell_type": "markdown",
   "id": "a1ea41eb-996a-4c21-99fd-53a2a7a89a95",
   "metadata": {},
   "source": [
    "A closure is a technique by which some data gets attached to the code.  \n",
    "That data is remembered even the enclosing scope variable goes out of scope or even when the function is removed from the stack frame.  \n",
    "\n",
    "To create a closure:  \n",
    "-    Have a nested function \n",
    "-    The nested function to refer to an enclosing scope variable  \n",
    "-    The enclosing scope variable must return the nested function.\n",
    "   \n",
    "Why Closure:  \n",
    "-    Data Hiding  \n",
    "-    When we have a few functions in the code->Closures are efficient\n",
    "-    When there are too many functions dont go for closures. For Data hiding go for classes.\n",
    "\n"
   ]
  },
  {
   "cell_type": "markdown",
   "id": "a44c9bbf-f02f-4468-bdd7-384be8c3f7ba",
   "metadata": {},
   "source": [
    "# In closures, the inner function's address is stored in the variable, not the outer function\n",
    "\n",
    "## Important Differences to note in closures:\n",
    "1. The inner function's address is returned, and the function is not called\n",
    "2. Store the function call in the new variable, not the address of the function"
   ]
  },
  {
   "cell_type": "code",
   "execution_count": 114,
   "id": "4f1168de-f44b-4c5f-bf48-6d49374284e6",
   "metadata": {},
   "outputs": [
    {
     "name": "stdout",
     "output_type": "stream",
     "text": [
      "hello\n"
     ]
    }
   ],
   "source": [
    "def outer():\n",
    "    def inner():\n",
    "        print(\"hello\")\n",
    "    return inner\n",
    "a = outer()\n",
    "\n",
    "del outer\n",
    "\n",
    "a()"
   ]
  },
  {
   "cell_type": "markdown",
   "id": "b9909109-02ee-42b8-adcb-e7eeb6d168f6",
   "metadata": {},
   "source": [
    "## Example 2:"
   ]
  },
  {
   "cell_type": "code",
   "execution_count": 115,
   "id": "a0151783-bea9-4b89-8328-aae6d99d6aeb",
   "metadata": {},
   "outputs": [
    {
     "name": "stdout",
     "output_type": "stream",
     "text": [
      "hello\n"
     ]
    }
   ],
   "source": [
    "def outer(name):\n",
    "    def inner():\n",
    "        nonlocal name\n",
    "        print(name)\n",
    "    return inner\n",
    "a = outer(\"hello\")\n",
    "\n",
    "del outer\n",
    "\n",
    "a()"
   ]
  },
  {
   "cell_type": "markdown",
   "id": "a6cbba07-33b1-4a07-83f5-ea3e10ad84ce",
   "metadata": {},
   "source": [
    "## Example 3: This example demostrates how closures remember the prevvious state of the variables"
   ]
  },
  {
   "cell_type": "code",
   "execution_count": 116,
   "id": "8f57957f-b219-4ca1-ad3f-8376d6d231ac",
   "metadata": {},
   "outputs": [
    {
     "name": "stdout",
     "output_type": "stream",
     "text": [
      "13\n",
      "18\n",
      "23\n"
     ]
    }
   ],
   "source": [
    "def outer(num):\n",
    "    def inner():\n",
    "        nonlocal num\n",
    "        num += 5\n",
    "        print(num)\n",
    "    return inner\n",
    "a = outer(8)\n",
    "\n",
    "a()\n",
    "a()\n",
    "a()"
   ]
  },
  {
   "cell_type": "markdown",
   "id": "0c2c22f1-ae16-4aa1-a9bf-f0127c477fe3",
   "metadata": {},
   "source": [
    "Function Closure vs Nested Functions.  \n",
    "-   Not all nested functions are closures.  \n",
    "-   Nested function becomes a closure\n",
    "-   Inner function has an access to the free vauriable/enclosing scope variable\n",
    "-   The outer function must return the inner function"
   ]
  },
  {
   "cell_type": "markdown",
   "id": "6c78be04-1ce0-44d0-ae23-21c6717c3185",
   "metadata": {},
   "source": [
    "\n",
    "# Refer Notes !!!!"
   ]
  }
 ],
 "metadata": {
  "kernelspec": {
   "display_name": "Python 3 (ipykernel)",
   "language": "python",
   "name": "python3"
  },
  "language_info": {
   "codemirror_mode": {
    "name": "ipython",
    "version": 3
   },
   "file_extension": ".py",
   "mimetype": "text/x-python",
   "name": "python",
   "nbconvert_exporter": "python",
   "pygments_lexer": "ipython3",
   "version": "3.12.0"
  }
 },
 "nbformat": 4,
 "nbformat_minor": 5
}
