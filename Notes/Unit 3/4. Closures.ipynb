{
 "cells": [
  {
   "cell_type": "markdown",
   "metadata": {},
   "source": [
    "Recap - In Python, these non-local variables are read-only by default and we must declare\n",
    "them explicitly as non-local (using nonlocal keyword) in order to modify them."
   ]
  },
  {
   "cell_type": "markdown",
   "metadata": {},
   "source": [
    "A closure is a function object that remembers values in enclosing scopes even if they are not present in the memory.\n",
    "\n",
    "The data is remembered even the enclosing scope variable goes out of scope or even when the function is removed from the stack frame.  \n",
    "\n",
    "To create a closure:  \n",
    "1. Have a nested function \n",
    "2. The nested function should refer to an enclosing scope variable  \n",
    "3. The enclosing scope function must return the nested function.\n",
    "   \n",
    "Why Closure:  \n",
    "1. Data Hiding  \n",
    "2. When we have a few functions in the code->Closures are efficient\n",
    "3. When there are many functions, utilise classes\n",
    "\n",
    "#### Function Closure vs Nested Functions.  \n",
    "1. Not all nested functions are closures.  \n",
    "4. The outer function must return the inner function in a closure"
   ]
  },
  {
   "cell_type": "markdown",
   "id": "a44c9bbf-f02f-4468-bdd7-384be8c3f7ba",
   "metadata": {},
   "source": [
    "## In closures, the inner function's address is stored in the invoking variable, not the outer function\n",
    "\n",
    "## Important Differences to note in closures:\n",
    "1. The inner function's address is returned, and the function is not called\n",
    "2. Store the outer function call in the new variable, not the address of the function"
   ]
  },
  {
   "cell_type": "code",
   "execution_count": 2,
   "id": "4f1168de-f44b-4c5f-bf48-6d49374284e6",
   "metadata": {},
   "outputs": [
    {
     "name": "stdout",
     "output_type": "stream",
     "text": [
      "hello\n",
      "<function outer.<locals>.inner at 0x107975c60>\n"
     ]
    }
   ],
   "source": [
    "def outer():\n",
    "    def inner():\n",
    "        print(\"hello\")\n",
    "    return inner\n",
    "\n",
    "a = outer() #On invoking the outer function, the inner function is created and a refernce to it is stored in a\n",
    "\n",
    "del outer\n",
    "\n",
    "a()\n",
    "print(a)"
   ]
  },
  {
   "cell_type": "markdown",
   "id": "b9909109-02ee-42b8-adcb-e7eeb6d168f6",
   "metadata": {},
   "source": [
    "## Example 2:"
   ]
  },
  {
   "cell_type": "code",
   "execution_count": 7,
   "id": "a0151783-bea9-4b89-8328-aae6d99d6aeb",
   "metadata": {},
   "outputs": [
    {
     "name": "stdout",
     "output_type": "stream",
     "text": [
      "hello\n"
     ]
    }
   ],
   "source": [
    "def outer(name):\n",
    "    def inner():\n",
    "        print(name)\n",
    "    return inner\n",
    "a = outer(\"hello\")\n",
    "\n",
    "del outer\n",
    "\n",
    "a()"
   ]
  },
  {
   "cell_type": "code",
   "execution_count": 8,
   "metadata": {},
   "outputs": [
    {
     "ename": "TypeError",
     "evalue": "outer.<locals>.inner() takes 0 positional arguments but 1 was given",
     "output_type": "error",
     "traceback": [
      "\u001b[0;31m---------------------------------------------------------------------------\u001b[0m",
      "\u001b[0;31mTypeError\u001b[0m                                 Traceback (most recent call last)",
      "\u001b[1;32m/Users/anirudh/Documents/code/university-coursework/Notes/Unit 3/4. Closures.ipynb Cell 7\u001b[0m line \u001b[0;36m9\n\u001b[1;32m      <a href='vscode-notebook-cell:/Users/anirudh/Documents/code/university-coursework/Notes/Unit%203/4.%20Closures.ipynb#X15sZmlsZQ%3D%3D?line=4'>5</a>\u001b[0m a \u001b[39m=\u001b[39m outer(\u001b[39m\"\u001b[39m\u001b[39mhello\u001b[39m\u001b[39m\"\u001b[39m)\n\u001b[1;32m      <a href='vscode-notebook-cell:/Users/anirudh/Documents/code/university-coursework/Notes/Unit%203/4.%20Closures.ipynb#X15sZmlsZQ%3D%3D?line=6'>7</a>\u001b[0m \u001b[39mdel\u001b[39;00m outer\n\u001b[0;32m----> <a href='vscode-notebook-cell:/Users/anirudh/Documents/code/university-coursework/Notes/Unit%203/4.%20Closures.ipynb#X15sZmlsZQ%3D%3D?line=8'>9</a>\u001b[0m a(\u001b[39m\"\u001b[39;49m\u001b[39mtest\u001b[39;49m\u001b[39m\"\u001b[39;49m)\n",
      "\u001b[0;31mTypeError\u001b[0m: outer.<locals>.inner() takes 0 positional arguments but 1 was given"
     ]
    }
   ],
   "source": [
    "def outer(name):\n",
    "    def inner():\n",
    "        print(name)\n",
    "    return inner\n",
    "a = outer(\"hello\")\n",
    "\n",
    "del outer\n",
    "\n",
    "a(\"test\")"
   ]
  },
  {
   "cell_type": "code",
   "execution_count": 10,
   "metadata": {},
   "outputs": [
    {
     "name": "stdout",
     "output_type": "stream",
     "text": [
      "test\n"
     ]
    }
   ],
   "source": [
    "def outer():\n",
    "    def inner(name):\n",
    "        print(name)\n",
    "    return inner\n",
    "a = outer()\n",
    "\n",
    "del outer\n",
    "\n",
    "a(\"test\")"
   ]
  },
  {
   "cell_type": "markdown",
   "id": "a6cbba07-33b1-4a07-83f5-ea3e10ad84ce",
   "metadata": {},
   "source": [
    "### This example demostrates how closures remember the previous state of the variables"
   ]
  },
  {
   "cell_type": "code",
   "execution_count": 116,
   "id": "8f57957f-b219-4ca1-ad3f-8376d6d231ac",
   "metadata": {},
   "outputs": [
    {
     "name": "stdout",
     "output_type": "stream",
     "text": [
      "13\n",
      "18\n",
      "23\n"
     ]
    }
   ],
   "source": [
    "def outer(num):\n",
    "    def inner():\n",
    "        nonlocal num\n",
    "        num += 5\n",
    "        print(num)\n",
    "    return inner\n",
    "a = outer(8)\n",
    "\n",
    "a()\n",
    "a()\n",
    "a()"
   ]
  },
  {
   "cell_type": "code",
   "execution_count": 12,
   "metadata": {},
   "outputs": [
    {
     "name": "stdout",
     "output_type": "stream",
     "text": [
      "outer name id : 4370298608\n",
      "outer fn id:  4422759936\n",
      "Hello python\n",
      "inner name id: 4370298608\n",
      "inner fn id:  4422759456\n",
      "a id: 4422759456\n"
     ]
    }
   ],
   "source": [
    "def outer(): #outer fun\n",
    "    a = 25 #enclosing scope var\n",
    "    name = \"python\" #enclosing scope var\n",
    "    print(\"outer name id :\",id(name))\n",
    "    def inner(h):\n",
    "        print(h,name)\n",
    "        print(\"inner name id:\",id(name)) #enclosing scope addr\n",
    "        print(\"inner fn id: \",id(inner)) # same as a()\n",
    "    return inner\n",
    "a = outer()\n",
    "print(\"outer fn id: \",id(outer))\n",
    "a(\"Hello\")\n",
    "print(\"a id:\",id(a)) # same as inner()"
   ]
  },
  {
   "cell_type": "code",
   "execution_count": 15,
   "id": "0c2c22f1-ae16-4aa1-a9bf-f0127c477fe3",
   "metadata": {},
   "outputs": [
    {
     "name": "stdout",
     "output_type": "stream",
     "text": [
      "7\n",
      "9\n",
      "10\n",
      "101\n",
      "11\n",
      "106\n"
     ]
    }
   ],
   "source": [
    "#Example 5:\n",
    "def counter(start):\n",
    "    def inc(step = 1): #nested func\n",
    "        nonlocal start #\n",
    "        start = start + step\n",
    "        print(start)\n",
    "    return inc\n",
    "a = counter(5) # a is the reference to the inc()\n",
    "a(2) ;a(2) ;a()\n",
    "b = counter(100) #b is the reference to the inc()\n",
    "b()\n",
    "a()\n",
    "b(5)"
   ]
  },
  {
   "cell_type": "code",
   "execution_count": 1,
   "metadata": {},
   "outputs": [
    {
     "name": "stdout",
     "output_type": "stream",
     "text": [
      "7\n",
      "9\n",
      "10\n",
      "17\n",
      "19\n"
     ]
    }
   ],
   "source": [
    "def count(s):\n",
    "    def f1(t = 1):\n",
    "        nonlocal s ; s = s + t ; print(s)\n",
    "    def f2(t = 2):\n",
    "        nonlocal s; s = s + t ; print(s)\n",
    "    return f2,f1\n",
    "a,b = count(5)\n",
    "a() ; a(2) ; b() ; a(7) ; b(2)"
   ]
  },
  {
   "cell_type": "code",
   "execution_count": 18,
   "metadata": {},
   "outputs": [
    {
     "name": "stdout",
     "output_type": "stream",
     "text": [
      "Hello\n"
     ]
    }
   ],
   "source": [
    "def outer(function):\n",
    "    def inner(msg):\n",
    "        function(msg)\n",
    "    return inner\n",
    "def f1(msg):\n",
    "    print(msg)\n",
    "myfunc=outer(f1)#function refers to f1()\n",
    "myfunc(\"Hello\")#refers"
   ]
  }
 ],
 "metadata": {
  "kernelspec": {
   "display_name": "Python 3 (ipykernel)",
   "language": "python",
   "name": "python3"
  },
  "language_info": {
   "codemirror_mode": {
    "name": "ipython",
    "version": 3
   },
   "file_extension": ".py",
   "mimetype": "text/x-python",
   "name": "python",
   "nbconvert_exporter": "python",
   "pygments_lexer": "ipython3",
   "version": "3.12.0"
  }
 },
 "nbformat": 4,
 "nbformat_minor": 5
}
