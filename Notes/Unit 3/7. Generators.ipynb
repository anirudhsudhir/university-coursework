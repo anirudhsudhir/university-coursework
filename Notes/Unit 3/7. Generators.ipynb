{
 "cells": [
  {
   "cell_type": "markdown",
   "metadata": {},
   "source": [
    "1. A generator function looks like a normal function. It generates a values using the **yield** keyword\n",
    "2. A generator function will not have return statments\n",
    "3. If a function contains the yield keyword, it is treated as a generator\n",
    "4. A generator returns an iterator"
   ]
  },
  {
   "cell_type": "code",
   "execution_count": 1,
   "metadata": {},
   "outputs": [
    {
     "name": "stdout",
     "output_type": "stream",
     "text": [
      "10\n"
     ]
    }
   ],
   "source": [
    "def gen():\n",
    "    return 10\n",
    "a = gen()\n",
    "print(a)"
   ]
  },
  {
   "cell_type": "code",
   "execution_count": 5,
   "metadata": {},
   "outputs": [
    {
     "name": "stdout",
     "output_type": "stream",
     "text": [
      "<generator object gen at 0x1062703b0>\n",
      "<class 'generator'>\n",
      "10\n"
     ]
    },
    {
     "ename": "StopIteration",
     "evalue": "",
     "output_type": "error",
     "traceback": [
      "\u001b[0;31m---------------------------------------------------------------------------\u001b[0m",
      "\u001b[0;31mStopIteration\u001b[0m                             Traceback (most recent call last)",
      "\u001b[1;32m/Users/anirudh/Documents/university-coursework/Notes/Unit 3/Generators.ipynb Cell 3\u001b[0m line \u001b[0;36m7\n\u001b[1;32m      <a href='vscode-notebook-cell:/Users/anirudh/Documents/university-coursework/Notes/Unit%203/Generators.ipynb#W5sZmlsZQ%3D%3D?line=4'>5</a>\u001b[0m \u001b[39mprint\u001b[39m(\u001b[39mtype\u001b[39m(a))\n\u001b[1;32m      <a href='vscode-notebook-cell:/Users/anirudh/Documents/university-coursework/Notes/Unit%203/Generators.ipynb#W5sZmlsZQ%3D%3D?line=5'>6</a>\u001b[0m \u001b[39mprint\u001b[39m(\u001b[39mnext\u001b[39m(a))\n\u001b[0;32m----> <a href='vscode-notebook-cell:/Users/anirudh/Documents/university-coursework/Notes/Unit%203/Generators.ipynb#W5sZmlsZQ%3D%3D?line=6'>7</a>\u001b[0m \u001b[39mprint\u001b[39m(\u001b[39mnext\u001b[39;49m(a))\n",
      "\u001b[0;31mStopIteration\u001b[0m: "
     ]
    }
   ],
   "source": [
    "def gen():\n",
    "   yield 10\n",
    "a = gen()\n",
    "print(a)\n",
    "print(type(a))\n",
    "print(next(a))\n",
    "print(next(a))"
   ]
  },
  {
   "cell_type": "code",
   "execution_count": 9,
   "metadata": {},
   "outputs": [
    {
     "name": "stdout",
     "output_type": "stream",
     "text": [
      "<generator object gen at 0x1065cb8a0>\n",
      "<class 'generator'>\n",
      "10\n",
      "________________________\n",
      "<generator object gen at 0x1065cb7f0>\n",
      "<class 'generator'>\n"
     ]
    },
    {
     "ename": "StopIteration",
     "evalue": "10",
     "output_type": "error",
     "traceback": [
      "\u001b[0;31m---------------------------------------------------------------------------\u001b[0m",
      "\u001b[0;31mStopIteration\u001b[0m                             Traceback (most recent call last)",
      "\u001b[1;32m/Users/anirudh/Documents/university-coursework/Notes/Unit 3/Generators.ipynb Cell 4\u001b[0m line \u001b[0;36m1\n\u001b[1;32m     <a href='vscode-notebook-cell:/Users/anirudh/Documents/university-coursework/Notes/Unit%203/Generators.ipynb#W4sZmlsZQ%3D%3D?line=13'>14</a>\u001b[0m \u001b[39mprint\u001b[39m(a)\n\u001b[1;32m     <a href='vscode-notebook-cell:/Users/anirudh/Documents/university-coursework/Notes/Unit%203/Generators.ipynb#W4sZmlsZQ%3D%3D?line=14'>15</a>\u001b[0m \u001b[39mprint\u001b[39m(\u001b[39mtype\u001b[39m(a))\n\u001b[0;32m---> <a href='vscode-notebook-cell:/Users/anirudh/Documents/university-coursework/Notes/Unit%203/Generators.ipynb#W4sZmlsZQ%3D%3D?line=15'>16</a>\u001b[0m \u001b[39mprint\u001b[39m(\u001b[39mnext\u001b[39;49m(a))\n",
      "\u001b[0;31mStopIteration\u001b[0m: 10"
     ]
    }
   ],
   "source": [
    "def gen():\n",
    "   yield 10\n",
    "   return 10\n",
    "a = gen()\n",
    "print(a)\n",
    "print(type(a))\n",
    "print(next(a))\n",
    "\n",
    "print(\"________________________\")\n",
    "def gen():\n",
    "   return 10\n",
    "   yield 10\n",
    "a = gen()\n",
    "print(a)\n",
    "print(type(a))\n",
    "print(next(a))"
   ]
  },
  {
   "cell_type": "code",
   "execution_count": 10,
   "metadata": {},
   "outputs": [
    {
     "name": "stdout",
     "output_type": "stream",
     "text": [
      "<generator object gen at 0x106ad8930>\n",
      "<class 'generator'>\n",
      "10\n",
      "15\n"
     ]
    }
   ],
   "source": [
    "def gen():\n",
    "   yield 10\n",
    "   yield 15\n",
    "a = gen()\n",
    "print(a)\n",
    "print(type(a))\n",
    "print(next(a))\n",
    "print(next(a))"
   ]
  },
  {
   "cell_type": "code",
   "execution_count": 14,
   "metadata": {},
   "outputs": [
    {
     "name": "stdout",
     "output_type": "stream",
     "text": [
      "1 4 9 16 25 36 49 64 81 100 "
     ]
    }
   ],
   "source": [
    "def gen():\n",
    "   for i in range(1,11):\n",
    "      yield(pow(i,2))\n",
    "a = gen()\n",
    "while True:\n",
    "    try:\n",
    "      print(next(a),end=\" \")\n",
    "    except Exception:\n",
    "      break"
   ]
  },
  {
   "cell_type": "code",
   "execution_count": 3,
   "metadata": {},
   "outputs": [
    {
     "name": "stdout",
     "output_type": "stream",
     "text": [
      "0 1 1 2 3 5 8 13 21 34 55 89 "
     ]
    }
   ],
   "source": [
    "def fib(n):\n",
    "    first, second = 0, 1\n",
    "    yield first\n",
    "    yield second\n",
    "    for i in range(n):\n",
    "        third = first+second\n",
    "        yield third\n",
    "        first = second\n",
    "        second = third\n",
    "\n",
    "for i in fib(10):\n",
    "    print(i, end=\" \")"
   ]
  },
  {
   "cell_type": "markdown",
   "metadata": {},
   "source": [
    "### Generator Expressions:\n",
    "1. Its another way to express/write a generator function\n",
    "2. Similar to list comprehension\n",
    "\n",
    "Syntax:\n",
    "(expression **for** element **in** iterable **if** condition)"
   ]
  },
  {
   "cell_type": "code",
   "execution_count": 10,
   "metadata": {},
   "outputs": [
    {
     "name": "stdout",
     "output_type": "stream",
     "text": [
      "4\n"
     ]
    }
   ],
   "source": [
    "genexp = (x**2 for x in range(1,int(input(\"Enter the n: \"))+1) if x%2==0)\n",
    "for i in genexp:\n",
    "    print(i)"
   ]
  },
  {
   "cell_type": "markdown",
   "metadata": {},
   "source": [
    "Yield vs return"
   ]
  }
 ],
 "metadata": {
  "kernelspec": {
   "display_name": "venv",
   "language": "python",
   "name": "python3"
  },
  "language_info": {
   "codemirror_mode": {
    "name": "ipython",
    "version": 3
   },
   "file_extension": ".py",
   "mimetype": "text/x-python",
   "name": "python",
   "nbconvert_exporter": "python",
   "pygments_lexer": "ipython3",
   "version": "3.12.0"
  }
 },
 "nbformat": 4,
 "nbformat_minor": 2
}
