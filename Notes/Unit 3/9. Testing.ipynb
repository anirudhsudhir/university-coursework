{
 "cells": [
  {
   "cell_type": "markdown",
   "metadata": {},
   "source": [
    "### Pytest, function testing, doctest, debugger, pdb"
   ]
  },
  {
   "cell_type": "markdown",
   "metadata": {},
   "source": [
    "Project: Requirement -> Design -> Implement code -> Testing\n",
    "\n",
    "Large set of tools: Pytest, Robot, Unitest, Doctest, Testif, Nose2, ..."
   ]
  },
  {
   "cell_type": "markdown",
   "metadata": {},
   "source": [
    "### pytest module:\n",
    "Command line tool which automatically finds the test cases for the program\n",
    "\n",
    "#### Advantages:\n",
    "1. Allows multiple tests to run in parallel\n",
    "2. Automatically detects the test file/ test function\n",
    "3. pytest allows the tester to skip the tests during execution\n",
    "4. third-party free and open source module\n",
    "\n",
    "Installation: pip install pytest\n",
    "To check or confirm installation: py.test -h"
   ]
  },
  {
   "cell_type": "markdown",
   "metadata": {},
   "source": [
    "### Naming conventions for the file and test funtions:\n",
    "#### Filename conventions:\n",
    "1. Testing file should begin with **test_** (test_*.py) or end with **_test**(*_test.py)\n",
    "\n",
    "Eg:\n",
    "1. fun_test.py -> valid\n",
    "2. testfun,py -> invalid\n",
    "3. funtest.py -> invalid\n",
    "4. test_prg.py -> valid\n",
    "\n",
    "#### Function naming conventions:\n",
    "1. The test cases will be in the form of functions:\n",
    "2. The functions should start with test(test*)\n",
    "\n",
    "Eg:\n",
    "1. def test_fun() -> valid\n",
    "2. def testfun() -> valid\n",
    "3. def funtest() -> invalid\n",
    "4. def tesprg() -> invalid\n",
    "5. def test() -> valid"
   ]
  }
 ],
 "metadata": {
  "language_info": {
   "name": "python"
  }
 },
 "nbformat": 4,
 "nbformat_minor": 2
}
