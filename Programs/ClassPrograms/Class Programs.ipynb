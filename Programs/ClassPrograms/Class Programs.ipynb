{
 "cells": [
  {
   "cell_type": "markdown",
   "id": "e1a07244-ad66-4b6b-8168-8eb638f7665c",
   "metadata": {},
   "source": [
    "1. WAP to print the following pattern:  \n",
    "   abcd  \n",
    "   bcd  \n",
    "   cd  \n",
    "   d  "
   ]
  },
  {
   "cell_type": "code",
   "execution_count": 24,
   "id": "b9468667-c644-4621-9f21-29ec7d54d0a2",
   "metadata": {},
   "outputs": [
    {
     "name": "stdout",
     "output_type": "stream",
     "text": [
      "abcd\n",
      "bcd\n",
      "cd\n",
      "d\n"
     ]
    }
   ],
   "source": [
    "str1 = 'abcd'\n",
    "for i in range(len(str)):\n",
    "    print(str1[i:])"
   ]
  },
  {
   "cell_type": "markdown",
   "id": "e8dbf5ed-a278-4a32-81b3-b7261cf26806",
   "metadata": {},
   "source": [
    "2. WAP to print the following pattern:  \n",
    "   1  \n",
    "   2 2  \n",
    "   3 3 3  \n",
    "   4 4 4 4  "
   ]
  },
  {
   "cell_type": "code",
   "execution_count": 26,
   "id": "522c0d09-8a6e-4acc-926f-09954c549936",
   "metadata": {},
   "outputs": [
    {
     "name": "stdin",
     "output_type": "stream",
     "text": [
      "Enter the number of rows:  5\n"
     ]
    },
    {
     "name": "stdout",
     "output_type": "stream",
     "text": [
      "\n",
      "1  \n",
      "2  2  \n",
      "3  3  3  \n",
      "4  4  4  4  \n",
      "5  5  5  5  5  \n"
     ]
    }
   ],
   "source": [
    "for i in range(int(input('Enter the number of rows: '))+1):\n",
    "    for j in range(i):\n",
    "        print(i,' ',end='')\n",
    "    print()"
   ]
  },
  {
   "cell_type": "markdown",
   "id": "60fbcdd9-8310-493b-9ff5-6764df31b348",
   "metadata": {},
   "source": [
    "3. Display occurrences of a particular word from a sentence"
   ]
  },
  {
   "cell_type": "code",
   "execution_count": 30,
   "id": "6472aaa1-c716-4a65-a9e0-c91546916b7f",
   "metadata": {},
   "outputs": [
    {
     "name": "stdin",
     "output_type": "stream",
     "text": [
      "Enter the sentence to be analysed:    good read good sleep read good book book\n"
     ]
    },
    {
     "name": "stdout",
     "output_type": "stream",
     "text": [
      "{'good': 3, 'read': 2, 'sleep': 1, 'book': 2}\n"
     ]
    }
   ],
   "source": [
    "user_sentence = input('Enter the sentence to be analysed: ')\n",
    "split_sentence = user_sentence.split()\n",
    "word_occurrence = {}\n",
    "for i in split_sentence:\n",
    "    if i not in word_occurrence:\n",
    "        word_occurrence[i] = 1\n",
    "    else:\n",
    "        word_occurrence[i] += 1\n",
    "print(word_occurrence)"
   ]
  },
  {
   "cell_type": "markdown",
   "id": "f572726a-2f11-4435-9f21-01c9ba2545ed",
   "metadata": {},
   "source": [
    "4. List all words with same alphabet as starting character:"
   ]
  },
  {
   "cell_type": "code",
   "execution_count": 40,
   "id": "af8ea1e8-5d7e-4e78-84ac-b7a29aa190a5",
   "metadata": {},
   "outputs": [
    {
     "name": "stdin",
     "output_type": "stream",
     "text": [
      "Enter the sentence to be analysed:  good read good sleep read good book book\n"
     ]
    },
    {
     "name": "stdout",
     "output_type": "stream",
     "text": [
      "{'g': 3, 'r': 2, 's': 1, 'b': 2}\n"
     ]
    }
   ],
   "source": [
    "user_sentence = input('Enter the sentence to be analysed: ')\n",
    "split_sentence = user_sentence.split()\n",
    "words = {}\n",
    "for i in split_sentence:\n",
    "    if i[0] not in words:\n",
    "        words[i[0]] = 1\n",
    "    else:\n",
    "        words[i[0]] += 1\n",
    "print(words)"
   ]
  },
  {
   "cell_type": "markdown",
   "id": "e6b9af0f-5ead-479a-9aeb-ead3bc9e03a5",
   "metadata": {},
   "source": [
    "# HW Problems"
   ]
  },
  {
   "cell_type": "code",
   "execution_count": 1,
   "id": "446a2c9f-bf20-49e9-93da-c22034d05eee",
   "metadata": {},
   "outputs": [
    {
     "name": "stdout",
     "output_type": "stream",
     "text": [
      "{'karnataka': 6, 'tamilnadu': 3, 'kerala': 2}\n"
     ]
    }
   ],
   "source": [
    "places =\"\"\"karnataka bangalore lalbagh\n",
    "tamilnadu kanyakumari vivekananda_rock\n",
    "kerala Thiruvananthapuram padmanabha_temple\n",
    "kerala idukki munnar\n",
    "karnataka mysore brindavan_gardens\n",
    "karnataka mysore mysore_palace\n",
    "karnataka hassan shravanabelagola\n",
    "tamilnadu chennai egmore_museum\n",
    "tamilnadu kanyakumari kaamaakshmi_temple\n",
    "karnataka bangalore cubbon_park\n",
    "karnataka hampi maharnavami_dibba\"\"\"\n",
    "\n",
    "line_split=places.split('\\n')\n",
    "dicto={}\n",
    "for i in line_split:\n",
    "    state = i.split()[0]\n",
    "    if state not in dicto:\n",
    "        dicto[state]=0\n",
    "    dicto[state]+=1\n",
    "    \n",
    "print(dicto)"
   ]
  },
  {
   "cell_type": "code",
   "execution_count": 2,
   "id": "37ec98fb-4f27-4f83-9a51-d9facfe2425e",
   "metadata": {},
   "outputs": [
    {
     "name": "stdout",
     "output_type": "stream",
     "text": [
      "{'karnataka': 'bangalore, mysore, hassan, hampi', 'tamilnadu': 'kanyakumari, chennai', 'kerala': 'Thiruvananthapuram, idukki'}\n"
     ]
    }
   ],
   "source": [
    "line_split=places.split('\\n')\n",
    "dicto={}\n",
    "cities=[]\n",
    "for i in line_split:\n",
    "    state = i.split()[0]\n",
    "    city= i.split()[1]\n",
    "    if city not in cities:\n",
    "        if state not in dicto:\n",
    "            dicto[state]=city\n",
    "        else:\n",
    "            dicto[state]+=', '+city\n",
    "        cities.append(city)\n",
    "    \n",
    "print(dicto)"
   ]
  },
  {
   "cell_type": "code",
   "execution_count": 3,
   "id": "02b5dae8-2d9e-4210-a251-a5f9b399ce88",
   "metadata": {},
   "outputs": [
    {
     "name": "stdout",
     "output_type": "stream",
     "text": [
      "{'karnataka': 4, 'tamilnadu': 2, 'kerala': 2}\n"
     ]
    }
   ],
   "source": [
    "line_split=places.split('\\n')\n",
    "dicto={}\n",
    "cities=[]\n",
    "for i in line_split:\n",
    "    state = i.split()[0]\n",
    "    city= i.split()[1]\n",
    "    if city not in cities:\n",
    "        if state not in dicto:\n",
    "            dicto[state]=1\n",
    "        else:\n",
    "            dicto[state]+=1\n",
    "        cities.append(city)\n",
    "    \n",
    "print(dicto)"
   ]
  },
  {
   "cell_type": "code",
   "execution_count": 5,
   "id": "b9ab22f4-c3b2-4599-86bc-3cfda70c8e99",
   "metadata": {},
   "outputs": [
    {
     "name": "stdout",
     "output_type": "stream",
     "text": [
      "{'karnataka': {'bangalore': 'lalbagh, cubbon_park', 'mysore': 'brindavan_gardens, mysore_palace', 'hassan': 'shravanabelagola', 'hampi': 'maharnavami_dibba'}, 'tamilnadu': {'kanyakumari': 'vivekananda_rock, kaamaakshmi_temple', 'chennai': 'egmore_museum'}, 'kerala': {'Thiruvananthapuram': 'padmanabha_temple', 'idukki': 'munnar'}}\n"
     ]
    }
   ],
   "source": [
    "line_split=places.split('\\n')\n",
    "dicto={}\n",
    "for i in line_split:\n",
    "    state = i.split()[0]\n",
    "    city= i.split()[1]\n",
    "    place= i.split()[2]\n",
    "    if state not in dicto:\n",
    "        dicto[state]=dict()\n",
    "    if city not in dicto[state]:\n",
    "        dicto[state][city]=place\n",
    "    else:\n",
    "        dicto[state][city]+=', '+place\n",
    "    \n",
    "print(dicto)"
   ]
  },
  {
   "cell_type": "code",
   "execution_count": null,
   "id": "a9a5c456-6a5f-4bfb-b965-fbe58ba66864",
   "metadata": {},
   "outputs": [],
   "source": []
  }
 ],
 "metadata": {
  "kernelspec": {
   "display_name": "Python 3 (ipykernel)",
   "language": "python",
   "name": "python3"
  },
  "language_info": {
   "codemirror_mode": {
    "name": "ipython",
    "version": 3
   },
   "file_extension": ".py",
   "mimetype": "text/x-python",
   "name": "python",
   "nbconvert_exporter": "python",
   "pygments_lexer": "ipython3",
   "version": "3.11.5"
  }
 },
 "nbformat": 4,
 "nbformat_minor": 5
}
